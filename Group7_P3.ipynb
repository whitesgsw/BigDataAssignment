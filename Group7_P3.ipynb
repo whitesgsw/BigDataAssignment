{
 "cells": [
  {
   "cell_type": "markdown",
   "metadata": {},
   "source": [
    "### Load Libraries"
   ]
  },
  {
   "cell_type": "code",
   "execution_count": 1,
   "metadata": {},
   "outputs": [
    {
     "data": {
      "text/plain": [
       "Intitializing Scala interpreter ..."
      ]
     },
     "metadata": {},
     "output_type": "display_data"
    },
    {
     "data": {
      "text/plain": [
       "Spark Web UI available at http://b2cc1a63ffdb:4042\n",
       "SparkContext available as 'sc' (version = 2.4.3, master = local[*], app id = local-1559653926775)\n",
       "SparkSession available as 'spark'\n"
      ]
     },
     "metadata": {},
     "output_type": "display_data"
    },
    {
     "name": "stdout",
     "output_type": "stream",
     "text": [
      "2019-06-04 13:12:03,059 WARN  [main] util.NativeCodeLoader (NativeCodeLoader.java:<clinit>(62)) - Unable to load native-hadoop library for your platform... using builtin-java classes where applicable\n",
      "2019-06-04 13:12:06,276 WARN  [Thread-4] util.Utils (Logging.scala:logWarning(66)) - Service 'SparkUI' could not bind on port 4040. Attempting port 4041.\n",
      "2019-06-04 13:12:06,283 WARN  [Thread-4] util.Utils (Logging.scala:logWarning(66)) - Service 'SparkUI' could not bind on port 4041. Attempting port 4042.\n"
     ]
    },
    {
     "data": {
      "text/plain": [
       "import org.apache.spark.sql\n",
       "import org.apache.spark.sql._\n",
       "import org.apache.spark.sql.types._\n",
       "import org.apache.spark.ml.classification.LogisticRegression\n",
       "import org.apache.spark.mllib.linalg.{Vector, Vectors}\n",
       "import org.apache.spark.ml.evaluation.BinaryClassificationEvaluator\n",
       "import org.apache.spark.ml.feature.{VectorAssembler, StringIndexer}\n",
       "import org.apache.spark.ml.feature.VectorAssembler\n",
       "import org.apache.spark.ml.linalg.Vectors\n",
       "import org.apache.spark.ml.{Pipeline, PipelineModel}\n"
      ]
     },
     "execution_count": 1,
     "metadata": {},
     "output_type": "execute_result"
    }
   ],
   "source": [
    "import org.apache.spark.sql\n",
    "import org.apache.spark.sql._\n",
    "import org.apache.spark.sql.types._\n",
    "import org.apache.spark.ml.classification.LogisticRegression\n",
    "import org.apache.spark.mllib.linalg.{Vector, Vectors}\n",
    "import org.apache.spark.ml.evaluation.BinaryClassificationEvaluator\n",
    "import org.apache.spark.ml.feature.{VectorAssembler, StringIndexer}\n",
    "import org.apache.spark.ml.feature.VectorAssembler\n",
    "import org.apache.spark.ml.linalg.Vectors\n",
    "import org.apache.spark.ml.{Pipeline, PipelineModel}"
   ]
  },
  {
   "cell_type": "markdown",
   "metadata": {},
   "source": [
    "### Data loading"
   ]
  },
  {
   "cell_type": "code",
   "execution_count": 2,
   "metadata": {},
   "outputs": [
    {
     "data": {
      "text/plain": [
       "creditRiskdf1: org.apache.spark.sql.DataFrame = [EXT_SOURCE_2: string, EXT_SOURCE_3: string ... 283 more fields]\n",
       "creditRiskdf2: org.apache.spark.sql.DataFrame = [EXT_SOURCE_2: string, EXT_SOURCE_3: string ... 283 more fields]\n",
       "creditRiskdf3: org.apache.spark.sql.DataFrame = [EXT_SOURCE_2: string, EXT_SOURCE_3: string ... 283 more fields]\n"
      ]
     },
     "execution_count": 2,
     "metadata": {},
     "output_type": "execute_result"
    }
   ],
   "source": [
    "// Load wrangled datasets from Phase 2: part1.csv; part2.csv; part3.csv\n",
    "\n",
    "val creditRiskdf1 = spark.read.option(\"header\",\"true\").csv(\"part1.csv\")\n",
    "val creditRiskdf2 = spark.read.option(\"header\",\"true\").csv(\"part2.csv\")\n",
    "val creditRiskdf3 = spark.read.option(\"header\",\"true\").csv(\"part3.csv\")"
   ]
  },
  {
   "cell_type": "code",
   "execution_count": 65,
   "metadata": {},
   "outputs": [
    {
     "data": {
      "text/plain": [
       "creditRiskdf1and2: org.apache.spark.sql.Dataset[org.apache.spark.sql.Row] = [EXT_SOURCE_2: string, EXT_SOURCE_3: string ... 283 more fields]\n",
       "creditRiskdf: org.apache.spark.sql.Dataset[org.apache.spark.sql.Row] = [EXT_SOURCE_2: string, EXT_SOURCE_3: string ... 283 more fields]\n"
      ]
     },
     "execution_count": 65,
     "metadata": {},
     "output_type": "execute_result"
    }
   ],
   "source": [
    "// combine the 3 dataframes to 1\n",
    "val creditRiskdf1and2 = creditRiskdf1.union(creditRiskdf2)\n",
    "val creditRiskdf = creditRiskdf1and2.union(creditRiskdf3)"
   ]
  },
  {
   "cell_type": "code",
   "execution_count": 4,
   "metadata": {},
   "outputs": [
    {
     "name": "stdout",
     "output_type": "stream",
     "text": [
      "2019-06-04 13:13:14,573 WARN  [Thread-4] util.Utils (Logging.scala:logWarning(66)) - Truncated the string representation of a plan since it was too large. This behavior can be adjusted by setting 'spark.debug.maxToStringFields' in SparkEnv.conf.\n",
      "Total data rows in loaded dataframes:183875\n",
      "Total data rows in combined dataframe:183875\n"
     ]
    }
   ],
   "source": [
    "// check that the rows have been aggregated correctly\n",
    "\n",
    "println(\"Total data rows in loaded dataframes:\"+(\n",
    "    creditRiskdf1.count()+creditRiskdf2.count()+creditRiskdf3.count()))\n",
    "\n",
    "println(\"Total data rows in combined dataframe:\"+creditRiskdf.count())"
   ]
  },
  {
   "cell_type": "markdown",
   "metadata": {},
   "source": [
    "### Data cleansing and reshaping"
   ]
  },
  {
   "cell_type": "code",
   "execution_count": 66,
   "metadata": {
    "scrolled": true
   },
   "outputs": [
    {
     "data": {
      "text/plain": [
       "incon_droplist: List[String] = List(previous_loans_DAYS_FIRST_DUE_mean, previous_loans_SELLERPLACE_AREA_min, previous_loans_DAYS_FIRST_DUE_sum)\n",
       "df: org.apache.spark.sql.DataFrame = [EXT_SOURCE_2: string, EXT_SOURCE_3: string ... 280 more fields]\n"
      ]
     },
     "execution_count": 66,
     "metadata": {},
     "output_type": "execute_result"
    }
   ],
   "source": [
    "// Drop features with inconsistent values from dataset.\n",
    "\n",
    "val incon_droplist = List(\"previous_loans_DAYS_FIRST_DUE_mean\",\n",
    "                      \"previous_loans_SELLERPLACE_AREA_min\",\n",
    "                      \"previous_loans_DAYS_FIRST_DUE_sum\")\n",
    "\n",
    "val df = creditRiskdf.drop(incon_droplist:_*)"
   ]
  },
  {
   "cell_type": "code",
   "execution_count": 67,
   "metadata": {},
   "outputs": [
    {
     "data": {
      "text/plain": [
       "creditRiskdf: org.apache.spark.sql.DataFrame = [EXT_SOURCE_2: string, EXT_SOURCE_3: string ... 280 more fields]\n"
      ]
     },
     "execution_count": 67,
     "metadata": {},
     "output_type": "execute_result"
    }
   ],
   "source": [
    "val creditRiskdf = df"
   ]
  },
  {
   "cell_type": "code",
   "execution_count": 69,
   "metadata": {},
   "outputs": [
    {
     "data": {
      "text/plain": [
       "creditRiskFeatures: Array[String] = Array(EXT_SOURCE_2, EXT_SOURCE_3, client_installments_AMT_PAYMENT_min_sum, DAYS_BIRTH, AMT_CREDIT, AMT_ANNUITY, DAYS_EMPLOYED, bureau_DAYS_CREDIT_ENDDATE_max, bureau_DAYS_CREDIT_max, DAYS_ID_PUBLISH, bureau_DAYS_ENDDATE_FACT_max, bureau_AMT_CREDIT_SUM_DEBT_mean, previous_loans_CNT_PAYMENT_mean, client_cash_CNT_INSTALMENT_FUTURE_min_max, previous_loans_SELLERPLACE_AREA_max, DAYS_LAST_PHONE_CHANGE, bureau_AMT_CREDIT_SUM_max, bureau_AMT_CREDIT_SUM_mean, DAYS_REGISTRATION, client_installments_DAYS_INSTALMENT_max_max, previous_loans_AMT_DOWN_PAYMENT_max, CODE_GENDER_F, REGION_POPULATION_RELATIVE, client_cash_CNT_INSTALMENT_max_mean, bureau_DAYS_CREDIT_UPDATE_max, bureau_AMT_CREDIT_SUM_sum, client_installments_NUM_INSTALMENT_VERSION_mean_max, bureau_DAYS_CR..."
      ]
     },
     "execution_count": 69,
     "metadata": {},
     "output_type": "execute_result"
    }
   ],
   "source": [
    "//string array of features\n",
    "\n",
    "var creditRiskFeatures = creditRiskdf.columns\n",
    "creditRiskFeatures = creditRiskFeatures.filter(! _.contains(\"TARGET\"))"
   ]
  },
  {
   "cell_type": "code",
   "execution_count": 70,
   "metadata": {},
   "outputs": [
    {
     "data": {
      "text/plain": [
       "res35: Int = 281\n"
      ]
     },
     "execution_count": 70,
     "metadata": {},
     "output_type": "execute_result"
    }
   ],
   "source": [
    "creditRiskFeatures.length"
   ]
  },
  {
   "cell_type": "code",
   "execution_count": 71,
   "metadata": {},
   "outputs": [
    {
     "name": "stdout",
     "output_type": "stream",
     "text": [
      "2019-06-04 22:07:27,745 WARN  [Thread-4] execution.CacheManager (Logging.scala:logWarning(66)) - Asked to cache already cached data.\n"
     ]
    },
    {
     "data": {
      "text/plain": [
       "res36: creditRiskdf.type = [EXT_SOURCE_2: string, EXT_SOURCE_3: string ... 280 more fields]\n"
      ]
     },
     "execution_count": 71,
     "metadata": {},
     "output_type": "execute_result"
    }
   ],
   "source": [
    "creditRiskdf.cache()"
   ]
  },
  {
   "cell_type": "code",
   "execution_count": 9,
   "metadata": {},
   "outputs": [
    {
     "data": {
      "text/plain": [
       "c1: Array[String] = Array(previous_loans_AMT_DOWN_PAYMENT_max, CODE_GENDER_F, REGION_POPULATION_RELATIVE, client_cash_CNT_INSTALMENT_max_mean, bureau_DAYS_CREDIT_UPDATE_max, bureau_AMT_CREDIT_SUM_sum, client_installments_NUM_INSTALMENT_VERSION_mean_max, bureau_DAYS_CREDIT_mean, client_installments_AMT_PAYMENT_sum_mean, client_installments_DAYS_INSTALMENT_min_max, previous_loans_NAME_CONTRACT_STATUS_Refused_count_norm, client_installments_AMT_INSTALMENT_max_max, client_cash_CNT_INSTALMENT_FUTURE_min_mean, client_installments_NUM_INSTALMENT_VERSION_max_mean, bureau_DAYS_CREDIT_min, previous_loans_NAME_YIELD_GROUP_high_count_norm, previous_loans_RATE_DOWN_PAYMENT_sum, client_installments_DAYS_ENTRY_PAYMENT_sum_max, previous_loans_DAYS_FIRST_DUE_min, client_cash_SK_DPD_DEF_sum_max)\n"
      ]
     },
     "execution_count": 9,
     "metadata": {},
     "output_type": "execute_result"
    }
   ],
   "source": [
    "// subset of features for testing of outliers code\n",
    "\n",
    "// val c1 = creditRiskFeatures.slice(20,40)"
   ]
  },
  {
   "cell_type": "code",
   "execution_count": 72,
   "metadata": {},
   "outputs": [
    {
     "data": {
      "text/plain": [
       "rows: Long = 183875\n"
      ]
     },
     "execution_count": 72,
     "metadata": {},
     "output_type": "execute_result"
    }
   ],
   "source": [
    "// check number of data lines in dataframe creditRiskdf\n",
    "\n",
    "val rows = creditRiskdf.select($\"TARGET\").count()"
   ]
  },
  {
   "cell_type": "code",
   "execution_count": 73,
   "metadata": {},
   "outputs": [
    {
     "data": {
      "text/plain": [
       "highOutlier_list: List[String] = List(WEEKDAY_APPR_PROCESS_START_WEDNESDAY, client_bureau_balance_MONTHS_BALANCE_max_sum, previous_loans_CHANNEL_TYPE_Regional / Local_count, previous_loans_PRODUCT_COMBINATION_Card Street_count_norm, previous_loans_NAME_CONTRACT_STATUS_Refused_count, client_cash_NAME_CONTRACT_STATUS_Signed_count_norm_mean, NAME_HOUSING_TYPE_House / apartment, NAME_FAMILY_STATUS_Separated, WALLSMATERIAL_MODE_Stone, brick, previous_loans_NAME_PRODUCT_TYPE_XNA_count, previous_loans_NAME_CONTRACT_TYPE_Revolving loans_count_norm, client_bureau_balance_STATUS_X_count_sum, previous_loans_CODE_REJECT_REASON_CLIENT_count_norm, previous_loans_CHANNEL_TYPE_Regional / Local_count_norm, previous_loans_NAME_GOODS_CATEGORY_Consumer Electronics_count_norm, client_bureau_balance_STATUS_X..."
      ]
     },
     "execution_count": 73,
     "metadata": {},
     "output_type": "execute_result"
    }
   ],
   "source": [
    "//write function to check if there are any outliers in a given domain and show boxplot [Sean]\n",
    "//slice a small test list to ensure functionality\n",
    "//var test_lis = creditRiskFeatures.slice(0,2) //TEST var for codeblock\n",
    "\n",
    "var highOutlier_list = List[String]() //empty list to append features containing outliers in\n",
    "var lowOutlier_list = List[String]() //empty list to append features containing outliers in\n",
    "\n",
    "for (feature <- creditRiskFeatures) {\n",
    "    //summarise column and query the DataFrame output\n",
    "    var firstQ = creditRiskdf.select(feature).summary().where(\n",
    "        $\"summary\" === \"25%\").select(feature).first().mkString.toFloat\n",
    "    var thirdQ = creditRiskdf.select(feature).summary().where(\n",
    "        $\"summary\" === \"75%\").select(feature).first().mkString.toFloat\n",
    "    //use formulas below to test threshold of outliers\n",
    "    var testValHigh = thirdQ + (1.5 * (thirdQ - firstQ))\n",
    "    var testValLow = firstQ - (1.5 * (thirdQ - firstQ))\n",
    "    //check to see if thresholds are exceeded in the column and count\n",
    "    var outHigh = creditRiskdf.select(col(feature)).filter(col(feature) > lit(testValHigh)).count()\n",
    "    var outLow = creditRiskdf.select(col(feature)).filter(col(feature) < lit(testValLow)).count()\n",
    "\n",
    "    // collate a list of features with outliers > 5% of total data rows\n",
    "    if (outHigh + outLow >= 0.05*rows ){        \n",
    "        highOutlier_list = feature :: highOutlier_list\n",
    "    }\n",
    "    // collate a list of features with outliers < 1% of total data rows    \n",
    "    else if (outHigh + outLow > 0 & outHigh + outLow < 0.05*rows){\n",
    "        lowOutlier_list = feature :: lowOutlier_list\n",
    "    }\n",
    "}"
   ]
  },
  {
   "cell_type": "code",
   "execution_count": 74,
   "metadata": {},
   "outputs": [
    {
     "data": {
      "text/plain": [
       "df: org.apache.spark.sql.DataFrame = [EXT_SOURCE_2: string, EXT_SOURCE_3: string ... 132 more fields]\n"
      ]
     },
     "execution_count": 74,
     "metadata": {},
     "output_type": "execute_result"
    }
   ],
   "source": [
    "// drop features in highOutlier_list\n",
    "\n",
    "val df = creditRiskdf.drop(highOutlier_list:_*)"
   ]
  },
  {
   "cell_type": "code",
   "execution_count": 75,
   "metadata": {},
   "outputs": [
    {
     "data": {
      "text/plain": [
       "creditRiskdf: org.apache.spark.sql.DataFrame = [EXT_SOURCE_2: string, EXT_SOURCE_3: string ... 132 more fields]\n",
       "clean_df: org.apache.spark.sql.DataFrame = [EXT_SOURCE_2: string, EXT_SOURCE_3: string ... 132 more fields]\n"
      ]
     },
     "execution_count": 75,
     "metadata": {},
     "output_type": "execute_result"
    }
   ],
   "source": [
    "val creditRiskdf = df\n",
    "var clean_df = creditRiskdf\n",
    "\n",
    "// clean_df.cache()"
   ]
  },
  {
   "cell_type": "code",
   "execution_count": 22,
   "metadata": {},
   "outputs": [
    {
     "data": {
      "text/plain": [
       "e1: List[String] = List(OCCUPATION_TYPE_High skill tech staff, client_cash_NAME_CONTRACT_STATUS_Active_count_min, bureau_CNT_CREDIT_PROLONG_mean, previous_loans_NAME_TYPE_SUITE_Other_B_count_norm)\n"
      ]
     },
     "execution_count": 22,
     "metadata": {},
     "output_type": "execute_result"
    }
   ],
   "source": [
    "// test outlier removal code\n",
    "\n",
    "// val e1 = lowOutlier_list.slice(1,5)"
   ]
  },
  {
   "cell_type": "code",
   "execution_count": 76,
   "metadata": {},
   "outputs": [],
   "source": [
    "//code block takes features in lowOutlier_list and filters main dataframe against them\n",
    "//code will generate a subset of main dataset without outliers.\n",
    "\n",
    "//input feature list conatining features with outliers persisting\n",
    "for (feature <- lowOutlier_list){\n",
    "    //summarise column and query the DataFrame output\n",
    "    var firstQ = creditRiskdf.select(feature).summary().where(\n",
    "        $\"summary\" === \"25%\").select(feature).first().mkString.toFloat\n",
    "    var thirdQ = creditRiskdf.select(feature).summary().where(\n",
    "        $\"summary\" === \"75%\").select(feature).first().mkString.toFloat\n",
    "    //use formulas below to test threshold of outliers\n",
    "    var testValHigh = thirdQ + (1.5 * (thirdQ - firstQ))\n",
    "    var testValLow = firstQ - (1.5 * (thirdQ - firstQ))\n",
    "    \n",
    "    if (testValHigh == 0 & testValLow == 0){}\n",
    "    else {\n",
    "        clean_df = clean_df.filter(col(feature) <= lit(testValHigh))filter(\n",
    "            col(feature) > lit(testValLow))        \n",
    "    }  \n",
    "    \n",
    "}"
   ]
  },
  {
   "cell_type": "code",
   "execution_count": 77,
   "metadata": {},
   "outputs": [
    {
     "data": {
      "text/plain": [
       "res39: Long = 54836\n"
      ]
     },
     "execution_count": 77,
     "metadata": {},
     "output_type": "execute_result"
    }
   ],
   "source": [
    "clean_df.count()"
   ]
  },
  {
   "cell_type": "code",
   "execution_count": 98,
   "metadata": {},
   "outputs": [
    {
     "data": {
      "text/plain": [
       "creditRiskdf: org.apache.spark.sql.DataFrame = [EXT_SOURCE_2: string, EXT_SOURCE_3: string ... 132 more fields]\n"
      ]
     },
     "execution_count": 98,
     "metadata": {},
     "output_type": "execute_result"
    }
   ],
   "source": [
    "val creditRiskdf = clean_df"
   ]
  },
  {
   "cell_type": "code",
   "execution_count": 99,
   "metadata": {},
   "outputs": [
    {
     "name": "stdout",
     "output_type": "stream",
     "text": [
      "Rows:54836\n",
      "Columns:134\n"
     ]
    }
   ],
   "source": [
    "// structure of cleansed and reshaped dataset\n",
    "\n",
    "println(\"Rows:\"+creditRiskdf.count())\n",
    "println(\"Columns:\"+creditRiskdf.columns.size)"
   ]
  },
  {
   "cell_type": "markdown",
   "metadata": {},
   "source": [
    "### Machine learning"
   ]
  },
  {
   "cell_type": "code",
   "execution_count": 100,
   "metadata": {},
   "outputs": [
    {
     "data": {
      "text/plain": [
       "train_df: org.apache.spark.sql.Dataset[org.apache.spark.sql.Row] = [EXT_SOURCE_2: string, EXT_SOURCE_3: string ... 132 more fields]\n",
       "test_df: org.apache.spark.sql.Dataset[org.apache.spark.sql.Row] = [EXT_SOURCE_2: string, EXT_SOURCE_3: string ... 132 more fields]\n",
       "validation_df: org.apache.spark.sql.Dataset[org.apache.spark.sql.Row] = [EXT_SOURCE_2: string, EXT_SOURCE_3: string ... 132 more fields]\n"
      ]
     },
     "execution_count": 100,
     "metadata": {},
     "output_type": "execute_result"
    }
   ],
   "source": [
    "// random split of cleansed dataset to training set (70%), testing set (20%)\n",
    "// and validation set (10%)\n",
    "\n",
    "var Array(train_df,test_df,validation_df)=creditRiskdf.randomSplit(\n",
    "    Array(0.7,0.2,0.1))"
   ]
  },
  {
   "cell_type": "code",
   "execution_count": 101,
   "metadata": {},
   "outputs": [
    {
     "data": {
      "text/plain": [
       "res52: org.apache.spark.sql.Dataset[org.apache.spark.sql.Row] = [EXT_SOURCE_2: string, EXT_SOURCE_3: string ... 132 more fields]\n"
      ]
     },
     "execution_count": 101,
     "metadata": {},
     "output_type": "execute_result"
    }
   ],
   "source": [
    "// cache train_df dataset for ML stage\n",
    "train_df.cache()"
   ]
  },
  {
   "cell_type": "markdown",
   "metadata": {},
   "source": [
    "### Binomial Logistic Regression"
   ]
  },
  {
   "cell_type": "code",
   "execution_count": 102,
   "metadata": {},
   "outputs": [
    {
     "data": {
      "text/plain": [
       "creditRiskFeatures: Array[String] = Array(EXT_SOURCE_2, EXT_SOURCE_3, DAYS_BIRTH, AMT_CREDIT, AMT_ANNUITY, DAYS_ID_PUBLISH, previous_loans_CNT_PAYMENT_mean, previous_loans_SELLERPLACE_AREA_max, DAYS_LAST_PHONE_CHANGE, DAYS_REGISTRATION, CODE_GENDER_F, REGION_POPULATION_RELATIVE, client_cash_CNT_INSTALMENT_max_mean, bureau_DAYS_CREDIT_mean, previous_loans_NAME_CONTRACT_STATUS_Refused_count_norm, client_installments_NUM_INSTALMENT_VERSION_max_mean, bureau_DAYS_CREDIT_min, previous_loans_NAME_YIELD_GROUP_high_count_norm, previous_loans_RATE_DOWN_PAYMENT_sum, previous_loans_DAYS_FIRST_DUE_min, bureau_DAYS_CREDIT_sum, previous_loans_DAYS_LAST_DUE_1ST_VERSION_max, previous_loans_HOUR_APPR_PROCESS_START_mean, NAME_FAMILY_STATUS_Married, previous_loans_CNT_PAYMENT_max, AMT_INCOME_TOTAL, previou..."
      ]
     },
     "execution_count": 102,
     "metadata": {},
     "output_type": "execute_result"
    }
   ],
   "source": [
    "// collate arrays of column names with and without the label \"TARGET\"\n",
    "\n",
    "val creditRiskFeatures = creditRiskdf.columns\n",
    "val features = creditRiskFeatures.filter(!_.contains(\"TARGET\"))"
   ]
  },
  {
   "cell_type": "code",
   "execution_count": 103,
   "metadata": {},
   "outputs": [
    {
     "data": {
      "text/plain": [
       "creditRiskFeatures: Array[String] = Array(EXT_SOURCE_2, EXT_SOURCE_3, DAYS_BIRTH, AMT_CREDIT, AMT_ANNUITY, DAYS_ID_PUBLISH, previous_loans_CNT_PAYMENT_mean, previous_loans_SELLERPLACE_AREA_max, DAYS_LAST_PHONE_CHANGE, DAYS_REGISTRATION, CODE_GENDER_F, REGION_POPULATION_RELATIVE, client_cash_CNT_INSTALMENT_max_mean, bureau_DAYS_CREDIT_mean, previous_loans_NAME_CONTRACT_STATUS_Refused_count_norm, client_installments_NUM_INSTALMENT_VERSION_max_mean, bureau_DAYS_CREDIT_min, previous_loans_NAME_YIELD_GROUP_high_count_norm, previous_loans_RATE_DOWN_PAYMENT_sum, previous_loans_DAYS_FIRST_DUE_min, bureau_DAYS_CREDIT_sum, previous_loans_DAYS_LAST_DUE_1ST_VERSION_max, previous_loans_HOUR_APPR_PROCESS_START_mean, NAME_FAMILY_STATUS_Married, previous_loans_CNT_PAYMENT_max, AMT_INCOME_TOTAL, previou..."
      ]
     },
     "execution_count": 103,
     "metadata": {},
     "output_type": "execute_result"
    }
   ],
   "source": [
    "// change datatype of data from String to Float\n",
    "\n",
    "val creditRiskFeatures = creditRiskdf.columns\n",
    "for (colName<-creditRiskFeatures){\n",
    "     |   train_df=train_df.withColumn(colName,col(colName).cast(\"Float\"))\n",
    "     | }"
   ]
  },
  {
   "cell_type": "code",
   "execution_count": 104,
   "metadata": {},
   "outputs": [
    {
     "data": {
      "text/plain": [
       "assembler: org.apache.spark.ml.feature.VectorAssembler = vecAssembler_22fdf12a02bd\n",
       "df2: org.apache.spark.sql.DataFrame = [EXT_SOURCE_2: float, EXT_SOURCE_3: float ... 133 more fields]\n"
      ]
     },
     "execution_count": 104,
     "metadata": {},
     "output_type": "execute_result"
    }
   ],
   "source": [
    "// place all features except for \"TARGET\" under column name \"features\"\n",
    "\n",
    "val assembler = new VectorAssembler().setInputCols(\n",
    "    features).setOutputCol(\"features\")\n",
    "val df2 = assembler.transform(train_df)"
   ]
  },
  {
   "cell_type": "code",
   "execution_count": 107,
   "metadata": {},
   "outputs": [
    {
     "data": {
      "text/plain": [
       "res56: org.apache.spark.sql.types.StructType = StructType(StructField(EXT_SOURCE_2,FloatType,true), StructField(EXT_SOURCE_3,FloatType,true), StructField(DAYS_BIRTH,FloatType,true), StructField(AMT_CREDIT,FloatType,true), StructField(AMT_ANNUITY,FloatType,true), StructField(DAYS_ID_PUBLISH,FloatType,true), StructField(previous_loans_CNT_PAYMENT_mean,FloatType,true), StructField(previous_loans_SELLERPLACE_AREA_max,FloatType,true), StructField(DAYS_LAST_PHONE_CHANGE,FloatType,true), StructField(DAYS_REGISTRATION,FloatType,true), StructField(CODE_GENDER_F,FloatType,true), StructField(REGION_POPULATION_RELATIVE,FloatType,true), StructField(client_cash_CNT_INSTALMENT_max_mean,FloatType,true), StructField(bureau_DAYS_CREDIT_mean,FloatType,true), StructField(previous_loans_NAME_CONTRACT_STATUS..."
      ]
     },
     "execution_count": 107,
     "metadata": {},
     "output_type": "execute_result"
    }
   ],
   "source": [
    "df2.schema"
   ]
  },
  {
   "cell_type": "code",
   "execution_count": 109,
   "metadata": {},
   "outputs": [
    {
     "data": {
      "text/plain": [
       "labelIndexer: org.apache.spark.ml.feature.StringIndexer = strIdx_8cc4e6ad6b32\n",
       "df3: org.apache.spark.sql.DataFrame = [EXT_SOURCE_2: float, EXT_SOURCE_3: float ... 134 more fields]\n"
      ]
     },
     "execution_count": 109,
     "metadata": {},
     "output_type": "execute_result"
    }
   ],
   "source": [
    "// identify label for logistic regression\n",
    "\n",
    "val labelIndexer = new StringIndexer().setInputCol(\n",
    "    \"TARGET\").setOutputCol(\"label\")\n",
    "val df3 = labelIndexer.fit(df2).transform(df2)"
   ]
  },
  {
   "cell_type": "code",
   "execution_count": 119,
   "metadata": {},
   "outputs": [
    {
     "name": "stdout",
     "output_type": "stream",
     "text": [
      "Rows:38406\n",
      "Columns:136\n"
     ]
    }
   ],
   "source": [
    "// structure of prepared training data\n",
    "\n",
    "println(\"Rows:\"+df3.count())\n",
    "println(\"Columns:\"+df3.columns.size)"
   ]
  },
  {
   "cell_type": "code",
   "execution_count": 120,
   "metadata": {},
   "outputs": [
    {
     "data": {
      "text/plain": [
       "model: org.apache.spark.ml.classification.LogisticRegressionModel = LogisticRegressionModel: uid = logreg_7a00cef86dd0, numClasses = 2, numFeatures = 133\n"
      ]
     },
     "execution_count": 120,
     "metadata": {},
     "output_type": "execute_result"
    }
   ],
   "source": [
    "// fit logistic model\n",
    "\n",
    "val model = new LogisticRegression().fit(df3)"
   ]
  },
  {
   "cell_type": "markdown",
   "metadata": {},
   "source": [
    "#### Prepare test data"
   ]
  },
  {
   "cell_type": "code",
   "execution_count": 122,
   "metadata": {},
   "outputs": [
    {
     "name": "stdout",
     "output_type": "stream",
     "text": [
      "Rows:10960\n",
      "Columns:136\n"
     ]
    },
    {
     "data": {
      "text/plain": [
       "test_df2: org.apache.spark.sql.DataFrame = [EXT_SOURCE_2: float, EXT_SOURCE_3: float ... 133 more fields]\n",
       "test_df3: org.apache.spark.sql.DataFrame = [EXT_SOURCE_2: float, EXT_SOURCE_3: float ... 134 more fields]\n"
      ]
     },
     "execution_count": 122,
     "metadata": {},
     "output_type": "execute_result"
    }
   ],
   "source": [
    "for (colName<-creditRiskFeatures){\n",
    "     |   test_df=test_df.withColumn(colName,col(colName).cast(\"Float\"))\n",
    "     | }\n",
    "\n",
    "val test_df2 = assembler.transform(test_df)\n",
    "val test_df3 = labelIndexer.fit(test_df2).transform(test_df2)\n",
    "println(\"Rows:\"+test_df3.count())\n",
    "println(\"Columns:\"+test_df3.columns.size)"
   ]
  },
  {
   "cell_type": "code",
   "execution_count": 123,
   "metadata": {},
   "outputs": [
    {
     "data": {
      "text/plain": [
       "predictions: org.apache.spark.sql.DataFrame = [EXT_SOURCE_2: float, EXT_SOURCE_3: float ... 137 more fields]\n"
      ]
     },
     "execution_count": 123,
     "metadata": {},
     "output_type": "execute_result"
    }
   ],
   "source": [
    "// review model fitting\n",
    "\n",
    "val predictions = model.transform(test_df3)"
   ]
  },
  {
   "cell_type": "markdown",
   "metadata": {},
   "source": [
    "### Evaluate Model"
   ]
  },
  {
   "cell_type": "markdown",
   "metadata": {},
   "source": [
    "Determine the metric to evaluate the model, e.g. ROC AUC."
   ]
  },
  {
   "cell_type": "markdown",
   "metadata": {},
   "source": [
    "#### Accuracy measurement 1"
   ]
  },
  {
   "cell_type": "code",
   "execution_count": 124,
   "metadata": {},
   "outputs": [
    {
     "data": {
      "text/plain": [
       "import org.apache.spark.ml.classification.NaiveBayes\n",
       "import org.apache.spark.ml.evaluation.MulticlassClassificationEvaluator\n",
       "import org.apache.spark.sql.SparkSession\n"
      ]
     },
     "execution_count": 124,
     "metadata": {},
     "output_type": "execute_result"
    }
   ],
   "source": [
    "import org.apache.spark.ml.classification.NaiveBayes\n",
    "import org.apache.spark.ml.evaluation.MulticlassClassificationEvaluator\n",
    "import org.apache.spark.sql.SparkSession"
   ]
  },
  {
   "cell_type": "code",
   "execution_count": 125,
   "metadata": {},
   "outputs": [
    {
     "name": "stdout",
     "output_type": "stream",
     "text": [
      "Test set accuracy = 0.9317518248175183\n"
     ]
    },
    {
     "data": {
      "text/plain": [
       "evaluator: org.apache.spark.ml.evaluation.MulticlassClassificationEvaluator = mcEval_680437c48553\n",
       "accuracy: Double = 0.9317518248175183\n"
      ]
     },
     "execution_count": 125,
     "metadata": {},
     "output_type": "execute_result"
    }
   ],
   "source": [
    "val evaluator = new MulticlassClassificationEvaluator()\n",
    "  .setLabelCol(\"label\")\n",
    "  .setPredictionCol(\"prediction\")\n",
    "  .setMetricName(\"accuracy\")\n",
    "val accuracy = evaluator.evaluate(predictions)\n",
    "println(\"Test set accuracy = \" + accuracy)"
   ]
  },
  {
   "cell_type": "markdown",
   "metadata": {},
   "source": [
    "We can see that the accuracy of our prediction is over 90%. Much higher than our threshold 50%"
   ]
  },
  {
   "cell_type": "markdown",
   "metadata": {},
   "source": [
    "#### Accuracy measurement 2"
   ]
  },
  {
   "cell_type": "markdown",
   "metadata": {},
   "source": [
    "Or we use a more intuitive way to check accuracy: We filter the amount of rows in which 'label' and 'prediction' doesn't match (in other word the rows with prediction failure)"
   ]
  },
  {
   "cell_type": "code",
   "execution_count": 126,
   "metadata": {},
   "outputs": [
    {
     "data": {
      "text/plain": [
       "res69: Long = 10960\n"
      ]
     },
     "execution_count": 126,
     "metadata": {},
     "output_type": "execute_result"
    }
   ],
   "source": [
    "predictions.count()"
   ]
  },
  {
   "cell_type": "code",
   "execution_count": 127,
   "metadata": {},
   "outputs": [
    {
     "name": "stdout",
     "output_type": "stream",
     "text": [
      "+--------------------+-----+----------+\n",
      "|            features|label|prediction|\n",
      "+--------------------+-----+----------+\n",
      "|(133,[0,1,2,3,4,5...|  1.0|       0.0|\n",
      "|[0.01810070686042...|  1.0|       0.0|\n",
      "|(133,[0,1,2,3,4,5...|  1.0|       0.0|\n",
      "|[0.02541386522352...|  1.0|       0.0|\n",
      "|[0.02625638991594...|  1.0|       0.0|\n",
      "|(133,[0,1,2,3,4,5...|  1.0|       0.0|\n",
      "|[0.03873163834214...|  1.0|       0.0|\n",
      "|(133,[0,1,2,3,4,5...|  1.0|       0.0|\n",
      "|(133,[0,1,2,3,4,5...|  1.0|       0.0|\n",
      "|[0.04416552931070...|  1.0|       0.0|\n",
      "|[0.04623770341277...|  1.0|       0.0|\n",
      "|(133,[0,1,2,3,4,5...|  1.0|       0.0|\n",
      "|(133,[0,1,2,3,4,5...|  1.0|       0.0|\n",
      "|[0.05377653241157...|  1.0|       0.0|\n",
      "|[0.05877300724387...|  1.0|       0.0|\n",
      "|(133,[0,1,2,3,4,5...|  1.0|       0.0|\n",
      "|(133,[0,1,2,3,4,5...|  1.0|       0.0|\n",
      "|(133,[0,1,2,3,4,5...|  1.0|       0.0|\n",
      "|(133,[0,1,2,3,4,5...|  1.0|       0.0|\n",
      "|(133,[0,1,2,3,4,5...|  1.0|       0.0|\n",
      "+--------------------+-----+----------+\n",
      "only showing top 20 rows\n",
      "\n"
     ]
    }
   ],
   "source": [
    "predictions.filter(!($\"label\" <=> $\"prediction\")).select (\n",
    "    \"features\", \"label\", \"prediction\").show()"
   ]
  },
  {
   "cell_type": "code",
   "execution_count": 128,
   "metadata": {},
   "outputs": [
    {
     "data": {
      "text/plain": [
       "res71: Long = 748\n"
      ]
     },
     "execution_count": 128,
     "metadata": {},
     "output_type": "execute_result"
    }
   ],
   "source": [
    "predictions.filter(!($\"label\" <=> $\"prediction\")).select (\n",
    "    \"features\", \"label\", \"prediction\").count()"
   ]
  },
  {
   "cell_type": "markdown",
   "metadata": {},
   "source": [
    "We can see that among the 10960 rows, the prediction failure is of 748 rows. The accuracy is over 90%"
   ]
  },
  {
   "cell_type": "markdown",
   "metadata": {},
   "source": [
    "### Model refinement"
   ]
  },
  {
   "cell_type": "markdown",
   "metadata": {},
   "source": [
    "At this stage, we can apply PCA to select features.  We can also explore algorithm that recursively eliminate features with lowest importance."
   ]
  },
  {
   "cell_type": "markdown",
   "metadata": {},
   "source": [
    "Not applicable for binomial logistc regression?!"
   ]
  },
  {
   "cell_type": "markdown",
   "metadata": {},
   "source": [
    "### Random Forest"
   ]
  },
  {
   "cell_type": "code",
   "execution_count": 129,
   "metadata": {},
   "outputs": [
    {
     "name": "stdout",
     "output_type": "stream",
     "text": [
      "Total data rows in combined dataframe:54836\n"
     ]
    },
    {
     "data": {
      "text/plain": [
       "RF_df: org.apache.spark.sql.DataFrame = [EXT_SOURCE_2: double, EXT_SOURCE_3: double ... 132 more fields]\n",
       "creditRiskFeatures: Array[String] = Array(EXT_SOURCE_2, EXT_SOURCE_3, DAYS_BIRTH, AMT_CREDIT, AMT_ANNUITY, DAYS_ID_PUBLISH, previous_loans_CNT_PAYMENT_mean, previous_loans_SELLERPLACE_AREA_max, DAYS_LAST_PHONE_CHANGE, DAYS_REGISTRATION, CODE_GENDER_F, REGION_POPULATION_RELATIVE, client_cash_CNT_INSTALMENT_max_mean, bureau_DAYS_CREDIT_mean, previous_loans_NAME_CONTRACT_STATUS_Refused_count_norm, client_installments_NUM_INSTALMENT_VERSION_max_mean, bureau_DAYS_CREDIT_min, previous_loans_NAME_YIELD_GROUP_high_count_norm, previous_loans_RATE_DOWN_PAYMENT_sum, previous_loans_DAYS_FIRST_DUE_min, bureau_DAYS_CREDIT_sum, previous_loans_DAYS_LAST_DUE_1ST_VERSION_max, previous_loans_HOUR_APPR_..."
      ]
     },
     "execution_count": 129,
     "metadata": {},
     "output_type": "execute_result"
    }
   ],
   "source": [
    "// Cross check that the full data set is being used\n",
    "println(\"Total data rows in combined dataframe:\"+creditRiskdf.count())\n",
    "var RF_df = creditRiskdf\n",
    "val creditRiskFeatures = creditRiskdf.columns\n",
    "for (colName<-creditRiskFeatures){\n",
    "     |   RF_df=RF_df.withColumn(colName,col(colName).cast(\"Double\"))\n",
    "     | }\n",
    "//RF_df.printSchema()"
   ]
  },
  {
   "cell_type": "code",
   "execution_count": 130,
   "metadata": {},
   "outputs": [
    {
     "data": {
      "text/plain": [
       "import org.apache.spark.ml.Pipeline\n",
       "import org.apache.spark.ml.classification.{RandomForestClassificationModel, RandomForestClassifier}\n",
       "import org.apache.spark.ml.evaluation.MulticlassClassificationEvaluator\n",
       "import org.apache.spark.ml.feature.{IndexToString, StringIndexer, VectorIndexer}\n"
      ]
     },
     "execution_count": 130,
     "metadata": {},
     "output_type": "execute_result"
    }
   ],
   "source": [
    "import org.apache.spark.ml.Pipeline\n",
    "import org.apache.spark.ml.classification.{RandomForestClassificationModel, RandomForestClassifier}\n",
    "import org.apache.spark.ml.evaluation.MulticlassClassificationEvaluator\n",
    "import org.apache.spark.ml.feature.{IndexToString, StringIndexer, VectorIndexer}"
   ]
  },
  {
   "cell_type": "code",
   "execution_count": 131,
   "metadata": {},
   "outputs": [
    {
     "data": {
      "text/plain": [
       "data: org.apache.spark.sql.DataFrame = [EXT_SOURCE_2: double, EXT_SOURCE_3: double ... 132 more fields]\n",
       "labelIndexer: org.apache.spark.ml.feature.StringIndexerModel = strIdx_032e7e45685e\n"
      ]
     },
     "execution_count": 131,
     "metadata": {},
     "output_type": "execute_result"
    }
   ],
   "source": [
    "// Load and parse the data file, converting it to a DataFrame.\n",
    "val data = RF_df\n",
    "// Index labels, adding metadata to the label column.\n",
    "// Fit on whole dataset to include all labels in index.\n",
    "val labelIndexer = new StringIndexer()\n",
    "  .setInputCol(\"TARGET\")\n",
    "  .setOutputCol(\"indexedLabel\")\n",
    "  .fit(data)"
   ]
  },
  {
   "cell_type": "code",
   "execution_count": 132,
   "metadata": {},
   "outputs": [
    {
     "data": {
      "text/plain": [
       "assembler: org.apache.spark.ml.feature.VectorAssembler = vecAssembler_3f5638ec4c61\n",
       "RF_df2: org.apache.spark.sql.DataFrame = [EXT_SOURCE_2: double, EXT_SOURCE_3: double ... 133 more fields]\n",
       "featureIndexer: org.apache.spark.ml.feature.VectorIndexerModel = vecIdx_efd77a136c58\n"
      ]
     },
     "execution_count": 132,
     "metadata": {},
     "output_type": "execute_result"
    }
   ],
   "source": [
    "// Automatically identify categorical features, and index them.\n",
    "// Set maxCategories so features with > 4 distinct values are treated as continuous.\n",
    "val assembler = new VectorAssembler().setInputCols(features).setOutputCol(\n",
    "    \"features\")\n",
    "val RF_df2 = assembler.transform(RF_df)\n",
    "val featureIndexer = new VectorIndexer()\n",
    "  .setInputCol(\"features\")\n",
    "  .setOutputCol(\"indexedFeatures\")\n",
    "  .setMaxCategories(4)\n",
    "  .fit(RF_df2)"
   ]
  },
  {
   "cell_type": "code",
   "execution_count": 134,
   "metadata": {},
   "outputs": [
    {
     "name": "stdout",
     "output_type": "stream",
     "text": [
      "[0.715041819,0.176652579,-13439.0,80865.0,5881.5,-3227.0,17.0,200.0,-2370.0,-311.0,1.0,0.031329,19.34328358,-618.4285714,0.0,1.391891892,-1634.0,0.75,0.326727273,-2339.0,-4329.0,-327.0,13.0,1.0,24.0,67500.0,-3151.0,-39.52238806,-776.9850746,-1369.0,-1369.0,8593.155,14480.46,0.217818182,4.0,18.46268657,0.571428571,-1367.0,1.0,-929.6666667,0.75,0.955223881,-2662.0,1.0,17.46268657,-1779.5,10.0,-2009.0,0.857142857,14.0,-405.8571429,-7118.0,-2648.0,0.081681818,0.0,0.0,-1045.666667,0.0,0.142857143,0.0,0.0,1.0,0.0,1.0,0.0,-2007.0,0.0,1.0,0.25,0.044776119,0.0,3.0,0.0,0.0,55.0,0.0,1.0,0.0,0.0,0.5,0.0,0.333333333,0.0,6.0,0.0,1.0,1.0,0.0,0.0,0.0,24.0,0.0,0.0,0.0,9.0,0.0,0.0,0.0,-530.0,0.0,0.0,74.0,3.0,0.0,0.0,0.0,4.0,0.0,0.0,0.0,1.0,10.0,0.0,0.0,0.0,0.0,1.0,0.0,0.75,8.0,3.0,10.0,0.0,0.0,0.0,0.0,0.0,0.0,11.0,0.0,0.0,1.0,0.0,100016.0,(133,[0,1,2,3,4,5,6,7,8,9,10,11,12,13,15,16,17,18,19,20,21,22,23,24,25,26,27,28,29,30,31,32,33,34,35,36,37,38,39,40,41,42,43,44,45,46,47,48,49,50,51,52,53,56,58,61,63,65,67,68,69,71,74,76,79,81,83,85,86,90,94,98,101,102,106,110,111,116,118,119,120,121,128,131,132],[0.715041819,0.176652579,-13439.0,80865.0,5881.5,-3227.0,17.0,200.0,-2370.0,-311.0,1.0,0.031329,19.34328358,-618.4285714,1.391891892,-1634.0,0.75,0.326727273,-2339.0,-4329.0,-327.0,13.0,1.0,24.0,67500.0,-3151.0,-39.52238806,-776.9850746,-1369.0,-1369.0,8593.155,14480.46,0.217818182,4.0,18.46268657,0.571428571,-1367.0,1.0,-929.6666667,0.75,0.955223881,-2662.0,1.0,17.46268657,-1779.5,10.0,-2009.0,0.857142857,14.0,-405.8571429,-7118.0,-2648.0,0.081681818,-1045.666667,0.142857143,1.0,1.0,-2007.0,1.0,0.25,0.044776119,3.0,55.0,1.0,0.5,0.333333333,6.0,1.0,1.0,24.0,9.0,-530.0,74.0,3.0,4.0,1.0,10.0,1.0,0.75,8.0,3.0,10.0,11.0,1.0,100016.0])]\n",
      "[0.23637784,0.062103038,-12931.0,509602.5,26149.5,-3866.0,7.0,550.0,-3.0,-6392.0,0.0,0.018634,7.0,-261.5,0.0,1.0,-492.0,0.5,0.0,-441.0,-1046.0,-1.0,10.5,1.0,8.0,108000.0,364952.0,-6.0,-63.0,-311.0,-311.0,7254.5175,8779.77,0.0,2.0,7.0,0.5,-310.0,1.0,-223.0,0.5,0.928571429,-308.0,1.0,7.0,-357.5,12.0,-291.0,1.0,11.0,-130.75,-715.0,-84.0,0.0,0.0,0.0,182479.5,0.5,0.0,0.0,0.0,1.0,0.0,1.0,0.0,-284.0,0.0,1.0,0.5,0.071428571,0.0,2.0,0.0,0.0,7.0,0.0,1.0,0.0,0.0,0.5,0.5,0.0,0.0,3.5,0.0,0.5,0.0,0.0,0.0,0.0,7.0,0.0,0.0,0.0,6.0,0.0,0.0,0.0,365243.0,0.0,0.0,13.0,1.0,0.0,0.0,0.0,2.0,0.0,0.0,0.0,1.0,6.0,0.0,0.0,0.0,0.0,1.0,0.0,1.0,6.0,1.0,6.0,0.0,0.0,0.0,0.0,0.0,0.0,6.0,0.0,1.0,0.0,0.0,100020.0,(133,[0,1,2,3,4,5,6,7,8,9,11,12,13,15,16,17,19,20,21,22,23,24,25,26,27,28,29,30,31,32,34,35,36,37,38,39,40,41,42,43,44,45,46,47,48,49,50,51,52,56,57,61,63,65,67,68,69,71,74,76,79,80,83,85,90,94,98,101,102,106,110,111,116,118,119,120,121,128,130,132],[0.23637784,0.062103038,-12931.0,509602.5,26149.5,-3866.0,7.0,550.0,-3.0,-6392.0,0.018634,7.0,-261.5,1.0,-492.0,0.5,-441.0,-1046.0,-1.0,10.5,1.0,8.0,108000.0,364952.0,-6.0,-63.0,-311.0,-311.0,7254.5175,8779.77,2.0,7.0,0.5,-310.0,1.0,-223.0,0.5,0.928571429,-308.0,1.0,7.0,-357.5,12.0,-291.0,1.0,11.0,-130.75,-715.0,-84.0,182479.5,0.5,1.0,1.0,-284.0,1.0,0.5,0.071428571,2.0,7.0,1.0,0.5,0.5,3.5,0.5,7.0,6.0,365243.0,13.0,1.0,2.0,1.0,6.0,1.0,1.0,6.0,1.0,6.0,6.0,1.0,100020.0])]\n",
      "[0.58661714,0.477649155,-11348.0,544491.0,17563.5,-3964.0,12.5,1500.0,-1850.0,-1021.0,1.0,0.015221,13.86206897,-1164.384615,0.0,2.0,-2624.0,0.25,0.197338904,-2393.0,-15137.0,365243.0,10.0,0.0,24.0,90000.0,361489.0,-47.51724138,-637.2758621,-2335.0,-2228.0,8895.8925,16822.44,0.101379531,4.0,11.4137931,0.307692308,-2287.0,1.0,-997.3,0.25,0.896551724,-2212.0,1.0,10.4137931,-1215.75,12.0,-2123.0,0.692307692,11.0,-634.0769231,-4863.0,-1378.0,0.098669452,0.0,0.095959373,90377.25,0.25,0.307692308,0.0,0.0,0.5,0.0,0.0,0.0,-2178.0,0.0,0.0,0.25,0.103448276,0.0,9.0,0.25,0.25,29.0,0.25,0.5,0.0,0.25,0.0,0.0,0.5,0.0,2.5,0.0,0.75,4.0,0.0,0.0,0.0,14.0,0.0,0.25,0.0,5.0,0.25,2.0,0.0,365243.0,0.25,0.0,26.0,3.0,0.0,0.0,0.0,4.0,0.0,0.0,0.0,0.933333333,4.0,0.0,0.0,0.0,0.0,1.0,0.0,0.5,0.0,1.0,4.0,0.0,0.0,0.0,0.0,0.25,0.0,4.0,0.0,1.0,1.0,0.0,100023.0,[0.58661714,0.477649155,-11348.0,544491.0,17563.5,-3964.0,12.5,1500.0,-1850.0,-1021.0,1.0,0.015221,13.86206897,-1164.384615,0.0,2.0,-2624.0,0.25,0.197338904,-2393.0,-15137.0,365243.0,10.0,0.0,24.0,90000.0,361489.0,-47.51724138,-637.2758621,-2335.0,-2228.0,8895.8925,16822.44,0.101379531,4.0,11.4137931,0.307692308,-2287.0,1.0,-997.3,0.25,0.896551724,-2212.0,1.0,10.4137931,-1215.75,12.0,-2123.0,0.692307692,11.0,-634.0769231,-4863.0,-1378.0,0.098669452,0.0,0.095959373,90377.25,0.25,0.307692308,0.0,0.0,0.5,0.0,0.0,0.0,-2178.0,0.0,0.0,0.25,0.103448276,0.0,9.0,0.25,0.25,29.0,0.25,0.5,0.0,0.25,0.0,0.0,0.5,0.0,2.5,0.0,0.75,4.0,0.0,0.0,0.0,14.0,0.0,0.25,0.0,5.0,0.25,2.0,0.0,365243.0,0.25,0.0,26.0,3.0,0.0,0.0,0.0,4.0,0.0,0.0,0.0,0.933333333,4.0,0.0,0.0,0.0,0.0,1.0,0.0,0.5,0.0,1.0,4.0,0.0,0.0,0.0,0.0,0.25,0.0,4.0,0.0,1.0,1.0,100023.0]]\n",
      "[0.624304737,0.669056695,-24827.0,239850.0,23850.0,-3684.0,11.33333333,2200.0,-795.0,-9012.0,1.0,0.006296,11.04347826,-793.0,0.25,1.0,-1983.0,0.0,0.0,-764.0,-2379.0,-111.0,14.25,1.0,12.0,83250.0,-605.0,-9.739130435,-169.9565217,-1675.0,-1649.0,24067.755,28077.57,0.0,1.0,11.52173913,0.333333333,-1675.0,0.0,-902.5,0.25,0.956521739,-501.0,0.5,11.04347826,-407.0,12.0,-494.0,1.0,16.0,-600.6666667,-1628.0,-224.0,0.0,0.0,0.0,-295.5,0.25,0.0,0.0,0.0,0.25,0.0,0.0,0.0,-488.0,0.0,1.0,0.5,0.043478261,0.0,2.0,0.5,0.25,11.0,0.25,0.5,0.0,0.5,0.25,0.25,0.5,0.0,5.5,0.25,0.75,0.0,0.25,0.0,0.0,12.0,0.0,0.75,0.0,10.0,0.5,3.0,0.0,-103.0,0.0,0.0,22.0,1.0,0.0,0.0,0.0,2.0,0.0,0.0,0.0,1.0,10.0,0.0,0.25,0.0,0.0,2.0,0.0,0.25,10.0,0.0,10.0,0.0,0.0,0.0,0.0,0.0,0.0,10.0,0.0,1.0,1.0,0.0,100027.0,[0.624304737,0.669056695,-24827.0,239850.0,23850.0,-3684.0,11.33333333,2200.0,-795.0,-9012.0,1.0,0.006296,11.04347826,-793.0,0.25,1.0,-1983.0,0.0,0.0,-764.0,-2379.0,-111.0,14.25,1.0,12.0,83250.0,-605.0,-9.739130435,-169.9565217,-1675.0,-1649.0,24067.755,28077.57,0.0,1.0,11.52173913,0.333333333,-1675.0,0.0,-902.5,0.25,0.956521739,-501.0,0.5,11.04347826,-407.0,12.0,-494.0,1.0,16.0,-600.6666667,-1628.0,-224.0,0.0,0.0,0.0,-295.5,0.25,0.0,0.0,0.0,0.25,0.0,0.0,0.0,-488.0,0.0,1.0,0.5,0.043478261,0.0,2.0,0.5,0.25,11.0,0.25,0.5,0.0,0.5,0.25,0.25,0.5,0.0,5.5,0.25,0.75,0.0,0.25,0.0,0.0,12.0,0.0,0.75,0.0,10.0,0.5,3.0,0.0,-103.0,0.0,0.0,22.0,1.0,0.0,0.0,0.0,2.0,0.0,0.0,0.0,1.0,10.0,0.0,0.25,0.0,0.0,2.0,0.0,0.25,10.0,0.0,10.0,0.0,0.0,0.0,0.0,0.0,0.0,10.0,0.0,1.0,1.0,100027.0]]\n",
      "[0.786179309,0.565607981,-11286.0,247500.0,12703.5,-3729.0,6.0,18.0,-4.0,-108.0,0.0,0.026392,6.0,-1416.75,0.0,2.0,-2806.0,0.0,0.0,-293.0,-5667.0,-143.0,18.0,1.0,6.0,135000.0,-203.0,-6.0,-51.0,-2064.0,-1286.0,22891.68,22891.68,0.0,1.0,6.0,0.25,-2064.0,1.0,-1541.333333,0.0,0.833333333,-224.0,1.0,4.0,-324.0,14.0,-143.0,0.5,18.0,-1041.75,-324.0,-36.0,0.0,0.0,0.0,-197.0,0.0,0.0,0.0,0.0,1.0,0.0,1.0,0.0,-197.0,0.0,1.0,1.0,0.166666667,0.0,3.0,0.0,0.0,6.0,0.0,1.0,0.0,0.0,0.0,1.0,0.0,0.0,2.5,0.0,0.0,0.0,0.0,0.0,0.0,5.0,0.0,0.0,0.0,5.0,0.0,0.0,0.0,-197.0,0.0,0.0,4.0,1.0,0.0,0.0,0.0,1.0,0.0,0.0,0.0,0.833333333,4.0,0.0,0.0,0.0,0.0,1.0,0.0,0.0,6.0,0.0,4.0,0.0,0.0,0.0,0.0,0.0,0.0,5.0,0.0,0.0,0.0,0.0,100029.0,(133,[0,1,2,3,4,5,6,7,8,9,11,12,13,15,16,19,20,21,22,23,24,25,26,27,28,29,30,31,32,34,35,36,37,38,39,41,42,43,44,45,46,47,48,49,50,51,52,56,61,63,65,67,68,69,71,74,76,80,83,90,94,98,101,102,106,110,111,116,119,121,128,132],[0.786179309,0.565607981,-11286.0,247500.0,12703.5,-3729.0,6.0,18.0,-4.0,-108.0,0.026392,6.0,-1416.75,2.0,-2806.0,-293.0,-5667.0,-143.0,18.0,1.0,6.0,135000.0,-203.0,-6.0,-51.0,-2064.0,-1286.0,22891.68,22891.68,1.0,6.0,0.25,-2064.0,1.0,-1541.333333,0.833333333,-224.0,1.0,4.0,-324.0,14.0,-143.0,0.5,18.0,-1041.75,-324.0,-36.0,-197.0,1.0,1.0,-197.0,1.0,1.0,0.166666667,3.0,6.0,1.0,1.0,2.5,5.0,5.0,-197.0,4.0,1.0,1.0,0.833333333,4.0,1.0,6.0,4.0,5.0,100029.0])]\n",
      "[0.306840586,0.320163367,-17482.0,1193580.0,35028.0,-1029.0,23.66666667,27.0,-1075.0,-1182.0,0.0,0.025164,17.0,-1104.8,0.333333333,1.5,-2055.0,0.333333333,0.108909091,-2601.0,-5524.0,365243.0,12.83333333,1.0,36.0,202500.0,361745.0,-57.0,-682.0,-977.0,-960.0,16749.915,31674.87,0.108909091,3.0,11.0,0.6,-1140.0,1.0,-698.5,0.166666667,0.909090909,-2337.0,0.666666667,10.0,-1432.0,9.0,-2331.0,0.6,15.0,-444.6,-8592.0,-1254.0,0.108909091,0.0,0.108909091,120584.6667,0.166666667,0.2,0.0,0.833333333,0.166666667,0.0,0.0,0.0,-2326.0,0.0,1.0,0.0,0.090909091,0.0,2.0,0.666666667,0.0,22.0,0.166666667,0.166666667,0.0,0.5,0.0,0.166666667,0.333333333,0.0,5.5,0.0,0.666666667,1.0,0.0,0.0,0.0,10.0,0.0,0.666666667,0.0,10.0,0.166666667,4.0,0.0,365243.0,0.5,0.0,20.0,2.0,0.0,0.0,0.0,4.0,0.0,0.0,0.0,0.909090909,10.0,0.0,0.0,1.0,0.0,0.0,0.0,0.0,0.0,2.0,10.0,0.0,0.0,0.0,0.0,0.0,0.0,10.0,0.0,1.0,0.0,1.0,100047.0,[0.306840586,0.320163367,-17482.0,1193580.0,35028.0,-1029.0,23.66666667,27.0,-1075.0,-1182.0,0.0,0.025164,17.0,-1104.8,0.333333333,1.5,-2055.0,0.333333333,0.108909091,-2601.0,-5524.0,365243.0,12.83333333,1.0,36.0,202500.0,361745.0,-57.0,-682.0,-977.0,-960.0,16749.915,31674.87,0.108909091,3.0,11.0,0.6,-1140.0,1.0,-698.5,0.166666667,0.909090909,-2337.0,0.666666667,10.0,-1432.0,9.0,-2331.0,0.6,15.0,-444.6,-8592.0,-1254.0,0.108909091,0.0,0.108909091,120584.6667,0.166666667,0.2,0.0,0.833333333,0.166666667,0.0,0.0,0.0,-2326.0,0.0,1.0,0.0,0.090909091,0.0,2.0,0.666666667,0.0,22.0,0.166666667,0.166666667,0.0,0.5,0.0,0.166666667,0.333333333,0.0,5.5,0.0,0.666666667,1.0,0.0,0.0,0.0,10.0,0.0,0.666666667,0.0,10.0,0.166666667,4.0,0.0,365243.0,0.5,0.0,20.0,2.0,0.0,0.0,0.0,4.0,0.0,0.0,0.0,0.909090909,10.0,0.0,0.0,1.0,0.0,0.0,0.0,0.0,0.0,2.0,10.0,0.0,0.0,0.0,0.0,0.0,0.0,10.0,0.0,1.0,0.0,100047.0]]\n",
      "[0.67420321,0.399675616,-13384.0,288873.0,16258.5,-4409.0,8.0,400.0,-1480.0,-45.0,1.0,0.007305,10.54545455,-819.1428571,0.0,0.724137931,-2179.0,0.6,0.349171419,-2395.0,-5734.0,365243.0,10.6,0.0,12.0,135000.0,361529.0,-32.65909091,-454.8863636,-1469.0,-1469.0,5747.859,7801.155,0.249162871,5.0,11.54545455,0.714285714,-1469.0,1.0,-1011.5,0.2,0.909090909,-2066.0,1.0,10.54545455,-1066.6,11.0,-2065.0,0.428571429,14.0,-374.2857143,-5333.0,-1437.0,0.116390473,0.0,0.0,72309.2,0.4,0.571428571,0.0,0.0,0.6,0.0,1.0,0.0,-2062.0,0.0,1.0,0.2,0.090909091,0.0,2.0,0.2,0.0,44.0,0.2,0.6,0.0,0.4,0.4,0.2,0.6,0.0,3.5,0.0,0.8,4.0,0.0,0.0,0.0,12.0,0.0,0.2,0.0,0.0,0.4,2.0,0.0,365243.0,0.2,0.0,42.0,4.0,0.0,0.0,0.0,5.0,0.0,0.0,0.0,0.923076923,6.0,0.0,0.0,2.0,0.0,1.0,0.0,0.2,0.0,3.0,6.0,0.0,0.0,0.0,0.0,0.0,0.0,6.0,0.0,2.0,1.0,1.0,100049.0,[0.67420321,0.399675616,-13384.0,288873.0,16258.5,-4409.0,8.0,400.0,-1480.0,-45.0,1.0,0.007305,10.54545455,-819.1428571,0.0,0.724137931,-2179.0,0.6,0.349171419,-2395.0,-5734.0,365243.0,10.6,0.0,12.0,135000.0,361529.0,-32.65909091,-454.8863636,-1469.0,-1469.0,5747.859,7801.155,0.249162871,5.0,11.54545455,0.714285714,-1469.0,1.0,-1011.5,0.2,0.909090909,-2066.0,1.0,10.54545455,-1066.6,11.0,-2065.0,0.428571429,14.0,-374.2857143,-5333.0,-1437.0,0.116390473,0.0,0.0,72309.2,0.4,0.571428571,0.0,0.0,0.6,0.0,1.0,0.0,-2062.0,0.0,1.0,0.2,0.090909091,0.0,2.0,0.2,0.0,44.0,0.2,0.6,0.0,0.4,0.4,0.2,0.6,0.0,3.5,0.0,0.8,4.0,0.0,0.0,0.0,12.0,0.0,0.2,0.0,0.0,0.4,2.0,0.0,365243.0,0.2,0.0,42.0,4.0,0.0,0.0,0.0,5.0,0.0,0.0,0.0,0.923076923,6.0,0.0,0.0,2.0,0.0,1.0,0.0,0.2,0.0,3.0,6.0,0.0,0.0,0.0,0.0,0.0,0.0,6.0,0.0,2.0,1.0,100049.0]]\n",
      "[0.089240653,0.728141299,-20121.0,260640.0,26838.0,-3283.0,11.6,19.0,-1247.0,-9197.0,1.0,0.022625,11.59183673,-1310.5,0.2,1.0,-1483.0,0.0,0.326751078,-1215.0,-2621.0,15.0,13.6,1.0,12.0,99000.0,363757.0,-13.20408163,-242.3061224,-1114.0,-1115.0,7943.868,10349.91,0.108932896,1.0,12.3877551,0.5,-1114.0,1.0,-1114.0,0.8,0.93877551,-890.0,0.8,11.59183673,-799.8,16.0,-885.0,1.0,15.0,-578.0,-3999.0,-647.0,0.065350216,0.0,0.0,90946.5,0.0,0.0,0.0,0.0,1.0,0.2,1.0,0.0,-870.0,0.0,1.0,0.0,0.06122449,0.0,1.0,0.0,0.4,39.0,0.0,1.0,0.0,0.0,0.0,0.2,0.0,0.0,5.0,0.0,0.8,0.0,0.0,0.0,0.0,12.0,0.0,0.0,0.0,9.0,0.0,2.0,0.0,365243.0,0.0,0.0,47.0,3.0,0.0,0.0,0.0,4.0,0.0,0.0,0.0,1.0,10.0,0.0,0.0,0.0,0.0,0.0,0.0,1.0,10.0,0.0,9.0,0.0,0.0,0.0,0.0,0.0,0.0,10.0,0.0,0.0,1.0,0.0,100054.0,(133,[0,1,2,3,4,5,6,7,8,9,10,11,12,13,14,15,16,18,19,20,21,22,23,24,25,26,27,28,29,30,31,32,33,34,35,36,37,38,39,40,41,42,43,44,45,46,47,48,49,50,51,52,53,56,61,62,63,65,67,69,71,73,74,76,80,83,85,90,94,96,98,101,102,106,110,111,118,119,121,128,131,132],[0.089240653,0.728141299,-20121.0,260640.0,26838.0,-3283.0,11.6,19.0,-1247.0,-9197.0,1.0,0.022625,11.59183673,-1310.5,0.2,1.0,-1483.0,0.326751078,-1215.0,-2621.0,15.0,13.6,1.0,12.0,99000.0,363757.0,-13.20408163,-242.3061224,-1114.0,-1115.0,7943.868,10349.91,0.108932896,1.0,12.3877551,0.5,-1114.0,1.0,-1114.0,0.8,0.93877551,-890.0,0.8,11.59183673,-799.8,16.0,-885.0,1.0,15.0,-578.0,-3999.0,-647.0,0.065350216,90946.5,1.0,0.2,1.0,-870.0,1.0,0.06122449,1.0,0.4,39.0,1.0,0.2,5.0,0.8,12.0,9.0,2.0,365243.0,47.0,3.0,4.0,1.0,10.0,1.0,10.0,9.0,10.0,1.0,100054.0])]\n",
      "[0.58918663,0.466864006,-19727.0,1350000.0,37255.5,-3199.0,9.0,160.0,-784.0,-6225.0,1.0,0.020713,11.2,-876.8571429,0.0,1.076923077,-2202.0,0.0,0.099492139,-753.0,-6138.0,-172.0,7.0,1.0,12.0,130500.0,-745.0,-12.6,-216.8666667,-806.0,-806.0,9036.7875,11150.595,0.099492139,4.0,11.53333333,0.571428571,-789.0,1.0,-655.3333333,0.0,0.866666667,-430.0,1.0,10.53333333,-568.5,10.0,-423.0,0.714285714,8.0,-288.0,-1137.0,-189.0,0.04974607,0.0,0.0,-369.0,1.0,0.142857143,0.0,0.0,1.0,0.5,0.0,0.0,-418.0,0.0,1.0,0.5,0.133333333,0.0,3.0,0.0,0.0,15.0,0.0,1.0,0.0,0.0,0.0,0.0,0.0,0.0,1.0,0.0,0.5,1.0,0.0,0.0,0.0,12.0,0.0,0.0,0.0,2.0,0.0,0.0,0.0,-320.0,0.5,0.0,14.0,2.0,0.0,0.0,0.0,2.0,0.0,0.0,0.0,0.923076923,1.0,0.0,0.0,0.0,0.0,1.0,0.0,1.0,6.0,0.0,1.0,0.0,0.0,0.0,0.0,0.0,0.0,1.0,0.0,2.0,1.0,0.0,100055.0,(133,[0,1,2,3,4,5,6,7,8,9,10,11,12,13,15,16,18,19,20,21,22,23,24,25,26,27,28,29,30,31,32,33,34,35,36,37,38,39,41,42,43,44,45,46,47,48,49,50,51,52,53,56,57,58,61,62,65,67,68,69,71,74,76,83,85,86,90,94,98,99,101,102,106,110,111,116,118,119,121,128,130,131,132],[0.58918663,0.466864006,-19727.0,1350000.0,37255.5,-3199.0,9.0,160.0,-784.0,-6225.0,1.0,0.020713,11.2,-876.8571429,1.076923077,-2202.0,0.099492139,-753.0,-6138.0,-172.0,7.0,1.0,12.0,130500.0,-745.0,-12.6,-216.8666667,-806.0,-806.0,9036.7875,11150.595,0.099492139,4.0,11.53333333,0.571428571,-789.0,1.0,-655.3333333,0.866666667,-430.0,1.0,10.53333333,-568.5,10.0,-423.0,0.714285714,8.0,-288.0,-1137.0,-189.0,0.04974607,-369.0,1.0,0.142857143,1.0,0.5,-418.0,1.0,0.5,0.133333333,3.0,15.0,1.0,1.0,0.5,1.0,12.0,2.0,-320.0,0.5,14.0,2.0,2.0,0.923076923,1.0,1.0,1.0,6.0,1.0,1.0,2.0,1.0,100055.0])]\n"
     ]
    },
    {
     "name": "stdout",
     "output_type": "stream",
     "text": [
      "[0.572064147,0.191821602,-17542.0,1288350.0,37800.0,-988.0,13.6,158.0,-1230.0,-1529.0,1.0,0.003069,15.72,-399.0,0.0,1.266666667,-731.0,0.6,0.435636364,-1199.0,-2394.0,94.0,11.4,1.0,36.0,202500.0,-2599.0,-16.6,-221.14,-644.0,-277.0,12098.367,18734.805,0.435636364,3.0,10.64,0.5,-407.0,1.0,-398.6666667,0.2,0.9,-997.0,1.0,9.48,-784.6,11.0,-989.0,0.666666667,14.0,-174.0,-3923.0,-830.0,0.145212121,0.0,0.0,-514.2,0.0,0.333333333,0.0,0.4,0.6,0.0,1.0,0.0,-984.0,0.0,1.0,0.4,0.1,0.0,3.0,0.4,0.2,50.0,0.0,0.6,0.0,0.4,0.2,0.2,0.4,0.0,3.5,0.0,0.8,2.0,0.0,0.0,0.0,12.0,0.0,0.4,0.0,6.0,0.2,3.0,0.0,-40.0,0.2,0.0,45.0,5.0,0.0,0.0,0.0,5.0,0.0,0.0,0.0,0.923076923,6.0,0.0,0.0,1.0,0.0,2.0,0.0,0.2,6.0,3.0,6.0,0.0,0.0,0.0,0.0,0.0,0.0,6.0,0.0,0.0,0.0,0.0,100087.0,[0.572064147,0.191821602,-17542.0,1288350.0,37800.0,-988.0,13.6,158.0,-1230.0,-1529.0,1.0,0.003069,15.72,-399.0,0.0,1.266666667,-731.0,0.6,0.435636364,-1199.0,-2394.0,94.0,11.4,1.0,36.0,202500.0,-2599.0,-16.6,-221.14,-644.0,-277.0,12098.367,18734.805,0.435636364,3.0,10.64,0.5,-407.0,1.0,-398.6666667,0.2,0.9,-997.0,1.0,9.48,-784.6,11.0,-989.0,0.666666667,14.0,-174.0,-3923.0,-830.0,0.145212121,0.0,0.0,-514.2,0.0,0.333333333,0.0,0.4,0.6,0.0,1.0,0.0,-984.0,0.0,1.0,0.4,0.1,0.0,3.0,0.4,0.2,50.0,0.0,0.6,0.0,0.4,0.2,0.2,0.4,0.0,3.5,0.0,0.8,2.0,0.0,0.0,0.0,12.0,0.0,0.4,0.0,6.0,0.2,3.0,0.0,-40.0,0.2,0.0,45.0,5.0,0.0,0.0,0.0,5.0,0.0,0.0,0.0,0.923076923,6.0,0.0,0.0,1.0,0.0,2.0,0.0,0.2,6.0,3.0,6.0,0.0,0.0,0.0,0.0,0.0,0.0,6.0,0.0,0.0,0.0,100087.0]]\n"
     ]
    }
   ],
   "source": [
    "RF_df2.take(10).foreach(println)"
   ]
  },
  {
   "cell_type": "code",
   "execution_count": 135,
   "metadata": {},
   "outputs": [
    {
     "data": {
      "text/plain": [
       "trainingData: org.apache.spark.sql.Dataset[org.apache.spark.sql.Row] = [EXT_SOURCE_2: double, EXT_SOURCE_3: double ... 133 more fields]\n",
       "testData: org.apache.spark.sql.Dataset[org.apache.spark.sql.Row] = [EXT_SOURCE_2: double, EXT_SOURCE_3: double ... 133 more fields]\n",
       "validationData: org.apache.spark.sql.Dataset[org.apache.spark.sql.Row] = [EXT_SOURCE_2: double, EXT_SOURCE_3: double ... 133 more fields]\n"
      ]
     },
     "execution_count": 135,
     "metadata": {},
     "output_type": "execute_result"
    }
   ],
   "source": [
    "// Split the data into training, test and validation sets (20% held out for testing).\n",
    "val Array(trainingData, testData, validationData) = RF_df2.randomSplit(\n",
    "    Array(0.7, 0.2,0.1))"
   ]
  },
  {
   "cell_type": "code",
   "execution_count": 136,
   "metadata": {},
   "outputs": [
    {
     "data": {
      "text/plain": [
       "rf: org.apache.spark.ml.classification.RandomForestClassifier = rfc_82214be1176c\n"
      ]
     },
     "execution_count": 136,
     "metadata": {},
     "output_type": "execute_result"
    }
   ],
   "source": [
    "// Train a RandomForest model.\n",
    "val rf = new RandomForestClassifier()\n",
    "  .setLabelCol(\"indexedLabel\")\n",
    "  .setFeaturesCol(\"indexedFeatures\")\n",
    "  .setNumTrees(20)"
   ]
  },
  {
   "cell_type": "code",
   "execution_count": 137,
   "metadata": {},
   "outputs": [
    {
     "data": {
      "text/plain": [
       "labelConverter: org.apache.spark.ml.feature.IndexToString = idxToStr_0362d1d7f46b\n"
      ]
     },
     "execution_count": 137,
     "metadata": {},
     "output_type": "execute_result"
    }
   ],
   "source": [
    "// Convert indexed labels back to original labels.\n",
    "val labelConverter = new IndexToString()\n",
    "  .setInputCol(\"prediction\")\n",
    "  .setOutputCol(\"predictedLabel\")\n",
    "  .setLabels(labelIndexer.labels)"
   ]
  },
  {
   "cell_type": "code",
   "execution_count": 138,
   "metadata": {},
   "outputs": [
    {
     "data": {
      "text/plain": [
       "pipeline: org.apache.spark.ml.Pipeline = pipeline_e302510a083b\n"
      ]
     },
     "execution_count": 138,
     "metadata": {},
     "output_type": "execute_result"
    }
   ],
   "source": [
    "// Chain indexers and forest in a Pipeline.\n",
    "val pipeline = new Pipeline()\n",
    "  .setStages(Array(labelIndexer, featureIndexer, rf, labelConverter))"
   ]
  },
  {
   "cell_type": "code",
   "execution_count": 139,
   "metadata": {},
   "outputs": [
    {
     "data": {
      "text/plain": [
       "model: org.apache.spark.ml.PipelineModel = pipeline_e302510a083b\n"
      ]
     },
     "execution_count": 139,
     "metadata": {},
     "output_type": "execute_result"
    }
   ],
   "source": [
    "// Train model. This also runs the indexers.\n",
    "val model = pipeline.fit(trainingData)"
   ]
  },
  {
   "cell_type": "code",
   "execution_count": 140,
   "metadata": {},
   "outputs": [
    {
     "data": {
      "text/plain": [
       "predictions: org.apache.spark.sql.DataFrame = [EXT_SOURCE_2: double, EXT_SOURCE_3: double ... 139 more fields]\n"
      ]
     },
     "execution_count": 140,
     "metadata": {},
     "output_type": "execute_result"
    }
   ],
   "source": [
    "// Make predictions.\n",
    "val predictions = model.transform(testData)"
   ]
  },
  {
   "cell_type": "code",
   "execution_count": null,
   "metadata": {},
   "outputs": [],
   "source": [
    "// Select example rows to display.\n",
    "\n",
    "// predictions.select(\"predictedLabel\", \"probability\", \"features\").show(100)"
   ]
  },
  {
   "cell_type": "code",
   "execution_count": 141,
   "metadata": {},
   "outputs": [
    {
     "name": "stdout",
     "output_type": "stream",
     "text": [
      "Test Error = 0.06406179009541113\n"
     ]
    },
    {
     "data": {
      "text/plain": [
       "evaluator: org.apache.spark.ml.evaluation.MulticlassClassificationEvaluator = mcEval_5a77dae2654d\n",
       "accuracy: Double = 0.9359382099045889\n"
      ]
     },
     "execution_count": 141,
     "metadata": {},
     "output_type": "execute_result"
    }
   ],
   "source": [
    "// Select (prediction, true label) and compute test error.\n",
    "val evaluator = new MulticlassClassificationEvaluator()\n",
    "  .setLabelCol(\"indexedLabel\")\n",
    "  .setPredictionCol(\"prediction\")\n",
    "  .setMetricName(\"accuracy\")\n",
    "val accuracy = evaluator.evaluate(predictions)\n",
    "println(s\"Test Error = ${(1.0 - accuracy)}\")"
   ]
  },
  {
   "cell_type": "markdown",
   "metadata": {},
   "source": [
    "We can see that the accuracy of our prediction is over 90%. Much higher than our threshold 50%"
   ]
  },
  {
   "cell_type": "code",
   "execution_count": 142,
   "metadata": {},
   "outputs": [
    {
     "name": "stdout",
     "output_type": "stream",
     "text": [
      "Learned classification forest model:\n",
      " RandomForestClassificationModel (uid=rfc_82214be1176c) with 20 trees\n",
      "  Tree 0 (weight 1.0):\n",
      "    If (feature 29 <= -902.5)\n",
      "     If (feature 24 <= 33.0)\n",
      "      If (feature 17 <= 0.39230769249999997)\n",
      "       Predict: 0.0\n",
      "      Else (feature 17 > 0.39230769249999997)\n",
      "       If (feature 33 <= 0.11669819349999999)\n",
      "        Predict: 0.0\n",
      "       Else (feature 33 > 0.11669819349999999)\n",
      "        If (feature 124 <= 0.4166666665)\n",
      "         Predict: 0.0\n",
      "        Else (feature 124 > 0.4166666665)\n",
      "         Predict: 1.0\n",
      "     Else (feature 24 > 33.0)\n",
      "      If (feature 36 <= 0.3431372545)\n",
      "       Predict: 0.0\n",
      "      Else (feature 36 > 0.3431372545)\n",
      "       If (feature 1 <= 0.4516404205)\n",
      "        Predict: 0.0\n",
      "       Else (feature 1 > 0.4516404205)\n",
      "        If (feature 82 <= 0.6201923075)\n",
      "         Predict: 0.0\n",
      "        Else (feature 82 > 0.6201923075)\n",
      "         Predict: 1.0\n",
      "    Else (feature 29 > -902.5)\n",
      "     If (feature 34 <= 4.5)\n",
      "      Predict: 0.0\n",
      "     Else (feature 34 > 4.5)\n",
      "      If (feature 42 <= -1682.5)\n",
      "       If (feature 130 <= 2.5)\n",
      "        Predict: 0.0\n",
      "       Else (feature 130 > 2.5)\n",
      "        If (feature 41 <= 0.945330012)\n",
      "         Predict: 0.0\n",
      "        Else (feature 41 > 0.945330012)\n",
      "         Predict: 1.0\n",
      "      Else (feature 42 > -1682.5)\n",
      "       If (feature 94 <= 1.5)\n",
      "        Predict: 0.0\n",
      "       Else (feature 94 > 1.5)\n",
      "        If (feature 30 <= -61.0)\n",
      "         Predict: 0.0\n",
      "        Else (feature 30 > -61.0)\n",
      "         Predict: 1.0\n",
      "  Tree 1 (weight 1.0):\n",
      "    If (feature 30 <= -1246.5)\n",
      "     If (feature 24 <= 33.0)\n",
      "      Predict: 0.0\n",
      "     Else (feature 24 > 33.0)\n",
      "      If (feature 120 <= 2.5)\n",
      "       Predict: 0.0\n",
      "      Else (feature 120 > 2.5)\n",
      "       If (feature 110 <= 0.8516483515)\n",
      "        Predict: 1.0\n",
      "       Else (feature 110 > 0.8516483515)\n",
      "        Predict: 0.0\n",
      "    Else (feature 30 > -1246.5)\n",
      "     If (feature 70 <= 15.84)\n",
      "      Predict: 0.0\n",
      "     Else (feature 70 > 15.84)\n",
      "      If (feature 40 <= 0.7207792205)\n",
      "       If (feature 46 <= 7.5)\n",
      "        If (feature 44 <= 8.1348484845)\n",
      "         Predict: 1.0\n",
      "        Else (feature 44 > 8.1348484845)\n",
      "         Predict: 0.0\n",
      "       Else (feature 46 > 7.5)\n",
      "        If (feature 13 <= -210.9)\n",
      "         Predict: 0.0\n",
      "        Else (feature 13 > -210.9)\n",
      "         Predict: 1.0\n",
      "      Else (feature 40 > 0.7207792205)\n",
      "       If (feature 15 <= 0.274501354)\n",
      "        Predict: 0.0\n",
      "       Else (feature 15 > 0.274501354)\n",
      "        Predict: 1.0\n",
      "  Tree 2 (weight 1.0):\n",
      "    If (feature 0 <= 0.260860348)\n",
      "     If (feature 38 in {0.0})\n",
      "      If (feature 61 <= 0.2403846155)\n",
      "       If (feature 62 <= 0.2403846155)\n",
      "        If (feature 27 <= -22.624814815)\n",
      "         Predict: 0.0\n",
      "        Else (feature 27 > -22.624814815)\n",
      "         Predict: 1.0\n",
      "       Else (feature 62 > 0.2403846155)\n",
      "        Predict: 0.0\n",
      "      Else (feature 61 > 0.2403846155)\n",
      "       Predict: 0.0\n",
      "     Else (feature 38 not in {0.0})\n",
      "      If (feature 1 <= 0.3748659065)\n",
      "       If (feature 81 <= 0.8166666665)\n",
      "        Predict: 0.0\n",
      "       Else (feature 81 > 0.8166666665)\n",
      "        If (feature 99 <= 0.2583333335)\n",
      "         Predict: 1.0\n",
      "        Else (feature 99 > 0.2583333335)\n",
      "         Predict: 0.0\n",
      "      Else (feature 1 > 0.3748659065)\n",
      "       If (feature 82 <= 0.5539772725000001)\n",
      "        Predict: 0.0\n",
      "       Else (feature 82 > 0.5539772725000001)\n",
      "        If (feature 99 <= 0.027777778)\n",
      "         Predict: 0.0\n",
      "        Else (feature 99 > 0.027777778)\n",
      "         Predict: 1.0\n",
      "    Else (feature 0 > 0.260860348)\n",
      "     Predict: 0.0\n",
      "  Tree 3 (weight 1.0):\n",
      "    If (feature 36 <= 0.6458333334999999)\n",
      "     If (feature 75 <= 0.21111111100000002)\n",
      "      If (feature 91 <= 0.5)\n",
      "       Predict: 0.0\n",
      "      Else (feature 91 > 0.5)\n",
      "       If (feature 64 <= 0.03125)\n",
      "        Predict: 0.0\n",
      "       Else (feature 64 > 0.03125)\n",
      "        Predict: 1.0\n",
      "     Else (feature 75 > 0.21111111100000002)\n",
      "      Predict: 0.0\n",
      "    Else (feature 36 > 0.6458333334999999)\n",
      "     If (feature 13 <= -498.83333335)\n",
      "      If (feature 118 <= 0.2583333335)\n",
      "       If (feature 109 <= 0.2613636365)\n",
      "        Predict: 0.0\n",
      "       Else (feature 109 > 0.2613636365)\n",
      "        If (feature 49 <= 14.5)\n",
      "         Predict: 1.0\n",
      "        Else (feature 49 > 14.5)\n",
      "         Predict: 0.0\n",
      "      Else (feature 118 > 0.2583333335)\n",
      "       If (feature 76 <= 0.8257575755)\n",
      "        Predict: 0.0\n",
      "       Else (feature 76 > 0.8257575755)\n",
      "        If (feature 44 <= 20.669871795)\n",
      "         Predict: 0.0\n",
      "        Else (feature 44 > 20.669871795)\n",
      "         Predict: 1.0\n",
      "     Else (feature 13 > -498.83333335)\n",
      "      If (feature 48 <= 0.6396103895)\n",
      "       If (feature 6 <= 22.3875)\n",
      "        Predict: 0.0\n",
      "       Else (feature 6 > 22.3875)\n",
      "        If (feature 39 <= -365.41666665)\n",
      "         Predict: 0.0\n",
      "        Else (feature 39 > -365.41666665)\n",
      "         Predict: 1.0\n",
      "      Else (feature 48 > 0.6396103895)\n",
      "       If (feature 112 <= 0.0294117645)\n",
      "        Predict: 0.0\n",
      "       Else (feature 112 > 0.0294117645)\n",
      "        Predict: 1.0\n",
      "  Tree 4 (weight 1.0):\n",
      "    If (feature 20 <= -3251.5)\n",
      "     If (feature 61 <= 0.6125)\n",
      "      Predict: 0.0\n",
      "     Else (feature 61 > 0.6125)\n",
      "      If (feature 0 <= 0.35850563550000003)\n",
      "       If (feature 32 <= 6479.1)\n",
      "        If (feature 46 <= 6.5)\n",
      "         Predict: 1.0\n",
      "        Else (feature 46 > 6.5)\n",
      "         Predict: 0.0\n",
      "       Else (feature 32 > 6479.1)\n",
      "        Predict: 0.0\n",
      "      Else (feature 0 > 0.35850563550000003)\n",
      "       Predict: 0.0\n",
      "    Else (feature 20 > -3251.5)\n",
      "     If (feature 58 <= 0.087121212)\n",
      "      If (feature 91 <= 10.5)\n",
      "       Predict: 0.0\n",
      "      Else (feature 91 > 10.5)\n",
      "       Predict: 1.0\n",
      "     Else (feature 58 > 0.087121212)\n",
      "      If (feature 71 <= 8.5)\n",
      "       If (feature 34 <= 5.5)\n",
      "        Predict: 0.0\n",
      "       Else (feature 34 > 5.5)\n",
      "        If (feature 61 <= 0.5166666664999999)\n",
      "         Predict: 1.0\n",
      "        Else (feature 61 > 0.5166666664999999)\n",
      "         Predict: 0.0\n",
      "      Else (feature 71 > 8.5)\n",
      "       Predict: 1.0\n",
      "  Tree 5 (weight 1.0):\n",
      "    If (feature 0 <= 0.39081623249999997)\n",
      "     If (feature 5 <= -4266.5)\n",
      "      If (feature 39 <= -1402.290909)\n",
      "       If (feature 94 <= 12.5)\n",
      "        If (feature 126 <= 0.2613636365)\n",
      "         Predict: 0.0\n",
      "        Else (feature 126 > 0.2613636365)\n",
      "         Predict: 1.0\n",
      "       Else (feature 94 > 12.5)\n",
      "        If (feature 51 <= -636.5)\n",
      "         Predict: 0.0\n",
      "        Else (feature 51 > -636.5)\n",
      "         Predict: 1.0\n",
      "      Else (feature 39 > -1402.290909)\n",
      "       If (feature 43 <= 0.369318182)\n",
      "        If (feature 94 <= 12.5)\n",
      "         Predict: 0.0\n",
      "        Else (feature 94 > 12.5)\n",
      "         Predict: 1.0\n",
      "       Else (feature 43 > 0.369318182)\n",
      "        Predict: 0.0\n",
      "     Else (feature 5 > -4266.5)\n",
      "      If (feature 16 <= -1009.5)\n",
      "       Predict: 0.0\n",
      "      Else (feature 16 > -1009.5)\n",
      "       If (feature 1 <= 0.239883848)\n",
      "        If (feature 111 <= 9.5)\n",
      "         Predict: 0.0\n",
      "        Else (feature 111 > 9.5)\n",
      "         Predict: 1.0\n",
      "       Else (feature 1 > 0.239883848)\n",
      "        Predict: 0.0\n",
      "    Else (feature 0 > 0.39081623249999997)\n",
      "     If (feature 14 <= 0.2613636365)\n",
      "      Predict: 0.0\n",
      "     Else (feature 14 > 0.2613636365)\n",
      "      If (feature 33 <= 0.1062515795)\n",
      "       If (feature 37 <= -1253.5)\n",
      "        If (feature 64 <= 0.184659091)\n",
      "         Predict: 0.0\n",
      "        Else (feature 64 > 0.184659091)\n",
      "         Predict: 1.0\n",
      "       Else (feature 37 > -1253.5)\n",
      "        If (feature 64 <= 0.5357142855)\n",
      "         Predict: 0.0\n",
      "        Else (feature 64 > 0.5357142855)\n",
      "         Predict: 1.0\n",
      "      Else (feature 33 > 0.1062515795)\n",
      "       Predict: 0.0\n",
      "  Tree 6 (weight 1.0):\n",
      "    If (feature 5 <= -1588.5)\n",
      "     If (feature 119 <= 1.5)\n",
      "      If (feature 49 <= 8.5)\n",
      "       If (feature 61 <= 0.2583333335)\n",
      "        If (feature 58 <= 0.027777778)\n",
      "         Predict: 0.0\n",
      "        Else (feature 58 > 0.027777778)\n",
      "         Predict: 1.0\n",
      "       Else (feature 61 > 0.2583333335)\n",
      "        If (feature 11 <= 0.020479499999999998)\n",
      "         Predict: 0.0\n",
      "        Else (feature 11 > 0.020479499999999998)\n",
      "         Predict: 1.0\n",
      "      Else (feature 49 > 8.5)\n",
      "       Predict: 0.0\n",
      "     Else (feature 119 > 1.5)\n",
      "      If (feature 50 <= -642.8831169)\n",
      "       If (feature 118 <= 0.027777778)\n",
      "        If (feature 107 <= 0.3666666665)\n",
      "         Predict: 0.0\n",
      "        Else (feature 107 > 0.3666666665)\n",
      "         Predict: 1.0\n",
      "       Else (feature 118 > 0.027777778)\n",
      "        Predict: 0.0\n",
      "      Else (feature 50 > -642.8831169)\n",
      "       Predict: 0.0\n",
      "    Else (feature 5 > -1588.5)\n",
      "     If (feature 39 <= -974.9375)\n",
      "      If (feature 109 <= 0.11805555549999999)\n",
      "       If (feature 101 <= 71.5)\n",
      "        Predict: 0.0\n",
      "       Else (feature 101 > 71.5)\n",
      "        If (feature 9 <= -1871.0)\n",
      "         Predict: 0.0\n",
      "        Else (feature 9 > -1871.0)\n",
      "         Predict: 1.0\n",
      "      Else (feature 109 > 0.11805555549999999)\n",
      "       If (feature 7 <= 50.5)\n",
      "        Predict: 1.0\n",
      "       Else (feature 7 > 50.5)\n",
      "        Predict: 0.0\n",
      "     Else (feature 39 > -974.9375)\n",
      "      If (feature 45 <= -831.225)\n",
      "       If (feature 82 <= 0.6201923075)\n",
      "        Predict: 0.0\n",
      "       Else (feature 82 > 0.6201923075)\n",
      "        If (feature 31 <= 8425.42125)\n",
      "         Predict: 1.0\n",
      "        Else (feature 31 > 8425.42125)\n",
      "         Predict: 0.0\n",
      "      Else (feature 45 > -831.225)\n",
      "       If (feature 49 <= 21.5)\n",
      "        Predict: 0.0\n",
      "       Else (feature 49 > 21.5)\n",
      "        If (feature 80 <= 0.2613636365)\n",
      "         Predict: 1.0\n",
      "        Else (feature 80 > 0.2613636365)\n",
      "         Predict: 0.0\n",
      "  Tree 7 (weight 1.0):\n",
      "    If (feature 37 <= -584.5)\n",
      "     If (feature 43 <= 0.707142857)\n",
      "      If (feature 33 <= 0.1089094005)\n",
      "       Predict: 0.0\n",
      "      Else (feature 33 > 0.1089094005)\n",
      "       If (feature 39 <= -153.5)\n",
      "        Predict: 0.0\n",
      "       Else (feature 39 > -153.5)\n",
      "        If (feature 121 <= 3.5)\n",
      "         Predict: 1.0\n",
      "        Else (feature 121 > 3.5)\n",
      "         Predict: 0.0\n",
      "     Else (feature 43 > 0.707142857)\n",
      "      If (feature 10 in {0.0})\n",
      "       If (feature 49 <= 22.5)\n",
      "        Predict: 0.0\n",
      "       Else (feature 49 > 22.5)\n",
      "        Predict: 1.0\n",
      "      Else (feature 10 not in {0.0})\n",
      "       If (feature 3 <= 315333.0)\n",
      "        Predict: 0.0\n",
      "       Else (feature 3 > 315333.0)\n",
      "        If (feature 123 in {1.0})\n",
      "         Predict: 1.0\n",
      "        Else (feature 123 not in {1.0})\n",
      "         Predict: 0.0\n",
      "    Else (feature 37 > -584.5)\n",
      "     If (feature 13 <= -613.1)\n",
      "      If (feature 108 <= 1.0125)\n",
      "       If (feature 78 <= 0.480769231)\n",
      "        Predict: 0.0\n",
      "       Else (feature 78 > 0.480769231)\n",
      "        If (feature 49 <= 21.5)\n",
      "         Predict: 0.0\n",
      "        Else (feature 49 > 21.5)\n",
      "         Predict: 1.0\n",
      "      Else (feature 108 > 1.0125)\n",
      "       If (feature 15 <= 1.004587156)\n",
      "        If (feature 75 <= 0.2613636365)\n",
      "         Predict: 0.0\n",
      "        Else (feature 75 > 0.2613636365)\n",
      "         Predict: 1.0\n",
      "       Else (feature 15 > 1.004587156)\n",
      "        If (feature 53 <= 0.07261358000000001)\n",
      "         Predict: 1.0\n",
      "        Else (feature 53 > 0.07261358000000001)\n",
      "         Predict: 0.0\n",
      "     Else (feature 13 > -613.1)\n",
      "      If (feature 5 <= -1363.5)\n",
      "       If (feature 1 <= 0.314694416)\n",
      "        If (feature 64 <= 0.15476190499999998)\n",
      "         Predict: 0.0\n",
      "        Else (feature 64 > 0.15476190499999998)\n",
      "         Predict: 1.0\n",
      "       Else (feature 1 > 0.314694416)\n",
      "        Predict: 0.0\n",
      "      Else (feature 5 > -1363.5)\n",
      "       If (feature 46 <= 6.5)\n",
      "        If (feature 27 <= -9.990566037499999)\n",
      "         Predict: 0.0\n",
      "        Else (feature 27 > -9.990566037499999)\n",
      "         Predict: 1.0\n",
      "       Else (feature 46 > 6.5)\n",
      "        Predict: 0.0\n",
      "  Tree 8 (weight 1.0):\n",
      "    If (feature 1 <= 0.40227454549999997)\n",
      "     If (feature 2 <= -16136.5)\n",
      "      If (feature 72 <= 0.207142857)\n",
      "       If (feature 25 <= 317250.0)\n",
      "        If (feature 109 <= 0.292857143)\n",
      "         Predict: 0.0\n",
      "        Else (feature 109 > 0.292857143)\n",
      "         Predict: 1.0\n",
      "       Else (feature 25 > 317250.0)\n",
      "        If (feature 120 <= 0.5)\n",
      "         Predict: 0.0\n",
      "        Else (feature 120 > 0.5)\n",
      "         Predict: 1.0\n",
      "      Else (feature 72 > 0.207142857)\n",
      "       If (feature 24 <= 14.5)\n",
      "        If (feature 130 <= 5.5)\n",
      "         Predict: 0.0\n",
      "        Else (feature 130 > 5.5)\n",
      "         Predict: 1.0\n",
      "       Else (feature 24 > 14.5)\n",
      "        Predict: 0.0\n",
      "     Else (feature 2 > -16136.5)\n",
      "      If (feature 20 <= -7715.5)\n",
      "       If (feature 25 <= 81375.75)\n",
      "        If (feature 27 <= -16.355)\n",
      "         Predict: 0.0\n",
      "        Else (feature 27 > -16.355)\n",
      "         Predict: 1.0\n",
      "       Else (feature 25 > 81375.75)\n",
      "        Predict: 0.0\n",
      "      Else (feature 20 > -7715.5)\n",
      "       Predict: 0.0\n",
      "    Else (feature 1 > 0.40227454549999997)\n",
      "     If (feature 38 in {0.0})\n",
      "      If (feature 0 <= 0.28860652249999996)\n",
      "       Predict: 0.0\n",
      "      Else (feature 0 > 0.28860652249999996)\n",
      "       If (feature 17 <= 0.19375)\n",
      "        If (feature 91 <= 21.5)\n",
      "         Predict: 0.0\n",
      "        Else (feature 91 > 21.5)\n",
      "         Predict: 1.0\n",
      "       Else (feature 17 > 0.19375)\n",
      "        Predict: 0.0\n",
      "     Else (feature 38 not in {0.0})\n",
      "      If (feature 104 <= 22.0)\n",
      "       If (feature 75 <= 0.6125)\n",
      "        Predict: 0.0\n",
      "       Else (feature 75 > 0.6125)\n",
      "        If (feature 32 <= 4423.297500000001)\n",
      "         Predict: 1.0\n",
      "        Else (feature 32 > 4423.297500000001)\n",
      "         Predict: 0.0\n",
      "      Else (feature 104 > 22.0)\n",
      "       If (feature 41 <= 0.8559907835)\n",
      "        Predict: 0.0\n",
      "       Else (feature 41 > 0.8559907835)\n",
      "        Predict: 1.0\n",
      "  Tree 9 (weight 1.0):\n",
      "    If (feature 0 <= 0.39081623249999997)\n",
      "     If (feature 29 <= -824.5)\n",
      "      Predict: 0.0\n",
      "     Else (feature 29 > -824.5)\n",
      "      If (feature 48 <= 0.757352941)\n",
      "       If (feature 42 <= -1589.5)\n",
      "        If (feature 91 <= 10.5)\n",
      "         Predict: 0.0\n",
      "        Else (feature 91 > 10.5)\n",
      "         Predict: 1.0\n",
      "       Else (feature 42 > -1589.5)\n",
      "        Predict: 0.0\n",
      "      Else (feature 48 > 0.757352941)\n",
      "       If (feature 17 <= 0.3205128205)\n",
      "        If (feature 109 <= 0.190909091)\n",
      "         Predict: 0.0\n",
      "        Else (feature 109 > 0.190909091)\n",
      "         Predict: 1.0\n",
      "       Else (feature 17 > 0.3205128205)\n",
      "        Predict: 0.0\n",
      "    Else (feature 0 > 0.39081623249999997)\n",
      "     If (feature 2 <= -15737.0)\n",
      "      If (feature 97 <= 0.5)\n",
      "       Predict: 0.0\n",
      "      Else (feature 97 > 0.5)\n",
      "       If (feature 22 <= 8.9444444445)\n",
      "        If (feature 71 <= 4.5)\n",
      "         Predict: 1.0\n",
      "        Else (feature 71 > 4.5)\n",
      "         Predict: 0.0\n",
      "       Else (feature 22 > 8.9444444445)\n",
      "        If (feature 89 in {1.0})\n",
      "         Predict: 1.0\n",
      "        Else (feature 89 not in {1.0})\n",
      "         Predict: 0.0\n",
      "     Else (feature 2 > -15737.0)\n",
      "      If (feature 6 <= 17.9)\n",
      "       If (feature 126 <= 0.8333333334999999)\n",
      "        Predict: 0.0\n",
      "       Else (feature 126 > 0.8333333334999999)\n",
      "        If (feature 46 <= 15.5)\n",
      "         Predict: 0.0\n",
      "        Else (feature 46 > 15.5)\n",
      "         Predict: 1.0\n",
      "      Else (feature 6 > 17.9)\n",
      "       If (feature 97 <= 0.5)\n",
      "        Predict: 0.0\n",
      "       Else (feature 97 > 0.5)\n",
      "        If (feature 22 <= 13.035714285000001)\n",
      "         Predict: 0.0\n",
      "        Else (feature 22 > 13.035714285000001)\n",
      "         Predict: 1.0\n",
      "  Tree 10 (weight 1.0):\n",
      "    If (feature 37 <= -1012.5)\n",
      "     If (feature 24 <= 33.0)\n",
      "      Predict: 0.0\n",
      "     Else (feature 24 > 33.0)\n",
      "      If (feature 0 <= 0.28860652249999996)\n",
      "       Predict: 0.0\n",
      "      Else (feature 0 > 0.28860652249999996)\n",
      "       If (feature 49 <= 21.5)\n",
      "        Predict: 0.0\n",
      "       Else (feature 49 > 21.5)\n",
      "        If (feature 83 <= 3.527777778)\n",
      "         Predict: 1.0\n",
      "        Else (feature 83 > 3.527777778)\n",
      "         Predict: 0.0\n",
      "    Else (feature 37 > -1012.5)\n",
      "     If (feature 13 <= -665.29166665)\n",
      "      Predict: 0.0\n",
      "     Else (feature 13 > -665.29166665)\n",
      "      If (feature 36 <= 0.5227272725000001)\n",
      "       If (feature 117 <= 0.5833333334999999)\n",
      "        Predict: 0.0\n",
      "       Else (feature 117 > 0.5833333334999999)\n",
      "        If (feature 81 <= 0.0714285715)\n",
      "         Predict: 0.0\n",
      "        Else (feature 81 > 0.0714285715)\n",
      "         Predict: 1.0\n",
      "      Else (feature 36 > 0.5227272725000001)\n",
      "       Predict: 0.0\n",
      "  Tree 11 (weight 1.0):\n",
      "    If (feature 13 <= -713.9285714499999)\n",
      "     Predict: 0.0\n",
      "    Else (feature 13 > -713.9285714499999)\n",
      "     If (feature 1 <= 0.314694416)\n",
      "      If (feature 0 <= 0.6416687999999999)\n",
      "       Predict: 0.0\n",
      "      Else (feature 0 > 0.6416687999999999)\n",
      "       If (feature 71 <= 4.5)\n",
      "        Predict: 0.0\n",
      "       Else (feature 71 > 4.5)\n",
      "        If (feature 4 <= 40322.25)\n",
      "         Predict: 0.0\n",
      "        Else (feature 4 > 40322.25)\n",
      "         Predict: 1.0\n",
      "     Else (feature 1 > 0.314694416)\n",
      "      If (feature 1 <= 0.4713547295)\n",
      "       If (feature 41 <= 0.972412481)\n",
      "        Predict: 0.0\n",
      "       Else (feature 41 > 0.972412481)\n",
      "        If (feature 72 <= 0.5166666664999999)\n",
      "         Predict: 0.0\n",
      "        Else (feature 72 > 0.5166666664999999)\n"
     ]
    },
    {
     "name": "stdout",
     "output_type": "stream",
     "text": [
      "         Predict: 1.0\n",
      "      Else (feature 1 > 0.4713547295)\n",
      "       Predict: 0.0\n",
      "  Tree 12 (weight 1.0):\n",
      "    If (feature 18 <= 0.10425844000000001)\n",
      "     If (feature 39 <= -1051.8333335)\n",
      "      If (feature 43 <= 0.44097222199999997)\n",
      "       If (feature 1 <= 0.239883848)\n",
      "        If (feature 111 <= 8.5)\n",
      "         Predict: 1.0\n",
      "        Else (feature 111 > 8.5)\n",
      "         Predict: 0.0\n",
      "       Else (feature 1 > 0.239883848)\n",
      "        If (feature 17 <= 0.6125)\n",
      "         Predict: 0.0\n",
      "        Else (feature 17 > 0.6125)\n",
      "         Predict: 1.0\n",
      "      Else (feature 43 > 0.44097222199999997)\n",
      "       Predict: 0.0\n",
      "     Else (feature 39 > -1051.8333335)\n",
      "      If (feature 91 <= 0.5)\n",
      "       Predict: 0.0\n",
      "      Else (feature 91 > 0.5)\n",
      "       If (feature 45 <= -1566.325)\n",
      "        If (feature 82 <= 0.480769231)\n",
      "         Predict: 0.0\n",
      "        Else (feature 82 > 0.480769231)\n",
      "         Predict: 1.0\n",
      "       Else (feature 45 > -1566.325)\n",
      "        If (feature 70 <= 58.5)\n",
      "         Predict: 0.0\n",
      "        Else (feature 70 > 58.5)\n",
      "         Predict: 1.0\n",
      "    Else (feature 18 > 0.10425844000000001)\n",
      "     If (feature 39 <= -574.25)\n",
      "      If (feature 34 <= 3.5)\n",
      "       If (feature 127 <= 0.190909091)\n",
      "        Predict: 0.0\n",
      "       Else (feature 127 > 0.190909091)\n",
      "        If (feature 132 <= 398161.5)\n",
      "         Predict: 0.0\n",
      "        Else (feature 132 > 398161.5)\n",
      "         Predict: 1.0\n",
      "      Else (feature 34 > 3.5)\n",
      "       Predict: 0.0\n",
      "     Else (feature 39 > -574.25)\n",
      "      If (feature 36 <= 0.6904761905)\n",
      "       Predict: 0.0\n",
      "      Else (feature 36 > 0.6904761905)\n",
      "       If (feature 65 <= -1085.0)\n",
      "        If (feature 87 <= 0.3798076925)\n",
      "         Predict: 0.0\n",
      "        Else (feature 87 > 0.3798076925)\n",
      "         Predict: 1.0\n",
      "       Else (feature 65 > -1085.0)\n",
      "        Predict: 0.0\n",
      "  Tree 13 (weight 1.0):\n",
      "    If (feature 2 <= -13503.0)\n",
      "     If (feature 45 <= -543.0625)\n",
      "      If (feature 14 <= 0.1742424245)\n",
      "       Predict: 0.0\n",
      "      Else (feature 14 > 0.1742424245)\n",
      "       If (feature 24 <= 33.0)\n",
      "        Predict: 0.0\n",
      "       Else (feature 24 > 33.0)\n",
      "        If (feature 82 <= 0.26785714299999996)\n",
      "         Predict: 0.0\n",
      "        Else (feature 82 > 0.26785714299999996)\n",
      "         Predict: 1.0\n",
      "     Else (feature 45 > -543.0625)\n",
      "      Predict: 0.0\n",
      "    Else (feature 2 > -13503.0)\n",
      "     If (feature 50 <= -388.65277779999997)\n",
      "      Predict: 0.0\n",
      "     Else (feature 50 > -388.65277779999997)\n",
      "      If (feature 8 <= -243.5)\n",
      "       If (feature 97 <= 6.0)\n",
      "        Predict: 0.0\n",
      "       Else (feature 97 > 6.0)\n",
      "        Predict: 1.0\n",
      "      Else (feature 8 > -243.5)\n",
      "       Predict: 0.0\n",
      "  Tree 14 (weight 1.0):\n",
      "    If (feature 39 <= -525.1875)\n",
      "     If (feature 33 <= 0.10890570899999999)\n",
      "      If (feature 58 <= 0.2264957265)\n",
      "       Predict: 0.0\n",
      "      Else (feature 58 > 0.2264957265)\n",
      "       If (feature 123 in {1.0})\n",
      "        If (feature 25 <= 226125.0)\n",
      "         Predict: 0.0\n",
      "        Else (feature 25 > 226125.0)\n",
      "         Predict: 1.0\n",
      "       Else (feature 123 not in {1.0})\n",
      "        Predict: 0.0\n",
      "     Else (feature 33 > 0.10890570899999999)\n",
      "      If (feature 0 <= 0.4213254105)\n",
      "       Predict: 0.0\n",
      "      Else (feature 0 > 0.4213254105)\n",
      "       If (feature 12 <= 17.898717949999998)\n",
      "        Predict: 0.0\n",
      "       Else (feature 12 > 17.898717949999998)\n",
      "        If (feature 101 <= 6.5)\n",
      "         Predict: 1.0\n",
      "        Else (feature 101 > 6.5)\n",
      "         Predict: 0.0\n",
      "    Else (feature 39 > -525.1875)\n",
      "     If (feature 42 <= -863.5)\n",
      "      Predict: 0.0\n",
      "     Else (feature 42 > -863.5)\n",
      "      If (feature 61 <= 0.1602564105)\n",
      "       If (feature 5 <= -2578.5)\n",
      "        If (feature 51 <= -9042.5)\n",
      "         Predict: 1.0\n",
      "        Else (feature 51 > -9042.5)\n",
      "         Predict: 0.0\n",
      "       Else (feature 5 > -2578.5)\n",
      "        If (feature 69 <= 0.126329787)\n",
      "         Predict: 0.0\n",
      "        Else (feature 69 > 0.126329787)\n",
      "         Predict: 1.0\n",
      "      Else (feature 61 > 0.1602564105)\n",
      "       Predict: 0.0\n",
      "  Tree 15 (weight 1.0):\n",
      "    If (feature 1 <= 0.28151900399999996)\n",
      "     If (feature 30 <= -1246.5)\n",
      "      If (feature 26 <= 729994.0)\n",
      "       If (feature 8 <= -1647.5)\n",
      "        If (feature 79 <= 0.519230769)\n",
      "         Predict: 0.0\n",
      "        Else (feature 79 > 0.519230769)\n",
      "         Predict: 1.0\n",
      "       Else (feature 8 > -1647.5)\n",
      "        Predict: 0.0\n",
      "      Else (feature 26 > 729994.0)\n",
      "       If (feature 13 <= -1274.1168830000001)\n",
      "        If (feature 132 <= 154944.0)\n",
      "         Predict: 1.0\n",
      "        Else (feature 132 > 154944.0)\n",
      "         Predict: 0.0\n",
      "       Else (feature 13 > -1274.1168830000001)\n",
      "        If (feature 74 <= 16.5)\n",
      "         Predict: 0.0\n",
      "        Else (feature 74 > 16.5)\n",
      "         Predict: 1.0\n",
      "     Else (feature 30 > -1246.5)\n",
      "      If (feature 7 <= 200.5)\n",
      "       Predict: 0.0\n",
      "      Else (feature 7 > 200.5)\n",
      "       If (feature 52 <= -23.5)\n",
      "        Predict: 0.0\n",
      "       Else (feature 52 > -23.5)\n",
      "        If (feature 13 <= -803.4375)\n",
      "         Predict: 0.0\n",
      "        Else (feature 13 > -803.4375)\n",
      "         Predict: 1.0\n",
      "    Else (feature 1 > 0.28151900399999996)\n",
      "     If (feature 0 <= 0.260860348)\n",
      "      If (feature 61 <= 0.7888888890000001)\n",
      "       If (feature 49 <= 11.5)\n",
      "        If (feature 51 <= -10303.0)\n",
      "         Predict: 1.0\n",
      "        Else (feature 51 > -10303.0)\n",
      "         Predict: 0.0\n",
      "       Else (feature 49 > 11.5)\n",
      "        Predict: 0.0\n",
      "      Else (feature 61 > 0.7888888890000001)\n",
      "       If (feature 1 <= 0.489356348)\n",
      "        If (feature 79 <= 0.519230769)\n",
      "         Predict: 0.0\n",
      "        Else (feature 79 > 0.519230769)\n",
      "         Predict: 1.0\n",
      "       Else (feature 1 > 0.489356348)\n",
      "        Predict: 0.0\n",
      "     Else (feature 0 > 0.260860348)\n",
      "      Predict: 0.0\n",
      "  Tree 16 (weight 1.0):\n",
      "    If (feature 16 <= -1271.5)\n",
      "     If (feature 0 <= 0.327319769)\n",
      "      If (feature 34 <= 3.5)\n",
      "       Predict: 0.0\n",
      "      Else (feature 34 > 3.5)\n",
      "       If (feature 64 <= 0.3875)\n",
      "        Predict: 0.0\n",
      "       Else (feature 64 > 0.3875)\n",
      "        Predict: 1.0\n",
      "     Else (feature 0 > 0.327319769)\n",
      "      Predict: 0.0\n",
      "    Else (feature 16 > -1271.5)\n",
      "     If (feature 0 <= 0.2143954)\n",
      "      If (feature 11 <= 0.0038155000000000003)\n",
      "       If (feature 92 <= 0.0454545455)\n",
      "        If (feature 39 <= -738.83333335)\n",
      "         Predict: 1.0\n",
      "        Else (feature 39 > -738.83333335)\n",
      "         Predict: 0.0\n",
      "       Else (feature 92 > 0.0454545455)\n",
      "        Predict: 0.0\n",
      "      Else (feature 11 > 0.0038155000000000003)\n",
      "       If (feature 107 <= 0.225)\n",
      "        Predict: 0.0\n",
      "       Else (feature 107 > 0.225)\n",
      "        If (feature 16 <= -784.5)\n",
      "         Predict: 1.0\n",
      "        Else (feature 16 > -784.5)\n",
      "         Predict: 0.0\n",
      "     Else (feature 0 > 0.2143954)\n",
      "      If (feature 84 <= 0.1742424245)\n",
      "       If (feature 0 <= 0.5087917455)\n",
      "        Predict: 0.0\n",
      "       Else (feature 0 > 0.5087917455)\n",
      "        If (feature 108 <= 6.8972727275)\n",
      "         Predict: 0.0\n",
      "        Else (feature 108 > 6.8972727275)\n",
      "         Predict: 1.0\n",
      "      Else (feature 84 > 0.1742424245)\n",
      "       If (feature 86 <= 3.5)\n",
      "        Predict: 0.0\n",
      "       Else (feature 86 > 3.5)\n",
      "        If (feature 69 <= 0.06486676)\n",
      "         Predict: 1.0\n",
      "        Else (feature 69 > 0.06486676)\n",
      "         Predict: 0.0\n",
      "  Tree 17 (weight 1.0):\n",
      "    If (feature 5 <= -3952.5)\n",
      "     If (feature 1 <= 0.4713547295)\n",
      "      If (feature 109 <= 0.21111111100000002)\n",
      "       Predict: 0.0\n",
      "      Else (feature 109 > 0.21111111100000002)\n",
      "       If (feature 75 <= 0.292857143)\n",
      "        Predict: 0.0\n",
      "       Else (feature 75 > 0.292857143)\n",
      "        If (feature 83 <= 4.4772727275)\n",
      "         Predict: 1.0\n",
      "        Else (feature 83 > 4.4772727275)\n",
      "         Predict: 0.0\n",
      "     Else (feature 1 > 0.4713547295)\n",
      "      Predict: 0.0\n",
      "    Else (feature 5 > -3952.5)\n",
      "     If (feature 50 <= -642.8831169)\n",
      "      If (feature 131 in {1.0})\n",
      "       If (feature 1 <= 0.40227454549999997)\n",
      "        If (feature 0 <= 0.260860348)\n",
      "         Predict: 1.0\n",
      "        Else (feature 0 > 0.260860348)\n",
      "         Predict: 0.0\n",
      "       Else (feature 1 > 0.40227454549999997)\n",
      "        Predict: 0.0\n",
      "      Else (feature 131 not in {1.0})\n",
      "       Predict: 0.0\n",
      "     Else (feature 50 > -642.8831169)\n",
      "      Predict: 0.0\n",
      "  Tree 18 (weight 1.0):\n",
      "    If (feature 24 <= 29.5)\n",
      "     If (feature 29 <= -664.0)\n",
      "      If (feature 64 <= 0.345238095)\n",
      "       If (feature 93 <= 0.47222222199999997)\n",
      "        Predict: 0.0\n",
      "       Else (feature 93 > 0.47222222199999997)\n",
      "        If (feature 44 <= 9.9907407405)\n",
      "         Predict: 1.0\n",
      "        Else (feature 44 > 9.9907407405)\n"
     ]
    },
    {
     "name": "stdout",
     "output_type": "stream",
     "text": [
      "         Predict: 0.0\n",
      "      Else (feature 64 > 0.345238095)\n",
      "       If (feature 36 <= 0.218253968)\n",
      "        If (feature 74 <= 2.5)\n",
      "         Predict: 1.0\n",
      "        Else (feature 74 > 2.5)\n",
      "         Predict: 0.0\n",
      "       Else (feature 36 > 0.218253968)\n",
      "        If (feature 19 <= -2732.5)\n",
      "         Predict: 0.0\n",
      "        Else (feature 19 > -2732.5)\n",
      "         Predict: 1.0\n",
      "     Else (feature 29 > -664.0)\n",
      "      If (feature 5 <= -1588.5)\n",
      "       If (feature 10 in {1.0})\n",
      "        Predict: 0.0\n",
      "       Else (feature 10 not in {1.0})\n",
      "        If (feature 64 <= 0.4083333335)\n",
      "         Predict: 0.0\n",
      "        Else (feature 64 > 0.4083333335)\n",
      "         Predict: 1.0\n",
      "      Else (feature 5 > -1588.5)\n",
      "       Predict: 0.0\n",
      "    Else (feature 24 > 29.5)\n",
      "     If (feature 52 <= -803.5)\n",
      "      If (feature 13 <= -498.83333335)\n",
      "       Predict: 0.0\n",
      "      Else (feature 13 > -498.83333335)\n",
      "       If (feature 25 <= 62775.0)\n",
      "        If (feature 12 <= 12.56971154)\n",
      "         Predict: 1.0\n",
      "        Else (feature 12 > 12.56971154)\n",
      "         Predict: 0.0\n",
      "       Else (feature 25 > 62775.0)\n",
      "        Predict: 0.0\n",
      "     Else (feature 52 > -803.5)\n",
      "      Predict: 0.0\n",
      "  Tree 19 (weight 1.0):\n",
      "    If (feature 39 <= -574.25)\n",
      "     If (feature 0 <= 0.260860348)\n",
      "      If (feature 1 <= 0.3466015145)\n",
      "       If (feature 122 <= 0.15476190499999998)\n",
      "        Predict: 0.0\n",
      "       Else (feature 122 > 0.15476190499999998)\n",
      "        Predict: 1.0\n",
      "      Else (feature 1 > 0.3466015145)\n",
      "       Predict: 0.0\n",
      "     Else (feature 0 > 0.260860348)\n",
      "      If (feature 70 <= 144.135)\n",
      "       Predict: 0.0\n",
      "      Else (feature 70 > 144.135)\n",
      "       If (feature 0 <= 0.573562414)\n",
      "        If (feature 73 <= 0.345238095)\n",
      "         Predict: 0.0\n",
      "        Else (feature 73 > 0.345238095)\n",
      "         Predict: 1.0\n",
      "       Else (feature 0 > 0.573562414)\n",
      "        Predict: 0.0\n",
      "    Else (feature 39 > -574.25)\n",
      "     If (feature 67 in {0.0})\n",
      "      If (feature 0 <= 0.2143954)\n",
      "       If (feature 78 <= 0.369318182)\n",
      "        If (feature 82 <= 0.02)\n",
      "         Predict: 0.0\n",
      "        Else (feature 82 > 0.02)\n",
      "         Predict: 1.0\n",
      "       Else (feature 78 > 0.369318182)\n",
      "        If (feature 75 <= 0.2264957265)\n",
      "         Predict: 1.0\n",
      "        Else (feature 75 > 0.2264957265)\n",
      "         Predict: 0.0\n",
      "      Else (feature 0 > 0.2143954)\n",
      "       Predict: 0.0\n",
      "     Else (feature 67 not in {0.0})\n",
      "      Predict: 0.0\n",
      "\n"
     ]
    },
    {
     "data": {
      "text/plain": [
       "rfModel: org.apache.spark.ml.classification.RandomForestClassificationModel = RandomForestClassificationModel (uid=rfc_82214be1176c) with 20 trees\n"
      ]
     },
     "execution_count": 142,
     "metadata": {},
     "output_type": "execute_result"
    }
   ],
   "source": [
    "val rfModel = model.stages(2).asInstanceOf[RandomForestClassificationModel]\n",
    "println(s\"Learned classification forest model:\\n ${rfModel.toDebugString}\")"
   ]
  }
 ],
 "metadata": {
  "kernelspec": {
   "display_name": "spylon-kernel",
   "language": "scala",
   "name": "spylon-kernel"
  },
  "language_info": {
   "codemirror_mode": "text/x-scala",
   "file_extension": ".scala",
   "help_links": [
    {
     "text": "MetaKernel Magics",
     "url": "https://metakernel.readthedocs.io/en/latest/source/README.html"
    }
   ],
   "mimetype": "text/x-scala",
   "name": "scala",
   "pygments_lexer": "scala",
   "version": "0.4.1"
  }
 },
 "nbformat": 4,
 "nbformat_minor": 2
}
