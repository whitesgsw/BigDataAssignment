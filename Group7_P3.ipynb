{
 "cells": [
  {
   "cell_type": "markdown",
   "metadata": {},
   "source": [
    "### Load Libraries"
   ]
  },
  {
   "cell_type": "code",
   "execution_count": 40,
   "metadata": {},
   "outputs": [
    {
     "data": {
      "text/plain": [
       "import org.apache.spark.ml.classification.LogisticRegression\n"
      ]
     },
     "execution_count": 40,
     "metadata": {},
     "output_type": "execute_result"
    }
   ],
   "source": [
    "import org.apache.spark.ml.classification.LogisticRegression"
   ]
  },
  {
   "cell_type": "markdown",
   "metadata": {},
   "source": [
    "### Data loading"
   ]
  },
  {
   "cell_type": "code",
   "execution_count": 1,
   "metadata": {},
   "outputs": [
    {
     "data": {
      "text/plain": [
       "Intitializing Scala interpreter ..."
      ]
     },
     "metadata": {},
     "output_type": "display_data"
    },
    {
     "data": {
      "text/plain": [
       "Spark Web UI available at http://b2cc1a63ffdb:4043\n",
       "SparkContext available as 'sc' (version = 2.4.3, master = local[*], app id = local-1559458223502)\n",
       "SparkSession available as 'spark'\n"
      ]
     },
     "metadata": {},
     "output_type": "display_data"
    },
    {
     "name": "stdout",
     "output_type": "stream",
     "text": [
      "2019-06-02 06:50:19,624 WARN  [main] util.NativeCodeLoader (NativeCodeLoader.java:<clinit>(62)) - Unable to load native-hadoop library for your platform... using builtin-java classes where applicable\n",
      "2019-06-02 06:50:23,017 WARN  [Thread-4] util.Utils (Logging.scala:logWarning(66)) - Service 'SparkUI' could not bind on port 4040. Attempting port 4041.\n",
      "2019-06-02 06:50:23,021 WARN  [Thread-4] util.Utils (Logging.scala:logWarning(66)) - Service 'SparkUI' could not bind on port 4041. Attempting port 4042.\n",
      "2019-06-02 06:50:23,022 WARN  [Thread-4] util.Utils (Logging.scala:logWarning(66)) - Service 'SparkUI' could not bind on port 4042. Attempting port 4043.\n"
     ]
    },
    {
     "data": {
      "text/plain": [
       "creditRiskdf1: org.apache.spark.sql.DataFrame = [EXT_SOURCE_2: string, EXT_SOURCE_3: string ... 283 more fields]\n",
       "creditRiskdf2: org.apache.spark.sql.DataFrame = [EXT_SOURCE_2: string, EXT_SOURCE_3: string ... 283 more fields]\n",
       "creditRiskdf3: org.apache.spark.sql.DataFrame = [EXT_SOURCE_2: string, EXT_SOURCE_3: string ... 283 more fields]\n"
      ]
     },
     "execution_count": 1,
     "metadata": {},
     "output_type": "execute_result"
    }
   ],
   "source": [
    "// Load wrangled datasets from Phase 2: part1.csv; part2.csv; part3.csv\n",
    "\n",
    "val creditRiskdf1 = spark.read.option(\"header\",\"true\").csv(\"part1.csv\")\n",
    "val creditRiskdf2 = spark.read.option(\"header\",\"true\").csv(\"part2.csv\")\n",
    "val creditRiskdf3 = spark.read.option(\"header\",\"true\").csv(\"part3.csv\")"
   ]
  },
  {
   "cell_type": "code",
   "execution_count": 2,
   "metadata": {},
   "outputs": [
    {
     "data": {
      "text/plain": [
       "creditRiskdf1and2: org.apache.spark.sql.Dataset[org.apache.spark.sql.Row] = [EXT_SOURCE_2: string, EXT_SOURCE_3: string ... 283 more fields]\n",
       "creditRiskdf: org.apache.spark.sql.Dataset[org.apache.spark.sql.Row] = [EXT_SOURCE_2: string, EXT_SOURCE_3: string ... 283 more fields]\n"
      ]
     },
     "execution_count": 2,
     "metadata": {},
     "output_type": "execute_result"
    }
   ],
   "source": [
    "// combine the 3 dataframes to 1\n",
    "val creditRiskdf1and2 = creditRiskdf1.union(creditRiskdf2)\n",
    "val creditRiskdf = creditRiskdf1and2.union(creditRiskdf3)"
   ]
  },
  {
   "cell_type": "code",
   "execution_count": 5,
   "metadata": {},
   "outputs": [
    {
     "name": "stdout",
     "output_type": "stream",
     "text": [
      "2019-06-02 06:53:09,570 WARN  [Thread-4] util.Utils (Logging.scala:logWarning(66)) - Truncated the string representation of a plan since it was too large. This behavior can be adjusted by setting 'spark.debug.maxToStringFields' in SparkEnv.conf.\n",
      "Total data rows in loaded dataframes:183875\n",
      "Total data rows in combined dataframe:183875\n"
     ]
    }
   ],
   "source": [
    "// check that the rows have been aggregated correctly\n",
    "\n",
    "println(\"Total data rows in loaded dataframes:\"+(\n",
    "    creditRiskdf1.count()+creditRiskdf2.count()+creditRiskdf3.count()))\n",
    "\n",
    "println(\"Total data rows in combined dataframe:\"+creditRiskdf.count())"
   ]
  },
  {
   "cell_type": "markdown",
   "metadata": {},
   "source": [
    "### Data cleansing and reshaping"
   ]
  },
  {
   "cell_type": "code",
   "execution_count": 11,
   "metadata": {
    "scrolled": true
   },
   "outputs": [
    {
     "data": {
      "text/plain": [
       "incon_droplist: List[String] = List(previous_loans_DAYS_FIRST_DUE_mean, previous_loans_SELLERPLACE_AREA_min, previous_loans_DAYS_FIRST_DUE_sum)\n",
       "df: org.apache.spark.sql.DataFrame = [EXT_SOURCE_2: string, EXT_SOURCE_3: string ... 280 more fields]\n",
       "res1: df.type = [EXT_SOURCE_2: string, EXT_SOURCE_3: string ... 280 more fields]\n"
      ]
     },
     "execution_count": 11,
     "metadata": {},
     "output_type": "execute_result"
    }
   ],
   "source": [
    "// Drop features with inconsistent values from dataset.\n",
    "\n",
    "val incon_droplist = List(\"previous_loans_DAYS_FIRST_DUE_mean\",\n",
    "                      \"previous_loans_SELLERPLACE_AREA_min\",\n",
    "                      \"previous_loans_DAYS_FIRST_DUE_sum\")\n",
    "\n",
    "val df = creditRiskdf.drop(incon_droplist:_*)"
   ]
  },
  {
   "cell_type": "code",
   "execution_count": 14,
   "metadata": {},
   "outputs": [
    {
     "data": {
      "text/plain": [
       "creditRiskdf: org.apache.spark.sql.DataFrame = [EXT_SOURCE_2: string, EXT_SOURCE_3: string ... 280 more fields]\n"
      ]
     },
     "execution_count": 14,
     "metadata": {},
     "output_type": "execute_result"
    }
   ],
   "source": [
    "val creditRiskdf = df"
   ]
  },
  {
   "cell_type": "code",
   "execution_count": 15,
   "metadata": {},
   "outputs": [
    {
     "data": {
      "text/plain": [
       "creditRiskFeatures: Array[String] = Array(EXT_SOURCE_2, EXT_SOURCE_3, client_installments_AMT_PAYMENT_min_sum, DAYS_BIRTH, AMT_CREDIT, AMT_ANNUITY, DAYS_EMPLOYED, bureau_DAYS_CREDIT_ENDDATE_max, bureau_DAYS_CREDIT_max, DAYS_ID_PUBLISH, bureau_DAYS_ENDDATE_FACT_max, bureau_AMT_CREDIT_SUM_DEBT_mean, previous_loans_CNT_PAYMENT_mean, client_cash_CNT_INSTALMENT_FUTURE_min_max, previous_loans_SELLERPLACE_AREA_max, DAYS_LAST_PHONE_CHANGE, bureau_AMT_CREDIT_SUM_max, bureau_AMT_CREDIT_SUM_mean, DAYS_REGISTRATION, client_installments_DAYS_INSTALMENT_max_max, previous_loans_AMT_DOWN_PAYMENT_max, CODE_GENDER_F, REGION_POPULATION_RELATIVE, client_cash_CNT_INSTALMENT_max_mean, bureau_DAYS_CREDIT_UPDATE_max, bureau_AMT_CREDIT_SUM_sum, client_installments_NUM_INSTALMENT_VERSION_mean_max, bureau_DAYS_CR..."
      ]
     },
     "execution_count": 15,
     "metadata": {},
     "output_type": "execute_result"
    }
   ],
   "source": [
    "//string array of features\n",
    "val creditRiskFeatures = creditRiskdf.columns"
   ]
  },
  {
   "cell_type": "code",
   "execution_count": 36,
   "metadata": {},
   "outputs": [
    {
     "name": "stdout",
     "output_type": "stream",
     "text": [
      "2019-06-02 07:31:50,601 WARN  [Thread-4] execution.CacheManager (Logging.scala:logWarning(66)) - Asked to cache already cached data.\n"
     ]
    },
    {
     "data": {
      "text/plain": [
       "res14: creditRiskdf.type = [EXT_SOURCE_2: string, EXT_SOURCE_3: string ... 280 more fields]\n"
      ]
     },
     "execution_count": 36,
     "metadata": {},
     "output_type": "execute_result"
    }
   ],
   "source": [
    "creditRiskdf.cache()"
   ]
  },
  {
   "cell_type": "code",
   "execution_count": 77,
   "metadata": {},
   "outputs": [
    {
     "data": {
      "text/plain": [
       "c1: Array[String] = Array(previous_loans_AMT_DOWN_PAYMENT_max, CODE_GENDER_F, REGION_POPULATION_RELATIVE, client_cash_CNT_INSTALMENT_max_mean, bureau_DAYS_CREDIT_UPDATE_max)\n"
      ]
     },
     "execution_count": 77,
     "metadata": {},
     "output_type": "execute_result"
    }
   ],
   "source": [
    "val c1 = creditRiskFeatures.slice(20,25)"
   ]
  },
  {
   "cell_type": "code",
   "execution_count": 85,
   "metadata": {},
   "outputs": [
    {
     "name": "stdout",
     "output_type": "stream",
     "text": [
      "EXT_SOURCE_2: Contains outliers, #751\n",
      "client_installments_AMT_PAYMENT_min_sum: Contains outliers, #15803\n",
      "AMT_CREDIT: Contains outliers, #3569\n",
      "AMT_ANNUITY: Contains outliers, #3757\n",
      "DAYS_EMPLOYED: Contains outliers, #43206\n",
      "bureau_DAYS_CREDIT_ENDDATE_max: Contains outliers, #38075\n",
      "bureau_DAYS_CREDIT_max: Contains outliers, #13523\n",
      "bureau_DAYS_ENDDATE_FACT_max: Contains outliers, #10731\n",
      "bureau_AMT_CREDIT_SUM_DEBT_mean: Contains outliers, #16877\n",
      "previous_loans_CNT_PAYMENT_mean: Contains outliers, #7983\n",
      "client_cash_CNT_INSTALMENT_FUTURE_min_max: Contains outliers, #20113\n",
      "previous_loans_SELLERPLACE_AREA_max: Contains outliers, #9178\n",
      "DAYS_LAST_PHONE_CHANGE: Contains outliers, #59\n",
      "bureau_AMT_CREDIT_SUM_max: Contains outliers, #15707\n",
      "bureau_AMT_CREDIT_SUM_mean: Contains outliers, #15610\n",
      "DAYS_REGISTRATION: Contains outliers, #383\n",
      "client_installments_DAYS_INSTALMENT_max_max: Contains outliers, #19805\n",
      "previous_loans_AMT_DOWN_PAYMENT_max: Contains outliers, #13189\n",
      "REGION_POPULATION_RELATIVE: Contains outliers, #3895\n",
      "client_cash_CNT_INSTALMENT_max_mean: Contains outliers, #6369\n",
      "bureau_DAYS_CREDIT_UPDATE_max: Contains outliers, #32164\n",
      "bureau_AMT_CREDIT_SUM_sum: Contains outliers, #14588\n",
      "client_installments_NUM_INSTALMENT_VERSION_mean_max: Contains outliers, #29774\n",
      "bureau_DAYS_CREDIT_mean: Contains outliers, #1991\n",
      "client_installments_AMT_PAYMENT_sum_mean: Contains outliers, #15294\n",
      "client_installments_DAYS_INSTALMENT_min_max: Contains outliers, #16732\n",
      "previous_loans_NAME_CONTRACT_STATUS_Refused_count_norm: Contains outliers, #6762\n",
      "client_installments_AMT_INSTALMENT_max_max: Contains outliers, #25038\n",
      "client_cash_CNT_INSTALMENT_FUTURE_min_mean: Contains outliers, #25913\n",
      "client_installments_NUM_INSTALMENT_VERSION_max_mean: Contains outliers, #6811\n",
      "previous_loans_RATE_DOWN_PAYMENT_sum: Contains outliers, #6891\n",
      "client_installments_DAYS_ENTRY_PAYMENT_sum_max: Contains outliers, #15835\n",
      "previous_loans_DAYS_FIRST_DUE_min: Contains outliers, #51\n",
      "client_cash_SK_DPD_DEF_sum_max: Contains outliers, #26526\n",
      "previous_loans_DAYS_DECISION_max: Contains outliers, #15600\n",
      "client_installments_AMT_INSTALMENT_min_mean: Contains outliers, #10708\n",
      "bureau_AMT_CREDIT_SUM_LIMIT_mean: Contains outliers, #38367\n",
      "bureau_DAYS_CREDIT_sum: Contains outliers, #7046\n",
      "previous_loans_PRODUCT_COMBINATION_Cash X-Sell: low_count_norm: Contains outliers, #44844\n",
      "previous_loans_HOUR_APPR_PROCESS_START_mean: Contains outliers, #2590\n",
      "bureau_AMT_CREDIT_SUM_DEBT_max: Contains outliers, #17282\n",
      "bureau_AMT_CREDIT_SUM_min: Contains outliers, #13262\n",
      "previous_loans_AMT_DOWN_PAYMENT_mean: Contains outliers, #12656\n",
      "previous_loans_CNT_PAYMENT_max: Contains outliers, #1\n",
      "client_installments_AMT_INSTALMENT_mean_min: Contains outliers, #12901\n",
      "AMT_INCOME_TOTAL: Contains outliers, #8397\n",
      "previous_loans_DAYS_LAST_DUE_sum: Contains outliers, #2673\n",
      "client_cash_MONTHS_BALANCE_max_mean: Contains outliers, #1650\n",
      "NAME_EDUCATION_TYPE_Higher education: Contains outliers, #45246\n",
      "client_cash_MONTHS_BALANCE_sum_mean: Contains outliers, #4853\n",
      "bureau_DAYS_CREDIT_ENDDATE_mean: Contains outliers, #23013\n",
      "REGION_RATING_CLIENT: Contains outliers, #45634\n",
      "previous_loans_AMT_GOODS_PRICE_min: Contains outliers, #12097\n",
      "bureau_DAYS_ENDDATE_FACT_min: Contains outliers, #1\n",
      "bureau_DAYS_CREDIT_ENDDATE_min: Contains outliers, #522\n",
      "previous_loans_AMT_ANNUITY_mean: Contains outliers, #7620\n",
      "client_installments_AMT_PAYMENT_max_min: Contains outliers, #18886\n",
      "client_installments_AMT_INSTALMENT_min_max: Contains outliers, #14971\n",
      "client_installments_AMT_PAYMENT_sum_min: Contains outliers, #12561\n",
      "bureau_CREDIT_TYPE_Mortgage_count_norm: Contains outliers, #10495\n",
      "previous_loans_AMT_ANNUITY_max: Contains outliers, #6759\n",
      "previous_loans_AMT_ANNUITY_min: Contains outliers, #10381\n",
      "previous_loans_RATE_DOWN_PAYMENT_max: Contains outliers, #5248\n",
      "previous_loans_NAME_YIELD_GROUP_low_normal_count_norm: Contains outliers, #10119\n",
      "previous_loans_PRODUCT_COMBINATION_Cash X-Sell: high_count_norm: Contains outliers, #22903\n",
      "bureau_DAYS_CREDIT_ENDDATE_sum: Contains outliers, #32125\n",
      "bureau_CREDIT_ACTIVE_Active_count: Contains outliers, #5567\n",
      "previous_loans_NAME_YIELD_GROUP_low_action_count_norm: Contains outliers, #40077\n",
      "client_cash_counts_mean: Contains outliers, #7925\n",
      "client_installments_AMT_INSTALMENT_mean_max: Contains outliers, #20984\n",
      "client_cash_MONTHS_BALANCE_sum_max: Contains outliers, #15596\n",
      "client_cash_CNT_INSTALMENT_sum_min: Contains outliers, #9844\n",
      "bureau_CREDIT_ACTIVE_Active_count_norm: Contains outliers, #10\n",
      "bureau_DAYS_CREDIT_UPDATE_min: Contains outliers, #75\n",
      "DEF_60_CNT_SOCIAL_CIRCLE: Contains outliers, #15473\n",
      "bureau_DAYS_ENDDATE_FACT_mean: Contains outliers, #2196\n",
      "bureau_AMT_CREDIT_SUM_LIMIT_max: Contains outliers, #38326\n",
      "client_cash_SK_DPD_max_sum: Contains outliers, #36533\n",
      "previous_loans_AMT_GOODS_PRICE_mean: Contains outliers, #12025\n",
      "client_installments_AMT_PAYMENT_max_sum: Contains outliers, #27843\n",
      "client_installments_NUM_INSTALMENT_VERSION_sum_mean: Contains outliers, #10015\n",
      "client_installments_AMT_INSTALMENT_min_min: Contains outliers, #9516\n",
      "client_cash_NAME_CONTRACT_STATUS_Active_count_norm_mean: Contains outliers, #6987\n",
      "client_installments_NUM_INSTALMENT_NUMBER_max_mean: Contains outliers, #23959\n",
      "client_cash_CNT_INSTALMENT_max_max: Contains outliers, #18597\n",
      "client_installments_AMT_PAYMENT_max_mean: Contains outliers, #20870\n",
      "client_cash_counts_sum: Contains outliers, #12327\n",
      "client_cash_CNT_INSTALMENT_min_mean: Contains outliers, #7313\n",
      "client_cash_CNT_INSTALMENT_mean_min: Contains outliers, #11668\n",
      "client_installments_AMT_INSTALMENT_sum_max: Contains outliers, #16273\n",
      "previous_loans_AMT_ANNUITY_sum: Contains outliers, #12237\n",
      "client_installments_AMT_PAYMENT_mean_sum: Contains outliers, #16755\n",
      "previous_loans_DAYS_DECISION_mean: Contains outliers, #2975\n",
      "previous_loans_PRODUCT_COMBINATION_Cash Street: low_count_norm: Contains outliers, #10629\n",
      "previous_loans_DAYS_LAST_DUE_1ST_VERSION_mean: Contains outliers, #18990\n",
      "HOUR_APPR_PROCESS_START: Contains outliers, #1312\n",
      "previous_loans_DAYS_LAST_DUE_1ST_VERSION_min: Contains outliers, #111\n",
      "bureau_CREDIT_TYPE_Consumer credit_count_norm: Contains outliers, #2164\n",
      "previous_loans_HOUR_APPR_PROCESS_START_max: Contains outliers, #1483\n",
      "previous_loans_CODE_REJECT_REASON_HC_count_norm: Contains outliers, #45133\n",
      "previous_loans_NAME_PRODUCT_TYPE_walk-in_count_norm: Contains outliers, #41556\n",
      "previous_loans_CNT_PAYMENT_sum: Contains outliers, #12362\n",
      "bureau_DAYS_CREDIT_UPDATE_mean: Contains outliers, #3235\n",
      "previous_loans_DAYS_DECISION_sum: Contains outliers, #7791\n",
      "previous_loans_PRODUCT_COMBINATION_POS industry with interest_count_norm: Contains outliers, #45209\n",
      "client_cash_MONTHS_BALANCE_max_sum: Contains outliers, #8190\n",
      "previous_loans_AMT_CREDIT_min: Contains outliers, #12734\n",
      "previous_loans_NAME_CLIENT_TYPE_Refreshed_count_norm: Contains outliers, #20512\n",
      "client_bureau_balance_MONTHS_BALANCE_mean_sum: Contains outliers, #21797\n",
      "previous_loans_PRODUCT_COMBINATION_Cash Street: high_count_norm: Contains outliers, #18775\n",
      "previous_loans_RATE_DOWN_PAYMENT_mean: Contains outliers, #6812\n",
      "bureau_AMT_CREDIT_SUM_DEBT_min: Contains outliers, #7967\n",
      "NAME_CONTRACT_TYPE_Cash loans: Contains outliers, #15918\n",
      "client_installments_AMT_INSTALMENT_min_sum: Contains outliers, #15424\n",
      "previous_loans_AMT_APPLICATION_max: Contains outliers, #18791\n",
      "client_installments_NUM_INSTALMENT_VERSION_sum_max: Contains outliers, #11889\n",
      "previous_loans_RATE_DOWN_PAYMENT_min: Contains outliers, #4966\n",
      "client_installments_AMT_INSTALMENT_mean_mean: Contains outliers, #13617\n",
      "client_installments_NUM_INSTALMENT_VERSION_sum_sum: Contains outliers, #15570\n",
      "previous_loans_NAME_TYPE_SUITE_Family_count_norm: Contains outliers, #10961\n",
      "previous_loans_DAYS_TERMINATION_mean: Contains outliers, #9044\n",
      "client_cash_CNT_INSTALMENT_FUTURE_max_sum: Contains outliers, #12329\n",
      "bureau_CREDIT_TYPE_Credit card_count_norm: Contains outliers, #1358\n",
      "client_installments_DAYS_ENTRY_PAYMENT_min_sum: Contains outliers, #18573\n",
      "OBS_30_CNT_SOCIAL_CIRCLE: Contains outliers, #12049\n",
      "client_installments_AMT_INSTALMENT_sum_sum: Contains outliers, #23194\n",
      "client_installments_NUM_INSTALMENT_VERSION_mean_sum: Contains outliers, #9567\n",
      "FLAG_DOCUMENT_18: Contains outliers, #850\n",
      "client_cash_CNT_INSTALMENT_FUTURE_min_sum: Contains outliers, #32537\n"
     ]
    },
    {
     "name": "stdout",
     "output_type": "stream",
     "text": [
      "previous_loans_CHANNEL_TYPE_Contact center_count_norm: Contains outliers, #27018\n",
      "bureau_CREDIT_TYPE_Car loan_count_norm: Contains outliers, #14500\n",
      "client_installments_NUM_INSTALMENT_NUMBER_min_mean: Contains outliers, #16051\n",
      "previous_loans_WEEKDAY_APPR_PROCESS_START_TUESDAY_count_norm: Contains outliers, #8122\n",
      "previous_loans_NAME_GOODS_CATEGORY_Furniture_count_norm: Contains outliers, #26363\n",
      "client_cash_NAME_CONTRACT_STATUS_Completed_count_norm_max: Contains outliers, #9884\n",
      "AMT_REQ_CREDIT_BUREAU_QRT: Contains outliers, #36296\n",
      "client_cash_NAME_CONTRACT_STATUS_Active_count_norm_min: Contains outliers, #13971\n",
      "previous_loans_AMT_DOWN_PAYMENT_min: Contains outliers, #23893\n",
      "bureau_CREDIT_TYPE_Microloan_count_norm: Contains outliers, #2557\n",
      "previous_loans_DAYS_TERMINATION_min: Contains outliers, #9044\n",
      "previous_loans_CHANNEL_TYPE_Channel of corporate sales_count_norm: Contains outliers, #1027\n",
      "previous_loans_WEEKDAY_APPR_PROCESS_START_SUNDAY_count_norm: Contains outliers, #17199\n",
      "previous_loans_CHANNEL_TYPE_Stone_count_norm: Contains outliers, #13901\n",
      "client_bureau_balance_STATUS_0_count_sum: Contains outliers, #23474\n",
      "OCCUPATION_TYPE_Core staff: Contains outliers, #17082\n",
      "client_cash_NAME_CONTRACT_STATUS_Completed_count_norm_mean: Contains outliers, #7240\n",
      "bureau_AMT_CREDIT_SUM_OVERDUE_max: Contains outliers, #2489\n",
      "REG_CITY_NOT_LIVE_CITY: Contains outliers, #12966\n",
      "ORGANIZATION_TYPE_Business Entity Type 3: Contains outliers, #39121\n",
      "bureau_CREDIT_ACTIVE_Closed_count: Contains outliers, #5662\n",
      "ORGANIZATION_TYPE_Self-employed: Contains outliers, #21270\n",
      "previous_loans_NAME_PORTFOLIO_Cash_count_norm: Contains outliers, #1652\n",
      "previous_loans_WEEKDAY_APPR_PROCESS_START_WEDNESDAY_count_norm: Contains outliers, #8427\n",
      "client_installments_NUM_INSTALMENT_VERSION_mean_min: Contains outliers, #68406\n",
      "client_cash_NAME_CONTRACT_STATUS_Completed_count_sum: Contains outliers, #9185\n",
      "previous_loans_CODE_REJECT_REASON_SCO_count_norm: Contains outliers, #15121\n",
      "previous_loans_NAME_GOODS_CATEGORY_Computers_count_norm: Contains outliers, #31132\n",
      "previous_loans_PRODUCT_COMBINATION_POS household without interest_count_norm: Contains outliers, #39518\n",
      "bureau_AMT_CREDIT_SUM_LIMIT_min: Contains outliers, #1146\n",
      "previous_loans_NAME_PRODUCT_TYPE_x-sell_count_norm: Contains outliers, #940\n",
      "previous_loans_WEEKDAY_APPR_PROCESS_START_MONDAY_count_norm: Contains outliers, #8319\n",
      "previous_loans_WEEKDAY_APPR_PROCESS_START_SATURDAY_count_norm: Contains outliers, #10663\n",
      "previous_loans_CHANNEL_TYPE_AP+ (Cash loan)_count_norm: Contains outliers, #13901\n",
      "previous_loans_NAME_GOODS_CATEGORY_Audio/Video_count_norm: Contains outliers, #30185\n",
      "client_cash_SK_DPD_mean_min: Contains outliers, #4784\n",
      "previous_loans_NAME_GOODS_CATEGORY_Clothing and Accessories_count_norm: Contains outliers, #11880\n",
      "DEF_30_CNT_SOCIAL_CIRCLE: Contains outliers, #21221\n",
      "client_installments_NUM_INSTALMENT_NUMBER_mean_min: Contains outliers, #5916\n",
      "client_installments_NUM_INSTALMENT_NUMBER_sum_min: Contains outliers, #9950\n",
      "previous_loans_NAME_PORTFOLIO_XNA_count_norm: Contains outliers, #820\n",
      "previous_loans_NAME_SELLER_INDUSTRY_Connectivity_count_norm: Contains outliers, #13445\n",
      "bureau_CREDIT_TYPE_Credit card_count: Contains outliers, #4630\n",
      "previous_loans_NAME_CONTRACT_STATUS_Canceled_count_norm: Contains outliers, #2058\n",
      "OCCUPATION_TYPE_Drivers: Contains outliers, #10788\n",
      "previous_loans_HOUR_APPR_PROCESS_START_min: Contains outliers, #11615\n",
      "client_cash_NAME_CONTRACT_STATUS_Signed_count_norm_max: Contains outliers, #39680\n",
      "OCCUPATION_TYPE_Laborers: Contains outliers, #32811\n",
      "client_cash_CNT_INSTALMENT_min_max: Contains outliers, #10736\n",
      "previous_loans_WEEKDAY_APPR_PROCESS_START_THURSDAY_count_norm: Contains outliers, #8107\n",
      "ORGANIZATION_TYPE_Construction: Contains outliers, #3780\n",
      "client_cash_NAME_CONTRACT_STATUS_Active_count_max: Contains outliers, #6309\n",
      "client_cash_SK_DPD_DEF_sum_min: Contains outliers, #3104\n",
      "previous_loans_DAYS_FIRST_DRAWING_mean: Contains outliers, #32666\n",
      "previous_loans_PRODUCT_COMBINATION_Cash X-Sell: middle_count_norm: Contains outliers, #28092\n",
      "previous_loans_NAME_CASH_LOAN_PURPOSE_Other_count_norm: Contains outliers, #5856\n",
      "client_bureau_balance_STATUS_0_count_norm_sum: Contains outliers, #20148\n",
      "client_installments_NUM_INSTALMENT_VERSION_sum_min: Contains outliers, #6632\n",
      "client_cash_NAME_CONTRACT_STATUS_Signed_count_sum: Contains outliers, #39680\n",
      "AMT_REQ_CREDIT_BUREAU_YEAR: Contains outliers, #4906\n",
      "bureau_CREDIT_TYPE_Microloan_count: Contains outliers, #2557\n",
      "NAME_INCOME_TYPE_State servant: Contains outliers, #14414\n",
      "FLAG_WORK_PHONE: Contains outliers, #36738\n",
      "previous_loans_NAME_GOODS_CATEGORY_Photo / Cinema Equipment_count_norm: Contains outliers, #14234\n",
      "previous_loans_WEEKDAY_APPR_PROCESS_START_FRIDAY_count_norm: Contains outliers, #8293\n",
      "previous_loans_WEEKDAY_APPR_PROCESS_START_THURSDAY_count: Contains outliers, #14953\n",
      "ORGANIZATION_TYPE_Military: Contains outliers, #1772\n",
      "previous_loans_PRODUCT_COMBINATION_POS household with interest_count_norm: Contains outliers, #12464\n",
      "client_installments_NUM_INSTALMENT_VERSION_min_sum: Contains outliers, #8361\n",
      "client_cash_NAME_CONTRACT_STATUS_Completed_count_norm_sum: Contains outliers, #6107\n",
      "FLAG_DOCUMENT_16: Contains outliers, #1125\n",
      "previous_loans_NAME_TYPE_SUITE_Spouse, partner_count_norm: Contains outliers, #29294\n",
      "client_cash_NAME_CONTRACT_STATUS_Returned to the store_count_sum: Contains outliers, #2958\n",
      "ORGANIZATION_TYPE_Industry: type 9: Contains outliers, #2252\n",
      "AMT_REQ_CREDIT_BUREAU_MON: Contains outliers, #33362\n",
      "previous_loans_NAME_CONTRACT_STATUS_Approved_count: Contains outliers, #9184\n",
      "bureau_CREDIT_ACTIVE_Sold_count_norm: Contains outliers, #4059\n",
      "previous_loans_NAME_GOODS_CATEGORY_Mobile_count_norm: Contains outliers, #10502\n",
      "bureau_AMT_CREDIT_SUM_OVERDUE_mean: Contains outliers, #2489\n",
      "previous_loans_NAME_SELLER_INDUSTRY_Construction_count_norm: Contains outliers, #14688\n",
      "previous_loans_CODE_REJECT_REASON_SCOFR_count_norm: Contains outliers, #3786\n",
      "previous_loans_NAME_SELLER_INDUSTRY_Furniture_count_norm: Contains outliers, #27450\n",
      "client_cash_NAME_CONTRACT_STATUS_Active_count_norm_max: Contains outliers, #4039\n",
      "previous_loans_NAME_GOODS_CATEGORY_Construction Materials_count_norm: Contains outliers, #12682\n",
      "client_bureau_balance_STATUS_1_count_norm_sum: Contains outliers, #23714\n",
      "previous_loans_PRODUCT_COMBINATION_Cash Street: middle_count_norm: Contains outliers, #12183\n",
      "previous_loans_PRODUCT_COMBINATION_POS other with interest_count_norm: Contains outliers, #11670\n",
      "client_cash_CNT_INSTALMENT_min_min: Contains outliers, #5682\n",
      "previous_loans_CODE_REJECT_REASON_VERIF_count_norm: Contains outliers, #1658\n",
      "previous_loans_CODE_REJECT_REASON_LIMIT_count_norm: Contains outliers, #19233\n",
      "client_bureau_balance_STATUS_X_count_norm_sum: Contains outliers, #38448\n",
      "previous_loans_PRODUCT_COMBINATION_Cash_count_norm: Contains outliers, #3881\n",
      "previous_loans_NAME_GOODS_CATEGORY_Consumer Electronics_count_norm: Contains outliers, #23651\n",
      "previous_loans_CHANNEL_TYPE_Regional / Local_count_norm: Contains outliers, #44649\n",
      "previous_loans_WEEKDAY_APPR_PROCESS_START_SUNDAY_count: Contains outliers, #7465\n",
      "FLAG_DOCUMENT_13: Contains outliers, #404\n",
      "previous_loans_CODE_REJECT_REASON_CLIENT_count_norm: Contains outliers, #15543\n",
      "client_bureau_balance_STATUS_X_count_sum: Contains outliers, #36733\n",
      "previous_loans_NAME_YIELD_GROUP_middle_count: Contains outliers, #3158\n",
      "previous_loans_NAME_CONTRACT_TYPE_Revolving loans_count_norm: Contains outliers, #11316\n",
      "previous_loans_NAME_PRODUCT_TYPE_XNA_count: Contains outliers, #13397\n",
      "previous_loans_NAME_GOODS_CATEGORY_Jewelry_count_norm: Contains outliers, #3150\n",
      "WALLSMATERIAL_MODE_Stone, brick: Contains outliers, #39033\n",
      "previous_loans_CNT_PAYMENT_min: Contains outliers, #770\n",
      "previous_loans_NAME_YIELD_GROUP_high_count: Contains outliers, #3091\n",
      "NAME_FAMILY_STATUS_Separated: Contains outliers, #12270\n",
      "NAME_HOUSING_TYPE_House / apartment: Contains outliers, #19266\n",
      "client_cash_NAME_CONTRACT_STATUS_Signed_count_norm_mean: Contains outliers, #39680\n",
      "previous_loans_NAME_CONTRACT_STATUS_Refused_count: Contains outliers, #21564\n",
      "previous_loans_PRODUCT_COMBINATION_Card Street_count_norm: Contains outliers, #39286\n",
      "client_installments_NUM_INSTALMENT_NUMBER_max_min: Contains outliers, #5728\n",
      "previous_loans_PRODUCT_COMBINATION_POS industry without interest_count_norm: Contains outliers, #6799\n"
     ]
    },
    {
     "name": "stdout",
     "output_type": "stream",
     "text": [
      "previous_loans_CHANNEL_TYPE_Regional / Local_count: Contains outliers, #44649\n",
      "ORGANIZATION_TYPE_Transport: type 3: Contains outliers, #616\n",
      "client_cash_NAME_CONTRACT_STATUS_Returned to the store_count_norm_max: Contains outliers, #2958\n",
      "ORGANIZATION_TYPE_School: Contains outliers, #5833\n",
      "previous_loans_NAME_TYPE_SUITE_Other_B_count_norm: Contains outliers, #8856\n",
      "bureau_CNT_CREDIT_PROLONG_mean: Contains outliers, #6567\n",
      "client_bureau_balance_MONTHS_BALANCE_max_sum: Contains outliers, #45270\n",
      "client_cash_NAME_CONTRACT_STATUS_Active_count_min: Contains outliers, #5538\n",
      "WEEKDAY_APPR_PROCESS_START_WEDNESDAY: Contains outliers, #31521\n",
      "OCCUPATION_TYPE_High skill tech staff: Contains outliers, #6918\n",
      "previous_loans_NAME_PAYMENT_TYPE_XNA_count: Contains outliers, #6112\n",
      "TARGET: Contains outliers, #13312\n"
     ]
    },
    {
     "data": {
      "text/plain": [
       "feat_list: List[String] = List(TARGET, previous_loans_NAME_PAYMENT_TYPE_XNA_count, OCCUPATION_TYPE_High skill tech staff, WEEKDAY_APPR_PROCESS_START_WEDNESDAY, client_cash_NAME_CONTRACT_STATUS_Active_count_min, client_bureau_balance_MONTHS_BALANCE_max_sum, bureau_CNT_CREDIT_PROLONG_mean, previous_loans_NAME_TYPE_SUITE_Other_B_count_norm, ORGANIZATION_TYPE_School, client_cash_NAME_CONTRACT_STATUS_Returned to the store_count_norm_max, ORGANIZATION_TYPE_Transport: type 3, previous_loans_CHANNEL_TYPE_Regional / Local_count, previous_loans_PRODUCT_COMBINATION_POS industry without interest_count_norm, client_installments_NUM_INSTALMENT_NUMBER_max_min, previous_loans_PRODUCT_COMBINATION_Card Street_count_norm, previous_loans_NAME_CONTRACT_STATUS_Refused_count, client_cash_NAME_CONTRACT_STATUS_..."
      ]
     },
     "execution_count": 85,
     "metadata": {},
     "output_type": "execute_result"
    }
   ],
   "source": [
    "//write function to check if there are any outliers in a given domain and show boxplot [Sean]\n",
    "//slice a small test list to ensure functionality\n",
    "//var test_lis = creditRiskFeatures.slice(0,2) //TEST var for codeblock\n",
    "\n",
    "var feat_list = List[String]() //empty list to append features containing outliers in\n",
    "for (feature <- creditRiskFeatures) {\n",
    "    //summarise column and query the DataFrame output\n",
    "    var firstQ = creditRiskdf.select(feature).summary().where(\n",
    "        $\"summary\" === \"25%\").select(feature).first().mkString.toFloat\n",
    "    var thirdQ = creditRiskdf.select(feature).summary().where(\n",
    "        $\"summary\" === \"75%\").select(feature).first().mkString.toFloat\n",
    "    //use formulas below to test threshold of outliers\n",
    "    var testValHigh = thirdQ + (1.5 * (thirdQ - firstQ))\n",
    "    var testValLow = firstQ - (1.5 * (thirdQ - firstQ))\n",
    "    //check to see if thresholds are exceeded in the column and count\n",
    "    var outHigh = creditRiskdf.filter(col(feature) > lit(testValHigh)).count()\n",
    "    var outLow = creditRiskdf.filter(col(feature) < lit(testValLow)).count()\n",
    "\n",
    "    //notify us whether or not column contains outliers\n",
    "    if (outHigh > 0 || outLow > 0 ){\n",
    "        println(feature.concat(\": Contains outliers, #\").concat((\n",
    "            outHigh + outLow).toString))\n",
    "        feat_list = feature :: feat_list\n",
    "    }\n",
    "    //else if (outHigh == 0 || outLow == 0){\n",
    "        // println(feature.concat(\": Does not contain outliers\"))\n",
    "    //}\n",
    "}"
   ]
  },
  {
   "cell_type": "code",
   "execution_count": 87,
   "metadata": {},
   "outputs": [
    {
     "data": {
      "text/plain": [
       "res45: Int = 253\n"
      ]
     },
     "execution_count": 87,
     "metadata": {},
     "output_type": "execute_result"
    }
   ],
   "source": [
    "feat_list.length"
   ]
  },
  {
   "cell_type": "code",
   "execution_count": null,
   "metadata": {},
   "outputs": [],
   "source": [
    "//code block takes features containing outliers and filters main dataframe against them\n",
    "//code will generate a subset of main dataset without outliers.\n",
    "val clean_df = creditRiskdf\n",
    "//input feature list conatining features with outliers persisting\n",
    "for (feature <- feat_list){\n",
    "    //summarise column and query the DataFrame output\n",
    "    var firstQ = creditRiskdf.select(feature).summary().where(\n",
    "        $\"summary\" === \"25%\").select(feature).first().mkString.toFloat\n",
    "    var thirdQ = creditRiskdf.select(feature).summary().where(\n",
    "        $\"summary\" === \"75%\").select(feature).first().mkString.toFloat\n",
    "    //use formulas below to test threshold of outliers\n",
    "    var testValHigh = thirdQ + (1.5 * thirdQ - firstQ)\n",
    "    var testValLow = firstQ - (1.5 * thirdQ - firstQ)\n",
    "\n",
    "    val clean_df = clean_df.filter(feature < lit(testValHigh))\n",
    "    val clean_df = clean_df.filter(feature > lit(testValLow))\n",
    "}"
   ]
  },
  {
   "cell_type": "markdown",
   "metadata": {},
   "source": [
    "### Machine learning"
   ]
  },
  {
   "cell_type": "code",
   "execution_count": 31,
   "metadata": {},
   "outputs": [
    {
     "data": {
      "text/plain": [
       "train_df: org.apache.spark.sql.Dataset[org.apache.spark.sql.Row] = [EXT_SOURCE_2: string, EXT_SOURCE_3: string ... 280 more fields]\n",
       "test_df: org.apache.spark.sql.Dataset[org.apache.spark.sql.Row] = [EXT_SOURCE_2: string, EXT_SOURCE_3: string ... 280 more fields]\n",
       "validation_df: org.apache.spark.sql.Dataset[org.apache.spark.sql.Row] = [EXT_SOURCE_2: string, EXT_SOURCE_3: string ... 280 more fields]\n"
      ]
     },
     "execution_count": 31,
     "metadata": {},
     "output_type": "execute_result"
    }
   ],
   "source": [
    "// random split of cleansed dataset to training set (70%), testing set (20%)\n",
    "// and validation set (10%)\n",
    "\n",
    "val Array(train_df,test_df,validation_df)=creditRiskdf.randomSplit(\n",
    "    Array(0.7,0.2,0.1))"
   ]
  },
  {
   "cell_type": "code",
   "execution_count": 35,
   "metadata": {},
   "outputs": [
    {
     "data": {
      "text/plain": [
       "res13: train_df.type = [EXT_SOURCE_2: string, EXT_SOURCE_3: string ... 280 more fields]\n"
      ]
     },
     "execution_count": 35,
     "metadata": {},
     "output_type": "execute_result"
    }
   ],
   "source": [
    "// cache train_df dataset for ML stage\n",
    "train_df.cache()"
   ]
  },
  {
   "cell_type": "code",
   "execution_count": 51,
   "metadata": {},
   "outputs": [
    {
     "data": {
      "text/plain": [
       "lr: org.apache.spark.ml.classification.LogisticRegression = logreg_90f7b0800db6\n",
       "features: Array[String] = Array(EXT_SOURCE_2, EXT_SOURCE_3, client_installments_AMT_PAYMENT_min_sum, DAYS_BIRTH, AMT_CREDIT, AMT_ANNUITY, DAYS_EMPLOYED, bureau_DAYS_CREDIT_ENDDATE_max, bureau_DAYS_CREDIT_max, DAYS_ID_PUBLISH, bureau_DAYS_ENDDATE_FACT_max, bureau_AMT_CREDIT_SUM_DEBT_mean, previous_loans_CNT_PAYMENT_mean, client_cash_CNT_INSTALMENT_FUTURE_min_max, previous_loans_SELLERPLACE_AREA_max, DAYS_LAST_PHONE_CHANGE, bureau_AMT_CREDIT_SUM_max, bureau_AMT_CREDIT_SUM_mean, DAYS_REGISTRATION, client_installments_DAYS_INSTALMENT_max_max, previous_loans_AMT_DOWN_PAYMENT_max, CODE_GENDER_F, REGION_POPULATION_RELATIVE, client_cash_CNT_INSTALMENT_max_mean, bureau_DAYS_CREDIT_UPDATE_max, bureau_AMT_CREDIT_SUM_su..."
      ]
     },
     "execution_count": 51,
     "metadata": {},
     "output_type": "execute_result"
    }
   ],
   "source": [
    "// set parameters for binomial logistic regression model\n",
    "\n",
    "val lr = new LogisticRegression().setMaxIter(10).setRegParam(\n",
    "    0.3).setElasticNetParam(0.8).setLabelCol(\"TARGET\")\n",
    "var features = creditRiskFeatures.filter(!_.contains(\"TARGET\"))"
   ]
  },
  {
   "cell_type": "code",
   "execution_count": 52,
   "metadata": {},
   "outputs": [
    {
     "ename": "java.lang.IllegalArgumentException",
     "evalue": " Field \"features\" does not exist.",
     "output_type": "error",
     "traceback": [
      "java.lang.IllegalArgumentException: Field \"features\" does not exist.",
      "Available fields: EXT_SOURCE_2, EXT_SOURCE_3, client_installments_AMT_PAYMENT_min_sum, DAYS_BIRTH, AMT_CREDIT, AMT_ANNUITY, DAYS_EMPLOYED, bureau_DAYS_CREDIT_ENDDATE_max, bureau_DAYS_CREDIT_max, DAYS_ID_PUBLISH, bureau_DAYS_ENDDATE_FACT_max, bureau_AMT_CREDIT_SUM_DEBT_mean, previous_loans_CNT_PAYMENT_mean, client_cash_CNT_INSTALMENT_FUTURE_min_max, previous_loans_SELLERPLACE_AREA_max, DAYS_LAST_PHONE_CHANGE, bureau_AMT_CREDIT_SUM_max, bureau_AMT_CREDIT_SUM_mean, DAYS_REGISTRATION, client_installments_DAYS_INSTALMENT_max_max, previous_loans_AMT_DOWN_PAYMENT_max, CODE_GENDER_F, REGION_POPULATION_RELATIVE, client_cash_CNT_INSTALMENT_max_mean, bureau_DAYS_CREDIT_UPDATE_max, bureau_AMT_CREDIT_SUM_sum, client_installments_NUM_INSTALMENT_VERSION_mean_max, bureau_DAYS_CREDIT_mean, client_installments_AMT_PAYMENT_sum_mean, client_installments_DAYS_INSTALMENT_min_max, previous_loans_NAME_CONTRACT_STATUS_Refused_count_norm, client_installments_AMT_INSTALMENT_max_max, client_cash_CNT_INSTALMENT_FUTURE_min_mean, client_installments_NUM_INSTALMENT_VERSION_max_mean, bureau_DAYS_CREDIT_min, previous_loans_NAME_YIELD_GROUP_high_count_norm, previous_loans_RATE_DOWN_PAYMENT_sum, client_installments_DAYS_ENTRY_PAYMENT_sum_max, previous_loans_DAYS_FIRST_DUE_min, client_cash_SK_DPD_DEF_sum_max, previous_loans_DAYS_DECISION_max, client_installments_AMT_INSTALMENT_min_mean, bureau_AMT_CREDIT_SUM_LIMIT_mean, bureau_DAYS_CREDIT_sum, previous_loans_DAYS_LAST_DUE_1ST_VERSION_max, previous_loans_PRODUCT_COMBINATION_Cash X-Sell: low_count_norm, previous_loans_HOUR_APPR_PROCESS_START_mean, bureau_AMT_CREDIT_SUM_DEBT_max, bureau_AMT_CREDIT_SUM_min, previous_loans_AMT_DOWN_PAYMENT_mean, NAME_FAMILY_STATUS_Married, previous_loans_CNT_PAYMENT_max, client_installments_AMT_INSTALMENT_mean_min, AMT_INCOME_TOTAL, previous_loans_DAYS_LAST_DUE_sum, client_cash_MONTHS_BALANCE_max_mean, NAME_EDUCATION_TYPE_Higher education, client_cash_MONTHS_BALANCE_sum_mean, bureau_DAYS_CREDIT_ENDDATE_mean, REGION_RATING_CLIENT, previous_loans_AMT_GOODS_PRICE_min, bureau_DAYS_ENDDATE_FACT_min, bureau_DAYS_CREDIT_ENDDATE_min, previous_loans_AMT_ANNUITY_mean, client_installments_AMT_PAYMENT_max_min, client_installments_AMT_INSTALMENT_min_max, client_installments_AMT_PAYMENT_sum_min, bureau_CREDIT_TYPE_Mortgage_count_norm, previous_loans_AMT_ANNUITY_max, previous_loans_AMT_ANNUITY_min, previous_loans_RATE_DOWN_PAYMENT_max, previous_loans_NAME_YIELD_GROUP_low_normal_count_norm, previous_loans_PRODUCT_COMBINATION_Cash X-Sell: high_count_norm, bureau_DAYS_CREDIT_ENDDATE_sum, bureau_CREDIT_ACTIVE_Active_count, previous_loans_NAME_YIELD_GROUP_low_action_count_norm, client_cash_counts_mean, client_installments_AMT_INSTALMENT_mean_max, client_cash_MONTHS_BALANCE_sum_max, client_cash_CNT_INSTALMENT_sum_min, bureau_CREDIT_ACTIVE_Active_count_norm, bureau_DAYS_CREDIT_UPDATE_min, DEF_60_CNT_SOCIAL_CIRCLE, FLAG_DOCUMENT_3, bureau_DAYS_ENDDATE_FACT_mean, bureau_AMT_CREDIT_SUM_LIMIT_max, client_cash_SK_DPD_max_sum, previous_loans_AMT_GOODS_PRICE_mean, client_installments_AMT_PAYMENT_max_sum, client_installments_NUM_INSTALMENT_VERSION_sum_mean, client_installments_AMT_INSTALMENT_min_min, previous_loans_NAME_TYPE_SUITE_Unaccompanied_count_norm, client_cash_NAME_CONTRACT_STATUS_Active_count_norm_mean, client_installments_NUM_INSTALMENT_NUMBER_max_mean, client_cash_CNT_INSTALMENT_max_max, client_installments_DAYS_ENTRY_PAYMENT_max_min, client_installments_AMT_PAYMENT_max_mean, client_cash_counts_sum, previous_loans_NAME_CONTRACT_STATUS_Approved_count_norm, client_cash_CNT_INSTALMENT_min_mean, client_cash_CNT_INSTALMENT_mean_min, client_installments_AMT_INSTALMENT_sum_max, previous_loans_AMT_ANNUITY_sum, client_installments_AMT_PAYMENT_mean_sum, previous_loans_DAYS_DECISION_mean, previous_loans_PRODUCT_COMBINATION_Cash Street: low_count_norm, previous_loans_DAYS_LAST_DUE_1ST_VERSION_mean, HOUR_APPR_PROCESS_START, previous_loans_DAYS_LAST_DUE_1ST_VERSION_min, bureau_CREDIT_TYPE_Consumer credit_count_norm, previous_loans_HOUR_APPR_PROCESS_START_max, previous_loans_CODE_REJECT_REASON_HC_count_norm, previous_loans_NAME_PRODUCT_TYPE_walk-in_count_norm, previous_loans_CNT_PAYMENT_sum, bureau_DAYS_CREDIT_UPDATE_mean, previous_loans_DAYS_DECISION_sum, previous_loans_PRODUCT_COMBINATION_POS industry with interest_count_norm, client_cash_MONTHS_BALANCE_max_sum, previous_loans_AMT_CREDIT_min, previous_loans_NAME_CLIENT_TYPE_Refreshed_count_norm, client_bureau_balance_MONTHS_BALANCE_mean_sum, previous_loans_PRODUCT_COMBINATION_Cash Street: high_count_norm, previous_loans_RATE_DOWN_PAYMENT_mean, bureau_AMT_CREDIT_SUM_DEBT_min, NAME_CONTRACT_TYPE_Cash loans, client_installments_AMT_INSTALMENT_min_sum, previous_loans_AMT_APPLICATION_max, client_installments_NUM_INSTALMENT_VERSION_sum_max, previous_loans_RATE_DOWN_PAYMENT_min, client_installments_AMT_INSTALMENT_mean_mean, client_installments_NUM_INSTALMENT_VERSION_sum_sum, previous_loans_NAME_TYPE_SUITE_Family_count_norm, previous_loans_DAYS_TERMINATION_mean, client_cash_CNT_INSTALMENT_FUTURE_max_sum, previous_loans_NAME_PAYMENT_TYPE_XNA_count_norm, bureau_CREDIT_TYPE_Credit card_count_norm, client_installments_DAYS_ENTRY_PAYMENT_min_sum, OBS_30_CNT_SOCIAL_CIRCLE, client_installments_AMT_INSTALMENT_sum_sum, client_installments_NUM_INSTALMENT_VERSION_mean_sum, FLAG_DOCUMENT_18, client_cash_CNT_INSTALMENT_FUTURE_min_sum, previous_loans_CHANNEL_TYPE_Credit and cash offices_count_norm, previous_loans_CHANNEL_TYPE_Contact center_count_norm, bureau_CREDIT_TYPE_Car loan_count_norm, previous_loans_NAME_PORTFOLIO_POS_count_norm, client_installments_NUM_INSTALMENT_NUMBER_min_mean, previous_loans_WEEKDAY_APPR_PROCESS_START_TUESDAY_count_norm, previous_loans_NAME_GOODS_CATEGORY_Furniture_count_norm, client_cash_NAME_CONTRACT_STATUS_Completed_count_norm_max, AMT_REQ_CREDIT_BUREAU_QRT, NAME_INCOME_TYPE_Working, client_cash_NAME_CONTRACT_STATUS_Active_count_norm_min, previous_loans_AMT_DOWN_PAYMENT_min, bureau_CREDIT_TYPE_Microloan_count_norm, previous_loans_DAYS_TERMINATION_min, previous_loans_CHANNEL_TYPE_Channel of corporate sales_count_norm, previous_loans_WEEKDAY_APPR_PROCESS_START_SUNDAY_count_norm, previous_loans_CHANNEL_TYPE_Stone_count_norm, NAME_EDUCATION_TYPE_Secondary / secondary special, client_bureau_balance_STATUS_0_count_sum, OCCUPATION_TYPE_Core staff, previous_loans_NAME_YIELD_GROUP_middle_count_norm, client_cash_NAME_CONTRACT_STATUS_Completed_count_norm_mean, bureau_AMT_CREDIT_SUM_OVERDUE_max, REG_CITY_NOT_LIVE_CITY, ORGANIZATION_TYPE_Business Entity Type 3, bureau_CREDIT_ACTIVE_Closed_count, ORGANIZATION_TYPE_Self-employed, previous_loans_NAME_PORTFOLIO_Cash_count_norm, previous_loans_WEEKDAY_APPR_PROCESS_START_WEDNESDAY_count_norm, client_installments_NUM_INSTALMENT_VERSION_mean_min, client_cash_NAME_CONTRACT_STATUS_Completed_count_sum, previous_loans_CODE_REJECT_REASON_SCO_count_norm, previous_loans_NAME_GOODS_CATEGORY_Computers_count_norm, previous_loans_NAME_YIELD_GROUP_XNA_count_norm, previous_loans_PRODUCT_COMBINATION_POS household without interest_count_norm, previous_loans_NAME_PRODUCT_TYPE_XNA_count_norm, bureau_AMT_CREDIT_SUM_LIMIT_min, previous_loans_NAME_PRODUCT_TYPE_x-sell_count_norm, previous_loans_WEEKDAY_APPR_PROCESS_START_MONDAY_count_norm, previous_loans_WEEKDAY_APPR_PROCESS_START_SATURDAY_count_norm, previous_loans_NAME_CLIENT_TYPE_New_count_norm, previous_loans_CHANNEL_TYPE_AP+ (Cash loan)_count_norm, previous_loans_NFLAG_INSURED_ON_APPROVAL_mean, previous_loans_NAME_GOODS_CATEGORY_Audio/Video_count_norm, client_cash_SK_DPD_mean_min, previous_loans_NAME_GOODS_CATEGORY_Clothing and Accessories_count_norm, DEF_30_CNT_SOCIAL_CIRCLE, client_installments_NUM_INSTALMENT_NUMBER_mean_min, client_installments_NUM_INSTALMENT_NUMBER_sum_min, previous_loans_NAME_PORTFOLIO_XNA_count_norm, previous_loans_NAME_CLIENT_TYPE_Repeater_count_norm, previous_loans_NAME_SELLER_INDUSTRY_Connectivity_count_norm, bureau_CREDIT_TYPE_Credit card_count, previous_loans_NAME_CONTRACT_STATUS_Canceled_count_norm, OCCUPATION_TYPE_Drivers, previous_loans_HOUR_APPR_PROCESS_START_min, client_cash_NAME_CONTRACT_STATUS_Signed_count_norm_max, OCCUPATION_TYPE_Laborers, client_cash_CNT_INSTALMENT_min_max, previous_loans_WEEKDAY_APPR_PROCESS_START_THURSDAY_count_norm, ORGANIZATION_TYPE_Construction, client_cash_NAME_CONTRACT_STATUS_Active_count_max, client_cash_SK_DPD_DEF_sum_min, previous_loans_NAME_CONTRACT_TYPE_Cash loans_count_norm, previous_loans_DAYS_FIRST_DRAWING_mean, previous_loans_PRODUCT_COMBINATION_Cash X-Sell: middle_count_norm, previous_loans_NAME_CASH_LOAN_PURPOSE_Other_count_norm, client_bureau_balance_STATUS_0_count_norm_sum, client_installments_NUM_INSTALMENT_VERSION_sum_min, previous_loans_CHANNEL_TYPE_Country-wide_count_norm, client_cash_NAME_CONTRACT_STATUS_Signed_count_sum, AMT_REQ_CREDIT_BUREAU_YEAR, bureau_CREDIT_TYPE_Microloan_count, NAME_INCOME_TYPE_State servant, previous_loans_DAYS_TERMINATION_max, FLAG_WORK_PHONE, previous_loans_NAME_GOODS_CATEGORY_Photo / Cinema Equipment_count_norm, previous_loans_WEEKDAY_APPR_PROCESS_START_FRIDAY_count_norm, previous_loans_WEEKDAY_APPR_PROCESS_START_THURSDAY_count, ORGANIZATION_TYPE_Military, previous_loans_PRODUCT_COMBINATION_POS household with interest_count_norm, client_installments_NUM_INSTALMENT_VERSION_min_sum, client_cash_NAME_CONTRACT_STATUS_Completed_count_norm_sum, FLAG_DOCUMENT_16, previous_loans_NAME_TYPE_SUITE_Spouse, partner_count_norm, client_cash_NAME_CONTRACT_STATUS_Returned to the store_count_sum, ORGANIZATION_TYPE_Industry: type 9, AMT_REQ_CREDIT_BUREAU_MON, previous_loans_NAME_CONTRACT_STATUS_Approved_count, bureau_CREDIT_ACTIVE_Sold_count_norm, previous_loans_NAME_GOODS_CATEGORY_Mobile_count_norm, bureau_AMT_CREDIT_SUM_OVERDUE_mean, previous_loans_NAME_SELLER_INDUSTRY_Construction_count_norm, previous_loans_CODE_REJECT_REASON_SCOFR_count_norm, previous_loans_NAME_SELLER_INDUSTRY_Furniture_count_norm, client_cash_NAME_CONTRACT_STATUS_Active_count_norm_max, previous_loans_NAME_GOODS_CATEGORY_Construction Materials_count_norm, client_bureau_balance_STATUS_1_count_norm_sum, previous_loans_PRODUCT_COMBINATION_Cash Street: middle_count_norm, previous_loans_PRODUCT_COMBINATION_POS other with interest_count_norm, client_cash_CNT_INSTALMENT_min_min, previous_loans_CODE_REJECT_REASON_VERIF_count_norm, previous_loans_CODE_REJECT_REASON_LIMIT_count_norm, client_bureau_balance_STATUS_X_count_norm_sum, previous_loans_PRODUCT_COMBINATION_Cash_count_norm, previous_loans_NAME_GOODS_CATEGORY_Consumer Electronics_count_norm, previous_loans_CHANNEL_TYPE_Regional / Local_count_norm, previous_loans_WEEKDAY_APPR_PROCESS_START_SUNDAY_count, FLAG_DOCUMENT_13, previous_loans_CODE_REJECT_REASON_CLIENT_count_norm, client_bureau_balance_STATUS_X_count_sum, previous_loans_NAME_YIELD_GROUP_middle_count, previous_loans_NAME_CONTRACT_TYPE_Revolving loans_count_norm, previous_loans_NAME_PRODUCT_TYPE_XNA_count, previous_loans_NAME_GOODS_CATEGORY_Jewelry_count_norm, WALLSMATERIAL_MODE_Stone, brick, previous_loans_NAME_SELLER_INDUSTRY_Consumer electronics_count_norm, previous_loans_CNT_PAYMENT_min, previous_loans_NAME_YIELD_GROUP_high_count, NAME_FAMILY_STATUS_Separated, NAME_HOUSING_TYPE_House / apartment, client_cash_NAME_CONTRACT_STATUS_Signed_count_norm_mean, previous_loans_NAME_CONTRACT_STATUS_Refused_count, previous_loans_PRODUCT_COMBINATION_Card Street_count_norm, client_installments_NUM_INSTALMENT_NUMBER_max_min, previous_loans_PRODUCT_COMBINATION_POS industry without interest_count_norm, previous_loans_CHANNEL_TYPE_Regional / Local_count, ORGANIZATION_TYPE_Transport: type 3, client_cash_NAME_CONTRACT_STATUS_Returned to the store_count_norm_max, ORGANIZATION_TYPE_School, previous_loans_NAME_TYPE_SUITE_Other_B_count_norm, bureau_CNT_CREDIT_PROLONG_mean, client_bureau_balance_MONTHS_BALANCE_max_sum, client_cash_NAME_CONTRACT_STATUS_Active_count_min, WEEKDAY_APPR_PROCESS_START_WEDNESDAY, OCCUPATION_TYPE_High skill tech staff, previous_loans_NAME_PAYMENT_TYPE_XNA_count, FLAG_PHONE, TARGET, SK_ID_CURR",
      "  at org.apache.spark.sql.types.StructType$$anonfun$apply$1.apply(StructType.scala:274)",
      "  at org.apache.spark.sql.types.StructType$$anonfun$apply$1.apply(StructType.scala:274)",
      "  at scala.collection.MapLike$class.getOrElse(MapLike.scala:128)",
      "  at scala.collection.AbstractMap.getOrElse(Map.scala:59)",
      "  at org.apache.spark.sql.types.StructType.apply(StructType.scala:273)",
      "  at org.apache.spark.ml.util.SchemaUtils$.checkColumnType(SchemaUtils.scala:41)",
      "  at org.apache.spark.ml.PredictorParams$class.validateAndTransformSchema(Predictor.scala:51)",
      "  at org.apache.spark.ml.classification.Classifier.org$apache$spark$ml$classification$ClassifierParams$$super$validateAndTransformSchema(Classifier.scala:58)",
      "  at org.apache.spark.ml.classification.ClassifierParams$class.validateAndTransformSchema(Classifier.scala:42)",
      "  at org.apache.spark.ml.classification.ProbabilisticClassifier.org$apache$spark$ml$classification$ProbabilisticClassifierParams$$super$validateAndTransformSchema(ProbabilisticClassifier.scala:53)",
      "  at org.apache.spark.ml.classification.ProbabilisticClassifierParams$class.validateAndTransformSchema(ProbabilisticClassifier.scala:37)",
      "  at org.apache.spark.ml.classification.LogisticRegression.org$apache$spark$ml$classification$LogisticRegressionParams$$super$validateAndTransformSchema(LogisticRegression.scala:279)",
      "  at org.apache.spark.ml.classification.LogisticRegressionParams$class.validateAndTransformSchema(LogisticRegression.scala:266)",
      "  at org.apache.spark.ml.classification.LogisticRegression.validateAndTransformSchema(LogisticRegression.scala:279)",
      "  at org.apache.spark.ml.Predictor.transformSchema(Predictor.scala:144)",
      "  at org.apache.spark.ml.PipelineStage.transformSchema(Pipeline.scala:74)",
      "  at org.apache.spark.ml.Predictor.fit(Predictor.scala:100)",
      "  ... 36 elided",
      ""
     ]
    }
   ],
   "source": [
    "// fit binomial logistic regression model \n",
    "\n",
    "val lrModel = lr.fit(train_df)"
   ]
  }
 ],
 "metadata": {
  "kernelspec": {
   "display_name": "spylon-kernel",
   "language": "scala",
   "name": "spylon-kernel"
  },
  "language_info": {
   "codemirror_mode": "text/x-scala",
   "file_extension": ".scala",
   "help_links": [
    {
     "text": "MetaKernel Magics",
     "url": "https://metakernel.readthedocs.io/en/latest/source/README.html"
    }
   ],
   "mimetype": "text/x-scala",
   "name": "scala",
   "pygments_lexer": "scala",
   "version": "0.4.1"
  }
 },
 "nbformat": 4,
 "nbformat_minor": 2
}
