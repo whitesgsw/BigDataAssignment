{
 "cells": [
  {
   "cell_type": "markdown",
   "metadata": {},
   "source": [
    "## Build a logistic regression model and show the label& Predictions"
   ]
  },
  {
   "cell_type": "code",
   "execution_count": 1,
   "metadata": {},
   "outputs": [
    {
     "data": {
      "text/plain": [
       "Intitializing Scala interpreter ..."
      ]
     },
     "metadata": {},
     "output_type": "display_data"
    },
    {
     "data": {
      "text/plain": [
       "Spark Web UI available at http://54ad5bde17e3:4040\n",
       "SparkContext available as 'sc' (version = 2.4.3, master = local[*], app id = local-1559608601502)\n",
       "SparkSession available as 'spark'\n"
      ]
     },
     "metadata": {},
     "output_type": "display_data"
    },
    {
     "data": {
      "text/plain": [
       "import org.apache.spark.sql\n",
       "import org.apache.spark.sql._\n",
       "import org.apache.spark.sql.types._\n",
       "import org.apache.spark.ml.classification.LogisticRegression\n",
       "import org.apache.spark.mllib.linalg.{Vector, Vectors}\n",
       "import org.apache.spark.ml.evaluation.BinaryClassificationEvaluator\n",
       "import org.apache.spark.ml.feature.{VectorAssembler, StringIndexer}\n"
      ]
     },
     "execution_count": 1,
     "metadata": {},
     "output_type": "execute_result"
    }
   ],
   "source": [
    "import org.apache.spark.sql\n",
    "import org.apache.spark.sql._\n",
    "import org.apache.spark.sql.types._\n",
    "import org.apache.spark.ml.classification.LogisticRegression\n",
    "import org.apache.spark.mllib.linalg.{Vector, Vectors}\n",
    "import org.apache.spark.ml.evaluation.BinaryClassificationEvaluator\n",
    "import org.apache.spark.ml.feature.{VectorAssembler, StringIndexer}"
   ]
  },
  {
   "cell_type": "code",
   "execution_count": 2,
   "metadata": {},
   "outputs": [
    {
     "data": {
      "text/plain": [
       "import org.apache.spark.ml.classification.LogisticRegression\n",
       "import org.apache.spark.ml.feature.VectorAssembler\n",
       "import org.apache.spark.ml.linalg.Vectors\n",
       "import org.apache.spark.ml.{Pipeline, PipelineModel}\n"
      ]
     },
     "execution_count": 2,
     "metadata": {},
     "output_type": "execute_result"
    }
   ],
   "source": [
    "import org.apache.spark.ml.classification.LogisticRegression\n",
    "import org.apache.spark.ml.feature.VectorAssembler\n",
    "import org.apache.spark.ml.linalg.Vectors\n",
    "import org.apache.spark.ml.{Pipeline, PipelineModel}"
   ]
  },
  {
   "cell_type": "code",
   "execution_count": 3,
   "metadata": {},
   "outputs": [
    {
     "data": {
      "text/plain": [
       "creditRiskdf1: org.apache.spark.sql.DataFrame = [EXT_SOURCE_2: string, EXT_SOURCE_3: string ... 283 more fields]\n",
       "creditRiskdf2: org.apache.spark.sql.DataFrame = [EXT_SOURCE_2: string, EXT_SOURCE_3: string ... 283 more fields]\n",
       "creditRiskdf3: org.apache.spark.sql.DataFrame = [EXT_SOURCE_2: string, EXT_SOURCE_3: string ... 283 more fields]\n"
      ]
     },
     "execution_count": 3,
     "metadata": {},
     "output_type": "execute_result"
    }
   ],
   "source": [
    "val creditRiskdf1 = spark.read.option(\"header\",\"true\").csv(\"part1.csv\")\n",
    "val creditRiskdf2 = spark.read.option(\"header\",\"true\").csv(\"part2.csv\")\n",
    "val creditRiskdf3 = spark.read.option(\"header\",\"true\").csv(\"part3.csv\")"
   ]
  },
  {
   "cell_type": "code",
   "execution_count": 4,
   "metadata": {},
   "outputs": [
    {
     "data": {
      "text/plain": [
       "creditRiskdf1and2: org.apache.spark.sql.Dataset[org.apache.spark.sql.Row] = [EXT_SOURCE_2: string, EXT_SOURCE_3: string ... 283 more fields]\n",
       "creditRiskdf: org.apache.spark.sql.Dataset[org.apache.spark.sql.Row] = [EXT_SOURCE_2: string, EXT_SOURCE_3: string ... 283 more fields]\n"
      ]
     },
     "execution_count": 4,
     "metadata": {},
     "output_type": "execute_result"
    }
   ],
   "source": [
    "val creditRiskdf1and2 = creditRiskdf1.union(creditRiskdf2)\n",
    "val creditRiskdf = creditRiskdf1and2.union(creditRiskdf3)"
   ]
  },
  {
   "cell_type": "code",
   "execution_count": 5,
   "metadata": {},
   "outputs": [
    {
     "data": {
      "text/plain": [
       "incon_droplist: List[String] = List(previous_loans_DAYS_FIRST_DUE_mean, previous_loans_SELLERPLACE_AREA_min, previous_loans_DAYS_FIRST_DUE_sum)\n",
       "df: org.apache.spark.sql.DataFrame = [EXT_SOURCE_2: string, EXT_SOURCE_3: string ... 280 more fields]\n"
      ]
     },
     "execution_count": 5,
     "metadata": {},
     "output_type": "execute_result"
    }
   ],
   "source": [
    "val incon_droplist = List(\"previous_loans_DAYS_FIRST_DUE_mean\",\n",
    "                      \"previous_loans_SELLERPLACE_AREA_min\",\n",
    "                      \"previous_loans_DAYS_FIRST_DUE_sum\")\n",
    "\n",
    "val df = creditRiskdf.drop(incon_droplist:_*)"
   ]
  },
  {
   "cell_type": "code",
   "execution_count": 6,
   "metadata": {},
   "outputs": [
    {
     "data": {
      "text/plain": [
       "creditRiskdf: org.apache.spark.sql.DataFrame = [EXT_SOURCE_2: string, EXT_SOURCE_3: string ... 280 more fields]\n"
      ]
     },
     "execution_count": 6,
     "metadata": {},
     "output_type": "execute_result"
    }
   ],
   "source": [
    "val creditRiskdf = df"
   ]
  },
  {
   "cell_type": "code",
   "execution_count": 7,
   "metadata": {},
   "outputs": [
    {
     "data": {
      "text/plain": [
       "train_df: org.apache.spark.sql.Dataset[org.apache.spark.sql.Row] = [EXT_SOURCE_2: string, EXT_SOURCE_3: string ... 280 more fields]\n",
       "test_df: org.apache.spark.sql.Dataset[org.apache.spark.sql.Row] = [EXT_SOURCE_2: string, EXT_SOURCE_3: string ... 280 more fields]\n",
       "validation_df: org.apache.spark.sql.Dataset[org.apache.spark.sql.Row] = [EXT_SOURCE_2: string, EXT_SOURCE_3: string ... 280 more fields]\n"
      ]
     },
     "execution_count": 7,
     "metadata": {},
     "output_type": "execute_result"
    }
   ],
   "source": [
    "var Array(train_df,test_df,validation_df)=creditRiskdf.randomSplit(\n",
    "    Array(0.7,0.2,0.1))"
   ]
  },
  {
   "cell_type": "code",
   "execution_count": 8,
   "metadata": {},
   "outputs": [
    {
     "data": {
      "text/plain": [
       "creditRiskFeatures: Array[String] = Array(EXT_SOURCE_2, EXT_SOURCE_3, client_installments_AMT_PAYMENT_min_sum, DAYS_BIRTH, AMT_CREDIT, AMT_ANNUITY, DAYS_EMPLOYED, bureau_DAYS_CREDIT_ENDDATE_max, bureau_DAYS_CREDIT_max, DAYS_ID_PUBLISH, bureau_DAYS_ENDDATE_FACT_max, bureau_AMT_CREDIT_SUM_DEBT_mean, previous_loans_CNT_PAYMENT_mean, client_cash_CNT_INSTALMENT_FUTURE_min_max, previous_loans_SELLERPLACE_AREA_max, DAYS_LAST_PHONE_CHANGE, bureau_AMT_CREDIT_SUM_max, bureau_AMT_CREDIT_SUM_mean, DAYS_REGISTRATION, client_installments_DAYS_INSTALMENT_max_max, previous_loans_AMT_DOWN_PAYMENT_max, CODE_GENDER_F, REGION_POPULATION_RELATIVE, client_cash_CNT_INSTALMENT_max_mean, bureau_DAYS_CREDIT_UPDATE_max, bureau_AMT_CREDIT_SUM_sum, client_installments_NUM_INSTALMENT_VERSION_mean_max, bureau_DAYS_CR..."
      ]
     },
     "execution_count": 8,
     "metadata": {},
     "output_type": "execute_result"
    }
   ],
   "source": [
    "val creditRiskFeatures = creditRiskdf.columns\n",
    "val features = creditRiskFeatures.filter(!_.contains(\"TARGET\"))"
   ]
  },
  {
   "cell_type": "code",
   "execution_count": 9,
   "metadata": {},
   "outputs": [
    {
     "data": {
      "text/plain": [
       "creditRiskFeatures: Array[String] = Array(EXT_SOURCE_2, EXT_SOURCE_3, client_installments_AMT_PAYMENT_min_sum, DAYS_BIRTH, AMT_CREDIT, AMT_ANNUITY, DAYS_EMPLOYED, bureau_DAYS_CREDIT_ENDDATE_max, bureau_DAYS_CREDIT_max, DAYS_ID_PUBLISH, bureau_DAYS_ENDDATE_FACT_max, bureau_AMT_CREDIT_SUM_DEBT_mean, previous_loans_CNT_PAYMENT_mean, client_cash_CNT_INSTALMENT_FUTURE_min_max, previous_loans_SELLERPLACE_AREA_max, DAYS_LAST_PHONE_CHANGE, bureau_AMT_CREDIT_SUM_max, bureau_AMT_CREDIT_SUM_mean, DAYS_REGISTRATION, client_installments_DAYS_INSTALMENT_max_max, previous_loans_AMT_DOWN_PAYMENT_max, CODE_GENDER_F, REGION_POPULATION_RELATIVE, client_cash_CNT_INSTALMENT_max_mean, bureau_DAYS_CREDIT_UPDATE_max, bureau_AMT_CREDIT_SUM_sum, client_installments_NUM_INSTALMENT_VERSION_mean_max, bureau_DAYS_CR..."
      ]
     },
     "execution_count": 9,
     "metadata": {},
     "output_type": "execute_result"
    }
   ],
   "source": [
    "val creditRiskFeatures = creditRiskdf.columns\n",
    "for (colName<-creditRiskFeatures){\n",
    "     |   train_df=train_df.withColumn(colName,col(colName).cast(\"Float\"))\n",
    "     | }"
   ]
  },
  {
   "cell_type": "code",
   "execution_count": 10,
   "metadata": {
    "collapsed": true
   },
   "outputs": [
    {
     "name": "stdout",
     "output_type": "stream",
     "text": [
      "root\n",
      " |-- EXT_SOURCE_2: float (nullable = true)\n",
      " |-- EXT_SOURCE_3: float (nullable = true)\n",
      " |-- client_installments_AMT_PAYMENT_min_sum: float (nullable = true)\n",
      " |-- DAYS_BIRTH: float (nullable = true)\n",
      " |-- AMT_CREDIT: float (nullable = true)\n",
      " |-- AMT_ANNUITY: float (nullable = true)\n",
      " |-- DAYS_EMPLOYED: float (nullable = true)\n",
      " |-- bureau_DAYS_CREDIT_ENDDATE_max: float (nullable = true)\n",
      " |-- bureau_DAYS_CREDIT_max: float (nullable = true)\n",
      " |-- DAYS_ID_PUBLISH: float (nullable = true)\n",
      " |-- bureau_DAYS_ENDDATE_FACT_max: float (nullable = true)\n",
      " |-- bureau_AMT_CREDIT_SUM_DEBT_mean: float (nullable = true)\n",
      " |-- previous_loans_CNT_PAYMENT_mean: float (nullable = true)\n",
      " |-- client_cash_CNT_INSTALMENT_FUTURE_min_max: float (nullable = true)\n",
      " |-- previous_loans_SELLERPLACE_AREA_max: float (nullable = true)\n",
      " |-- DAYS_LAST_PHONE_CHANGE: float (nullable = true)\n",
      " |-- bureau_AMT_CREDIT_SUM_max: float (nullable = true)\n",
      " |-- bureau_AMT_CREDIT_SUM_mean: float (nullable = true)\n",
      " |-- DAYS_REGISTRATION: float (nullable = true)\n",
      " |-- client_installments_DAYS_INSTALMENT_max_max: float (nullable = true)\n",
      " |-- previous_loans_AMT_DOWN_PAYMENT_max: float (nullable = true)\n",
      " |-- CODE_GENDER_F: float (nullable = true)\n",
      " |-- REGION_POPULATION_RELATIVE: float (nullable = true)\n",
      " |-- client_cash_CNT_INSTALMENT_max_mean: float (nullable = true)\n",
      " |-- bureau_DAYS_CREDIT_UPDATE_max: float (nullable = true)\n",
      " |-- bureau_AMT_CREDIT_SUM_sum: float (nullable = true)\n",
      " |-- client_installments_NUM_INSTALMENT_VERSION_mean_max: float (nullable = true)\n",
      " |-- bureau_DAYS_CREDIT_mean: float (nullable = true)\n",
      " |-- client_installments_AMT_PAYMENT_sum_mean: float (nullable = true)\n",
      " |-- client_installments_DAYS_INSTALMENT_min_max: float (nullable = true)\n",
      " |-- previous_loans_NAME_CONTRACT_STATUS_Refused_count_norm: float (nullable = true)\n",
      " |-- client_installments_AMT_INSTALMENT_max_max: float (nullable = true)\n",
      " |-- client_cash_CNT_INSTALMENT_FUTURE_min_mean: float (nullable = true)\n",
      " |-- client_installments_NUM_INSTALMENT_VERSION_max_mean: float (nullable = true)\n",
      " |-- bureau_DAYS_CREDIT_min: float (nullable = true)\n",
      " |-- previous_loans_NAME_YIELD_GROUP_high_count_norm: float (nullable = true)\n",
      " |-- previous_loans_RATE_DOWN_PAYMENT_sum: float (nullable = true)\n",
      " |-- client_installments_DAYS_ENTRY_PAYMENT_sum_max: float (nullable = true)\n",
      " |-- previous_loans_DAYS_FIRST_DUE_min: float (nullable = true)\n",
      " |-- client_cash_SK_DPD_DEF_sum_max: float (nullable = true)\n",
      " |-- previous_loans_DAYS_DECISION_max: float (nullable = true)\n",
      " |-- client_installments_AMT_INSTALMENT_min_mean: float (nullable = true)\n",
      " |-- bureau_AMT_CREDIT_SUM_LIMIT_mean: float (nullable = true)\n",
      " |-- bureau_DAYS_CREDIT_sum: float (nullable = true)\n",
      " |-- previous_loans_DAYS_LAST_DUE_1ST_VERSION_max: float (nullable = true)\n",
      " |-- previous_loans_PRODUCT_COMBINATION_Cash X-Sell: low_count_norm: float (nullable = true)\n",
      " |-- previous_loans_HOUR_APPR_PROCESS_START_mean: float (nullable = true)\n",
      " |-- bureau_AMT_CREDIT_SUM_DEBT_max: float (nullable = true)\n",
      " |-- bureau_AMT_CREDIT_SUM_min: float (nullable = true)\n",
      " |-- previous_loans_AMT_DOWN_PAYMENT_mean: float (nullable = true)\n",
      " |-- NAME_FAMILY_STATUS_Married: float (nullable = true)\n",
      " |-- previous_loans_CNT_PAYMENT_max: float (nullable = true)\n",
      " |-- client_installments_AMT_INSTALMENT_mean_min: float (nullable = true)\n",
      " |-- AMT_INCOME_TOTAL: float (nullable = true)\n",
      " |-- previous_loans_DAYS_LAST_DUE_sum: float (nullable = true)\n",
      " |-- client_cash_MONTHS_BALANCE_max_mean: float (nullable = true)\n",
      " |-- NAME_EDUCATION_TYPE_Higher education: float (nullable = true)\n",
      " |-- client_cash_MONTHS_BALANCE_sum_mean: float (nullable = true)\n",
      " |-- bureau_DAYS_CREDIT_ENDDATE_mean: float (nullable = true)\n",
      " |-- REGION_RATING_CLIENT: float (nullable = true)\n",
      " |-- previous_loans_AMT_GOODS_PRICE_min: float (nullable = true)\n",
      " |-- bureau_DAYS_ENDDATE_FACT_min: float (nullable = true)\n",
      " |-- bureau_DAYS_CREDIT_ENDDATE_min: float (nullable = true)\n",
      " |-- previous_loans_AMT_ANNUITY_mean: float (nullable = true)\n",
      " |-- client_installments_AMT_PAYMENT_max_min: float (nullable = true)\n",
      " |-- client_installments_AMT_INSTALMENT_min_max: float (nullable = true)\n",
      " |-- client_installments_AMT_PAYMENT_sum_min: float (nullable = true)\n",
      " |-- bureau_CREDIT_TYPE_Mortgage_count_norm: float (nullable = true)\n",
      " |-- previous_loans_AMT_ANNUITY_max: float (nullable = true)\n",
      " |-- previous_loans_AMT_ANNUITY_min: float (nullable = true)\n",
      " |-- previous_loans_RATE_DOWN_PAYMENT_max: float (nullable = true)\n",
      " |-- previous_loans_NAME_YIELD_GROUP_low_normal_count_norm: float (nullable = true)\n",
      " |-- previous_loans_PRODUCT_COMBINATION_Cash X-Sell: high_count_norm: float (nullable = true)\n",
      " |-- bureau_DAYS_CREDIT_ENDDATE_sum: float (nullable = true)\n",
      " |-- bureau_CREDIT_ACTIVE_Active_count: float (nullable = true)\n",
      " |-- previous_loans_NAME_YIELD_GROUP_low_action_count_norm: float (nullable = true)\n",
      " |-- client_cash_counts_mean: float (nullable = true)\n",
      " |-- client_installments_AMT_INSTALMENT_mean_max: float (nullable = true)\n",
      " |-- client_cash_MONTHS_BALANCE_sum_max: float (nullable = true)\n",
      " |-- client_cash_CNT_INSTALMENT_sum_min: float (nullable = true)\n",
      " |-- bureau_CREDIT_ACTIVE_Active_count_norm: float (nullable = true)\n",
      " |-- bureau_DAYS_CREDIT_UPDATE_min: float (nullable = true)\n",
      " |-- DEF_60_CNT_SOCIAL_CIRCLE: float (nullable = true)\n",
      " |-- FLAG_DOCUMENT_3: float (nullable = true)\n",
      " |-- bureau_DAYS_ENDDATE_FACT_mean: float (nullable = true)\n",
      " |-- bureau_AMT_CREDIT_SUM_LIMIT_max: float (nullable = true)\n",
      " |-- client_cash_SK_DPD_max_sum: float (nullable = true)\n",
      " |-- previous_loans_AMT_GOODS_PRICE_mean: float (nullable = true)\n",
      " |-- client_installments_AMT_PAYMENT_max_sum: float (nullable = true)\n",
      " |-- client_installments_NUM_INSTALMENT_VERSION_sum_mean: float (nullable = true)\n",
      " |-- client_installments_AMT_INSTALMENT_min_min: float (nullable = true)\n",
      " |-- previous_loans_NAME_TYPE_SUITE_Unaccompanied_count_norm: float (nullable = true)\n",
      " |-- client_cash_NAME_CONTRACT_STATUS_Active_count_norm_mean: float (nullable = true)\n",
      " |-- client_installments_NUM_INSTALMENT_NUMBER_max_mean: float (nullable = true)\n",
      " |-- client_cash_CNT_INSTALMENT_max_max: float (nullable = true)\n",
      " |-- client_installments_DAYS_ENTRY_PAYMENT_max_min: float (nullable = true)\n",
      " |-- client_installments_AMT_PAYMENT_max_mean: float (nullable = true)\n",
      " |-- client_cash_counts_sum: float (nullable = true)\n",
      " |-- previous_loans_NAME_CONTRACT_STATUS_Approved_count_norm: float (nullable = true)\n",
      " |-- client_cash_CNT_INSTALMENT_min_mean: float (nullable = true)\n",
      " |-- client_cash_CNT_INSTALMENT_mean_min: float (nullable = true)\n",
      " |-- client_installments_AMT_INSTALMENT_sum_max: float (nullable = true)\n",
      " |-- previous_loans_AMT_ANNUITY_sum: float (nullable = true)\n",
      " |-- client_installments_AMT_PAYMENT_mean_sum: float (nullable = true)\n",
      " |-- previous_loans_DAYS_DECISION_mean: float (nullable = true)\n",
      " |-- previous_loans_PRODUCT_COMBINATION_Cash Street: low_count_norm: float (nullable = true)\n",
      " |-- previous_loans_DAYS_LAST_DUE_1ST_VERSION_mean: float (nullable = true)\n",
      " |-- HOUR_APPR_PROCESS_START: float (nullable = true)\n",
      " |-- previous_loans_DAYS_LAST_DUE_1ST_VERSION_min: float (nullable = true)\n",
      " |-- bureau_CREDIT_TYPE_Consumer credit_count_norm: float (nullable = true)\n",
      " |-- previous_loans_HOUR_APPR_PROCESS_START_max: float (nullable = true)\n",
      " |-- previous_loans_CODE_REJECT_REASON_HC_count_norm: float (nullable = true)\n",
      " |-- previous_loans_NAME_PRODUCT_TYPE_walk-in_count_norm: float (nullable = true)\n",
      " |-- previous_loans_CNT_PAYMENT_sum: float (nullable = true)\n",
      " |-- bureau_DAYS_CREDIT_UPDATE_mean: float (nullable = true)\n",
      " |-- previous_loans_DAYS_DECISION_sum: float (nullable = true)\n",
      " |-- previous_loans_PRODUCT_COMBINATION_POS industry with interest_count_norm: float (nullable = true)\n",
      " |-- client_cash_MONTHS_BALANCE_max_sum: float (nullable = true)\n",
      " |-- previous_loans_AMT_CREDIT_min: float (nullable = true)\n",
      " |-- previous_loans_NAME_CLIENT_TYPE_Refreshed_count_norm: float (nullable = true)\n",
      " |-- client_bureau_balance_MONTHS_BALANCE_mean_sum: float (nullable = true)\n",
      " |-- previous_loans_PRODUCT_COMBINATION_Cash Street: high_count_norm: float (nullable = true)\n",
      " |-- previous_loans_RATE_DOWN_PAYMENT_mean: float (nullable = true)\n",
      " |-- bureau_AMT_CREDIT_SUM_DEBT_min: float (nullable = true)\n",
      " |-- NAME_CONTRACT_TYPE_Cash loans: float (nullable = true)\n",
      " |-- client_installments_AMT_INSTALMENT_min_sum: float (nullable = true)\n",
      " |-- previous_loans_AMT_APPLICATION_max: float (nullable = true)\n",
      " |-- client_installments_NUM_INSTALMENT_VERSION_sum_max: float (nullable = true)\n",
      " |-- previous_loans_RATE_DOWN_PAYMENT_min: float (nullable = true)\n",
      " |-- client_installments_AMT_INSTALMENT_mean_mean: float (nullable = true)\n",
      " |-- client_installments_NUM_INSTALMENT_VERSION_sum_sum: float (nullable = true)\n",
      " |-- previous_loans_NAME_TYPE_SUITE_Family_count_norm: float (nullable = true)\n",
      " |-- previous_loans_DAYS_TERMINATION_mean: float (nullable = true)\n",
      " |-- client_cash_CNT_INSTALMENT_FUTURE_max_sum: float (nullable = true)\n",
      " |-- previous_loans_NAME_PAYMENT_TYPE_XNA_count_norm: float (nullable = true)\n",
      " |-- bureau_CREDIT_TYPE_Credit card_count_norm: float (nullable = true)\n",
      " |-- client_installments_DAYS_ENTRY_PAYMENT_min_sum: float (nullable = true)\n",
      " |-- OBS_30_CNT_SOCIAL_CIRCLE: float (nullable = true)\n",
      " |-- client_installments_AMT_INSTALMENT_sum_sum: float (nullable = true)\n",
      " |-- client_installments_NUM_INSTALMENT_VERSION_mean_sum: float (nullable = true)\n",
      " |-- FLAG_DOCUMENT_18: float (nullable = true)\n",
      " |-- client_cash_CNT_INSTALMENT_FUTURE_min_sum: float (nullable = true)\n",
      " |-- previous_loans_CHANNEL_TYPE_Credit and cash offices_count_norm: float (nullable = true)\n",
      " |-- previous_loans_CHANNEL_TYPE_Contact center_count_norm: float (nullable = true)\n",
      " |-- bureau_CREDIT_TYPE_Car loan_count_norm: float (nullable = true)\n",
      " |-- previous_loans_NAME_PORTFOLIO_POS_count_norm: float (nullable = true)\n",
      " |-- client_installments_NUM_INSTALMENT_NUMBER_min_mean: float (nullable = true)\n",
      " |-- previous_loans_WEEKDAY_APPR_PROCESS_START_TUESDAY_count_norm: float (nullable = true)\n",
      " |-- previous_loans_NAME_GOODS_CATEGORY_Furniture_count_norm: float (nullable = true)\n",
      " |-- client_cash_NAME_CONTRACT_STATUS_Completed_count_norm_max: float (nullable = true)\n",
      " |-- AMT_REQ_CREDIT_BUREAU_QRT: float (nullable = true)\n",
      " |-- NAME_INCOME_TYPE_Working: float (nullable = true)\n",
      " |-- client_cash_NAME_CONTRACT_STATUS_Active_count_norm_min: float (nullable = true)\n",
      " |-- previous_loans_AMT_DOWN_PAYMENT_min: float (nullable = true)\n",
      " |-- bureau_CREDIT_TYPE_Microloan_count_norm: float (nullable = true)\n",
      " |-- previous_loans_DAYS_TERMINATION_min: float (nullable = true)\n",
      " |-- previous_loans_CHANNEL_TYPE_Channel of corporate sales_count_norm: float (nullable = true)\n",
      " |-- previous_loans_WEEKDAY_APPR_PROCESS_START_SUNDAY_count_norm: float (nullable = true)\n",
      " |-- previous_loans_CHANNEL_TYPE_Stone_count_norm: float (nullable = true)\n",
      " |-- NAME_EDUCATION_TYPE_Secondary / secondary special: float (nullable = true)\n",
      " |-- client_bureau_balance_STATUS_0_count_sum: float (nullable = true)\n",
      " |-- OCCUPATION_TYPE_Core staff: float (nullable = true)\n",
      " |-- previous_loans_NAME_YIELD_GROUP_middle_count_norm: float (nullable = true)\n",
      " |-- client_cash_NAME_CONTRACT_STATUS_Completed_count_norm_mean: float (nullable = true)\n",
      " |-- bureau_AMT_CREDIT_SUM_OVERDUE_max: float (nullable = true)\n",
      " |-- REG_CITY_NOT_LIVE_CITY: float (nullable = true)\n",
      " |-- ORGANIZATION_TYPE_Business Entity Type 3: float (nullable = true)\n",
      " |-- bureau_CREDIT_ACTIVE_Closed_count: float (nullable = true)\n",
      " |-- ORGANIZATION_TYPE_Self-employed: float (nullable = true)\n",
      " |-- previous_loans_NAME_PORTFOLIO_Cash_count_norm: float (nullable = true)\n",
      " |-- previous_loans_WEEKDAY_APPR_PROCESS_START_WEDNESDAY_count_norm: float (nullable = true)\n",
      " |-- client_installments_NUM_INSTALMENT_VERSION_mean_min: float (nullable = true)\n",
      " |-- client_cash_NAME_CONTRACT_STATUS_Completed_count_sum: float (nullable = true)\n",
      " |-- previous_loans_CODE_REJECT_REASON_SCO_count_norm: float (nullable = true)\n",
      " |-- previous_loans_NAME_GOODS_CATEGORY_Computers_count_norm: float (nullable = true)\n",
      " |-- previous_loans_NAME_YIELD_GROUP_XNA_count_norm: float (nullable = true)\n",
      " |-- previous_loans_PRODUCT_COMBINATION_POS household without interest_count_norm: float (nullable = true)\n",
      " |-- previous_loans_NAME_PRODUCT_TYPE_XNA_count_norm: float (nullable = true)\n",
      " |-- bureau_AMT_CREDIT_SUM_LIMIT_min: float (nullable = true)\n",
      " |-- previous_loans_NAME_PRODUCT_TYPE_x-sell_count_norm: float (nullable = true)\n",
      " |-- previous_loans_WEEKDAY_APPR_PROCESS_START_MONDAY_count_norm: float (nullable = true)\n",
      " |-- previous_loans_WEEKDAY_APPR_PROCESS_START_SATURDAY_count_norm: float (nullable = true)\n",
      " |-- previous_loans_NAME_CLIENT_TYPE_New_count_norm: float (nullable = true)\n",
      " |-- previous_loans_CHANNEL_TYPE_AP+ (Cash loan)_count_norm: float (nullable = true)\n",
      " |-- previous_loans_NFLAG_INSURED_ON_APPROVAL_mean: float (nullable = true)\n",
      " |-- previous_loans_NAME_GOODS_CATEGORY_Audio/Video_count_norm: float (nullable = true)\n",
      " |-- client_cash_SK_DPD_mean_min: float (nullable = true)\n",
      " |-- previous_loans_NAME_GOODS_CATEGORY_Clothing and Accessories_count_norm: float (nullable = true)\n",
      " |-- DEF_30_CNT_SOCIAL_CIRCLE: float (nullable = true)\n",
      " |-- client_installments_NUM_INSTALMENT_NUMBER_mean_min: float (nullable = true)\n",
      " |-- client_installments_NUM_INSTALMENT_NUMBER_sum_min: float (nullable = true)\n",
      " |-- previous_loans_NAME_PORTFOLIO_XNA_count_norm: float (nullable = true)\n",
      " |-- previous_loans_NAME_CLIENT_TYPE_Repeater_count_norm: float (nullable = true)\n",
      " |-- previous_loans_NAME_SELLER_INDUSTRY_Connectivity_count_norm: float (nullable = true)\n",
      " |-- bureau_CREDIT_TYPE_Credit card_count: float (nullable = true)\n",
      " |-- previous_loans_NAME_CONTRACT_STATUS_Canceled_count_norm: float (nullable = true)\n",
      " |-- OCCUPATION_TYPE_Drivers: float (nullable = true)\n",
      " |-- previous_loans_HOUR_APPR_PROCESS_START_min: float (nullable = true)\n",
      " |-- client_cash_NAME_CONTRACT_STATUS_Signed_count_norm_max: float (nullable = true)\n",
      " |-- OCCUPATION_TYPE_Laborers: float (nullable = true)\n",
      " |-- client_cash_CNT_INSTALMENT_min_max: float (nullable = true)\n",
      " |-- previous_loans_WEEKDAY_APPR_PROCESS_START_THURSDAY_count_norm: float (nullable = true)\n",
      " |-- ORGANIZATION_TYPE_Construction: float (nullable = true)\n",
      " |-- client_cash_NAME_CONTRACT_STATUS_Active_count_max: float (nullable = true)\n",
      " |-- client_cash_SK_DPD_DEF_sum_min: float (nullable = true)\n",
      " |-- previous_loans_NAME_CONTRACT_TYPE_Cash loans_count_norm: float (nullable = true)\n",
      " |-- previous_loans_DAYS_FIRST_DRAWING_mean: float (nullable = true)\n",
      " |-- previous_loans_PRODUCT_COMBINATION_Cash X-Sell: middle_count_norm: float (nullable = true)\n",
      " |-- previous_loans_NAME_CASH_LOAN_PURPOSE_Other_count_norm: float (nullable = true)\n",
      " |-- client_bureau_balance_STATUS_0_count_norm_sum: float (nullable = true)\n",
      " |-- client_installments_NUM_INSTALMENT_VERSION_sum_min: float (nullable = true)\n",
      " |-- previous_loans_CHANNEL_TYPE_Country-wide_count_norm: float (nullable = true)\n",
      " |-- client_cash_NAME_CONTRACT_STATUS_Signed_count_sum: float (nullable = true)\n",
      " |-- AMT_REQ_CREDIT_BUREAU_YEAR: float (nullable = true)\n",
      " |-- bureau_CREDIT_TYPE_Microloan_count: float (nullable = true)\n",
      " |-- NAME_INCOME_TYPE_State servant: float (nullable = true)\n",
      " |-- previous_loans_DAYS_TERMINATION_max: float (nullable = true)\n",
      " |-- FLAG_WORK_PHONE: float (nullable = true)\n",
      " |-- previous_loans_NAME_GOODS_CATEGORY_Photo / Cinema Equipment_count_norm: float (nullable = true)\n",
      " |-- previous_loans_WEEKDAY_APPR_PROCESS_START_FRIDAY_count_norm: float (nullable = true)\n",
      " |-- previous_loans_WEEKDAY_APPR_PROCESS_START_THURSDAY_count: float (nullable = true)\n",
      " |-- ORGANIZATION_TYPE_Military: float (nullable = true)\n",
      " |-- previous_loans_PRODUCT_COMBINATION_POS household with interest_count_norm: float (nullable = true)\n",
      " |-- client_installments_NUM_INSTALMENT_VERSION_min_sum: float (nullable = true)\n",
      " |-- client_cash_NAME_CONTRACT_STATUS_Completed_count_norm_sum: float (nullable = true)\n",
      " |-- FLAG_DOCUMENT_16: float (nullable = true)\n",
      " |-- previous_loans_NAME_TYPE_SUITE_Spouse, partner_count_norm: float (nullable = true)\n",
      " |-- client_cash_NAME_CONTRACT_STATUS_Returned to the store_count_sum: float (nullable = true)\n",
      " |-- ORGANIZATION_TYPE_Industry: type 9: float (nullable = true)\n",
      " |-- AMT_REQ_CREDIT_BUREAU_MON: float (nullable = true)\n",
      " |-- previous_loans_NAME_CONTRACT_STATUS_Approved_count: float (nullable = true)\n",
      " |-- bureau_CREDIT_ACTIVE_Sold_count_norm: float (nullable = true)\n"
     ]
    },
    {
     "name": "stdout",
     "output_type": "stream",
     "text": [
      " |-- previous_loans_NAME_GOODS_CATEGORY_Mobile_count_norm: float (nullable = true)\n",
      " |-- bureau_AMT_CREDIT_SUM_OVERDUE_mean: float (nullable = true)\n",
      " |-- previous_loans_NAME_SELLER_INDUSTRY_Construction_count_norm: float (nullable = true)\n",
      " |-- previous_loans_CODE_REJECT_REASON_SCOFR_count_norm: float (nullable = true)\n",
      " |-- previous_loans_NAME_SELLER_INDUSTRY_Furniture_count_norm: float (nullable = true)\n",
      " |-- client_cash_NAME_CONTRACT_STATUS_Active_count_norm_max: float (nullable = true)\n",
      " |-- previous_loans_NAME_GOODS_CATEGORY_Construction Materials_count_norm: float (nullable = true)\n",
      " |-- client_bureau_balance_STATUS_1_count_norm_sum: float (nullable = true)\n",
      " |-- previous_loans_PRODUCT_COMBINATION_Cash Street: middle_count_norm: float (nullable = true)\n",
      " |-- previous_loans_PRODUCT_COMBINATION_POS other with interest_count_norm: float (nullable = true)\n",
      " |-- client_cash_CNT_INSTALMENT_min_min: float (nullable = true)\n",
      " |-- previous_loans_CODE_REJECT_REASON_VERIF_count_norm: float (nullable = true)\n",
      " |-- previous_loans_CODE_REJECT_REASON_LIMIT_count_norm: float (nullable = true)\n",
      " |-- client_bureau_balance_STATUS_X_count_norm_sum: float (nullable = true)\n",
      " |-- previous_loans_PRODUCT_COMBINATION_Cash_count_norm: float (nullable = true)\n",
      " |-- previous_loans_NAME_GOODS_CATEGORY_Consumer Electronics_count_norm: float (nullable = true)\n",
      " |-- previous_loans_CHANNEL_TYPE_Regional / Local_count_norm: float (nullable = true)\n",
      " |-- previous_loans_WEEKDAY_APPR_PROCESS_START_SUNDAY_count: float (nullable = true)\n",
      " |-- FLAG_DOCUMENT_13: float (nullable = true)\n",
      " |-- previous_loans_CODE_REJECT_REASON_CLIENT_count_norm: float (nullable = true)\n",
      " |-- client_bureau_balance_STATUS_X_count_sum: float (nullable = true)\n",
      " |-- previous_loans_NAME_YIELD_GROUP_middle_count: float (nullable = true)\n",
      " |-- previous_loans_NAME_CONTRACT_TYPE_Revolving loans_count_norm: float (nullable = true)\n",
      " |-- previous_loans_NAME_PRODUCT_TYPE_XNA_count: float (nullable = true)\n",
      " |-- previous_loans_NAME_GOODS_CATEGORY_Jewelry_count_norm: float (nullable = true)\n",
      " |-- WALLSMATERIAL_MODE_Stone, brick: float (nullable = true)\n",
      " |-- previous_loans_NAME_SELLER_INDUSTRY_Consumer electronics_count_norm: float (nullable = true)\n",
      " |-- previous_loans_CNT_PAYMENT_min: float (nullable = true)\n",
      " |-- previous_loans_NAME_YIELD_GROUP_high_count: float (nullable = true)\n",
      " |-- NAME_FAMILY_STATUS_Separated: float (nullable = true)\n",
      " |-- NAME_HOUSING_TYPE_House / apartment: float (nullable = true)\n",
      " |-- client_cash_NAME_CONTRACT_STATUS_Signed_count_norm_mean: float (nullable = true)\n",
      " |-- previous_loans_NAME_CONTRACT_STATUS_Refused_count: float (nullable = true)\n",
      " |-- previous_loans_PRODUCT_COMBINATION_Card Street_count_norm: float (nullable = true)\n",
      " |-- client_installments_NUM_INSTALMENT_NUMBER_max_min: float (nullable = true)\n",
      " |-- previous_loans_PRODUCT_COMBINATION_POS industry without interest_count_norm: float (nullable = true)\n",
      " |-- previous_loans_CHANNEL_TYPE_Regional / Local_count: float (nullable = true)\n",
      " |-- ORGANIZATION_TYPE_Transport: type 3: float (nullable = true)\n",
      " |-- client_cash_NAME_CONTRACT_STATUS_Returned to the store_count_norm_max: float (nullable = true)\n",
      " |-- ORGANIZATION_TYPE_School: float (nullable = true)\n",
      " |-- previous_loans_NAME_TYPE_SUITE_Other_B_count_norm: float (nullable = true)\n",
      " |-- bureau_CNT_CREDIT_PROLONG_mean: float (nullable = true)\n",
      " |-- client_bureau_balance_MONTHS_BALANCE_max_sum: float (nullable = true)\n",
      " |-- client_cash_NAME_CONTRACT_STATUS_Active_count_min: float (nullable = true)\n",
      " |-- WEEKDAY_APPR_PROCESS_START_WEDNESDAY: float (nullable = true)\n",
      " |-- OCCUPATION_TYPE_High skill tech staff: float (nullable = true)\n",
      " |-- previous_loans_NAME_PAYMENT_TYPE_XNA_count: float (nullable = true)\n",
      " |-- FLAG_PHONE: float (nullable = true)\n",
      " |-- TARGET: float (nullable = true)\n",
      " |-- SK_ID_CURR: float (nullable = true)\n",
      "\n"
     ]
    }
   ],
   "source": [
    "train_df.printSchema()"
   ]
  },
  {
   "cell_type": "code",
   "execution_count": 11,
   "metadata": {},
   "outputs": [
    {
     "data": {
      "text/plain": [
       "assembler: org.apache.spark.ml.feature.VectorAssembler = vecAssembler_f9c7497e25e0\n",
       "df2: org.apache.spark.sql.DataFrame = [EXT_SOURCE_2: float, EXT_SOURCE_3: float ... 281 more fields]\n"
      ]
     },
     "execution_count": 11,
     "metadata": {},
     "output_type": "execute_result"
    }
   ],
   "source": [
    "val assembler = new VectorAssembler().setInputCols(features).setOutputCol(\"features\")\n",
    "val df2 = assembler.transform(train_df)"
   ]
  },
  {
   "cell_type": "code",
   "execution_count": 12,
   "metadata": {
    "collapsed": true
   },
   "outputs": [
    {
     "name": "stdout",
     "output_type": "stream",
     "text": [
      "root\n",
      " |-- EXT_SOURCE_2: float (nullable = true)\n",
      " |-- EXT_SOURCE_3: float (nullable = true)\n",
      " |-- client_installments_AMT_PAYMENT_min_sum: float (nullable = true)\n",
      " |-- DAYS_BIRTH: float (nullable = true)\n",
      " |-- AMT_CREDIT: float (nullable = true)\n",
      " |-- AMT_ANNUITY: float (nullable = true)\n",
      " |-- DAYS_EMPLOYED: float (nullable = true)\n",
      " |-- bureau_DAYS_CREDIT_ENDDATE_max: float (nullable = true)\n",
      " |-- bureau_DAYS_CREDIT_max: float (nullable = true)\n",
      " |-- DAYS_ID_PUBLISH: float (nullable = true)\n",
      " |-- bureau_DAYS_ENDDATE_FACT_max: float (nullable = true)\n",
      " |-- bureau_AMT_CREDIT_SUM_DEBT_mean: float (nullable = true)\n",
      " |-- previous_loans_CNT_PAYMENT_mean: float (nullable = true)\n",
      " |-- client_cash_CNT_INSTALMENT_FUTURE_min_max: float (nullable = true)\n",
      " |-- previous_loans_SELLERPLACE_AREA_max: float (nullable = true)\n",
      " |-- DAYS_LAST_PHONE_CHANGE: float (nullable = true)\n",
      " |-- bureau_AMT_CREDIT_SUM_max: float (nullable = true)\n",
      " |-- bureau_AMT_CREDIT_SUM_mean: float (nullable = true)\n",
      " |-- DAYS_REGISTRATION: float (nullable = true)\n",
      " |-- client_installments_DAYS_INSTALMENT_max_max: float (nullable = true)\n",
      " |-- previous_loans_AMT_DOWN_PAYMENT_max: float (nullable = true)\n",
      " |-- CODE_GENDER_F: float (nullable = true)\n",
      " |-- REGION_POPULATION_RELATIVE: float (nullable = true)\n",
      " |-- client_cash_CNT_INSTALMENT_max_mean: float (nullable = true)\n",
      " |-- bureau_DAYS_CREDIT_UPDATE_max: float (nullable = true)\n",
      " |-- bureau_AMT_CREDIT_SUM_sum: float (nullable = true)\n",
      " |-- client_installments_NUM_INSTALMENT_VERSION_mean_max: float (nullable = true)\n",
      " |-- bureau_DAYS_CREDIT_mean: float (nullable = true)\n",
      " |-- client_installments_AMT_PAYMENT_sum_mean: float (nullable = true)\n",
      " |-- client_installments_DAYS_INSTALMENT_min_max: float (nullable = true)\n",
      " |-- previous_loans_NAME_CONTRACT_STATUS_Refused_count_norm: float (nullable = true)\n",
      " |-- client_installments_AMT_INSTALMENT_max_max: float (nullable = true)\n",
      " |-- client_cash_CNT_INSTALMENT_FUTURE_min_mean: float (nullable = true)\n",
      " |-- client_installments_NUM_INSTALMENT_VERSION_max_mean: float (nullable = true)\n",
      " |-- bureau_DAYS_CREDIT_min: float (nullable = true)\n",
      " |-- previous_loans_NAME_YIELD_GROUP_high_count_norm: float (nullable = true)\n",
      " |-- previous_loans_RATE_DOWN_PAYMENT_sum: float (nullable = true)\n",
      " |-- client_installments_DAYS_ENTRY_PAYMENT_sum_max: float (nullable = true)\n",
      " |-- previous_loans_DAYS_FIRST_DUE_min: float (nullable = true)\n",
      " |-- client_cash_SK_DPD_DEF_sum_max: float (nullable = true)\n",
      " |-- previous_loans_DAYS_DECISION_max: float (nullable = true)\n",
      " |-- client_installments_AMT_INSTALMENT_min_mean: float (nullable = true)\n",
      " |-- bureau_AMT_CREDIT_SUM_LIMIT_mean: float (nullable = true)\n",
      " |-- bureau_DAYS_CREDIT_sum: float (nullable = true)\n",
      " |-- previous_loans_DAYS_LAST_DUE_1ST_VERSION_max: float (nullable = true)\n",
      " |-- previous_loans_PRODUCT_COMBINATION_Cash X-Sell: low_count_norm: float (nullable = true)\n",
      " |-- previous_loans_HOUR_APPR_PROCESS_START_mean: float (nullable = true)\n",
      " |-- bureau_AMT_CREDIT_SUM_DEBT_max: float (nullable = true)\n",
      " |-- bureau_AMT_CREDIT_SUM_min: float (nullable = true)\n",
      " |-- previous_loans_AMT_DOWN_PAYMENT_mean: float (nullable = true)\n",
      " |-- NAME_FAMILY_STATUS_Married: float (nullable = true)\n",
      " |-- previous_loans_CNT_PAYMENT_max: float (nullable = true)\n",
      " |-- client_installments_AMT_INSTALMENT_mean_min: float (nullable = true)\n",
      " |-- AMT_INCOME_TOTAL: float (nullable = true)\n",
      " |-- previous_loans_DAYS_LAST_DUE_sum: float (nullable = true)\n",
      " |-- client_cash_MONTHS_BALANCE_max_mean: float (nullable = true)\n",
      " |-- NAME_EDUCATION_TYPE_Higher education: float (nullable = true)\n",
      " |-- client_cash_MONTHS_BALANCE_sum_mean: float (nullable = true)\n",
      " |-- bureau_DAYS_CREDIT_ENDDATE_mean: float (nullable = true)\n",
      " |-- REGION_RATING_CLIENT: float (nullable = true)\n",
      " |-- previous_loans_AMT_GOODS_PRICE_min: float (nullable = true)\n",
      " |-- bureau_DAYS_ENDDATE_FACT_min: float (nullable = true)\n",
      " |-- bureau_DAYS_CREDIT_ENDDATE_min: float (nullable = true)\n",
      " |-- previous_loans_AMT_ANNUITY_mean: float (nullable = true)\n",
      " |-- client_installments_AMT_PAYMENT_max_min: float (nullable = true)\n",
      " |-- client_installments_AMT_INSTALMENT_min_max: float (nullable = true)\n",
      " |-- client_installments_AMT_PAYMENT_sum_min: float (nullable = true)\n",
      " |-- bureau_CREDIT_TYPE_Mortgage_count_norm: float (nullable = true)\n",
      " |-- previous_loans_AMT_ANNUITY_max: float (nullable = true)\n",
      " |-- previous_loans_AMT_ANNUITY_min: float (nullable = true)\n",
      " |-- previous_loans_RATE_DOWN_PAYMENT_max: float (nullable = true)\n",
      " |-- previous_loans_NAME_YIELD_GROUP_low_normal_count_norm: float (nullable = true)\n",
      " |-- previous_loans_PRODUCT_COMBINATION_Cash X-Sell: high_count_norm: float (nullable = true)\n",
      " |-- bureau_DAYS_CREDIT_ENDDATE_sum: float (nullable = true)\n",
      " |-- bureau_CREDIT_ACTIVE_Active_count: float (nullable = true)\n",
      " |-- previous_loans_NAME_YIELD_GROUP_low_action_count_norm: float (nullable = true)\n",
      " |-- client_cash_counts_mean: float (nullable = true)\n",
      " |-- client_installments_AMT_INSTALMENT_mean_max: float (nullable = true)\n",
      " |-- client_cash_MONTHS_BALANCE_sum_max: float (nullable = true)\n",
      " |-- client_cash_CNT_INSTALMENT_sum_min: float (nullable = true)\n",
      " |-- bureau_CREDIT_ACTIVE_Active_count_norm: float (nullable = true)\n",
      " |-- bureau_DAYS_CREDIT_UPDATE_min: float (nullable = true)\n",
      " |-- DEF_60_CNT_SOCIAL_CIRCLE: float (nullable = true)\n",
      " |-- FLAG_DOCUMENT_3: float (nullable = true)\n",
      " |-- bureau_DAYS_ENDDATE_FACT_mean: float (nullable = true)\n",
      " |-- bureau_AMT_CREDIT_SUM_LIMIT_max: float (nullable = true)\n",
      " |-- client_cash_SK_DPD_max_sum: float (nullable = true)\n",
      " |-- previous_loans_AMT_GOODS_PRICE_mean: float (nullable = true)\n",
      " |-- client_installments_AMT_PAYMENT_max_sum: float (nullable = true)\n",
      " |-- client_installments_NUM_INSTALMENT_VERSION_sum_mean: float (nullable = true)\n",
      " |-- client_installments_AMT_INSTALMENT_min_min: float (nullable = true)\n",
      " |-- previous_loans_NAME_TYPE_SUITE_Unaccompanied_count_norm: float (nullable = true)\n",
      " |-- client_cash_NAME_CONTRACT_STATUS_Active_count_norm_mean: float (nullable = true)\n",
      " |-- client_installments_NUM_INSTALMENT_NUMBER_max_mean: float (nullable = true)\n",
      " |-- client_cash_CNT_INSTALMENT_max_max: float (nullable = true)\n",
      " |-- client_installments_DAYS_ENTRY_PAYMENT_max_min: float (nullable = true)\n",
      " |-- client_installments_AMT_PAYMENT_max_mean: float (nullable = true)\n",
      " |-- client_cash_counts_sum: float (nullable = true)\n",
      " |-- previous_loans_NAME_CONTRACT_STATUS_Approved_count_norm: float (nullable = true)\n",
      " |-- client_cash_CNT_INSTALMENT_min_mean: float (nullable = true)\n",
      " |-- client_cash_CNT_INSTALMENT_mean_min: float (nullable = true)\n",
      " |-- client_installments_AMT_INSTALMENT_sum_max: float (nullable = true)\n",
      " |-- previous_loans_AMT_ANNUITY_sum: float (nullable = true)\n",
      " |-- client_installments_AMT_PAYMENT_mean_sum: float (nullable = true)\n",
      " |-- previous_loans_DAYS_DECISION_mean: float (nullable = true)\n",
      " |-- previous_loans_PRODUCT_COMBINATION_Cash Street: low_count_norm: float (nullable = true)\n",
      " |-- previous_loans_DAYS_LAST_DUE_1ST_VERSION_mean: float (nullable = true)\n",
      " |-- HOUR_APPR_PROCESS_START: float (nullable = true)\n",
      " |-- previous_loans_DAYS_LAST_DUE_1ST_VERSION_min: float (nullable = true)\n",
      " |-- bureau_CREDIT_TYPE_Consumer credit_count_norm: float (nullable = true)\n",
      " |-- previous_loans_HOUR_APPR_PROCESS_START_max: float (nullable = true)\n",
      " |-- previous_loans_CODE_REJECT_REASON_HC_count_norm: float (nullable = true)\n",
      " |-- previous_loans_NAME_PRODUCT_TYPE_walk-in_count_norm: float (nullable = true)\n",
      " |-- previous_loans_CNT_PAYMENT_sum: float (nullable = true)\n",
      " |-- bureau_DAYS_CREDIT_UPDATE_mean: float (nullable = true)\n",
      " |-- previous_loans_DAYS_DECISION_sum: float (nullable = true)\n",
      " |-- previous_loans_PRODUCT_COMBINATION_POS industry with interest_count_norm: float (nullable = true)\n",
      " |-- client_cash_MONTHS_BALANCE_max_sum: float (nullable = true)\n",
      " |-- previous_loans_AMT_CREDIT_min: float (nullable = true)\n",
      " |-- previous_loans_NAME_CLIENT_TYPE_Refreshed_count_norm: float (nullable = true)\n",
      " |-- client_bureau_balance_MONTHS_BALANCE_mean_sum: float (nullable = true)\n",
      " |-- previous_loans_PRODUCT_COMBINATION_Cash Street: high_count_norm: float (nullable = true)\n",
      " |-- previous_loans_RATE_DOWN_PAYMENT_mean: float (nullable = true)\n",
      " |-- bureau_AMT_CREDIT_SUM_DEBT_min: float (nullable = true)\n",
      " |-- NAME_CONTRACT_TYPE_Cash loans: float (nullable = true)\n",
      " |-- client_installments_AMT_INSTALMENT_min_sum: float (nullable = true)\n",
      " |-- previous_loans_AMT_APPLICATION_max: float (nullable = true)\n",
      " |-- client_installments_NUM_INSTALMENT_VERSION_sum_max: float (nullable = true)\n",
      " |-- previous_loans_RATE_DOWN_PAYMENT_min: float (nullable = true)\n",
      " |-- client_installments_AMT_INSTALMENT_mean_mean: float (nullable = true)\n",
      " |-- client_installments_NUM_INSTALMENT_VERSION_sum_sum: float (nullable = true)\n",
      " |-- previous_loans_NAME_TYPE_SUITE_Family_count_norm: float (nullable = true)\n",
      " |-- previous_loans_DAYS_TERMINATION_mean: float (nullable = true)\n",
      " |-- client_cash_CNT_INSTALMENT_FUTURE_max_sum: float (nullable = true)\n",
      " |-- previous_loans_NAME_PAYMENT_TYPE_XNA_count_norm: float (nullable = true)\n",
      " |-- bureau_CREDIT_TYPE_Credit card_count_norm: float (nullable = true)\n",
      " |-- client_installments_DAYS_ENTRY_PAYMENT_min_sum: float (nullable = true)\n",
      " |-- OBS_30_CNT_SOCIAL_CIRCLE: float (nullable = true)\n",
      " |-- client_installments_AMT_INSTALMENT_sum_sum: float (nullable = true)\n",
      " |-- client_installments_NUM_INSTALMENT_VERSION_mean_sum: float (nullable = true)\n",
      " |-- FLAG_DOCUMENT_18: float (nullable = true)\n",
      " |-- client_cash_CNT_INSTALMENT_FUTURE_min_sum: float (nullable = true)\n",
      " |-- previous_loans_CHANNEL_TYPE_Credit and cash offices_count_norm: float (nullable = true)\n",
      " |-- previous_loans_CHANNEL_TYPE_Contact center_count_norm: float (nullable = true)\n",
      " |-- bureau_CREDIT_TYPE_Car loan_count_norm: float (nullable = true)\n",
      " |-- previous_loans_NAME_PORTFOLIO_POS_count_norm: float (nullable = true)\n",
      " |-- client_installments_NUM_INSTALMENT_NUMBER_min_mean: float (nullable = true)\n",
      " |-- previous_loans_WEEKDAY_APPR_PROCESS_START_TUESDAY_count_norm: float (nullable = true)\n",
      " |-- previous_loans_NAME_GOODS_CATEGORY_Furniture_count_norm: float (nullable = true)\n",
      " |-- client_cash_NAME_CONTRACT_STATUS_Completed_count_norm_max: float (nullable = true)\n",
      " |-- AMT_REQ_CREDIT_BUREAU_QRT: float (nullable = true)\n",
      " |-- NAME_INCOME_TYPE_Working: float (nullable = true)\n",
      " |-- client_cash_NAME_CONTRACT_STATUS_Active_count_norm_min: float (nullable = true)\n",
      " |-- previous_loans_AMT_DOWN_PAYMENT_min: float (nullable = true)\n",
      " |-- bureau_CREDIT_TYPE_Microloan_count_norm: float (nullable = true)\n",
      " |-- previous_loans_DAYS_TERMINATION_min: float (nullable = true)\n",
      " |-- previous_loans_CHANNEL_TYPE_Channel of corporate sales_count_norm: float (nullable = true)\n",
      " |-- previous_loans_WEEKDAY_APPR_PROCESS_START_SUNDAY_count_norm: float (nullable = true)\n",
      " |-- previous_loans_CHANNEL_TYPE_Stone_count_norm: float (nullable = true)\n",
      " |-- NAME_EDUCATION_TYPE_Secondary / secondary special: float (nullable = true)\n",
      " |-- client_bureau_balance_STATUS_0_count_sum: float (nullable = true)\n",
      " |-- OCCUPATION_TYPE_Core staff: float (nullable = true)\n",
      " |-- previous_loans_NAME_YIELD_GROUP_middle_count_norm: float (nullable = true)\n",
      " |-- client_cash_NAME_CONTRACT_STATUS_Completed_count_norm_mean: float (nullable = true)\n",
      " |-- bureau_AMT_CREDIT_SUM_OVERDUE_max: float (nullable = true)\n",
      " |-- REG_CITY_NOT_LIVE_CITY: float (nullable = true)\n",
      " |-- ORGANIZATION_TYPE_Business Entity Type 3: float (nullable = true)\n",
      " |-- bureau_CREDIT_ACTIVE_Closed_count: float (nullable = true)\n",
      " |-- ORGANIZATION_TYPE_Self-employed: float (nullable = true)\n",
      " |-- previous_loans_NAME_PORTFOLIO_Cash_count_norm: float (nullable = true)\n",
      " |-- previous_loans_WEEKDAY_APPR_PROCESS_START_WEDNESDAY_count_norm: float (nullable = true)\n",
      " |-- client_installments_NUM_INSTALMENT_VERSION_mean_min: float (nullable = true)\n",
      " |-- client_cash_NAME_CONTRACT_STATUS_Completed_count_sum: float (nullable = true)\n",
      " |-- previous_loans_CODE_REJECT_REASON_SCO_count_norm: float (nullable = true)\n",
      " |-- previous_loans_NAME_GOODS_CATEGORY_Computers_count_norm: float (nullable = true)\n",
      " |-- previous_loans_NAME_YIELD_GROUP_XNA_count_norm: float (nullable = true)\n",
      " |-- previous_loans_PRODUCT_COMBINATION_POS household without interest_count_norm: float (nullable = true)\n",
      " |-- previous_loans_NAME_PRODUCT_TYPE_XNA_count_norm: float (nullable = true)\n",
      " |-- bureau_AMT_CREDIT_SUM_LIMIT_min: float (nullable = true)\n",
      " |-- previous_loans_NAME_PRODUCT_TYPE_x-sell_count_norm: float (nullable = true)\n",
      " |-- previous_loans_WEEKDAY_APPR_PROCESS_START_MONDAY_count_norm: float (nullable = true)\n",
      " |-- previous_loans_WEEKDAY_APPR_PROCESS_START_SATURDAY_count_norm: float (nullable = true)\n",
      " |-- previous_loans_NAME_CLIENT_TYPE_New_count_norm: float (nullable = true)\n",
      " |-- previous_loans_CHANNEL_TYPE_AP+ (Cash loan)_count_norm: float (nullable = true)\n",
      " |-- previous_loans_NFLAG_INSURED_ON_APPROVAL_mean: float (nullable = true)\n",
      " |-- previous_loans_NAME_GOODS_CATEGORY_Audio/Video_count_norm: float (nullable = true)\n",
      " |-- client_cash_SK_DPD_mean_min: float (nullable = true)\n",
      " |-- previous_loans_NAME_GOODS_CATEGORY_Clothing and Accessories_count_norm: float (nullable = true)\n",
      " |-- DEF_30_CNT_SOCIAL_CIRCLE: float (nullable = true)\n",
      " |-- client_installments_NUM_INSTALMENT_NUMBER_mean_min: float (nullable = true)\n",
      " |-- client_installments_NUM_INSTALMENT_NUMBER_sum_min: float (nullable = true)\n",
      " |-- previous_loans_NAME_PORTFOLIO_XNA_count_norm: float (nullable = true)\n",
      " |-- previous_loans_NAME_CLIENT_TYPE_Repeater_count_norm: float (nullable = true)\n",
      " |-- previous_loans_NAME_SELLER_INDUSTRY_Connectivity_count_norm: float (nullable = true)\n",
      " |-- bureau_CREDIT_TYPE_Credit card_count: float (nullable = true)\n",
      " |-- previous_loans_NAME_CONTRACT_STATUS_Canceled_count_norm: float (nullable = true)\n",
      " |-- OCCUPATION_TYPE_Drivers: float (nullable = true)\n",
      " |-- previous_loans_HOUR_APPR_PROCESS_START_min: float (nullable = true)\n",
      " |-- client_cash_NAME_CONTRACT_STATUS_Signed_count_norm_max: float (nullable = true)\n",
      " |-- OCCUPATION_TYPE_Laborers: float (nullable = true)\n",
      " |-- client_cash_CNT_INSTALMENT_min_max: float (nullable = true)\n",
      " |-- previous_loans_WEEKDAY_APPR_PROCESS_START_THURSDAY_count_norm: float (nullable = true)\n",
      " |-- ORGANIZATION_TYPE_Construction: float (nullable = true)\n",
      " |-- client_cash_NAME_CONTRACT_STATUS_Active_count_max: float (nullable = true)\n",
      " |-- client_cash_SK_DPD_DEF_sum_min: float (nullable = true)\n",
      " |-- previous_loans_NAME_CONTRACT_TYPE_Cash loans_count_norm: float (nullable = true)\n",
      " |-- previous_loans_DAYS_FIRST_DRAWING_mean: float (nullable = true)\n",
      " |-- previous_loans_PRODUCT_COMBINATION_Cash X-Sell: middle_count_norm: float (nullable = true)\n",
      " |-- previous_loans_NAME_CASH_LOAN_PURPOSE_Other_count_norm: float (nullable = true)\n",
      " |-- client_bureau_balance_STATUS_0_count_norm_sum: float (nullable = true)\n",
      " |-- client_installments_NUM_INSTALMENT_VERSION_sum_min: float (nullable = true)\n",
      " |-- previous_loans_CHANNEL_TYPE_Country-wide_count_norm: float (nullable = true)\n",
      " |-- client_cash_NAME_CONTRACT_STATUS_Signed_count_sum: float (nullable = true)\n",
      " |-- AMT_REQ_CREDIT_BUREAU_YEAR: float (nullable = true)\n",
      " |-- bureau_CREDIT_TYPE_Microloan_count: float (nullable = true)\n",
      " |-- NAME_INCOME_TYPE_State servant: float (nullable = true)\n",
      " |-- previous_loans_DAYS_TERMINATION_max: float (nullable = true)\n",
      " |-- FLAG_WORK_PHONE: float (nullable = true)\n",
      " |-- previous_loans_NAME_GOODS_CATEGORY_Photo / Cinema Equipment_count_norm: float (nullable = true)\n",
      " |-- previous_loans_WEEKDAY_APPR_PROCESS_START_FRIDAY_count_norm: float (nullable = true)\n",
      " |-- previous_loans_WEEKDAY_APPR_PROCESS_START_THURSDAY_count: float (nullable = true)\n",
      " |-- ORGANIZATION_TYPE_Military: float (nullable = true)\n",
      " |-- previous_loans_PRODUCT_COMBINATION_POS household with interest_count_norm: float (nullable = true)\n",
      " |-- client_installments_NUM_INSTALMENT_VERSION_min_sum: float (nullable = true)\n",
      " |-- client_cash_NAME_CONTRACT_STATUS_Completed_count_norm_sum: float (nullable = true)\n",
      " |-- FLAG_DOCUMENT_16: float (nullable = true)\n",
      " |-- previous_loans_NAME_TYPE_SUITE_Spouse, partner_count_norm: float (nullable = true)\n",
      " |-- client_cash_NAME_CONTRACT_STATUS_Returned to the store_count_sum: float (nullable = true)\n",
      " |-- ORGANIZATION_TYPE_Industry: type 9: float (nullable = true)\n",
      " |-- AMT_REQ_CREDIT_BUREAU_MON: float (nullable = true)\n",
      " |-- previous_loans_NAME_CONTRACT_STATUS_Approved_count: float (nullable = true)\n",
      " |-- bureau_CREDIT_ACTIVE_Sold_count_norm: float (nullable = true)\n"
     ]
    },
    {
     "name": "stdout",
     "output_type": "stream",
     "text": [
      " |-- previous_loans_NAME_GOODS_CATEGORY_Mobile_count_norm: float (nullable = true)\n",
      " |-- bureau_AMT_CREDIT_SUM_OVERDUE_mean: float (nullable = true)\n",
      " |-- previous_loans_NAME_SELLER_INDUSTRY_Construction_count_norm: float (nullable = true)\n",
      " |-- previous_loans_CODE_REJECT_REASON_SCOFR_count_norm: float (nullable = true)\n",
      " |-- previous_loans_NAME_SELLER_INDUSTRY_Furniture_count_norm: float (nullable = true)\n",
      " |-- client_cash_NAME_CONTRACT_STATUS_Active_count_norm_max: float (nullable = true)\n",
      " |-- previous_loans_NAME_GOODS_CATEGORY_Construction Materials_count_norm: float (nullable = true)\n",
      " |-- client_bureau_balance_STATUS_1_count_norm_sum: float (nullable = true)\n",
      " |-- previous_loans_PRODUCT_COMBINATION_Cash Street: middle_count_norm: float (nullable = true)\n",
      " |-- previous_loans_PRODUCT_COMBINATION_POS other with interest_count_norm: float (nullable = true)\n",
      " |-- client_cash_CNT_INSTALMENT_min_min: float (nullable = true)\n",
      " |-- previous_loans_CODE_REJECT_REASON_VERIF_count_norm: float (nullable = true)\n",
      " |-- previous_loans_CODE_REJECT_REASON_LIMIT_count_norm: float (nullable = true)\n",
      " |-- client_bureau_balance_STATUS_X_count_norm_sum: float (nullable = true)\n",
      " |-- previous_loans_PRODUCT_COMBINATION_Cash_count_norm: float (nullable = true)\n",
      " |-- previous_loans_NAME_GOODS_CATEGORY_Consumer Electronics_count_norm: float (nullable = true)\n",
      " |-- previous_loans_CHANNEL_TYPE_Regional / Local_count_norm: float (nullable = true)\n",
      " |-- previous_loans_WEEKDAY_APPR_PROCESS_START_SUNDAY_count: float (nullable = true)\n",
      " |-- FLAG_DOCUMENT_13: float (nullable = true)\n",
      " |-- previous_loans_CODE_REJECT_REASON_CLIENT_count_norm: float (nullable = true)\n",
      " |-- client_bureau_balance_STATUS_X_count_sum: float (nullable = true)\n",
      " |-- previous_loans_NAME_YIELD_GROUP_middle_count: float (nullable = true)\n",
      " |-- previous_loans_NAME_CONTRACT_TYPE_Revolving loans_count_norm: float (nullable = true)\n",
      " |-- previous_loans_NAME_PRODUCT_TYPE_XNA_count: float (nullable = true)\n",
      " |-- previous_loans_NAME_GOODS_CATEGORY_Jewelry_count_norm: float (nullable = true)\n",
      " |-- WALLSMATERIAL_MODE_Stone, brick: float (nullable = true)\n",
      " |-- previous_loans_NAME_SELLER_INDUSTRY_Consumer electronics_count_norm: float (nullable = true)\n",
      " |-- previous_loans_CNT_PAYMENT_min: float (nullable = true)\n",
      " |-- previous_loans_NAME_YIELD_GROUP_high_count: float (nullable = true)\n",
      " |-- NAME_FAMILY_STATUS_Separated: float (nullable = true)\n",
      " |-- NAME_HOUSING_TYPE_House / apartment: float (nullable = true)\n",
      " |-- client_cash_NAME_CONTRACT_STATUS_Signed_count_norm_mean: float (nullable = true)\n",
      " |-- previous_loans_NAME_CONTRACT_STATUS_Refused_count: float (nullable = true)\n",
      " |-- previous_loans_PRODUCT_COMBINATION_Card Street_count_norm: float (nullable = true)\n",
      " |-- client_installments_NUM_INSTALMENT_NUMBER_max_min: float (nullable = true)\n",
      " |-- previous_loans_PRODUCT_COMBINATION_POS industry without interest_count_norm: float (nullable = true)\n",
      " |-- previous_loans_CHANNEL_TYPE_Regional / Local_count: float (nullable = true)\n",
      " |-- ORGANIZATION_TYPE_Transport: type 3: float (nullable = true)\n",
      " |-- client_cash_NAME_CONTRACT_STATUS_Returned to the store_count_norm_max: float (nullable = true)\n",
      " |-- ORGANIZATION_TYPE_School: float (nullable = true)\n",
      " |-- previous_loans_NAME_TYPE_SUITE_Other_B_count_norm: float (nullable = true)\n",
      " |-- bureau_CNT_CREDIT_PROLONG_mean: float (nullable = true)\n",
      " |-- client_bureau_balance_MONTHS_BALANCE_max_sum: float (nullable = true)\n",
      " |-- client_cash_NAME_CONTRACT_STATUS_Active_count_min: float (nullable = true)\n",
      " |-- WEEKDAY_APPR_PROCESS_START_WEDNESDAY: float (nullable = true)\n",
      " |-- OCCUPATION_TYPE_High skill tech staff: float (nullable = true)\n",
      " |-- previous_loans_NAME_PAYMENT_TYPE_XNA_count: float (nullable = true)\n",
      " |-- FLAG_PHONE: float (nullable = true)\n",
      " |-- TARGET: float (nullable = true)\n",
      " |-- SK_ID_CURR: float (nullable = true)\n",
      " |-- features: vector (nullable = true)\n",
      "\n"
     ]
    }
   ],
   "source": [
    "df2.printSchema()"
   ]
  },
  {
   "cell_type": "code",
   "execution_count": 13,
   "metadata": {},
   "outputs": [
    {
     "data": {
      "text/plain": [
       "labelIndexer: org.apache.spark.ml.feature.StringIndexer = strIdx_9ce61d54b6d2\n",
       "df3: org.apache.spark.sql.DataFrame = [EXT_SOURCE_2: float, EXT_SOURCE_3: float ... 282 more fields]\n"
      ]
     },
     "execution_count": 13,
     "metadata": {},
     "output_type": "execute_result"
    }
   ],
   "source": [
    "val labelIndexer = new StringIndexer().setInputCol(\"TARGET\").setOutputCol(\"label\")\n",
    "val df3 = labelIndexer.fit(df2).transform(df2)"
   ]
  },
  {
   "cell_type": "code",
   "execution_count": 14,
   "metadata": {
    "collapsed": true
   },
   "outputs": [
    {
     "name": "stdout",
     "output_type": "stream",
     "text": [
      "2019-06-04 00:37:51,843 WARN  [Executor task launch worker for task 16] memory.MemoryStore (Logging.scala:logWarning(66)) - Not enough space to cache rdd_56_1 in memory! (computed 21.7 MB so far)\n",
      "2019-06-04 00:37:51,859 WARN  [Executor task launch worker for task 16] storage.BlockManager (Logging.scala:logWarning(66)) - Persisting block rdd_56_1 to disk instead.\n",
      "2019-06-04 00:37:55,005 WARN  [Executor task launch worker for task 15] memory.MemoryStore (Logging.scala:logWarning(66)) - Not enough space to cache rdd_56_0 in memory! (computed 41.6 MB so far)\n",
      "2019-06-04 00:37:55,010 WARN  [Executor task launch worker for task 15] storage.BlockManager (Logging.scala:logWarning(66)) - Persisting block rdd_56_0 to disk instead.\n",
      "2019-06-04 00:38:19,778 WARN  [Thread-4] netlib.BLAS (BLAS.java:<clinit>(61)) - Failed to load implementation from: com.github.fommil.netlib.NativeSystemBLAS\n",
      "2019-06-04 00:38:19,779 WARN  [Thread-4] netlib.BLAS (BLAS.java:<clinit>(61)) - Failed to load implementation from: com.github.fommil.netlib.NativeRefBLAS\n"
     ]
    },
    {
     "data": {
      "text/plain": [
       "model: org.apache.spark.ml.classification.LogisticRegressionModel = LogisticRegressionModel: uid = logreg_055625adccd7, numClasses = 2, numFeatures = 281\n",
       "predictions: org.apache.spark.sql.DataFrame = [EXT_SOURCE_2: float, EXT_SOURCE_3: float ... 285 more fields]\n"
      ]
     },
     "execution_count": 14,
     "metadata": {},
     "output_type": "execute_result"
    }
   ],
   "source": [
    "val model = new LogisticRegression().fit(df3)\n",
    "val predictions = model.transform(df3)"
   ]
  },
  {
   "cell_type": "code",
   "execution_count": 15,
   "metadata": {
    "collapsed": true
   },
   "outputs": [
    {
     "name": "stdout",
     "output_type": "stream",
     "text": [
      "2019-06-04 00:38:57,950 WARN  [Thread-4] util.Utils (Logging.scala:logWarning(66)) - Truncated the string representation of a plan since it was too large. This behavior can be adjusted by setting 'spark.debug.maxToStringFields' in SparkEnv.conf.\n",
      "+--------------------+-----+----------+\n",
      "|            features|label|prediction|\n",
      "+--------------------+-----+----------+\n",
      "|[1.73074993654154...|  0.0|       0.0|\n",
      "|(281,[0,1,2,3,4,5...|  1.0|       0.0|\n",
      "|(281,[0,1,2,3,4,5...|  1.0|       0.0|\n",
      "|[5.26803021784871...|  1.0|       0.0|\n",
      "|(281,[0,1,2,3,4,5...|  0.0|       0.0|\n",
      "|(281,[0,1,2,3,4,5...|  1.0|       1.0|\n",
      "|(281,[0,1,2,3,4,5...|  0.0|       0.0|\n",
      "|(281,[0,1,2,3,4,5...|  1.0|       0.0|\n",
      "|(281,[0,1,2,3,4,5...|  0.0|       0.0|\n",
      "|[0.00124580401461...|  1.0|       0.0|\n",
      "|(281,[0,1,2,3,4,5...|  0.0|       0.0|\n",
      "|(281,[0,1,2,3,4,5...|  1.0|       0.0|\n",
      "|[0.00160539394710...|  0.0|       0.0|\n",
      "|(281,[0,1,2,3,4,5...|  0.0|       0.0|\n",
      "|(281,[0,1,2,3,4,5...|  1.0|       0.0|\n",
      "|(281,[0,1,2,3,4,5...|  1.0|       0.0|\n",
      "|(281,[0,1,2,3,4,5...|  1.0|       0.0|\n",
      "|(281,[0,1,2,3,4,5...|  0.0|       1.0|\n",
      "|(281,[0,1,2,3,4,5...|  1.0|       0.0|\n",
      "|(281,[0,1,2,3,4,5...|  1.0|       0.0|\n",
      "+--------------------+-----+----------+\n",
      "only showing top 20 rows\n",
      "\n"
     ]
    }
   ],
   "source": [
    "predictions.select (\"features\", \"label\", \"prediction\").show()"
   ]
  },
  {
   "cell_type": "markdown",
   "metadata": {},
   "source": [
    "## Now we check the accuracy of the prediction:"
   ]
  },
  {
   "cell_type": "code",
   "execution_count": 16,
   "metadata": {},
   "outputs": [
    {
     "data": {
      "text/plain": [
       "import org.apache.spark.ml.classification.NaiveBayes\n",
       "import org.apache.spark.ml.evaluation.MulticlassClassificationEvaluator\n",
       "import org.apache.spark.sql.SparkSession\n"
      ]
     },
     "execution_count": 16,
     "metadata": {},
     "output_type": "execute_result"
    }
   ],
   "source": [
    "import org.apache.spark.ml.classification.NaiveBayes\n",
    "import org.apache.spark.ml.evaluation.MulticlassClassificationEvaluator\n",
    "\n",
    "import org.apache.spark.sql.SparkSession"
   ]
  },
  {
   "cell_type": "code",
   "execution_count": 17,
   "metadata": {},
   "outputs": [
    {
     "name": "stdout",
     "output_type": "stream",
     "text": [
      "Test set accuracy = 0.928218534338554\n"
     ]
    },
    {
     "data": {
      "text/plain": [
       "evaluator: org.apache.spark.ml.evaluation.MulticlassClassificationEvaluator = mcEval_fbfd4ed5c449\n",
       "accuracy: Double = 0.928218534338554\n"
      ]
     },
     "execution_count": 17,
     "metadata": {},
     "output_type": "execute_result"
    }
   ],
   "source": [
    "    val evaluator = new MulticlassClassificationEvaluator()\n",
    "      .setLabelCol(\"label\")\n",
    "      .setPredictionCol(\"prediction\")\n",
    "      .setMetricName(\"accuracy\")\n",
    "    val accuracy = evaluator.evaluate(predictions)\n",
    "    println(\"Test set accuracy = \" + accuracy)"
   ]
  },
  {
   "cell_type": "markdown",
   "metadata": {},
   "source": [
    "## We can see that the accuracy of our prediction is over 90%. Much higher than our threshold 50%"
   ]
  },
  {
   "cell_type": "markdown",
   "metadata": {},
   "source": [
    "## Or we use a more intuitive way to check accuracy: We filter the amount of rows in which 'label' and 'prediction' doesn't match (in other word the rows with prediction failure)"
   ]
  },
  {
   "cell_type": "code",
   "execution_count": 24,
   "metadata": {},
   "outputs": [
    {
     "data": {
      "text/plain": [
       "res10: Long = 128529\n"
      ]
     },
     "execution_count": 24,
     "metadata": {},
     "output_type": "execute_result"
    }
   ],
   "source": [
    "predictions.count()"
   ]
  },
  {
   "cell_type": "code",
   "execution_count": 25,
   "metadata": {
    "collapsed": true
   },
   "outputs": [
    {
     "name": "stdout",
     "output_type": "stream",
     "text": [
      "+--------------------+-----+----------+\n",
      "|            features|label|prediction|\n",
      "+--------------------+-----+----------+\n",
      "|(281,[0,1,2,3,4,5...|  1.0|       0.0|\n",
      "|(281,[0,1,2,3,4,5...|  1.0|       0.0|\n",
      "|[5.26803021784871...|  1.0|       0.0|\n",
      "|(281,[0,1,2,3,4,5...|  1.0|       0.0|\n",
      "|[0.00124580401461...|  1.0|       0.0|\n",
      "|(281,[0,1,2,3,4,5...|  1.0|       0.0|\n",
      "|(281,[0,1,2,3,4,5...|  1.0|       0.0|\n",
      "|(281,[0,1,2,3,4,5...|  1.0|       0.0|\n",
      "|(281,[0,1,2,3,4,5...|  1.0|       0.0|\n",
      "|(281,[0,1,2,3,4,5...|  0.0|       1.0|\n",
      "|(281,[0,1,2,3,4,5...|  1.0|       0.0|\n",
      "|(281,[0,1,2,3,4,5...|  1.0|       0.0|\n",
      "|[0.00415406282991...|  1.0|       0.0|\n",
      "|(281,[0,1,2,3,4,5...|  1.0|       0.0|\n",
      "|(281,[0,1,2,3,4,5...|  1.0|       0.0|\n",
      "|(281,[0,1,2,3,4,5...|  1.0|       0.0|\n",
      "|(281,[0,1,2,3,4,5...|  1.0|       0.0|\n",
      "|[0.00992821343243...|  1.0|       0.0|\n",
      "|[0.01022860966622...|  1.0|       0.0|\n",
      "|(281,[0,1,2,3,4,5...|  1.0|       0.0|\n",
      "+--------------------+-----+----------+\n",
      "only showing top 20 rows\n",
      "\n"
     ]
    }
   ],
   "source": [
    "predictions.filter(!($\"label\" <=> $\"prediction\")).select (\"features\", \"label\", \"prediction\").show()"
   ]
  },
  {
   "cell_type": "code",
   "execution_count": 26,
   "metadata": {},
   "outputs": [
    {
     "data": {
      "text/plain": [
       "res12: Long = 9226\n"
      ]
     },
     "execution_count": 26,
     "metadata": {},
     "output_type": "execute_result"
    }
   ],
   "source": [
    "predictions.filter(!($\"label\" <=> $\"prediction\")).select (\"features\", \"label\", \"prediction\").count()"
   ]
  },
  {
   "cell_type": "markdown",
   "metadata": {},
   "source": [
    "## We can see that among the 128529 rows, the prediction failure is of 9226 rows. The accuracy is over 90%"
   ]
  }
 ],
 "metadata": {
  "kernelspec": {
   "display_name": "spylon-kernel",
   "language": "scala",
   "name": "spylon-kernel"
  },
  "language_info": {
   "codemirror_mode": "text/x-scala",
   "file_extension": ".scala",
   "help_links": [
    {
     "text": "MetaKernel Magics",
     "url": "https://metakernel.readthedocs.io/en/latest/source/README.html"
    }
   ],
   "mimetype": "text/x-scala",
   "name": "scala",
   "pygments_lexer": "scala",
   "version": "0.4.1"
  }
 },
 "nbformat": 4,
 "nbformat_minor": 2
}
