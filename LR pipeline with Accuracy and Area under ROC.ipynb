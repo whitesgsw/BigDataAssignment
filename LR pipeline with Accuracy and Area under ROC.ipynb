{
 "cells": [
  {
   "cell_type": "markdown",
   "metadata": {},
   "source": [
    "### Build a logistic regression model and show the label& Predictions"
   ]
  },
  {
   "cell_type": "code",
   "execution_count": 89,
   "metadata": {},
   "outputs": [
    {
     "data": {
      "text/plain": [
       "import org.apache.spark.sql\n",
       "import org.apache.spark.sql._\n",
       "import org.apache.spark.sql.types._\n",
       "import org.apache.spark.ml.classification.LogisticRegression\n",
       "import org.apache.spark.mllib.linalg.{Vector, Vectors}\n",
       "import org.apache.spark.ml.evaluation.BinaryClassificationEvaluator\n",
       "import org.apache.spark.ml.feature.{VectorAssembler, StringIndexer}\n"
      ]
     },
     "execution_count": 89,
     "metadata": {},
     "output_type": "execute_result"
    }
   ],
   "source": [
    "import org.apache.spark.sql\n",
    "import org.apache.spark.sql._\n",
    "import org.apache.spark.sql.types._\n",
    "import org.apache.spark.ml.classification.LogisticRegression\n",
    "import org.apache.spark.mllib.linalg.{Vector, Vectors}\n",
    "import org.apache.spark.ml.evaluation.BinaryClassificationEvaluator\n",
    "import org.apache.spark.ml.feature.{VectorAssembler, StringIndexer}"
   ]
  },
  {
   "cell_type": "code",
   "execution_count": 105,
   "metadata": {},
   "outputs": [
    {
     "data": {
      "text/plain": [
       "import org.apache.spark.ml.feature.VectorAssembler\n",
       "import org.apache.spark.ml.linalg.Vectors\n",
       "import org.apache.spark.ml.Pipeline\n"
      ]
     },
     "execution_count": 105,
     "metadata": {},
     "output_type": "execute_result"
    }
   ],
   "source": [
    "import org.apache.spark.ml.feature.VectorAssembler\n",
    "import org.apache.spark.ml.linalg.Vectors\n",
    "import org.apache.spark.ml.Pipeline"
   ]
  },
  {
   "cell_type": "code",
   "execution_count": 91,
   "metadata": {},
   "outputs": [
    {
     "data": {
      "text/plain": [
       "creditRiskdf1: org.apache.spark.sql.DataFrame = [EXT_SOURCE_2: string, EXT_SOURCE_3: string ... 283 more fields]\n",
       "creditRiskdf2: org.apache.spark.sql.DataFrame = [EXT_SOURCE_2: string, EXT_SOURCE_3: string ... 283 more fields]\n",
       "creditRiskdf3: org.apache.spark.sql.DataFrame = [EXT_SOURCE_2: string, EXT_SOURCE_3: string ... 283 more fields]\n"
      ]
     },
     "execution_count": 91,
     "metadata": {},
     "output_type": "execute_result"
    }
   ],
   "source": [
    "val creditRiskdf1 = spark.read.option(\"header\",\"true\").csv(\"part1.csv\")\n",
    "val creditRiskdf2 = spark.read.option(\"header\",\"true\").csv(\"part2.csv\")\n",
    "val creditRiskdf3 = spark.read.option(\"header\",\"true\").csv(\"part3.csv\")"
   ]
  },
  {
   "cell_type": "code",
   "execution_count": 92,
   "metadata": {},
   "outputs": [
    {
     "data": {
      "text/plain": [
       "creditRiskdf1and2: org.apache.spark.sql.Dataset[org.apache.spark.sql.Row] = [EXT_SOURCE_2: string, EXT_SOURCE_3: string ... 283 more fields]\n",
       "creditRiskdf: org.apache.spark.sql.Dataset[org.apache.spark.sql.Row] = [EXT_SOURCE_2: string, EXT_SOURCE_3: string ... 283 more fields]\n"
      ]
     },
     "execution_count": 92,
     "metadata": {},
     "output_type": "execute_result"
    }
   ],
   "source": [
    "val creditRiskdf1and2 = creditRiskdf1.union(creditRiskdf2)\n",
    "val creditRiskdf = creditRiskdf1and2.union(creditRiskdf3)"
   ]
  },
  {
   "cell_type": "code",
   "execution_count": 93,
   "metadata": {},
   "outputs": [
    {
     "data": {
      "text/plain": [
       "incon_droplist: List[String] = List(previous_loans_DAYS_FIRST_DUE_mean, previous_loans_SELLERPLACE_AREA_min, previous_loans_DAYS_FIRST_DUE_sum)\n",
       "df: org.apache.spark.sql.DataFrame = [EXT_SOURCE_2: string, EXT_SOURCE_3: string ... 280 more fields]\n"
      ]
     },
     "execution_count": 93,
     "metadata": {},
     "output_type": "execute_result"
    }
   ],
   "source": [
    "val incon_droplist = List(\"previous_loans_DAYS_FIRST_DUE_mean\",\n",
    "                      \"previous_loans_SELLERPLACE_AREA_min\",\n",
    "                      \"previous_loans_DAYS_FIRST_DUE_sum\")\n",
    "\n",
    "val df = creditRiskdf.drop(incon_droplist:_*)"
   ]
  },
  {
   "cell_type": "code",
   "execution_count": 94,
   "metadata": {},
   "outputs": [
    {
     "data": {
      "text/plain": [
       "creditRiskdf: org.apache.spark.sql.DataFrame = [EXT_SOURCE_2: string, EXT_SOURCE_3: string ... 280 more fields]\n"
      ]
     },
     "execution_count": 94,
     "metadata": {},
     "output_type": "execute_result"
    }
   ],
   "source": [
    "val creditRiskdf = df"
   ]
  },
  {
   "cell_type": "code",
   "execution_count": 95,
   "metadata": {},
   "outputs": [
    {
     "data": {
      "text/plain": [
       "train_df: org.apache.spark.sql.Dataset[org.apache.spark.sql.Row] = [EXT_SOURCE_2: string, EXT_SOURCE_3: string ... 280 more fields]\n",
       "test_df: org.apache.spark.sql.Dataset[org.apache.spark.sql.Row] = [EXT_SOURCE_2: string, EXT_SOURCE_3: string ... 280 more fields]\n",
       "validation_df: org.apache.spark.sql.Dataset[org.apache.spark.sql.Row] = [EXT_SOURCE_2: string, EXT_SOURCE_3: string ... 280 more fields]\n"
      ]
     },
     "execution_count": 95,
     "metadata": {},
     "output_type": "execute_result"
    }
   ],
   "source": [
    "var Array(train_df,test_df,validation_df)=creditRiskdf.randomSplit(\n",
    "    Array(0.7,0.2,0.1))"
   ]
  },
  {
   "cell_type": "code",
   "execution_count": 96,
   "metadata": {},
   "outputs": [
    {
     "data": {
      "text/plain": [
       "creditRiskFeatures: Array[String] = Array(EXT_SOURCE_2, EXT_SOURCE_3, client_installments_AMT_PAYMENT_min_sum, DAYS_BIRTH, AMT_CREDIT, AMT_ANNUITY, DAYS_EMPLOYED, bureau_DAYS_CREDIT_ENDDATE_max, bureau_DAYS_CREDIT_max, DAYS_ID_PUBLISH, bureau_DAYS_ENDDATE_FACT_max, bureau_AMT_CREDIT_SUM_DEBT_mean, previous_loans_CNT_PAYMENT_mean, client_cash_CNT_INSTALMENT_FUTURE_min_max, previous_loans_SELLERPLACE_AREA_max, DAYS_LAST_PHONE_CHANGE, bureau_AMT_CREDIT_SUM_max, bureau_AMT_CREDIT_SUM_mean, DAYS_REGISTRATION, client_installments_DAYS_INSTALMENT_max_max, previous_loans_AMT_DOWN_PAYMENT_max, CODE_GENDER_F, REGION_POPULATION_RELATIVE, client_cash_CNT_INSTALMENT_max_mean, bureau_DAYS_CREDIT_UPDATE_max, bureau_AMT_CREDIT_SUM_sum, client_installments_NUM_INSTALMENT_VERSION_mean_max, bureau_DAYS_CR..."
      ]
     },
     "execution_count": 96,
     "metadata": {},
     "output_type": "execute_result"
    }
   ],
   "source": [
    "val creditRiskFeatures = creditRiskdf.columns\n",
    "val features = creditRiskFeatures.filter(!_.contains(\"TARGET\")).filter(!_.contains(\"SK_ID_CURR\")) //Make sure we exclude the ID column and label column"
   ]
  },
  {
   "cell_type": "code",
   "execution_count": 97,
   "metadata": {},
   "outputs": [
    {
     "data": {
      "text/plain": [
       "creditRiskFeatures: Array[String] = Array(EXT_SOURCE_2, EXT_SOURCE_3, client_installments_AMT_PAYMENT_min_sum, DAYS_BIRTH, AMT_CREDIT, AMT_ANNUITY, DAYS_EMPLOYED, bureau_DAYS_CREDIT_ENDDATE_max, bureau_DAYS_CREDIT_max, DAYS_ID_PUBLISH, bureau_DAYS_ENDDATE_FACT_max, bureau_AMT_CREDIT_SUM_DEBT_mean, previous_loans_CNT_PAYMENT_mean, client_cash_CNT_INSTALMENT_FUTURE_min_max, previous_loans_SELLERPLACE_AREA_max, DAYS_LAST_PHONE_CHANGE, bureau_AMT_CREDIT_SUM_max, bureau_AMT_CREDIT_SUM_mean, DAYS_REGISTRATION, client_installments_DAYS_INSTALMENT_max_max, previous_loans_AMT_DOWN_PAYMENT_max, CODE_GENDER_F, REGION_POPULATION_RELATIVE, client_cash_CNT_INSTALMENT_max_mean, bureau_DAYS_CREDIT_UPDATE_max, bureau_AMT_CREDIT_SUM_sum, client_installments_NUM_INSTALMENT_VERSION_mean_max, bureau_DAYS_CR..."
      ]
     },
     "execution_count": 97,
     "metadata": {},
     "output_type": "execute_result"
    }
   ],
   "source": [
    "val creditRiskFeatures = creditRiskdf.columns\n",
    "for (colName<-creditRiskFeatures){\n",
    "     |   train_df=train_df.withColumn(colName,col(colName).cast(\"Float\"))\n",
    "     | }"
   ]
  },
  {
   "cell_type": "code",
   "execution_count": 99,
   "metadata": {
    "collapsed": true
   },
   "outputs": [
    {
     "name": "stdout",
     "output_type": "stream",
     "text": [
      "root\n",
      " |-- EXT_SOURCE_2: float (nullable = true)\n",
      " |-- EXT_SOURCE_3: float (nullable = true)\n",
      " |-- client_installments_AMT_PAYMENT_min_sum: float (nullable = true)\n",
      " |-- DAYS_BIRTH: float (nullable = true)\n",
      " |-- AMT_CREDIT: float (nullable = true)\n",
      " |-- AMT_ANNUITY: float (nullable = true)\n",
      " |-- DAYS_EMPLOYED: float (nullable = true)\n",
      " |-- bureau_DAYS_CREDIT_ENDDATE_max: float (nullable = true)\n",
      " |-- bureau_DAYS_CREDIT_max: float (nullable = true)\n",
      " |-- DAYS_ID_PUBLISH: float (nullable = true)\n",
      " |-- bureau_DAYS_ENDDATE_FACT_max: float (nullable = true)\n",
      " |-- bureau_AMT_CREDIT_SUM_DEBT_mean: float (nullable = true)\n",
      " |-- previous_loans_CNT_PAYMENT_mean: float (nullable = true)\n",
      " |-- client_cash_CNT_INSTALMENT_FUTURE_min_max: float (nullable = true)\n",
      " |-- previous_loans_SELLERPLACE_AREA_max: float (nullable = true)\n",
      " |-- DAYS_LAST_PHONE_CHANGE: float (nullable = true)\n",
      " |-- bureau_AMT_CREDIT_SUM_max: float (nullable = true)\n",
      " |-- bureau_AMT_CREDIT_SUM_mean: float (nullable = true)\n",
      " |-- DAYS_REGISTRATION: float (nullable = true)\n",
      " |-- client_installments_DAYS_INSTALMENT_max_max: float (nullable = true)\n",
      " |-- previous_loans_AMT_DOWN_PAYMENT_max: float (nullable = true)\n",
      " |-- CODE_GENDER_F: float (nullable = true)\n",
      " |-- REGION_POPULATION_RELATIVE: float (nullable = true)\n",
      " |-- client_cash_CNT_INSTALMENT_max_mean: float (nullable = true)\n",
      " |-- bureau_DAYS_CREDIT_UPDATE_max: float (nullable = true)\n",
      " |-- bureau_AMT_CREDIT_SUM_sum: float (nullable = true)\n",
      " |-- client_installments_NUM_INSTALMENT_VERSION_mean_max: float (nullable = true)\n",
      " |-- bureau_DAYS_CREDIT_mean: float (nullable = true)\n",
      " |-- client_installments_AMT_PAYMENT_sum_mean: float (nullable = true)\n",
      " |-- client_installments_DAYS_INSTALMENT_min_max: float (nullable = true)\n",
      " |-- previous_loans_NAME_CONTRACT_STATUS_Refused_count_norm: float (nullable = true)\n",
      " |-- client_installments_AMT_INSTALMENT_max_max: float (nullable = true)\n",
      " |-- client_cash_CNT_INSTALMENT_FUTURE_min_mean: float (nullable = true)\n",
      " |-- client_installments_NUM_INSTALMENT_VERSION_max_mean: float (nullable = true)\n",
      " |-- bureau_DAYS_CREDIT_min: float (nullable = true)\n",
      " |-- previous_loans_NAME_YIELD_GROUP_high_count_norm: float (nullable = true)\n",
      " |-- previous_loans_RATE_DOWN_PAYMENT_sum: float (nullable = true)\n",
      " |-- client_installments_DAYS_ENTRY_PAYMENT_sum_max: float (nullable = true)\n",
      " |-- previous_loans_DAYS_FIRST_DUE_min: float (nullable = true)\n",
      " |-- client_cash_SK_DPD_DEF_sum_max: float (nullable = true)\n",
      " |-- previous_loans_DAYS_DECISION_max: float (nullable = true)\n",
      " |-- client_installments_AMT_INSTALMENT_min_mean: float (nullable = true)\n",
      " |-- bureau_AMT_CREDIT_SUM_LIMIT_mean: float (nullable = true)\n",
      " |-- bureau_DAYS_CREDIT_sum: float (nullable = true)\n",
      " |-- previous_loans_DAYS_LAST_DUE_1ST_VERSION_max: float (nullable = true)\n",
      " |-- previous_loans_PRODUCT_COMBINATION_Cash X-Sell: low_count_norm: float (nullable = true)\n",
      " |-- previous_loans_HOUR_APPR_PROCESS_START_mean: float (nullable = true)\n",
      " |-- bureau_AMT_CREDIT_SUM_DEBT_max: float (nullable = true)\n",
      " |-- bureau_AMT_CREDIT_SUM_min: float (nullable = true)\n",
      " |-- previous_loans_AMT_DOWN_PAYMENT_mean: float (nullable = true)\n",
      " |-- NAME_FAMILY_STATUS_Married: float (nullable = true)\n",
      " |-- previous_loans_CNT_PAYMENT_max: float (nullable = true)\n",
      " |-- client_installments_AMT_INSTALMENT_mean_min: float (nullable = true)\n",
      " |-- AMT_INCOME_TOTAL: float (nullable = true)\n",
      " |-- previous_loans_DAYS_LAST_DUE_sum: float (nullable = true)\n",
      " |-- client_cash_MONTHS_BALANCE_max_mean: float (nullable = true)\n",
      " |-- NAME_EDUCATION_TYPE_Higher education: float (nullable = true)\n",
      " |-- client_cash_MONTHS_BALANCE_sum_mean: float (nullable = true)\n",
      " |-- bureau_DAYS_CREDIT_ENDDATE_mean: float (nullable = true)\n",
      " |-- REGION_RATING_CLIENT: float (nullable = true)\n",
      " |-- previous_loans_AMT_GOODS_PRICE_min: float (nullable = true)\n",
      " |-- bureau_DAYS_ENDDATE_FACT_min: float (nullable = true)\n",
      " |-- bureau_DAYS_CREDIT_ENDDATE_min: float (nullable = true)\n",
      " |-- previous_loans_AMT_ANNUITY_mean: float (nullable = true)\n",
      " |-- client_installments_AMT_PAYMENT_max_min: float (nullable = true)\n",
      " |-- client_installments_AMT_INSTALMENT_min_max: float (nullable = true)\n",
      " |-- client_installments_AMT_PAYMENT_sum_min: float (nullable = true)\n",
      " |-- bureau_CREDIT_TYPE_Mortgage_count_norm: float (nullable = true)\n",
      " |-- previous_loans_AMT_ANNUITY_max: float (nullable = true)\n",
      " |-- previous_loans_AMT_ANNUITY_min: float (nullable = true)\n",
      " |-- previous_loans_RATE_DOWN_PAYMENT_max: float (nullable = true)\n",
      " |-- previous_loans_NAME_YIELD_GROUP_low_normal_count_norm: float (nullable = true)\n",
      " |-- previous_loans_PRODUCT_COMBINATION_Cash X-Sell: high_count_norm: float (nullable = true)\n",
      " |-- bureau_DAYS_CREDIT_ENDDATE_sum: float (nullable = true)\n",
      " |-- bureau_CREDIT_ACTIVE_Active_count: float (nullable = true)\n",
      " |-- previous_loans_NAME_YIELD_GROUP_low_action_count_norm: float (nullable = true)\n",
      " |-- client_cash_counts_mean: float (nullable = true)\n",
      " |-- client_installments_AMT_INSTALMENT_mean_max: float (nullable = true)\n",
      " |-- client_cash_MONTHS_BALANCE_sum_max: float (nullable = true)\n",
      " |-- client_cash_CNT_INSTALMENT_sum_min: float (nullable = true)\n",
      " |-- bureau_CREDIT_ACTIVE_Active_count_norm: float (nullable = true)\n",
      " |-- bureau_DAYS_CREDIT_UPDATE_min: float (nullable = true)\n",
      " |-- DEF_60_CNT_SOCIAL_CIRCLE: float (nullable = true)\n",
      " |-- FLAG_DOCUMENT_3: float (nullable = true)\n",
      " |-- bureau_DAYS_ENDDATE_FACT_mean: float (nullable = true)\n",
      " |-- bureau_AMT_CREDIT_SUM_LIMIT_max: float (nullable = true)\n",
      " |-- client_cash_SK_DPD_max_sum: float (nullable = true)\n",
      " |-- previous_loans_AMT_GOODS_PRICE_mean: float (nullable = true)\n",
      " |-- client_installments_AMT_PAYMENT_max_sum: float (nullable = true)\n",
      " |-- client_installments_NUM_INSTALMENT_VERSION_sum_mean: float (nullable = true)\n",
      " |-- client_installments_AMT_INSTALMENT_min_min: float (nullable = true)\n",
      " |-- previous_loans_NAME_TYPE_SUITE_Unaccompanied_count_norm: float (nullable = true)\n",
      " |-- client_cash_NAME_CONTRACT_STATUS_Active_count_norm_mean: float (nullable = true)\n",
      " |-- client_installments_NUM_INSTALMENT_NUMBER_max_mean: float (nullable = true)\n",
      " |-- client_cash_CNT_INSTALMENT_max_max: float (nullable = true)\n",
      " |-- client_installments_DAYS_ENTRY_PAYMENT_max_min: float (nullable = true)\n",
      " |-- client_installments_AMT_PAYMENT_max_mean: float (nullable = true)\n",
      " |-- client_cash_counts_sum: float (nullable = true)\n",
      " |-- previous_loans_NAME_CONTRACT_STATUS_Approved_count_norm: float (nullable = true)\n",
      " |-- client_cash_CNT_INSTALMENT_min_mean: float (nullable = true)\n",
      " |-- client_cash_CNT_INSTALMENT_mean_min: float (nullable = true)\n",
      " |-- client_installments_AMT_INSTALMENT_sum_max: float (nullable = true)\n",
      " |-- previous_loans_AMT_ANNUITY_sum: float (nullable = true)\n",
      " |-- client_installments_AMT_PAYMENT_mean_sum: float (nullable = true)\n",
      " |-- previous_loans_DAYS_DECISION_mean: float (nullable = true)\n",
      " |-- previous_loans_PRODUCT_COMBINATION_Cash Street: low_count_norm: float (nullable = true)\n",
      " |-- previous_loans_DAYS_LAST_DUE_1ST_VERSION_mean: float (nullable = true)\n",
      " |-- HOUR_APPR_PROCESS_START: float (nullable = true)\n",
      " |-- previous_loans_DAYS_LAST_DUE_1ST_VERSION_min: float (nullable = true)\n",
      " |-- bureau_CREDIT_TYPE_Consumer credit_count_norm: float (nullable = true)\n",
      " |-- previous_loans_HOUR_APPR_PROCESS_START_max: float (nullable = true)\n",
      " |-- previous_loans_CODE_REJECT_REASON_HC_count_norm: float (nullable = true)\n",
      " |-- previous_loans_NAME_PRODUCT_TYPE_walk-in_count_norm: float (nullable = true)\n",
      " |-- previous_loans_CNT_PAYMENT_sum: float (nullable = true)\n",
      " |-- bureau_DAYS_CREDIT_UPDATE_mean: float (nullable = true)\n",
      " |-- previous_loans_DAYS_DECISION_sum: float (nullable = true)\n",
      " |-- previous_loans_PRODUCT_COMBINATION_POS industry with interest_count_norm: float (nullable = true)\n",
      " |-- client_cash_MONTHS_BALANCE_max_sum: float (nullable = true)\n",
      " |-- previous_loans_AMT_CREDIT_min: float (nullable = true)\n",
      " |-- previous_loans_NAME_CLIENT_TYPE_Refreshed_count_norm: float (nullable = true)\n",
      " |-- client_bureau_balance_MONTHS_BALANCE_mean_sum: float (nullable = true)\n",
      " |-- previous_loans_PRODUCT_COMBINATION_Cash Street: high_count_norm: float (nullable = true)\n",
      " |-- previous_loans_RATE_DOWN_PAYMENT_mean: float (nullable = true)\n",
      " |-- bureau_AMT_CREDIT_SUM_DEBT_min: float (nullable = true)\n",
      " |-- NAME_CONTRACT_TYPE_Cash loans: float (nullable = true)\n",
      " |-- client_installments_AMT_INSTALMENT_min_sum: float (nullable = true)\n",
      " |-- previous_loans_AMT_APPLICATION_max: float (nullable = true)\n",
      " |-- client_installments_NUM_INSTALMENT_VERSION_sum_max: float (nullable = true)\n",
      " |-- previous_loans_RATE_DOWN_PAYMENT_min: float (nullable = true)\n",
      " |-- client_installments_AMT_INSTALMENT_mean_mean: float (nullable = true)\n",
      " |-- client_installments_NUM_INSTALMENT_VERSION_sum_sum: float (nullable = true)\n",
      " |-- previous_loans_NAME_TYPE_SUITE_Family_count_norm: float (nullable = true)\n",
      " |-- previous_loans_DAYS_TERMINATION_mean: float (nullable = true)\n",
      " |-- client_cash_CNT_INSTALMENT_FUTURE_max_sum: float (nullable = true)\n",
      " |-- previous_loans_NAME_PAYMENT_TYPE_XNA_count_norm: float (nullable = true)\n",
      " |-- bureau_CREDIT_TYPE_Credit card_count_norm: float (nullable = true)\n",
      " |-- client_installments_DAYS_ENTRY_PAYMENT_min_sum: float (nullable = true)\n",
      " |-- OBS_30_CNT_SOCIAL_CIRCLE: float (nullable = true)\n",
      " |-- client_installments_AMT_INSTALMENT_sum_sum: float (nullable = true)\n",
      " |-- client_installments_NUM_INSTALMENT_VERSION_mean_sum: float (nullable = true)\n",
      " |-- FLAG_DOCUMENT_18: float (nullable = true)\n",
      " |-- client_cash_CNT_INSTALMENT_FUTURE_min_sum: float (nullable = true)\n",
      " |-- previous_loans_CHANNEL_TYPE_Credit and cash offices_count_norm: float (nullable = true)\n",
      " |-- previous_loans_CHANNEL_TYPE_Contact center_count_norm: float (nullable = true)\n",
      " |-- bureau_CREDIT_TYPE_Car loan_count_norm: float (nullable = true)\n",
      " |-- previous_loans_NAME_PORTFOLIO_POS_count_norm: float (nullable = true)\n",
      " |-- client_installments_NUM_INSTALMENT_NUMBER_min_mean: float (nullable = true)\n",
      " |-- previous_loans_WEEKDAY_APPR_PROCESS_START_TUESDAY_count_norm: float (nullable = true)\n",
      " |-- previous_loans_NAME_GOODS_CATEGORY_Furniture_count_norm: float (nullable = true)\n",
      " |-- client_cash_NAME_CONTRACT_STATUS_Completed_count_norm_max: float (nullable = true)\n",
      " |-- AMT_REQ_CREDIT_BUREAU_QRT: float (nullable = true)\n",
      " |-- NAME_INCOME_TYPE_Working: float (nullable = true)\n",
      " |-- client_cash_NAME_CONTRACT_STATUS_Active_count_norm_min: float (nullable = true)\n",
      " |-- previous_loans_AMT_DOWN_PAYMENT_min: float (nullable = true)\n",
      " |-- bureau_CREDIT_TYPE_Microloan_count_norm: float (nullable = true)\n",
      " |-- previous_loans_DAYS_TERMINATION_min: float (nullable = true)\n",
      " |-- previous_loans_CHANNEL_TYPE_Channel of corporate sales_count_norm: float (nullable = true)\n",
      " |-- previous_loans_WEEKDAY_APPR_PROCESS_START_SUNDAY_count_norm: float (nullable = true)\n",
      " |-- previous_loans_CHANNEL_TYPE_Stone_count_norm: float (nullable = true)\n",
      " |-- NAME_EDUCATION_TYPE_Secondary / secondary special: float (nullable = true)\n",
      " |-- client_bureau_balance_STATUS_0_count_sum: float (nullable = true)\n",
      " |-- OCCUPATION_TYPE_Core staff: float (nullable = true)\n",
      " |-- previous_loans_NAME_YIELD_GROUP_middle_count_norm: float (nullable = true)\n",
      " |-- client_cash_NAME_CONTRACT_STATUS_Completed_count_norm_mean: float (nullable = true)\n",
      " |-- bureau_AMT_CREDIT_SUM_OVERDUE_max: float (nullable = true)\n",
      " |-- REG_CITY_NOT_LIVE_CITY: float (nullable = true)\n",
      " |-- ORGANIZATION_TYPE_Business Entity Type 3: float (nullable = true)\n",
      " |-- bureau_CREDIT_ACTIVE_Closed_count: float (nullable = true)\n",
      " |-- ORGANIZATION_TYPE_Self-employed: float (nullable = true)\n",
      " |-- previous_loans_NAME_PORTFOLIO_Cash_count_norm: float (nullable = true)\n",
      " |-- previous_loans_WEEKDAY_APPR_PROCESS_START_WEDNESDAY_count_norm: float (nullable = true)\n",
      " |-- client_installments_NUM_INSTALMENT_VERSION_mean_min: float (nullable = true)\n",
      " |-- client_cash_NAME_CONTRACT_STATUS_Completed_count_sum: float (nullable = true)\n",
      " |-- previous_loans_CODE_REJECT_REASON_SCO_count_norm: float (nullable = true)\n",
      " |-- previous_loans_NAME_GOODS_CATEGORY_Computers_count_norm: float (nullable = true)\n",
      " |-- previous_loans_NAME_YIELD_GROUP_XNA_count_norm: float (nullable = true)\n",
      " |-- previous_loans_PRODUCT_COMBINATION_POS household without interest_count_norm: float (nullable = true)\n",
      " |-- previous_loans_NAME_PRODUCT_TYPE_XNA_count_norm: float (nullable = true)\n",
      " |-- bureau_AMT_CREDIT_SUM_LIMIT_min: float (nullable = true)\n",
      " |-- previous_loans_NAME_PRODUCT_TYPE_x-sell_count_norm: float (nullable = true)\n",
      " |-- previous_loans_WEEKDAY_APPR_PROCESS_START_MONDAY_count_norm: float (nullable = true)\n",
      " |-- previous_loans_WEEKDAY_APPR_PROCESS_START_SATURDAY_count_norm: float (nullable = true)\n",
      " |-- previous_loans_NAME_CLIENT_TYPE_New_count_norm: float (nullable = true)\n",
      " |-- previous_loans_CHANNEL_TYPE_AP+ (Cash loan)_count_norm: float (nullable = true)\n",
      " |-- previous_loans_NFLAG_INSURED_ON_APPROVAL_mean: float (nullable = true)\n",
      " |-- previous_loans_NAME_GOODS_CATEGORY_Audio/Video_count_norm: float (nullable = true)\n",
      " |-- client_cash_SK_DPD_mean_min: float (nullable = true)\n",
      " |-- previous_loans_NAME_GOODS_CATEGORY_Clothing and Accessories_count_norm: float (nullable = true)\n",
      " |-- DEF_30_CNT_SOCIAL_CIRCLE: float (nullable = true)\n",
      " |-- client_installments_NUM_INSTALMENT_NUMBER_mean_min: float (nullable = true)\n",
      " |-- client_installments_NUM_INSTALMENT_NUMBER_sum_min: float (nullable = true)\n",
      " |-- previous_loans_NAME_PORTFOLIO_XNA_count_norm: float (nullable = true)\n",
      " |-- previous_loans_NAME_CLIENT_TYPE_Repeater_count_norm: float (nullable = true)\n",
      " |-- previous_loans_NAME_SELLER_INDUSTRY_Connectivity_count_norm: float (nullable = true)\n",
      " |-- bureau_CREDIT_TYPE_Credit card_count: float (nullable = true)\n",
      " |-- previous_loans_NAME_CONTRACT_STATUS_Canceled_count_norm: float (nullable = true)\n",
      " |-- OCCUPATION_TYPE_Drivers: float (nullable = true)\n",
      " |-- previous_loans_HOUR_APPR_PROCESS_START_min: float (nullable = true)\n",
      " |-- client_cash_NAME_CONTRACT_STATUS_Signed_count_norm_max: float (nullable = true)\n",
      " |-- OCCUPATION_TYPE_Laborers: float (nullable = true)\n",
      " |-- client_cash_CNT_INSTALMENT_min_max: float (nullable = true)\n",
      " |-- previous_loans_WEEKDAY_APPR_PROCESS_START_THURSDAY_count_norm: float (nullable = true)\n",
      " |-- ORGANIZATION_TYPE_Construction: float (nullable = true)\n",
      " |-- client_cash_NAME_CONTRACT_STATUS_Active_count_max: float (nullable = true)\n",
      " |-- client_cash_SK_DPD_DEF_sum_min: float (nullable = true)\n",
      " |-- previous_loans_NAME_CONTRACT_TYPE_Cash loans_count_norm: float (nullable = true)\n",
      " |-- previous_loans_DAYS_FIRST_DRAWING_mean: float (nullable = true)\n",
      " |-- previous_loans_PRODUCT_COMBINATION_Cash X-Sell: middle_count_norm: float (nullable = true)\n",
      " |-- previous_loans_NAME_CASH_LOAN_PURPOSE_Other_count_norm: float (nullable = true)\n",
      " |-- client_bureau_balance_STATUS_0_count_norm_sum: float (nullable = true)\n",
      " |-- client_installments_NUM_INSTALMENT_VERSION_sum_min: float (nullable = true)\n",
      " |-- previous_loans_CHANNEL_TYPE_Country-wide_count_norm: float (nullable = true)\n",
      " |-- client_cash_NAME_CONTRACT_STATUS_Signed_count_sum: float (nullable = true)\n",
      " |-- AMT_REQ_CREDIT_BUREAU_YEAR: float (nullable = true)\n",
      " |-- bureau_CREDIT_TYPE_Microloan_count: float (nullable = true)\n",
      " |-- NAME_INCOME_TYPE_State servant: float (nullable = true)\n",
      " |-- previous_loans_DAYS_TERMINATION_max: float (nullable = true)\n",
      " |-- FLAG_WORK_PHONE: float (nullable = true)\n",
      " |-- previous_loans_NAME_GOODS_CATEGORY_Photo / Cinema Equipment_count_norm: float (nullable = true)\n",
      " |-- previous_loans_WEEKDAY_APPR_PROCESS_START_FRIDAY_count_norm: float (nullable = true)\n",
      " |-- previous_loans_WEEKDAY_APPR_PROCESS_START_THURSDAY_count: float (nullable = true)\n",
      " |-- ORGANIZATION_TYPE_Military: float (nullable = true)\n",
      " |-- previous_loans_PRODUCT_COMBINATION_POS household with interest_count_norm: float (nullable = true)\n",
      " |-- client_installments_NUM_INSTALMENT_VERSION_min_sum: float (nullable = true)\n",
      " |-- client_cash_NAME_CONTRACT_STATUS_Completed_count_norm_sum: float (nullable = true)\n",
      " |-- FLAG_DOCUMENT_16: float (nullable = true)\n",
      " |-- previous_loans_NAME_TYPE_SUITE_Spouse, partner_count_norm: float (nullable = true)\n",
      " |-- client_cash_NAME_CONTRACT_STATUS_Returned to the store_count_sum: float (nullable = true)\n",
      " |-- ORGANIZATION_TYPE_Industry: type 9: float (nullable = true)\n",
      " |-- AMT_REQ_CREDIT_BUREAU_MON: float (nullable = true)\n",
      " |-- previous_loans_NAME_CONTRACT_STATUS_Approved_count: float (nullable = true)\n",
      " |-- bureau_CREDIT_ACTIVE_Sold_count_norm: float (nullable = true)\n"
     ]
    },
    {
     "name": "stdout",
     "output_type": "stream",
     "text": [
      " |-- previous_loans_NAME_GOODS_CATEGORY_Mobile_count_norm: float (nullable = true)\n",
      " |-- bureau_AMT_CREDIT_SUM_OVERDUE_mean: float (nullable = true)\n",
      " |-- previous_loans_NAME_SELLER_INDUSTRY_Construction_count_norm: float (nullable = true)\n",
      " |-- previous_loans_CODE_REJECT_REASON_SCOFR_count_norm: float (nullable = true)\n",
      " |-- previous_loans_NAME_SELLER_INDUSTRY_Furniture_count_norm: float (nullable = true)\n",
      " |-- client_cash_NAME_CONTRACT_STATUS_Active_count_norm_max: float (nullable = true)\n",
      " |-- previous_loans_NAME_GOODS_CATEGORY_Construction Materials_count_norm: float (nullable = true)\n",
      " |-- client_bureau_balance_STATUS_1_count_norm_sum: float (nullable = true)\n",
      " |-- previous_loans_PRODUCT_COMBINATION_Cash Street: middle_count_norm: float (nullable = true)\n",
      " |-- previous_loans_PRODUCT_COMBINATION_POS other with interest_count_norm: float (nullable = true)\n",
      " |-- client_cash_CNT_INSTALMENT_min_min: float (nullable = true)\n",
      " |-- previous_loans_CODE_REJECT_REASON_VERIF_count_norm: float (nullable = true)\n",
      " |-- previous_loans_CODE_REJECT_REASON_LIMIT_count_norm: float (nullable = true)\n",
      " |-- client_bureau_balance_STATUS_X_count_norm_sum: float (nullable = true)\n",
      " |-- previous_loans_PRODUCT_COMBINATION_Cash_count_norm: float (nullable = true)\n",
      " |-- previous_loans_NAME_GOODS_CATEGORY_Consumer Electronics_count_norm: float (nullable = true)\n",
      " |-- previous_loans_CHANNEL_TYPE_Regional / Local_count_norm: float (nullable = true)\n",
      " |-- previous_loans_WEEKDAY_APPR_PROCESS_START_SUNDAY_count: float (nullable = true)\n",
      " |-- FLAG_DOCUMENT_13: float (nullable = true)\n",
      " |-- previous_loans_CODE_REJECT_REASON_CLIENT_count_norm: float (nullable = true)\n",
      " |-- client_bureau_balance_STATUS_X_count_sum: float (nullable = true)\n",
      " |-- previous_loans_NAME_YIELD_GROUP_middle_count: float (nullable = true)\n",
      " |-- previous_loans_NAME_CONTRACT_TYPE_Revolving loans_count_norm: float (nullable = true)\n",
      " |-- previous_loans_NAME_PRODUCT_TYPE_XNA_count: float (nullable = true)\n",
      " |-- previous_loans_NAME_GOODS_CATEGORY_Jewelry_count_norm: float (nullable = true)\n",
      " |-- WALLSMATERIAL_MODE_Stone, brick: float (nullable = true)\n",
      " |-- previous_loans_NAME_SELLER_INDUSTRY_Consumer electronics_count_norm: float (nullable = true)\n",
      " |-- previous_loans_CNT_PAYMENT_min: float (nullable = true)\n",
      " |-- previous_loans_NAME_YIELD_GROUP_high_count: float (nullable = true)\n",
      " |-- NAME_FAMILY_STATUS_Separated: float (nullable = true)\n",
      " |-- NAME_HOUSING_TYPE_House / apartment: float (nullable = true)\n",
      " |-- client_cash_NAME_CONTRACT_STATUS_Signed_count_norm_mean: float (nullable = true)\n",
      " |-- previous_loans_NAME_CONTRACT_STATUS_Refused_count: float (nullable = true)\n",
      " |-- previous_loans_PRODUCT_COMBINATION_Card Street_count_norm: float (nullable = true)\n",
      " |-- client_installments_NUM_INSTALMENT_NUMBER_max_min: float (nullable = true)\n",
      " |-- previous_loans_PRODUCT_COMBINATION_POS industry without interest_count_norm: float (nullable = true)\n",
      " |-- previous_loans_CHANNEL_TYPE_Regional / Local_count: float (nullable = true)\n",
      " |-- ORGANIZATION_TYPE_Transport: type 3: float (nullable = true)\n",
      " |-- client_cash_NAME_CONTRACT_STATUS_Returned to the store_count_norm_max: float (nullable = true)\n",
      " |-- ORGANIZATION_TYPE_School: float (nullable = true)\n",
      " |-- previous_loans_NAME_TYPE_SUITE_Other_B_count_norm: float (nullable = true)\n",
      " |-- bureau_CNT_CREDIT_PROLONG_mean: float (nullable = true)\n",
      " |-- client_bureau_balance_MONTHS_BALANCE_max_sum: float (nullable = true)\n",
      " |-- client_cash_NAME_CONTRACT_STATUS_Active_count_min: float (nullable = true)\n",
      " |-- WEEKDAY_APPR_PROCESS_START_WEDNESDAY: float (nullable = true)\n",
      " |-- OCCUPATION_TYPE_High skill tech staff: float (nullable = true)\n",
      " |-- previous_loans_NAME_PAYMENT_TYPE_XNA_count: float (nullable = true)\n",
      " |-- FLAG_PHONE: float (nullable = true)\n",
      " |-- TARGET: float (nullable = true)\n",
      " |-- SK_ID_CURR: float (nullable = true)\n",
      "\n"
     ]
    }
   ],
   "source": [
    "train_df.printSchema()"
   ]
  },
  {
   "cell_type": "code",
   "execution_count": 39,
   "metadata": {
    "collapsed": true
   },
   "outputs": [
    {
     "data": {
      "text/plain": [
       "assembler: org.apache.spark.ml.feature.VectorAssembler = vecAssembler_f08777cc4191\n",
       "df2: org.apache.spark.sql.DataFrame = [EXT_SOURCE_2: float, EXT_SOURCE_3: float ... 281 more fields]\n"
      ]
     },
     "execution_count": 39,
     "metadata": {},
     "output_type": "execute_result"
    }
   ],
   "source": [
    "val assembler = new VectorAssembler().setInputCols(features).setOutputCol(\"features\")\n",
    "val df2 = assembler.transform(train_df)"
   ]
  },
  {
   "cell_type": "code",
   "execution_count": 40,
   "metadata": {
    "collapsed": true
   },
   "outputs": [
    {
     "name": "stdout",
     "output_type": "stream",
     "text": [
      "root\n",
      " |-- EXT_SOURCE_2: float (nullable = true)\n",
      " |-- EXT_SOURCE_3: float (nullable = true)\n",
      " |-- client_installments_AMT_PAYMENT_min_sum: float (nullable = true)\n",
      " |-- DAYS_BIRTH: float (nullable = true)\n",
      " |-- AMT_CREDIT: float (nullable = true)\n",
      " |-- AMT_ANNUITY: float (nullable = true)\n",
      " |-- DAYS_EMPLOYED: float (nullable = true)\n",
      " |-- bureau_DAYS_CREDIT_ENDDATE_max: float (nullable = true)\n",
      " |-- bureau_DAYS_CREDIT_max: float (nullable = true)\n",
      " |-- DAYS_ID_PUBLISH: float (nullable = true)\n",
      " |-- bureau_DAYS_ENDDATE_FACT_max: float (nullable = true)\n",
      " |-- bureau_AMT_CREDIT_SUM_DEBT_mean: float (nullable = true)\n",
      " |-- previous_loans_CNT_PAYMENT_mean: float (nullable = true)\n",
      " |-- client_cash_CNT_INSTALMENT_FUTURE_min_max: float (nullable = true)\n",
      " |-- previous_loans_SELLERPLACE_AREA_max: float (nullable = true)\n",
      " |-- DAYS_LAST_PHONE_CHANGE: float (nullable = true)\n",
      " |-- bureau_AMT_CREDIT_SUM_max: float (nullable = true)\n",
      " |-- bureau_AMT_CREDIT_SUM_mean: float (nullable = true)\n",
      " |-- DAYS_REGISTRATION: float (nullable = true)\n",
      " |-- client_installments_DAYS_INSTALMENT_max_max: float (nullable = true)\n",
      " |-- previous_loans_AMT_DOWN_PAYMENT_max: float (nullable = true)\n",
      " |-- CODE_GENDER_F: float (nullable = true)\n",
      " |-- REGION_POPULATION_RELATIVE: float (nullable = true)\n",
      " |-- client_cash_CNT_INSTALMENT_max_mean: float (nullable = true)\n",
      " |-- bureau_DAYS_CREDIT_UPDATE_max: float (nullable = true)\n",
      " |-- bureau_AMT_CREDIT_SUM_sum: float (nullable = true)\n",
      " |-- client_installments_NUM_INSTALMENT_VERSION_mean_max: float (nullable = true)\n",
      " |-- bureau_DAYS_CREDIT_mean: float (nullable = true)\n",
      " |-- client_installments_AMT_PAYMENT_sum_mean: float (nullable = true)\n",
      " |-- client_installments_DAYS_INSTALMENT_min_max: float (nullable = true)\n",
      " |-- previous_loans_NAME_CONTRACT_STATUS_Refused_count_norm: float (nullable = true)\n",
      " |-- client_installments_AMT_INSTALMENT_max_max: float (nullable = true)\n",
      " |-- client_cash_CNT_INSTALMENT_FUTURE_min_mean: float (nullable = true)\n",
      " |-- client_installments_NUM_INSTALMENT_VERSION_max_mean: float (nullable = true)\n",
      " |-- bureau_DAYS_CREDIT_min: float (nullable = true)\n",
      " |-- previous_loans_NAME_YIELD_GROUP_high_count_norm: float (nullable = true)\n",
      " |-- previous_loans_RATE_DOWN_PAYMENT_sum: float (nullable = true)\n",
      " |-- client_installments_DAYS_ENTRY_PAYMENT_sum_max: float (nullable = true)\n",
      " |-- previous_loans_DAYS_FIRST_DUE_min: float (nullable = true)\n",
      " |-- client_cash_SK_DPD_DEF_sum_max: float (nullable = true)\n",
      " |-- previous_loans_DAYS_DECISION_max: float (nullable = true)\n",
      " |-- client_installments_AMT_INSTALMENT_min_mean: float (nullable = true)\n",
      " |-- bureau_AMT_CREDIT_SUM_LIMIT_mean: float (nullable = true)\n",
      " |-- bureau_DAYS_CREDIT_sum: float (nullable = true)\n",
      " |-- previous_loans_DAYS_LAST_DUE_1ST_VERSION_max: float (nullable = true)\n",
      " |-- previous_loans_PRODUCT_COMBINATION_Cash X-Sell: low_count_norm: float (nullable = true)\n",
      " |-- previous_loans_HOUR_APPR_PROCESS_START_mean: float (nullable = true)\n",
      " |-- bureau_AMT_CREDIT_SUM_DEBT_max: float (nullable = true)\n",
      " |-- bureau_AMT_CREDIT_SUM_min: float (nullable = true)\n",
      " |-- previous_loans_AMT_DOWN_PAYMENT_mean: float (nullable = true)\n",
      " |-- NAME_FAMILY_STATUS_Married: float (nullable = true)\n",
      " |-- previous_loans_CNT_PAYMENT_max: float (nullable = true)\n",
      " |-- client_installments_AMT_INSTALMENT_mean_min: float (nullable = true)\n",
      " |-- AMT_INCOME_TOTAL: float (nullable = true)\n",
      " |-- previous_loans_DAYS_LAST_DUE_sum: float (nullable = true)\n",
      " |-- client_cash_MONTHS_BALANCE_max_mean: float (nullable = true)\n",
      " |-- NAME_EDUCATION_TYPE_Higher education: float (nullable = true)\n",
      " |-- client_cash_MONTHS_BALANCE_sum_mean: float (nullable = true)\n",
      " |-- bureau_DAYS_CREDIT_ENDDATE_mean: float (nullable = true)\n",
      " |-- REGION_RATING_CLIENT: float (nullable = true)\n",
      " |-- previous_loans_AMT_GOODS_PRICE_min: float (nullable = true)\n",
      " |-- bureau_DAYS_ENDDATE_FACT_min: float (nullable = true)\n",
      " |-- bureau_DAYS_CREDIT_ENDDATE_min: float (nullable = true)\n",
      " |-- previous_loans_AMT_ANNUITY_mean: float (nullable = true)\n",
      " |-- client_installments_AMT_PAYMENT_max_min: float (nullable = true)\n",
      " |-- client_installments_AMT_INSTALMENT_min_max: float (nullable = true)\n",
      " |-- client_installments_AMT_PAYMENT_sum_min: float (nullable = true)\n",
      " |-- bureau_CREDIT_TYPE_Mortgage_count_norm: float (nullable = true)\n",
      " |-- previous_loans_AMT_ANNUITY_max: float (nullable = true)\n",
      " |-- previous_loans_AMT_ANNUITY_min: float (nullable = true)\n",
      " |-- previous_loans_RATE_DOWN_PAYMENT_max: float (nullable = true)\n",
      " |-- previous_loans_NAME_YIELD_GROUP_low_normal_count_norm: float (nullable = true)\n",
      " |-- previous_loans_PRODUCT_COMBINATION_Cash X-Sell: high_count_norm: float (nullable = true)\n",
      " |-- bureau_DAYS_CREDIT_ENDDATE_sum: float (nullable = true)\n",
      " |-- bureau_CREDIT_ACTIVE_Active_count: float (nullable = true)\n",
      " |-- previous_loans_NAME_YIELD_GROUP_low_action_count_norm: float (nullable = true)\n",
      " |-- client_cash_counts_mean: float (nullable = true)\n",
      " |-- client_installments_AMT_INSTALMENT_mean_max: float (nullable = true)\n",
      " |-- client_cash_MONTHS_BALANCE_sum_max: float (nullable = true)\n",
      " |-- client_cash_CNT_INSTALMENT_sum_min: float (nullable = true)\n",
      " |-- bureau_CREDIT_ACTIVE_Active_count_norm: float (nullable = true)\n",
      " |-- bureau_DAYS_CREDIT_UPDATE_min: float (nullable = true)\n",
      " |-- DEF_60_CNT_SOCIAL_CIRCLE: float (nullable = true)\n",
      " |-- FLAG_DOCUMENT_3: float (nullable = true)\n",
      " |-- bureau_DAYS_ENDDATE_FACT_mean: float (nullable = true)\n",
      " |-- bureau_AMT_CREDIT_SUM_LIMIT_max: float (nullable = true)\n",
      " |-- client_cash_SK_DPD_max_sum: float (nullable = true)\n",
      " |-- previous_loans_AMT_GOODS_PRICE_mean: float (nullable = true)\n",
      " |-- client_installments_AMT_PAYMENT_max_sum: float (nullable = true)\n",
      " |-- client_installments_NUM_INSTALMENT_VERSION_sum_mean: float (nullable = true)\n",
      " |-- client_installments_AMT_INSTALMENT_min_min: float (nullable = true)\n",
      " |-- previous_loans_NAME_TYPE_SUITE_Unaccompanied_count_norm: float (nullable = true)\n",
      " |-- client_cash_NAME_CONTRACT_STATUS_Active_count_norm_mean: float (nullable = true)\n",
      " |-- client_installments_NUM_INSTALMENT_NUMBER_max_mean: float (nullable = true)\n",
      " |-- client_cash_CNT_INSTALMENT_max_max: float (nullable = true)\n",
      " |-- client_installments_DAYS_ENTRY_PAYMENT_max_min: float (nullable = true)\n",
      " |-- client_installments_AMT_PAYMENT_max_mean: float (nullable = true)\n",
      " |-- client_cash_counts_sum: float (nullable = true)\n",
      " |-- previous_loans_NAME_CONTRACT_STATUS_Approved_count_norm: float (nullable = true)\n",
      " |-- client_cash_CNT_INSTALMENT_min_mean: float (nullable = true)\n",
      " |-- client_cash_CNT_INSTALMENT_mean_min: float (nullable = true)\n",
      " |-- client_installments_AMT_INSTALMENT_sum_max: float (nullable = true)\n",
      " |-- previous_loans_AMT_ANNUITY_sum: float (nullable = true)\n",
      " |-- client_installments_AMT_PAYMENT_mean_sum: float (nullable = true)\n",
      " |-- previous_loans_DAYS_DECISION_mean: float (nullable = true)\n",
      " |-- previous_loans_PRODUCT_COMBINATION_Cash Street: low_count_norm: float (nullable = true)\n",
      " |-- previous_loans_DAYS_LAST_DUE_1ST_VERSION_mean: float (nullable = true)\n",
      " |-- HOUR_APPR_PROCESS_START: float (nullable = true)\n",
      " |-- previous_loans_DAYS_LAST_DUE_1ST_VERSION_min: float (nullable = true)\n",
      " |-- bureau_CREDIT_TYPE_Consumer credit_count_norm: float (nullable = true)\n",
      " |-- previous_loans_HOUR_APPR_PROCESS_START_max: float (nullable = true)\n",
      " |-- previous_loans_CODE_REJECT_REASON_HC_count_norm: float (nullable = true)\n",
      " |-- previous_loans_NAME_PRODUCT_TYPE_walk-in_count_norm: float (nullable = true)\n",
      " |-- previous_loans_CNT_PAYMENT_sum: float (nullable = true)\n",
      " |-- bureau_DAYS_CREDIT_UPDATE_mean: float (nullable = true)\n",
      " |-- previous_loans_DAYS_DECISION_sum: float (nullable = true)\n",
      " |-- previous_loans_PRODUCT_COMBINATION_POS industry with interest_count_norm: float (nullable = true)\n",
      " |-- client_cash_MONTHS_BALANCE_max_sum: float (nullable = true)\n",
      " |-- previous_loans_AMT_CREDIT_min: float (nullable = true)\n",
      " |-- previous_loans_NAME_CLIENT_TYPE_Refreshed_count_norm: float (nullable = true)\n",
      " |-- client_bureau_balance_MONTHS_BALANCE_mean_sum: float (nullable = true)\n",
      " |-- previous_loans_PRODUCT_COMBINATION_Cash Street: high_count_norm: float (nullable = true)\n",
      " |-- previous_loans_RATE_DOWN_PAYMENT_mean: float (nullable = true)\n",
      " |-- bureau_AMT_CREDIT_SUM_DEBT_min: float (nullable = true)\n",
      " |-- NAME_CONTRACT_TYPE_Cash loans: float (nullable = true)\n",
      " |-- client_installments_AMT_INSTALMENT_min_sum: float (nullable = true)\n",
      " |-- previous_loans_AMT_APPLICATION_max: float (nullable = true)\n",
      " |-- client_installments_NUM_INSTALMENT_VERSION_sum_max: float (nullable = true)\n",
      " |-- previous_loans_RATE_DOWN_PAYMENT_min: float (nullable = true)\n",
      " |-- client_installments_AMT_INSTALMENT_mean_mean: float (nullable = true)\n",
      " |-- client_installments_NUM_INSTALMENT_VERSION_sum_sum: float (nullable = true)\n",
      " |-- previous_loans_NAME_TYPE_SUITE_Family_count_norm: float (nullable = true)\n",
      " |-- previous_loans_DAYS_TERMINATION_mean: float (nullable = true)\n",
      " |-- client_cash_CNT_INSTALMENT_FUTURE_max_sum: float (nullable = true)\n",
      " |-- previous_loans_NAME_PAYMENT_TYPE_XNA_count_norm: float (nullable = true)\n",
      " |-- bureau_CREDIT_TYPE_Credit card_count_norm: float (nullable = true)\n",
      " |-- client_installments_DAYS_ENTRY_PAYMENT_min_sum: float (nullable = true)\n",
      " |-- OBS_30_CNT_SOCIAL_CIRCLE: float (nullable = true)\n",
      " |-- client_installments_AMT_INSTALMENT_sum_sum: float (nullable = true)\n",
      " |-- client_installments_NUM_INSTALMENT_VERSION_mean_sum: float (nullable = true)\n",
      " |-- FLAG_DOCUMENT_18: float (nullable = true)\n",
      " |-- client_cash_CNT_INSTALMENT_FUTURE_min_sum: float (nullable = true)\n",
      " |-- previous_loans_CHANNEL_TYPE_Credit and cash offices_count_norm: float (nullable = true)\n",
      " |-- previous_loans_CHANNEL_TYPE_Contact center_count_norm: float (nullable = true)\n",
      " |-- bureau_CREDIT_TYPE_Car loan_count_norm: float (nullable = true)\n",
      " |-- previous_loans_NAME_PORTFOLIO_POS_count_norm: float (nullable = true)\n",
      " |-- client_installments_NUM_INSTALMENT_NUMBER_min_mean: float (nullable = true)\n",
      " |-- previous_loans_WEEKDAY_APPR_PROCESS_START_TUESDAY_count_norm: float (nullable = true)\n",
      " |-- previous_loans_NAME_GOODS_CATEGORY_Furniture_count_norm: float (nullable = true)\n",
      " |-- client_cash_NAME_CONTRACT_STATUS_Completed_count_norm_max: float (nullable = true)\n",
      " |-- AMT_REQ_CREDIT_BUREAU_QRT: float (nullable = true)\n",
      " |-- NAME_INCOME_TYPE_Working: float (nullable = true)\n",
      " |-- client_cash_NAME_CONTRACT_STATUS_Active_count_norm_min: float (nullable = true)\n",
      " |-- previous_loans_AMT_DOWN_PAYMENT_min: float (nullable = true)\n",
      " |-- bureau_CREDIT_TYPE_Microloan_count_norm: float (nullable = true)\n",
      " |-- previous_loans_DAYS_TERMINATION_min: float (nullable = true)\n",
      " |-- previous_loans_CHANNEL_TYPE_Channel of corporate sales_count_norm: float (nullable = true)\n",
      " |-- previous_loans_WEEKDAY_APPR_PROCESS_START_SUNDAY_count_norm: float (nullable = true)\n",
      " |-- previous_loans_CHANNEL_TYPE_Stone_count_norm: float (nullable = true)\n",
      " |-- NAME_EDUCATION_TYPE_Secondary / secondary special: float (nullable = true)\n",
      " |-- client_bureau_balance_STATUS_0_count_sum: float (nullable = true)\n",
      " |-- OCCUPATION_TYPE_Core staff: float (nullable = true)\n",
      " |-- previous_loans_NAME_YIELD_GROUP_middle_count_norm: float (nullable = true)\n",
      " |-- client_cash_NAME_CONTRACT_STATUS_Completed_count_norm_mean: float (nullable = true)\n",
      " |-- bureau_AMT_CREDIT_SUM_OVERDUE_max: float (nullable = true)\n",
      " |-- REG_CITY_NOT_LIVE_CITY: float (nullable = true)\n",
      " |-- ORGANIZATION_TYPE_Business Entity Type 3: float (nullable = true)\n",
      " |-- bureau_CREDIT_ACTIVE_Closed_count: float (nullable = true)\n",
      " |-- ORGANIZATION_TYPE_Self-employed: float (nullable = true)\n",
      " |-- previous_loans_NAME_PORTFOLIO_Cash_count_norm: float (nullable = true)\n",
      " |-- previous_loans_WEEKDAY_APPR_PROCESS_START_WEDNESDAY_count_norm: float (nullable = true)\n",
      " |-- client_installments_NUM_INSTALMENT_VERSION_mean_min: float (nullable = true)\n",
      " |-- client_cash_NAME_CONTRACT_STATUS_Completed_count_sum: float (nullable = true)\n",
      " |-- previous_loans_CODE_REJECT_REASON_SCO_count_norm: float (nullable = true)\n",
      " |-- previous_loans_NAME_GOODS_CATEGORY_Computers_count_norm: float (nullable = true)\n",
      " |-- previous_loans_NAME_YIELD_GROUP_XNA_count_norm: float (nullable = true)\n",
      " |-- previous_loans_PRODUCT_COMBINATION_POS household without interest_count_norm: float (nullable = true)\n",
      " |-- previous_loans_NAME_PRODUCT_TYPE_XNA_count_norm: float (nullable = true)\n",
      " |-- bureau_AMT_CREDIT_SUM_LIMIT_min: float (nullable = true)\n",
      " |-- previous_loans_NAME_PRODUCT_TYPE_x-sell_count_norm: float (nullable = true)\n",
      " |-- previous_loans_WEEKDAY_APPR_PROCESS_START_MONDAY_count_norm: float (nullable = true)\n",
      " |-- previous_loans_WEEKDAY_APPR_PROCESS_START_SATURDAY_count_norm: float (nullable = true)\n",
      " |-- previous_loans_NAME_CLIENT_TYPE_New_count_norm: float (nullable = true)\n",
      " |-- previous_loans_CHANNEL_TYPE_AP+ (Cash loan)_count_norm: float (nullable = true)\n",
      " |-- previous_loans_NFLAG_INSURED_ON_APPROVAL_mean: float (nullable = true)\n",
      " |-- previous_loans_NAME_GOODS_CATEGORY_Audio/Video_count_norm: float (nullable = true)\n",
      " |-- client_cash_SK_DPD_mean_min: float (nullable = true)\n",
      " |-- previous_loans_NAME_GOODS_CATEGORY_Clothing and Accessories_count_norm: float (nullable = true)\n",
      " |-- DEF_30_CNT_SOCIAL_CIRCLE: float (nullable = true)\n",
      " |-- client_installments_NUM_INSTALMENT_NUMBER_mean_min: float (nullable = true)\n",
      " |-- client_installments_NUM_INSTALMENT_NUMBER_sum_min: float (nullable = true)\n",
      " |-- previous_loans_NAME_PORTFOLIO_XNA_count_norm: float (nullable = true)\n",
      " |-- previous_loans_NAME_CLIENT_TYPE_Repeater_count_norm: float (nullable = true)\n",
      " |-- previous_loans_NAME_SELLER_INDUSTRY_Connectivity_count_norm: float (nullable = true)\n",
      " |-- bureau_CREDIT_TYPE_Credit card_count: float (nullable = true)\n",
      " |-- previous_loans_NAME_CONTRACT_STATUS_Canceled_count_norm: float (nullable = true)\n",
      " |-- OCCUPATION_TYPE_Drivers: float (nullable = true)\n",
      " |-- previous_loans_HOUR_APPR_PROCESS_START_min: float (nullable = true)\n",
      " |-- client_cash_NAME_CONTRACT_STATUS_Signed_count_norm_max: float (nullable = true)\n",
      " |-- OCCUPATION_TYPE_Laborers: float (nullable = true)\n",
      " |-- client_cash_CNT_INSTALMENT_min_max: float (nullable = true)\n",
      " |-- previous_loans_WEEKDAY_APPR_PROCESS_START_THURSDAY_count_norm: float (nullable = true)\n",
      " |-- ORGANIZATION_TYPE_Construction: float (nullable = true)\n",
      " |-- client_cash_NAME_CONTRACT_STATUS_Active_count_max: float (nullable = true)\n",
      " |-- client_cash_SK_DPD_DEF_sum_min: float (nullable = true)\n",
      " |-- previous_loans_NAME_CONTRACT_TYPE_Cash loans_count_norm: float (nullable = true)\n",
      " |-- previous_loans_DAYS_FIRST_DRAWING_mean: float (nullable = true)\n",
      " |-- previous_loans_PRODUCT_COMBINATION_Cash X-Sell: middle_count_norm: float (nullable = true)\n",
      " |-- previous_loans_NAME_CASH_LOAN_PURPOSE_Other_count_norm: float (nullable = true)\n",
      " |-- client_bureau_balance_STATUS_0_count_norm_sum: float (nullable = true)\n",
      " |-- client_installments_NUM_INSTALMENT_VERSION_sum_min: float (nullable = true)\n",
      " |-- previous_loans_CHANNEL_TYPE_Country-wide_count_norm: float (nullable = true)\n",
      " |-- client_cash_NAME_CONTRACT_STATUS_Signed_count_sum: float (nullable = true)\n",
      " |-- AMT_REQ_CREDIT_BUREAU_YEAR: float (nullable = true)\n",
      " |-- bureau_CREDIT_TYPE_Microloan_count: float (nullable = true)\n",
      " |-- NAME_INCOME_TYPE_State servant: float (nullable = true)\n",
      " |-- previous_loans_DAYS_TERMINATION_max: float (nullable = true)\n",
      " |-- FLAG_WORK_PHONE: float (nullable = true)\n",
      " |-- previous_loans_NAME_GOODS_CATEGORY_Photo / Cinema Equipment_count_norm: float (nullable = true)\n",
      " |-- previous_loans_WEEKDAY_APPR_PROCESS_START_FRIDAY_count_norm: float (nullable = true)\n",
      " |-- previous_loans_WEEKDAY_APPR_PROCESS_START_THURSDAY_count: float (nullable = true)\n",
      " |-- ORGANIZATION_TYPE_Military: float (nullable = true)\n",
      " |-- previous_loans_PRODUCT_COMBINATION_POS household with interest_count_norm: float (nullable = true)\n",
      " |-- client_installments_NUM_INSTALMENT_VERSION_min_sum: float (nullable = true)\n",
      " |-- client_cash_NAME_CONTRACT_STATUS_Completed_count_norm_sum: float (nullable = true)\n",
      " |-- FLAG_DOCUMENT_16: float (nullable = true)\n",
      " |-- previous_loans_NAME_TYPE_SUITE_Spouse, partner_count_norm: float (nullable = true)\n",
      " |-- client_cash_NAME_CONTRACT_STATUS_Returned to the store_count_sum: float (nullable = true)\n",
      " |-- ORGANIZATION_TYPE_Industry: type 9: float (nullable = true)\n",
      " |-- AMT_REQ_CREDIT_BUREAU_MON: float (nullable = true)\n",
      " |-- previous_loans_NAME_CONTRACT_STATUS_Approved_count: float (nullable = true)\n",
      " |-- bureau_CREDIT_ACTIVE_Sold_count_norm: float (nullable = true)\n"
     ]
    },
    {
     "name": "stdout",
     "output_type": "stream",
     "text": [
      " |-- previous_loans_NAME_GOODS_CATEGORY_Mobile_count_norm: float (nullable = true)\n",
      " |-- bureau_AMT_CREDIT_SUM_OVERDUE_mean: float (nullable = true)\n",
      " |-- previous_loans_NAME_SELLER_INDUSTRY_Construction_count_norm: float (nullable = true)\n",
      " |-- previous_loans_CODE_REJECT_REASON_SCOFR_count_norm: float (nullable = true)\n",
      " |-- previous_loans_NAME_SELLER_INDUSTRY_Furniture_count_norm: float (nullable = true)\n",
      " |-- client_cash_NAME_CONTRACT_STATUS_Active_count_norm_max: float (nullable = true)\n",
      " |-- previous_loans_NAME_GOODS_CATEGORY_Construction Materials_count_norm: float (nullable = true)\n",
      " |-- client_bureau_balance_STATUS_1_count_norm_sum: float (nullable = true)\n",
      " |-- previous_loans_PRODUCT_COMBINATION_Cash Street: middle_count_norm: float (nullable = true)\n",
      " |-- previous_loans_PRODUCT_COMBINATION_POS other with interest_count_norm: float (nullable = true)\n",
      " |-- client_cash_CNT_INSTALMENT_min_min: float (nullable = true)\n",
      " |-- previous_loans_CODE_REJECT_REASON_VERIF_count_norm: float (nullable = true)\n",
      " |-- previous_loans_CODE_REJECT_REASON_LIMIT_count_norm: float (nullable = true)\n",
      " |-- client_bureau_balance_STATUS_X_count_norm_sum: float (nullable = true)\n",
      " |-- previous_loans_PRODUCT_COMBINATION_Cash_count_norm: float (nullable = true)\n",
      " |-- previous_loans_NAME_GOODS_CATEGORY_Consumer Electronics_count_norm: float (nullable = true)\n",
      " |-- previous_loans_CHANNEL_TYPE_Regional / Local_count_norm: float (nullable = true)\n",
      " |-- previous_loans_WEEKDAY_APPR_PROCESS_START_SUNDAY_count: float (nullable = true)\n",
      " |-- FLAG_DOCUMENT_13: float (nullable = true)\n",
      " |-- previous_loans_CODE_REJECT_REASON_CLIENT_count_norm: float (nullable = true)\n",
      " |-- client_bureau_balance_STATUS_X_count_sum: float (nullable = true)\n",
      " |-- previous_loans_NAME_YIELD_GROUP_middle_count: float (nullable = true)\n",
      " |-- previous_loans_NAME_CONTRACT_TYPE_Revolving loans_count_norm: float (nullable = true)\n",
      " |-- previous_loans_NAME_PRODUCT_TYPE_XNA_count: float (nullable = true)\n",
      " |-- previous_loans_NAME_GOODS_CATEGORY_Jewelry_count_norm: float (nullable = true)\n",
      " |-- WALLSMATERIAL_MODE_Stone, brick: float (nullable = true)\n",
      " |-- previous_loans_NAME_SELLER_INDUSTRY_Consumer electronics_count_norm: float (nullable = true)\n",
      " |-- previous_loans_CNT_PAYMENT_min: float (nullable = true)\n",
      " |-- previous_loans_NAME_YIELD_GROUP_high_count: float (nullable = true)\n",
      " |-- NAME_FAMILY_STATUS_Separated: float (nullable = true)\n",
      " |-- NAME_HOUSING_TYPE_House / apartment: float (nullable = true)\n",
      " |-- client_cash_NAME_CONTRACT_STATUS_Signed_count_norm_mean: float (nullable = true)\n",
      " |-- previous_loans_NAME_CONTRACT_STATUS_Refused_count: float (nullable = true)\n",
      " |-- previous_loans_PRODUCT_COMBINATION_Card Street_count_norm: float (nullable = true)\n",
      " |-- client_installments_NUM_INSTALMENT_NUMBER_max_min: float (nullable = true)\n",
      " |-- previous_loans_PRODUCT_COMBINATION_POS industry without interest_count_norm: float (nullable = true)\n",
      " |-- previous_loans_CHANNEL_TYPE_Regional / Local_count: float (nullable = true)\n",
      " |-- ORGANIZATION_TYPE_Transport: type 3: float (nullable = true)\n",
      " |-- client_cash_NAME_CONTRACT_STATUS_Returned to the store_count_norm_max: float (nullable = true)\n",
      " |-- ORGANIZATION_TYPE_School: float (nullable = true)\n",
      " |-- previous_loans_NAME_TYPE_SUITE_Other_B_count_norm: float (nullable = true)\n",
      " |-- bureau_CNT_CREDIT_PROLONG_mean: float (nullable = true)\n",
      " |-- client_bureau_balance_MONTHS_BALANCE_max_sum: float (nullable = true)\n",
      " |-- client_cash_NAME_CONTRACT_STATUS_Active_count_min: float (nullable = true)\n",
      " |-- WEEKDAY_APPR_PROCESS_START_WEDNESDAY: float (nullable = true)\n",
      " |-- OCCUPATION_TYPE_High skill tech staff: float (nullable = true)\n",
      " |-- previous_loans_NAME_PAYMENT_TYPE_XNA_count: float (nullable = true)\n",
      " |-- FLAG_PHONE: float (nullable = true)\n",
      " |-- TARGET: float (nullable = true)\n",
      " |-- SK_ID_CURR: float (nullable = true)\n",
      " |-- features: vector (nullable = true)\n",
      "\n"
     ]
    }
   ],
   "source": [
    "df2.printSchema()"
   ]
  },
  {
   "cell_type": "code",
   "execution_count": 41,
   "metadata": {},
   "outputs": [
    {
     "data": {
      "text/plain": [
       "labelIndexer: org.apache.spark.ml.feature.StringIndexer = strIdx_447cde7ed22b\n",
       "df3: org.apache.spark.sql.DataFrame = [EXT_SOURCE_2: float, EXT_SOURCE_3: float ... 282 more fields]\n"
      ]
     },
     "execution_count": 41,
     "metadata": {},
     "output_type": "execute_result"
    }
   ],
   "source": [
    "val labelIndexer = new StringIndexer().setInputCol(\"TARGET\").setOutputCol(\"label\")\n",
    "val df3 = labelIndexer.fit(df2).transform(df2)"
   ]
  },
  {
   "cell_type": "code",
   "execution_count": 42,
   "metadata": {
    "collapsed": true
   },
   "outputs": [
    {
     "name": "stdout",
     "output_type": "stream",
     "text": [
      "2019-06-05 10:24:36,879 WARN  [Executor task launch worker for task 1017] memory.MemoryStore (Logging.scala:logWarning(66)) - Not enough space to cache rdd_745_0 in memory! (computed 27.3 MB so far)\n",
      "2019-06-05 10:24:36,881 WARN  [Executor task launch worker for task 1017] storage.BlockManager (Logging.scala:logWarning(66)) - Persisting block rdd_745_0 to disk instead.\n"
     ]
    },
    {
     "data": {
      "text/plain": [
       "model: org.apache.spark.ml.classification.LogisticRegressionModel = LogisticRegressionModel: uid = logreg_7cdd3b22ff72, numClasses = 2, numFeatures = 280\n",
       "predictions: org.apache.spark.sql.DataFrame = [EXT_SOURCE_2: float, EXT_SOURCE_3: float ... 285 more fields]\n"
      ]
     },
     "execution_count": 42,
     "metadata": {},
     "output_type": "execute_result"
    }
   ],
   "source": [
    "val model = new LogisticRegression().fit(df3)\n",
    "val predictions = model.transform(df3)"
   ]
  },
  {
   "cell_type": "code",
   "execution_count": 62,
   "metadata": {
    "collapsed": true
   },
   "outputs": [
    {
     "name": "stdout",
     "output_type": "stream",
     "text": [
      "+----------+--------------------+-----+--------------------+----------+\n",
      "|SK_ID_CURR|            features|label|         probability|prediction|\n",
      "+----------+--------------------+-----+--------------------+----------+\n",
      "|  162184.0|[1.11118999484460...|  0.0|[0.96453092256627...|       0.0|\n",
      "|  123241.0|(280,[0,1,2,3,4,5...|  1.0|[0.92181159260730...|       0.0|\n",
      "|  139370.0|(280,[0,1,2,3,4,5...|  1.0|[0.71883607996861...|       0.0|\n",
      "|  148800.0|[5.80878986511379...|  0.0|[0.73065884568556...|       0.0|\n",
      "|  130112.0|[6.54166971798986...|  1.0|[0.74178784254276...|       0.0|\n",
      "|  103041.0|(280,[0,1,2,3,4,5...|  0.0|[0.84746555765860...|       0.0|\n",
      "|  147356.0|(280,[0,1,2,3,4,5...|  0.0|[0.92333645707510...|       0.0|\n",
      "|  135712.0|(280,[0,1,2,3,4,5...|  1.0|[0.45620231151929...|       1.0|\n",
      "|  136748.0|(280,[0,1,2,3,4,5...|  0.0|[0.75632565380304...|       0.0|\n",
      "|  151389.0|(280,[0,1,2,3,4,5...|  0.0|[0.85925346391027...|       0.0|\n",
      "|  112328.0|(280,[0,1,2,3,4,5...|  0.0|[0.75219243655687...|       0.0|\n",
      "|  135969.0|(280,[0,1,2,3,4,5...|  1.0|[0.83602286989173...|       0.0|\n",
      "|  126005.0|(280,[0,1,2,3,4,5...|  1.0|[0.82961440965421...|       0.0|\n",
      "|  125159.0|(280,[0,1,2,3,4,5...|  0.0|[0.50742081844053...|       0.0|\n",
      "|  155521.0|(280,[0,1,2,3,4,5...|  1.0|[0.58470079859208...|       0.0|\n",
      "|  144727.0|(280,[0,1,2,3,4,5...|  0.0|[0.82360329090500...|       0.0|\n",
      "|  127569.0|[0.00160539394710...|  0.0|[0.56025327218466...|       0.0|\n",
      "|  138620.0|(280,[0,1,2,3,4,5...|  0.0|[0.63357704566745...|       0.0|\n",
      "|  116133.0|(280,[0,1,2,3,4,5...|  1.0|[0.82637941061665...|       0.0|\n",
      "|  145262.0|(280,[0,1,2,3,4,5...|  0.0|[0.49150087066523...|       1.0|\n",
      "+----------+--------------------+-----+--------------------+----------+\n",
      "only showing top 20 rows\n",
      "\n"
     ]
    }
   ],
   "source": [
    "predictions.select (\"SK_ID_CURR\",\"features\", \"label\",\"probability\", \"prediction\").show()"
   ]
  },
  {
   "cell_type": "markdown",
   "metadata": {},
   "source": [
    "### Instead of run each function with multiple transform on dataset, we can set the assembler, label Indexer and model into pipeline:"
   ]
  },
  {
   "cell_type": "code",
   "execution_count": 106,
   "metadata": {},
   "outputs": [
    {
     "data": {
      "text/plain": [
       "lrPipeline: org.apache.spark.ml.Pipeline = pipeline_386d9fe8bdc2\n",
       "lrModel: org.apache.spark.ml.PipelineModel = pipeline_386d9fe8bdc2\n"
      ]
     },
     "execution_count": 106,
     "metadata": {},
     "output_type": "execute_result"
    }
   ],
   "source": [
    "val lrPipeline = new Pipeline().setStages(Array(labelIndexer, assembler, model))\n",
    "\n",
    "val lrModel = lrPipeline.fit(train_df)\n"
   ]
  },
  {
   "cell_type": "code",
   "execution_count": 107,
   "metadata": {
    "collapsed": true
   },
   "outputs": [
    {
     "name": "stdout",
     "output_type": "stream",
     "text": [
      "+----------+--------------------+-----+--------------------+----------+\n",
      "|SK_ID_CURR|            features|label|         probability|prediction|\n",
      "+----------+--------------------+-----+--------------------+----------+\n",
      "|  145702.0|[1.73074993654154...|  0.0|[0.80239616107334...|       0.0|\n",
      "|  139370.0|(280,[0,1,2,3,4,5...|  1.0|[0.71883607996861...|       0.0|\n",
      "|  157586.0|[5.26803021784871...|  1.0|[0.83932866796578...|       0.0|\n",
      "|  148800.0|[5.80878986511379...|  0.0|[0.73065884568556...|       0.0|\n",
      "|  130112.0|[6.54166971798986...|  1.0|[0.74178784254276...|       0.0|\n",
      "|  103041.0|(280,[0,1,2,3,4,5...|  0.0|[0.84746555765860...|       0.0|\n",
      "|  135712.0|(280,[0,1,2,3,4,5...|  1.0|[0.45620231151929...|       1.0|\n",
      "|  136748.0|(280,[0,1,2,3,4,5...|  0.0|[0.75632565380304...|       0.0|\n",
      "|  151389.0|(280,[0,1,2,3,4,5...|  0.0|[0.85925346391027...|       0.0|\n",
      "|  112328.0|(280,[0,1,2,3,4,5...|  0.0|[0.75219243655687...|       0.0|\n",
      "|  125091.0|(280,[0,1,2,3,4,5...|  1.0|[0.61296886102941...|       0.0|\n",
      "|  135969.0|(280,[0,1,2,3,4,5...|  1.0|[0.83602286989173...|       0.0|\n",
      "|  126005.0|(280,[0,1,2,3,4,5...|  1.0|[0.82961440965421...|       0.0|\n",
      "|  130143.0|(280,[0,1,2,3,4,5...|  0.0|[0.59235283868877...|       0.0|\n",
      "|  132315.0|[0.00124580401461...|  1.0|[0.67560653021030...|       0.0|\n",
      "|  125159.0|(280,[0,1,2,3,4,5...|  0.0|[0.50742081844053...|       0.0|\n",
      "|  158660.0|[0.00166446098592...|  1.0|[0.56451421773041...|       0.0|\n",
      "|  138620.0|(280,[0,1,2,3,4,5...|  0.0|[0.63357704566745...|       0.0|\n",
      "|  116133.0|(280,[0,1,2,3,4,5...|  1.0|[0.82637941061665...|       0.0|\n",
      "|  118910.0|(280,[0,1,2,3,4,5...|  0.0|[0.82259588824770...|       0.0|\n",
      "+----------+--------------------+-----+--------------------+----------+\n",
      "only showing top 20 rows\n",
      "\n"
     ]
    },
    {
     "data": {
      "text/plain": [
       "predictions1: org.apache.spark.sql.DataFrame = [EXT_SOURCE_2: float, EXT_SOURCE_3: float ... 285 more fields]\n"
      ]
     },
     "execution_count": 107,
     "metadata": {},
     "output_type": "execute_result"
    }
   ],
   "source": [
    "val predictions1 = lrModel.transform(train_df)\n",
    "predictions1.select (\"SK_ID_CURR\",\"features\", \"label\",\"probability\", \"prediction\").show()"
   ]
  },
  {
   "cell_type": "markdown",
   "metadata": {},
   "source": [
    "### Note that 'prediction' and 'prediction1' are identicle, with the latter generated by pipeline\n",
    "### Now we check the coefficients of each variable:"
   ]
  },
  {
   "cell_type": "code",
   "execution_count": 49,
   "metadata": {
    "collapsed": true
   },
   "outputs": [
    {
     "name": "stdout",
     "output_type": "stream",
     "text": [
      "Coefficients: [-1.992623043807887,-2.193920990208578,-3.489685010059842E-7,3.424466598363812E-5,4.1708080577416654E-8,9.583023663582491E-6,-1.5153913535693228E-7,-1.986302613661628E-6,-5.298542530855307E-5,1.8967169212265913E-5,-6.832081959494841E-5,1.9746875671261832E-7,0.017828937523268678,0.01096661662569543,-4.319471054198385E-7,2.2214122060346098E-5,1.0520739565465583E-8,-1.425734650885446E-7,9.80198191892948E-6,-1.0991336577865482E-4,-9.521372233324889E-7,-0.29265703970391815,1.4012842789694349,0.003081905905888688,-2.5523355630706335E-4,1.2371225158052954E-8,-0.1264322437348097,1.6887200038933334E-5,-9.036243852669412E-7,-2.2252937564207274E-5,0.37463183567306296,-1.728708584912292E-7,0.030180735917681636,-0.018160148654549613,2.4336481726604288E-5,0.1381690129207532,-0.06915658426524468,5.631315118253187E-6,3.8242691669967325E-7,2.8831347593275535E-6,6.472362110549365E-5,-2.4810137030141314E-6,-3.607475948235999E-6,2.3176747612706724E-5,-6.962411509735002E-7,-0.6128359476220323,0.005680084025398709,-5.34783430705877E-9,6.102596320613842E-8,3.838535933504015E-6,-0.14227205033497092,1.61159865884743E-4,-2.3542266355079675E-7,-5.545757009944619E-7,2.8831418281432884E-7,-0.002222936726131829,-0.18266470893710973,-7.998377669945788E-5,1.2988006492775205E-5,0.14724273661423917,3.45211311334219E-7,8.829470376710716E-5,-1.991118275371588E-5,-5.9950175165839324E-6,9.687375521384232E-7,1.7142517432853055E-7,-6.112952668406127E-7,-1.351429839861585,3.4907847355211462E-6,-6.925788332563138E-6,-0.3174790636110762,0.1089170508117598,0.37621870016850756,-3.783976063097003E-7,0.1030493177046575,-0.32122777873643354,0.011751446190274347,1.7092594525625319E-7,-1.7874795591046977E-4,2.757043523943432E-4,-0.3355019479146098,-1.1229085305755036E-5,0.04144842562527328,0.13207487674212315,-1.4262415950123342E-4,9.298893428852342E-8,-1.8139238110936412E-7,8.84546394871804E-8,8.20243971682293E-9,0.008182742525047691,2.953286351620548E-6,-0.055059938346443855,2.3099588863157026,0.004500800658859107,0.004022065585278199,1.0430566803037764E-4,7.764024260245754E-7,-7.451961235854634E-5,0.36263932239923385,-0.019153709183934588,-9.08841455664445E-4,1.269010788967416E-7,-1.1405704159749183E-6,6.125648225184152E-8,-4.533330329476003E-5,-0.9376479792560088,-8.437440116727432E-7,-0.0037713282180013635,-1.054082769845058E-6,0.44586173050602523,-0.011123274597880883,0.5860957696319822,0.1406716334918072,0.001733092945191835,4.741234415543937E-5,-5.683213965780744E-6,-0.07150422602388222,-3.0522401413979886E-5,-4.657983797029488E-7,0.04834198632535907,2.1948405583337797E-4,0.5223258419401848,-0.47406789666944654,2.5422215608721923E-9,0.22505309921009417,4.2455106492328576E-8,2.3425878416485662E-8,0.0021495928439916557,0.23859011007322845,1.8887252948978544E-6,-5.754207829462062E-5,-0.023440484227775022,-6.067668770218738E-7,4.3793720369288085E-5,-0.029160689874301503,0.28107030243033293,1.9878614854647555E-6,0.0035914024504268257,2.2116755034214988E-9,-4.7709925954760046E-4,-0.8995675619612572,-1.6923575141219525E-5,0.25054520461047475,0.27993253914940086,-0.24799852980549272,0.2013382793346373,-0.011672596585762314,0.04721736284679594,0.17582968186070996,-0.32683316051346567,-0.02726488868333079,0.04552288038678038,-0.2717065627250371,-3.4898982567466276E-6,1.4804756035877005,6.22787069233483E-7,-0.30393847460765183,0.09776229199805972,0.048648249774138695,0.10343574065639656,-0.0011382771579995163,-0.13212071266110575,0.1401863428126967,2.2652507433867273,2.8020291500540184E-6,0.14468776459921182,0.08789452468300175,-0.008632542795653099,0.16064372479786687,0.0071626873987041114,0.17334574288209714,-0.34743447223552715,-2.2865252025559512E-4,0.28780639730746055,0.10998795300630157,0.3414708546973623,-0.024747493986210713,0.2889378167826986,1.2901081375448289E-6,0.2816647098139656,0.16407589053565247,0.022273467277435174,0.3103742571934017,0.39325612997737136,0.06987217974013878,0.16031211862617614,-4.884830200872486E-5,-0.08445226837731375,0.09457452442055424,0.03573975226516628,-1.7080631895370296E-4,0.0036325619215157104,-0.0024822116030044582,0.24402916857523368,0.03611181248417957,0.023298313984026132,0.1803547081647664,-0.0027021294239908777,-0.6181633252313535,0.06913263991528037,-0.0043275986841449345,0.05888999045608631,0.260538778802175,-0.005779995367324859,0.006338989351433413,0.1319817406759031,-2.4684301258209E-6,0.18812607757999936,-0.07956571078866079,-0.006078738796566087,0.010562044994115564,-0.021763216416268036,3.417947060619528E-4,-0.014862582347560476,0.004589163335080644,-0.24213542637425955,1.0542923993505912E-7,0.08079333301052857,-0.028795666334136088,0.16132124163940476,0.007947047506407106,-0.3603183845842011,-0.009040116889645696,0.002910972313599873,0.017765868336351374,-0.8731443977621723,-0.08404721453101108,0.020154235374567637,-0.27428627834104874,-0.020716061681567404,-0.05005466545262048,0.6067096913371038,0.07740190888986355,-7.074088754638581E-6,-0.35342740603199396,0.6521411871168238,-0.22050845753438683,-0.5480794724914195,0.4487332395982346,0.21018260809448847,0.5087777070906152,0.324050793384353,-0.0095096933027013,0.3704558718774328,0.5550764239753947,0.0032654572201272583,0.40766730671552365,0.1134193550753998,0.17516412447398796,-0.006073289766275625,-1.2291664315313384,0.06514800298947702,-2.146968965099217E-5,-0.016061495864565227,0.6751459766773629,0.002513123947255995,0.0068107809981611134,0.06849823094544037,0.06659524034641622,-0.013685028096484999,0.033835213602972446,0.05016600866957984,-0.029914297270235462,2.941251432864786,-0.03412600892715485,-0.1563799614317425,-0.004770621884763003,0.011154093804603185,-0.034655565149157935,0.6028183966123576,-0.17342546534588987,-0.0668844453524783,0.14710526889187533,0.14798802096748548,-5.866628335673429E-4,-0.012024773978802729,0.024508385797219926,-0.15965287526167057,0.0041414793590885774,-0.11595488405265941] Intercept: -2.5154942215992806\n"
     ]
    }
   ],
   "source": [
    "println(s\"Coefficients: ${model.coefficients} Intercept: ${model.intercept}\")"
   ]
  },
  {
   "cell_type": "markdown",
   "metadata": {},
   "source": [
    "### Check the accuracy of the prediction:"
   ]
  },
  {
   "cell_type": "code",
   "execution_count": 103,
   "metadata": {},
   "outputs": [
    {
     "data": {
      "text/plain": [
       "import org.apache.spark.ml.classification.NaiveBayes\n",
       "import org.apache.spark.ml.evaluation.MulticlassClassificationEvaluator\n",
       "import org.apache.spark.sql.SparkSession\n"
      ]
     },
     "execution_count": 103,
     "metadata": {},
     "output_type": "execute_result"
    }
   ],
   "source": [
    "import org.apache.spark.ml.classification.NaiveBayes\n",
    "import org.apache.spark.ml.evaluation.MulticlassClassificationEvaluator\n",
    "\n",
    "import org.apache.spark.sql.SparkSession"
   ]
  },
  {
   "cell_type": "code",
   "execution_count": 45,
   "metadata": {},
   "outputs": [
    {
     "name": "stdout",
     "output_type": "stream",
     "text": [
      "Test set accuracy = 0.9277759631686187\n"
     ]
    },
    {
     "data": {
      "text/plain": [
       "evaluator: org.apache.spark.ml.evaluation.MulticlassClassificationEvaluator = mcEval_ba3a173d7867\n",
       "accuracy: Double = 0.9277759631686187\n"
      ]
     },
     "execution_count": 45,
     "metadata": {},
     "output_type": "execute_result"
    }
   ],
   "source": [
    "    val evaluator = new MulticlassClassificationEvaluator()\n",
    "      .setLabelCol(\"label\")\n",
    "      .setPredictionCol(\"prediction\")\n",
    "      .setMetricName(\"accuracy\")\n",
    "    val accuracy = evaluator.evaluate(predictions)\n",
    "    println(\"Test set accuracy = \" + accuracy)"
   ]
  },
  {
   "cell_type": "markdown",
   "metadata": {},
   "source": [
    "### We can see that the accuracy of our prediction is over 90%. Much higher than our threshold 50%\n",
    "### But the 'target' of our data is highly skewed, with most of them are 0. The accuracy might not be a good criteria for model testing"
   ]
  },
  {
   "cell_type": "markdown",
   "metadata": {},
   "source": [
    "### Inspect further into the prediction with different label value(0 or 1):"
   ]
  },
  {
   "cell_type": "code",
   "execution_count": 81,
   "metadata": {},
   "outputs": [
    {
     "data": {
      "text/plain": [
       "import org.apache.spark.rdd.RDD\n",
       "import org.apache.spark.mllib.evaluation.MulticlassMetrics\n",
       "import org.apache.spark.mllib.regression.LabeledPoint\n",
       "import org.apache.spark.mllib.util.MLUtils\n",
       "import org.apache.spark.mllib.evaluation.BinaryClassificationMetrics\n"
      ]
     },
     "execution_count": 81,
     "metadata": {},
     "output_type": "execute_result"
    }
   ],
   "source": [
    "import org.apache.spark.rdd.RDD\n",
    "import org.apache.spark.mllib.evaluation.MulticlassMetrics\n",
    "import org.apache.spark.mllib.regression.LabeledPoint\n",
    "import org.apache.spark.mllib.util.MLUtils\n",
    "import org.apache.spark.mllib.evaluation.BinaryClassificationMetrics"
   ]
  },
  {
   "cell_type": "code",
   "execution_count": 69,
   "metadata": {},
   "outputs": [
    {
     "data": {
      "text/plain": [
       "lp: org.apache.spark.sql.DataFrame = [label: double, prediction: double]\n",
       "counttotal: Long = 128586\n",
       "correct: Long = 119299\n",
       "wrong: Long = 9287\n",
       "truep: Long = 119098\n",
       "falseN: Long = 9092\n",
       "falseP: Long = 195\n",
       "ratioWrong: Double = 0.07222403683138133\n",
       "ratioCorrect: Double = 0.9277759631686187\n"
      ]
     },
     "execution_count": 69,
     "metadata": {},
     "output_type": "execute_result"
    }
   ],
   "source": [
    "val lp = predictions.select( \"label\", \"prediction\")\n",
    "val counttotal = predictions.count()\n",
    "val correct = lp.filter($\"label\" === $\"prediction\").count() //correct prediction\n",
    "val wrong = lp.filter(not($\"label\" === $\"prediction\")).count() //wrong prediction\n",
    "val truep = lp.filter($\"prediction\" === 0.0).filter($\"label\" === $\"prediction\").count() //Correct prediction of label=0\n",
    "val falseN = lp.filter($\"prediction\" === 0.0).filter(not($\"label\" === $\"prediction\")).count() //Wrong prediction when label=1\n",
    "val falseP = lp.filter($\"prediction\" === 1.0).filter(not($\"label\" === $\"prediction\")).count() //Wrong prediction when lable =0\n",
    "val ratioWrong=wrong.toDouble/counttotal.toDouble //Wrong prediction ratio\n",
    "val ratioCorrect=correct.toDouble/counttotal.toDouble //Correct predicition ratio"
   ]
  },
  {
   "cell_type": "markdown",
   "metadata": {},
   "source": [
    "### we use the binary classification metrics to evaluate the model"
   ]
  },
  {
   "cell_type": "code",
   "execution_count": 83,
   "metadata": {
    "collapsed": true
   },
   "outputs": [
    {
     "data": {
      "text/plain": [
       "predictionLabelsRDD: org.apache.spark.rdd.RDD[(Double, Double)] = MapPartitionsRDD[1586] at map at <console>:114\n",
       "binMetrics: org.apache.spark.mllib.evaluation.BinaryClassificationMetrics = org.apache.spark.mllib.evaluation.BinaryClassificationMetrics@72f3d318\n"
      ]
     },
     "execution_count": 83,
     "metadata": {},
     "output_type": "execute_result"
    }
   ],
   "source": [
    "val predictionLabelsRDD = predictions.select(\"prediction\", \"label\").rdd.map(r => (r.getDouble(0), r.getDouble(1)))\n",
    "val binMetrics = new BinaryClassificationMetrics(predictionLabelsRDD)"
   ]
  },
  {
   "cell_type": "code",
   "execution_count": 86,
   "metadata": {},
   "outputs": [
    {
     "name": "stdout",
     "output_type": "stream",
     "text": [
      "area under the receiver operating characteristic (ROC) curve : 0.5099972762785058\n"
     ]
    }
   ],
   "source": [
    "println(\"area under the receiver operating characteristic (ROC) curve : \" + binMetrics.areaUnderROC)"
   ]
  }
 ],
 "metadata": {
  "kernelspec": {
   "display_name": "spylon-kernel",
   "language": "scala",
   "name": "spylon-kernel"
  },
  "language_info": {
   "codemirror_mode": "text/x-scala",
   "file_extension": ".scala",
   "help_links": [
    {
     "text": "MetaKernel Magics",
     "url": "https://metakernel.readthedocs.io/en/latest/source/README.html"
    }
   ],
   "mimetype": "text/x-scala",
   "name": "scala",
   "pygments_lexer": "scala",
   "version": "0.4.1"
  }
 },
 "nbformat": 4,
 "nbformat_minor": 2
}
