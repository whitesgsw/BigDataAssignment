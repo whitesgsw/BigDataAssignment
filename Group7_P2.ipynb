{
 "cells": [
  {
   "cell_type": "markdown",
   "metadata": {},
   "source": [
    "## Group 7\n",
    "## Big Data Group Project\n",
    "\n",
    "### Contributors:\n",
    "- 22606127: Sean Whitehead [Sean]\n",
    "- 29650437: Lin Bai\n",
    "\n",
    "### Phase 2: Cleansing and Reshaping"
   ]
  },
  {
   "cell_type": "markdown",
   "metadata": {},
   "source": [
    "This notebook is used for co-developing of codes required to wrangle the home credit risk dataset.\n",
    "\n",
    "Please use this notebook as the live version and download local copies as you require.\n",
    "\n",
    "If you have picked up a specific section, please comment your name to the code cell so that we can work on other sections.\n",
    "\n",
    "Helpful link for Dataframes in Scala:\n",
    "- https://docs.databricks.com/spark/latest/dataframes-datasets/introduction-to-dataframes-scala.html#work-with-dataframes\n",
    "- https://spark.apache.org/docs/1.5.0/api/java/overview-summary.html"
   ]
  },
  {
   "cell_type": "markdown",
   "metadata": {},
   "source": [
    "Insert libraries into the cell below:"
   ]
  },
  {
   "cell_type": "code",
   "execution_count": 1,
   "metadata": {},
   "outputs": [
    {
     "data": {
      "text/plain": [
       "Intitializing Scala interpreter ..."
      ]
     },
     "metadata": {},
     "output_type": "display_data"
    },
    {
     "data": {
      "text/plain": [
       "Spark Web UI available at http://95a19fa2a889:4041\n",
       "SparkContext available as 'sc' (version = 2.4.3, master = local[*], app id = local-1558766339609)\n",
       "SparkSession available as 'spark'\n"
      ]
     },
     "metadata": {},
     "output_type": "display_data"
    },
    {
     "data": {
      "text/plain": [
       "import org.apache.spark.sql.functions._\n",
       "import org.apache.spark.sql.types._\n",
       "import org.apache.spark.sql._\n",
       "import org.apache.hadoop.io.LongWritable\n",
       "import org.apache.hadoop.io.Text\n",
       "import org.apache.hadoop.conf.Configuration\n",
       "import org.apache.hadoop.mapreduce.lib.input.TextInputFormat\n"
      ]
     },
     "execution_count": 1,
     "metadata": {},
     "output_type": "execute_result"
    }
   ],
   "source": [
    "import org.apache.spark.sql.functions._\n",
    "import org.apache.spark.sql.types._\n",
    "import org.apache.spark.sql._\n",
    "import org.apache.hadoop.io.LongWritable\n",
    "import org.apache.hadoop.io.Text\n",
    "import org.apache.hadoop.conf.Configuration\n",
    "import org.apache.hadoop.mapreduce.lib.input.TextInputFormat"
   ]
  },
  {
   "cell_type": "markdown",
   "metadata": {},
   "source": [
    "Insert code for data loading below:"
   ]
  },
  {
   "cell_type": "markdown",
   "metadata": {},
   "source": [
    "Download zip from GDrive and extract to location where you are running notebook for below to run"
   ]
  },
  {
   "cell_type": "code",
   "execution_count": 2,
   "metadata": {},
   "outputs": [
    {
     "data": {
      "text/plain": [
       "creditRiskdf: org.apache.spark.sql.DataFrame = [EXT_SOURCE_1: string, EXT_SOURCE_2: string ... 359 more fields]\n"
      ]
     },
     "execution_count": 2,
     "metadata": {},
     "output_type": "execute_result"
    }
   ],
   "source": [
    "//read in csv [Sean]\n",
    "val creditRiskdf = spark.read.option(\"header\",\"true\").csv(\"Home credit default risk after feature selection/m_train_small.csv\")"
   ]
  },
  {
   "cell_type": "code",
   "execution_count": 15,
   "metadata": {
    "collapsed": true
   },
   "outputs": [
    {
     "name": "stdout",
     "output_type": "stream",
     "text": [
      "root\n",
      " |-- EXT_SOURCE_1: string (nullable = true)\n",
      " |-- EXT_SOURCE_2: string (nullable = true)\n",
      " |-- EXT_SOURCE_3: string (nullable = true)\n",
      " |-- client_installments_AMT_PAYMENT_min_sum: string (nullable = true)\n",
      " |-- DAYS_BIRTH: string (nullable = true)\n",
      " |-- AMT_CREDIT: string (nullable = true)\n",
      " |-- AMT_ANNUITY: string (nullable = true)\n",
      " |-- DAYS_EMPLOYED: string (nullable = true)\n",
      " |-- bureau_DAYS_CREDIT_ENDDATE_max: string (nullable = true)\n",
      " |-- bureau_DAYS_CREDIT_max: string (nullable = true)\n",
      " |-- DAYS_ID_PUBLISH: string (nullable = true)\n",
      " |-- bureau_AMT_CREDIT_MAX_OVERDUE_mean: string (nullable = true)\n",
      " |-- bureau_DAYS_ENDDATE_FACT_max: string (nullable = true)\n",
      " |-- bureau_AMT_CREDIT_SUM_DEBT_mean: string (nullable = true)\n",
      " |-- OWN_CAR_AGE: string (nullable = true)\n",
      " |-- previous_loans_CNT_PAYMENT_mean: string (nullable = true)\n",
      " |-- client_cash_CNT_INSTALMENT_FUTURE_min_max: string (nullable = true)\n",
      " |-- previous_loans_SELLERPLACE_AREA_max: string (nullable = true)\n",
      " |-- DAYS_LAST_PHONE_CHANGE: string (nullable = true)\n",
      " |-- bureau_AMT_CREDIT_SUM_max: string (nullable = true)\n",
      " |-- bureau_AMT_CREDIT_SUM_mean: string (nullable = true)\n",
      " |-- DAYS_REGISTRATION: string (nullable = true)\n",
      " |-- client_installments_DAYS_INSTALMENT_max_max: string (nullable = true)\n",
      " |-- previous_loans_AMT_DOWN_PAYMENT_max: string (nullable = true)\n",
      " |-- CODE_GENDER_F: string (nullable = true)\n",
      " |-- REGION_POPULATION_RELATIVE: string (nullable = true)\n",
      " |-- client_cash_CNT_INSTALMENT_max_mean: string (nullable = true)\n",
      " |-- bureau_DAYS_CREDIT_UPDATE_max: string (nullable = true)\n",
      " |-- bureau_AMT_CREDIT_SUM_sum: string (nullable = true)\n",
      " |-- client_credit_AMT_DRAWINGS_CURRENT_mean_max: string (nullable = true)\n",
      " |-- YEARS_BEGINEXPLUATATION_AVG: string (nullable = true)\n",
      " |-- client_installments_NUM_INSTALMENT_VERSION_mean_max: string (nullable = true)\n",
      " |-- bureau_DAYS_CREDIT_mean: string (nullable = true)\n",
      " |-- client_installments_AMT_PAYMENT_sum_mean: string (nullable = true)\n",
      " |-- client_installments_DAYS_INSTALMENT_min_max: string (nullable = true)\n",
      " |-- previous_loans_NAME_CONTRACT_STATUS_Refused_count_norm: string (nullable = true)\n",
      " |-- client_credit_CNT_DRAWINGS_CURRENT_max_max: string (nullable = true)\n",
      " |-- client_installments_AMT_INSTALMENT_max_max: string (nullable = true)\n",
      " |-- client_cash_CNT_INSTALMENT_FUTURE_min_mean: string (nullable = true)\n",
      " |-- client_credit_AMT_RECIVABLE_mean_min: string (nullable = true)\n",
      " |-- client_installments_NUM_INSTALMENT_VERSION_max_mean: string (nullable = true)\n",
      " |-- bureau_DAYS_CREDIT_min: string (nullable = true)\n",
      " |-- previous_loans_NAME_YIELD_GROUP_high_count_norm: string (nullable = true)\n",
      " |-- previous_loans_RATE_DOWN_PAYMENT_sum: string (nullable = true)\n",
      " |-- BASEMENTAREA_AVG: string (nullable = true)\n",
      " |-- client_installments_DAYS_ENTRY_PAYMENT_sum_max: string (nullable = true)\n",
      " |-- previous_loans_DAYS_FIRST_DUE_min: string (nullable = true)\n",
      " |-- client_cash_SK_DPD_DEF_sum_max: string (nullable = true)\n",
      " |-- previous_loans_DAYS_DECISION_max: string (nullable = true)\n",
      " |-- LANDAREA_AVG: string (nullable = true)\n",
      " |-- client_installments_AMT_INSTALMENT_min_mean: string (nullable = true)\n",
      " |-- bureau_AMT_CREDIT_SUM_LIMIT_mean: string (nullable = true)\n",
      " |-- bureau_DAYS_CREDIT_sum: string (nullable = true)\n",
      " |-- previous_loans_DAYS_LAST_DUE_1ST_VERSION_max: string (nullable = true)\n",
      " |-- previous_loans_PRODUCT_COMBINATION_Cash X-Sell: low_count_norm: string (nullable = true)\n",
      " |-- previous_loans_HOUR_APPR_PROCESS_START_mean: string (nullable = true)\n",
      " |-- APARTMENTS_AVG: string (nullable = true)\n",
      " |-- bureau_AMT_CREDIT_SUM_DEBT_max: string (nullable = true)\n",
      " |-- bureau_AMT_CREDIT_SUM_min: string (nullable = true)\n",
      " |-- previous_loans_AMT_DOWN_PAYMENT_mean: string (nullable = true)\n",
      " |-- NAME_FAMILY_STATUS_Married: string (nullable = true)\n",
      " |-- previous_loans_CNT_PAYMENT_max: string (nullable = true)\n",
      " |-- client_installments_AMT_INSTALMENT_mean_min: string (nullable = true)\n",
      " |-- AMT_INCOME_TOTAL: string (nullable = true)\n",
      " |-- previous_loans_DAYS_LAST_DUE_sum: string (nullable = true)\n",
      " |-- client_cash_MONTHS_BALANCE_max_mean: string (nullable = true)\n",
      " |-- NAME_EDUCATION_TYPE_Higher education: string (nullable = true)\n",
      " |-- client_cash_MONTHS_BALANCE_sum_mean: string (nullable = true)\n",
      " |-- bureau_DAYS_CREDIT_ENDDATE_mean: string (nullable = true)\n",
      " |-- REGION_RATING_CLIENT: string (nullable = true)\n",
      " |-- previous_loans_AMT_GOODS_PRICE_min: string (nullable = true)\n",
      " |-- bureau_DAYS_ENDDATE_FACT_min: string (nullable = true)\n",
      " |-- bureau_DAYS_CREDIT_ENDDATE_min: string (nullable = true)\n",
      " |-- previous_loans_AMT_ANNUITY_mean: string (nullable = true)\n",
      " |-- client_installments_AMT_PAYMENT_max_min: string (nullable = true)\n",
      " |-- client_installments_AMT_INSTALMENT_min_max: string (nullable = true)\n",
      " |-- client_installments_AMT_PAYMENT_sum_min: string (nullable = true)\n",
      " |-- bureau_CREDIT_TYPE_Mortgage_count_norm: string (nullable = true)\n",
      " |-- previous_loans_AMT_ANNUITY_max: string (nullable = true)\n",
      " |-- previous_loans_AMT_ANNUITY_min: string (nullable = true)\n",
      " |-- previous_loans_RATE_DOWN_PAYMENT_max: string (nullable = true)\n",
      " |-- previous_loans_NAME_YIELD_GROUP_low_normal_count_norm: string (nullable = true)\n",
      " |-- previous_loans_PRODUCT_COMBINATION_Cash X-Sell: high_count_norm: string (nullable = true)\n",
      " |-- bureau_DAYS_CREDIT_ENDDATE_sum: string (nullable = true)\n",
      " |-- bureau_CREDIT_ACTIVE_Active_count: string (nullable = true)\n",
      " |-- previous_loans_NAME_YIELD_GROUP_low_action_count_norm: string (nullable = true)\n",
      " |-- client_cash_counts_mean: string (nullable = true)\n",
      " |-- client_installments_AMT_INSTALMENT_mean_max: string (nullable = true)\n",
      " |-- client_cash_MONTHS_BALANCE_sum_max: string (nullable = true)\n",
      " |-- NONLIVINGAREA_AVG: string (nullable = true)\n",
      " |-- client_cash_CNT_INSTALMENT_sum_min: string (nullable = true)\n",
      " |-- bureau_CREDIT_ACTIVE_Active_count_norm: string (nullable = true)\n",
      " |-- bureau_DAYS_CREDIT_UPDATE_min: string (nullable = true)\n",
      " |-- DEF_60_CNT_SOCIAL_CIRCLE: string (nullable = true)\n",
      " |-- FLAG_DOCUMENT_3: string (nullable = true)\n",
      " |-- bureau_DAYS_ENDDATE_FACT_mean: string (nullable = true)\n",
      " |-- bureau_AMT_CREDIT_SUM_LIMIT_max: string (nullable = true)\n",
      " |-- client_cash_SK_DPD_max_sum: string (nullable = true)\n",
      " |-- previous_loans_AMT_GOODS_PRICE_mean: string (nullable = true)\n",
      " |-- client_installments_AMT_PAYMENT_max_sum: string (nullable = true)\n",
      " |-- client_installments_NUM_INSTALMENT_VERSION_sum_mean: string (nullable = true)\n",
      " |-- client_bureau_balance_MONTHS_BALANCE_sum_min: string (nullable = true)\n",
      " |-- client_installments_AMT_INSTALMENT_min_min: string (nullable = true)\n",
      " |-- previous_loans_NAME_TYPE_SUITE_Unaccompanied_count_norm: string (nullable = true)\n",
      " |-- client_cash_NAME_CONTRACT_STATUS_Active_count_norm_mean: string (nullable = true)\n",
      " |-- client_installments_NUM_INSTALMENT_NUMBER_max_mean: string (nullable = true)\n",
      " |-- client_cash_CNT_INSTALMENT_max_max: string (nullable = true)\n",
      " |-- client_installments_DAYS_ENTRY_PAYMENT_max_min: string (nullable = true)\n",
      " |-- client_bureau_balance_STATUS_C_count_norm_max: string (nullable = true)\n",
      " |-- client_installments_AMT_PAYMENT_max_mean: string (nullable = true)\n",
      " |-- client_cash_counts_sum: string (nullable = true)\n",
      " |-- previous_loans_NAME_CONTRACT_STATUS_Approved_count_norm: string (nullable = true)\n",
      " |-- client_cash_CNT_INSTALMENT_min_mean: string (nullable = true)\n",
      " |-- client_cash_CNT_INSTALMENT_mean_min: string (nullable = true)\n",
      " |-- client_installments_AMT_INSTALMENT_sum_max: string (nullable = true)\n",
      " |-- previous_loans_AMT_ANNUITY_sum: string (nullable = true)\n",
      " |-- client_installments_AMT_PAYMENT_mean_sum: string (nullable = true)\n",
      " |-- previous_loans_DAYS_DECISION_mean: string (nullable = true)\n",
      " |-- FLOORSMAX_AVG: string (nullable = true)\n",
      " |-- previous_loans_PRODUCT_COMBINATION_Cash Street: low_count_norm: string (nullable = true)\n",
      " |-- previous_loans_DAYS_LAST_DUE_1ST_VERSION_mean: string (nullable = true)\n",
      " |-- HOUR_APPR_PROCESS_START: string (nullable = true)\n",
      " |-- previous_loans_DAYS_LAST_DUE_1ST_VERSION_min: string (nullable = true)\n",
      " |-- YEARS_BUILD_AVG: string (nullable = true)\n",
      " |-- bureau_CREDIT_TYPE_Consumer credit_count_norm: string (nullable = true)\n",
      " |-- previous_loans_HOUR_APPR_PROCESS_START_max: string (nullable = true)\n",
      " |-- previous_loans_CODE_REJECT_REASON_HC_count_norm: string (nullable = true)\n",
      " |-- previous_loans_NAME_PRODUCT_TYPE_walk-in_count_norm: string (nullable = true)\n",
      " |-- previous_loans_CNT_PAYMENT_sum: string (nullable = true)\n",
      " |-- previous_loans_SELLERPLACE_AREA_min: string (nullable = true)\n",
      " |-- bureau_DAYS_CREDIT_UPDATE_mean: string (nullable = true)\n",
      " |-- previous_loans_DAYS_FIRST_DUE_sum: string (nullable = true)\n",
      " |-- previous_loans_DAYS_DECISION_sum: string (nullable = true)\n",
      " |-- previous_loans_PRODUCT_COMBINATION_POS industry with interest_count_norm: string (nullable = true)\n",
      " |-- COMMONAREA_AVG: string (nullable = true)\n",
      " |-- client_credit_AMT_CREDIT_LIMIT_ACTUAL_mean_mean: string (nullable = true)\n",
      " |-- client_cash_MONTHS_BALANCE_max_sum: string (nullable = true)\n",
      " |-- client_bureau_balance_STATUS_X_count_norm_mean: string (nullable = true)\n",
      " |-- previous_loans_AMT_CREDIT_min: string (nullable = true)\n",
      " |-- previous_loans_NAME_CLIENT_TYPE_Refreshed_count_norm: string (nullable = true)\n",
      " |-- client_bureau_balance_MONTHS_BALANCE_mean_sum: string (nullable = true)\n",
      " |-- previous_loans_PRODUCT_COMBINATION_Cash Street: high_count_norm: string (nullable = true)\n",
      " |-- previous_loans_RATE_DOWN_PAYMENT_mean: string (nullable = true)\n",
      " |-- bureau_AMT_CREDIT_SUM_DEBT_min: string (nullable = true)\n",
      " |-- NAME_CONTRACT_TYPE_Cash loans: string (nullable = true)\n",
      " |-- client_installments_AMT_INSTALMENT_min_sum: string (nullable = true)\n",
      " |-- previous_loans_AMT_APPLICATION_max: string (nullable = true)\n",
      " |-- client_installments_NUM_INSTALMENT_VERSION_sum_max: string (nullable = true)\n",
      " |-- previous_loans_RATE_DOWN_PAYMENT_min: string (nullable = true)\n",
      " |-- client_installments_AMT_INSTALMENT_mean_mean: string (nullable = true)\n",
      " |-- client_installments_NUM_INSTALMENT_VERSION_sum_sum: string (nullable = true)\n",
      " |-- previous_loans_NAME_TYPE_SUITE_Family_count_norm: string (nullable = true)\n",
      " |-- previous_loans_DAYS_TERMINATION_mean: string (nullable = true)\n",
      " |-- client_credit_AMT_DRAWINGS_POS_CURRENT_mean_sum: string (nullable = true)\n",
      " |-- client_cash_CNT_INSTALMENT_FUTURE_max_sum: string (nullable = true)\n",
      " |-- previous_loans_NAME_PAYMENT_TYPE_XNA_count_norm: string (nullable = true)\n",
      " |-- client_credit_CNT_DRAWINGS_ATM_CURRENT_sum_mean: string (nullable = true)\n",
      " |-- bureau_AMT_ANNUITY_max: string (nullable = true)\n",
      " |-- bureau_CREDIT_TYPE_Credit card_count_norm: string (nullable = true)\n",
      " |-- previous_loans_DAYS_FIRST_DUE_mean: string (nullable = true)\n",
      " |-- client_installments_DAYS_ENTRY_PAYMENT_min_sum: string (nullable = true)\n",
      " |-- ENTRANCES_AVG: string (nullable = true)\n",
      " |-- client_bureau_balance_STATUS_0_count_norm_min: string (nullable = true)\n",
      " |-- OBS_30_CNT_SOCIAL_CIRCLE: string (nullable = true)\n",
      " |-- client_installments_AMT_INSTALMENT_sum_sum: string (nullable = true)\n",
      " |-- client_installments_NUM_INSTALMENT_VERSION_mean_sum: string (nullable = true)\n",
      " |-- FLAG_DOCUMENT_18: string (nullable = true)\n",
      " |-- client_cash_CNT_INSTALMENT_FUTURE_min_sum: string (nullable = true)\n",
      " |-- client_credit_AMT_PAYMENT_CURRENT_max_sum: string (nullable = true)\n",
      " |-- previous_loans_CHANNEL_TYPE_Credit and cash offices_count_norm: string (nullable = true)\n",
      " |-- previous_loans_CHANNEL_TYPE_Contact center_count_norm: string (nullable = true)\n",
      " |-- bureau_CREDIT_TYPE_Car loan_count_norm: string (nullable = true)\n",
      " |-- previous_loans_NAME_PORTFOLIO_POS_count_norm: string (nullable = true)\n",
      " |-- client_credit_AMT_DRAWINGS_POS_CURRENT_sum_sum: string (nullable = true)\n",
      " |-- client_installments_NUM_INSTALMENT_NUMBER_min_mean: string (nullable = true)\n",
      " |-- previous_loans_WEEKDAY_APPR_PROCESS_START_TUESDAY_count_norm: string (nullable = true)\n",
      " |-- client_bureau_balance_STATUS_0_count_max: string (nullable = true)\n",
      " |-- previous_loans_NAME_GOODS_CATEGORY_Furniture_count_norm: string (nullable = true)\n",
      " |-- client_cash_NAME_CONTRACT_STATUS_Completed_count_norm_max: string (nullable = true)\n",
      " |-- AMT_REQ_CREDIT_BUREAU_QRT: string (nullable = true)\n",
      " |-- NAME_INCOME_TYPE_Working: string (nullable = true)\n",
      " |-- client_cash_NAME_CONTRACT_STATUS_Active_count_norm_min: string (nullable = true)\n",
      " |-- client_credit_AMT_DRAWINGS_ATM_CURRENT_mean_sum: string (nullable = true)\n",
      " |-- previous_loans_AMT_DOWN_PAYMENT_min: string (nullable = true)\n",
      " |-- bureau_CREDIT_TYPE_Microloan_count_norm: string (nullable = true)\n",
      " |-- previous_loans_DAYS_TERMINATION_min: string (nullable = true)\n",
      " |-- previous_loans_CHANNEL_TYPE_Channel of corporate sales_count_norm: string (nullable = true)\n",
      " |-- client_bureau_balance_STATUS_C_count_norm_mean: string (nullable = true)\n",
      " |-- previous_loans_WEEKDAY_APPR_PROCESS_START_SUNDAY_count_norm: string (nullable = true)\n",
      " |-- client_bureau_balance_STATUS_0_count_norm_mean: string (nullable = true)\n",
      " |-- previous_loans_CHANNEL_TYPE_Stone_count_norm: string (nullable = true)\n",
      " |-- client_bureau_balance_STATUS_0_count_mean: string (nullable = true)\n",
      " |-- NAME_EDUCATION_TYPE_Secondary / secondary special: string (nullable = true)\n",
      " |-- client_bureau_balance_STATUS_0_count_sum: string (nullable = true)\n",
      " |-- client_bureau_balance_MONTHS_BALANCE_sum_max: string (nullable = true)\n",
      " |-- OCCUPATION_TYPE_Core staff: string (nullable = true)\n",
      " |-- client_bureau_balance_STATUS_1_count_norm_mean: string (nullable = true)\n",
      " |-- previous_loans_NAME_YIELD_GROUP_middle_count_norm: string (nullable = true)\n",
      " |-- client_cash_NAME_CONTRACT_STATUS_Completed_count_norm_mean: string (nullable = true)\n",
      " |-- client_bureau_balance_STATUS_X_count_mean: string (nullable = true)\n",
      " |-- bureau_AMT_CREDIT_SUM_OVERDUE_max: string (nullable = true)\n",
      " |-- REG_CITY_NOT_LIVE_CITY: string (nullable = true)\n",
      " |-- ORGANIZATION_TYPE_Business Entity Type 3: string (nullable = true)\n",
      " |-- bureau_CREDIT_ACTIVE_Closed_count: string (nullable = true)\n",
      " |-- ORGANIZATION_TYPE_Self-employed: string (nullable = true)\n",
      " |-- previous_loans_NAME_PORTFOLIO_Cash_count_norm: string (nullable = true)\n",
      " |-- client_credit_AMT_BALANCE_min_max: string (nullable = true)\n",
      " |-- previous_loans_WEEKDAY_APPR_PROCESS_START_WEDNESDAY_count_norm: string (nullable = true)\n",
      " |-- client_credit_AMT_CREDIT_LIMIT_ACTUAL_max_sum: string (nullable = true)\n",
      " |-- client_installments_NUM_INSTALMENT_VERSION_mean_min: string (nullable = true)\n",
      " |-- client_cash_NAME_CONTRACT_STATUS_Completed_count_sum: string (nullable = true)\n",
      " |-- previous_loans_CODE_REJECT_REASON_SCO_count_norm: string (nullable = true)\n",
      " |-- previous_loans_NAME_GOODS_CATEGORY_Computers_count_norm: string (nullable = true)\n",
      " |-- previous_loans_NAME_YIELD_GROUP_XNA_count_norm: string (nullable = true)\n",
      " |-- previous_loans_PRODUCT_COMBINATION_POS household without interest_count_norm: string (nullable = true)\n",
      " |-- previous_loans_NAME_PRODUCT_TYPE_XNA_count_norm: string (nullable = true)\n",
      " |-- client_bureau_balance_MONTHS_BALANCE_max_mean: string (nullable = true)\n",
      " |-- client_credit_MONTHS_BALANCE_max_sum: string (nullable = true)\n",
      " |-- client_bureau_balance_MONTHS_BALANCE_mean_min: string (nullable = true)\n",
      " |-- bureau_AMT_CREDIT_SUM_LIMIT_min: string (nullable = true)\n",
      " |-- previous_loans_NAME_PRODUCT_TYPE_x-sell_count_norm: string (nullable = true)\n",
      " |-- ELEVATORS_AVG: string (nullable = true)\n",
      " |-- NONLIVINGAPARTMENTS_AVG: string (nullable = true)\n",
      " |-- previous_loans_WEEKDAY_APPR_PROCESS_START_MONDAY_count_norm: string (nullable = true)\n",
      " |-- previous_loans_WEEKDAY_APPR_PROCESS_START_SATURDAY_count_norm: string (nullable = true)\n",
      " |-- previous_loans_NAME_CLIENT_TYPE_New_count_norm: string (nullable = true)\n",
      " |-- bureau_AMT_ANNUITY_mean: string (nullable = true)\n",
      " |-- previous_loans_CHANNEL_TYPE_AP+ (Cash loan)_count_norm: string (nullable = true)\n",
      " |-- client_credit_NAME_CONTRACT_STATUS_Active_count_min: string (nullable = true)\n",
      " |-- client_credit_AMT_DRAWINGS_POS_CURRENT_max_sum: string (nullable = true)\n",
      " |-- previous_loans_NFLAG_INSURED_ON_APPROVAL_mean: string (nullable = true)\n",
      " |-- previous_loans_NAME_GOODS_CATEGORY_Audio/Video_count_norm: string (nullable = true)\n",
      " |-- client_cash_SK_DPD_mean_min: string (nullable = true)\n",
      " |-- previous_loans_NAME_GOODS_CATEGORY_Clothing and Accessories_count_norm: string (nullable = true)\n",
      " |-- DEF_30_CNT_SOCIAL_CIRCLE: string (nullable = true)\n",
      " |-- client_installments_NUM_INSTALMENT_NUMBER_mean_min: string (nullable = true)\n",
      " |-- client_bureau_balance_STATUS_C_count_mean: string (nullable = true)\n",
      " |-- client_installments_NUM_INSTALMENT_NUMBER_sum_min: string (nullable = true)\n",
      " |-- client_credit_CNT_DRAWINGS_CURRENT_max_sum: string (nullable = true)\n",
      " |-- client_credit_AMT_PAYMENT_CURRENT_sum_sum: string (nullable = true)\n",
      " |-- previous_loans_NAME_PORTFOLIO_XNA_count_norm: string (nullable = true)\n",
      " |-- previous_loans_NAME_CLIENT_TYPE_Repeater_count_norm: string (nullable = true)\n",
      " |-- previous_loans_NAME_SELLER_INDUSTRY_Connectivity_count_norm: string (nullable = true)\n",
      " |-- bureau_CREDIT_TYPE_Credit card_count: string (nullable = true)\n",
      " |-- client_credit_AMT_CREDIT_LIMIT_ACTUAL_sum_sum: string (nullable = true)\n",
      " |-- previous_loans_NAME_CONTRACT_STATUS_Canceled_count_norm: string (nullable = true)\n",
      " |-- client_bureau_balance_STATUS_0_count_norm_max: string (nullable = true)\n",
      " |-- OCCUPATION_TYPE_Drivers: string (nullable = true)\n",
      " |-- client_credit_AMT_CREDIT_LIMIT_ACTUAL_min_sum: string (nullable = true)\n",
      " |-- previous_loans_HOUR_APPR_PROCESS_START_min: string (nullable = true)\n",
      " |-- client_credit_AMT_INST_MIN_REGULARITY_max_min: string (nullable = true)\n",
      " |-- client_cash_NAME_CONTRACT_STATUS_Signed_count_norm_max: string (nullable = true)\n",
      " |-- OCCUPATION_TYPE_Laborers: string (nullable = true)\n",
      " |-- client_cash_CNT_INSTALMENT_min_max: string (nullable = true)\n",
      " |-- previous_loans_WEEKDAY_APPR_PROCESS_START_THURSDAY_count_norm: string (nullable = true)\n",
      " |-- ORGANIZATION_TYPE_Construction: string (nullable = true)\n",
      " |-- client_cash_NAME_CONTRACT_STATUS_Active_count_max: string (nullable = true)\n",
      " |-- client_cash_SK_DPD_DEF_sum_min: string (nullable = true)\n",
      " |-- previous_loans_NAME_CONTRACT_TYPE_Cash loans_count_norm: string (nullable = true)\n",
      " |-- previous_loans_DAYS_FIRST_DRAWING_mean: string (nullable = true)\n",
      " |-- client_credit_CNT_DRAWINGS_ATM_CURRENT_max_sum: string (nullable = true)\n",
      " |-- previous_loans_PRODUCT_COMBINATION_Cash X-Sell: middle_count_norm: string (nullable = true)\n",
      " |-- previous_loans_NAME_CASH_LOAN_PURPOSE_Other_count_norm: string (nullable = true)\n",
      " |-- client_bureau_balance_STATUS_0_count_norm_sum: string (nullable = true)\n",
      " |-- client_installments_NUM_INSTALMENT_VERSION_sum_min: string (nullable = true)\n",
      " |-- previous_loans_CHANNEL_TYPE_Country-wide_count_norm: string (nullable = true)\n",
      " |-- client_cash_NAME_CONTRACT_STATUS_Signed_count_sum: string (nullable = true)\n",
      " |-- AMT_REQ_CREDIT_BUREAU_YEAR: string (nullable = true)\n",
      " |-- bureau_CREDIT_TYPE_Microloan_count: string (nullable = true)\n",
      " |-- NAME_INCOME_TYPE_State servant: string (nullable = true)\n",
      " |-- client_credit_AMT_CREDIT_LIMIT_ACTUAL_sum_max: string (nullable = true)\n",
      " |-- previous_loans_DAYS_TERMINATION_max: string (nullable = true)\n",
      " |-- client_credit_AMT_PAYMENT_TOTAL_CURRENT_max_max: string (nullable = true)\n",
      " |-- FLAG_WORK_PHONE: string (nullable = true)\n",
      " |-- previous_loans_NAME_GOODS_CATEGORY_Photo / Cinema Equipment_count_norm: string (nullable = true)\n",
      " |-- previous_loans_WEEKDAY_APPR_PROCESS_START_FRIDAY_count_norm: string (nullable = true)\n",
      " |-- previous_loans_WEEKDAY_APPR_PROCESS_START_THURSDAY_count: string (nullable = true)\n",
      " |-- ORGANIZATION_TYPE_Military: string (nullable = true)\n",
      " |-- previous_loans_PRODUCT_COMBINATION_POS household with interest_count_norm: string (nullable = true)\n",
      " |-- client_installments_NUM_INSTALMENT_VERSION_min_sum: string (nullable = true)\n",
      " |-- client_credit_SK_DPD_mean_mean: string (nullable = true)\n",
      " |-- FLOORSMIN_AVG: string (nullable = true)\n",
      " |-- client_bureau_balance_STATUS_C_count_max: string (nullable = true)\n",
      " |-- client_cash_NAME_CONTRACT_STATUS_Completed_count_norm_sum: string (nullable = true)\n",
      " |-- client_credit_CNT_INSTALMENT_MATURE_CUM_max_mean: string (nullable = true)\n",
      " |-- FLAG_DOCUMENT_16: string (nullable = true)\n",
      " |-- client_bureau_balance_STATUS_1_count_norm_max: string (nullable = true)\n",
      " |-- previous_loans_NAME_TYPE_SUITE_Spouse, partner_count_norm: string (nullable = true)\n",
      " |-- client_bureau_balance_STATUS_1_count_mean: string (nullable = true)\n",
      " |-- client_cash_NAME_CONTRACT_STATUS_Returned to the store_count_sum: string (nullable = true)\n",
      " |-- bureau_AMT_ANNUITY_min: string (nullable = true)\n",
      " |-- client_bureau_balance_STATUS_1_count_max: string (nullable = true)\n",
      " |-- ORGANIZATION_TYPE_Industry: type 9: string (nullable = true)\n",
      " |-- AMT_REQ_CREDIT_BUREAU_MON: string (nullable = true)\n",
      " |-- previous_loans_NAME_CONTRACT_STATUS_Approved_count: string (nullable = true)\n",
      " |-- client_credit_AMT_TOTAL_RECEIVABLE_sum_min: string (nullable = true)\n",
      " |-- bureau_CREDIT_ACTIVE_Sold_count_norm: string (nullable = true)\n",
      " |-- previous_loans_NAME_GOODS_CATEGORY_Mobile_count_norm: string (nullable = true)\n",
      " |-- client_credit_CNT_DRAWINGS_ATM_CURRENT_sum_sum: string (nullable = true)\n",
      " |-- client_credit_AMT_DRAWINGS_CURRENT_max_sum: string (nullable = true)\n",
      " |-- bureau_AMT_CREDIT_SUM_OVERDUE_mean: string (nullable = true)\n",
      " |-- previous_loans_NAME_SELLER_INDUSTRY_Construction_count_norm: string (nullable = true)\n",
      " |-- previous_loans_CODE_REJECT_REASON_SCOFR_count_norm: string (nullable = true)\n",
      " |-- previous_loans_NAME_SELLER_INDUSTRY_Furniture_count_norm: string (nullable = true)\n",
      " |-- client_credit_CNT_DRAWINGS_CURRENT_sum_sum: string (nullable = true)\n",
      " |-- client_cash_NAME_CONTRACT_STATUS_Active_count_norm_max: string (nullable = true)\n",
      " |-- previous_loans_NAME_GOODS_CATEGORY_Construction Materials_count_norm: string (nullable = true)\n",
      " |-- client_bureau_balance_STATUS_1_count_norm_sum: string (nullable = true)\n",
      " |-- previous_loans_PRODUCT_COMBINATION_Cash Street: middle_count_norm: string (nullable = true)\n",
      " |-- previous_loans_PRODUCT_COMBINATION_POS other with interest_count_norm: string (nullable = true)\n",
      " |-- client_cash_CNT_INSTALMENT_min_min: string (nullable = true)\n",
      " |-- previous_loans_CODE_REJECT_REASON_VERIF_count_norm: string (nullable = true)\n",
      " |-- previous_loans_CODE_REJECT_REASON_LIMIT_count_norm: string (nullable = true)\n",
      " |-- client_bureau_balance_STATUS_X_count_norm_sum: string (nullable = true)\n",
      " |-- previous_loans_PRODUCT_COMBINATION_Cash_count_norm: string (nullable = true)\n",
      " |-- client_bureau_balance_STATUS_X_count_min: string (nullable = true)\n",
      " |-- previous_loans_NAME_GOODS_CATEGORY_Consumer Electronics_count_norm: string (nullable = true)\n",
      " |-- client_credit_AMT_CREDIT_LIMIT_ACTUAL_min_min: string (nullable = true)\n",
      " |-- client_bureau_balance_STATUS_X_count_norm_max: string (nullable = true)\n",
      " |-- previous_loans_CHANNEL_TYPE_Regional / Local_count_norm: string (nullable = true)\n",
      " |-- previous_loans_WEEKDAY_APPR_PROCESS_START_SUNDAY_count: string (nullable = true)\n",
      " |-- client_credit_AMT_RECEIVABLE_PRINCIPAL_sum_sum: string (nullable = true)\n",
      " |-- client_bureau_balance_MONTHS_BALANCE_max_min: string (nullable = true)\n",
      " |-- FLAG_DOCUMENT_13: string (nullable = true)\n",
      " |-- previous_loans_CODE_REJECT_REASON_CLIENT_count_norm: string (nullable = true)\n",
      " |-- client_bureau_balance_STATUS_X_count_sum: string (nullable = true)\n",
      " |-- client_credit_AMT_DRAWINGS_CURRENT_mean_sum: string (nullable = true)\n",
      " |-- client_credit_NAME_CONTRACT_STATUS_Completed_count_norm_mean: string (nullable = true)\n",
      " |-- client_bureau_balance_STATUS_0_count_min: string (nullable = true)\n",
      " |-- previous_loans_NAME_YIELD_GROUP_middle_count: string (nullable = true)\n",
      " |-- previous_loans_NAME_CONTRACT_TYPE_Revolving loans_count_norm: string (nullable = true)\n",
      " |-- previous_loans_NAME_PRODUCT_TYPE_XNA_count: string (nullable = true)\n",
      " |-- previous_loans_NAME_GOODS_CATEGORY_Jewelry_count_norm: string (nullable = true)\n",
      " |-- WALLSMATERIAL_MODE_Stone, brick: string (nullable = true)\n",
      " |-- previous_loans_NAME_SELLER_INDUSTRY_Consumer electronics_count_norm: string (nullable = true)\n",
      " |-- previous_loans_CNT_PAYMENT_min: string (nullable = true)\n",
      " |-- previous_loans_NAME_YIELD_GROUP_high_count: string (nullable = true)\n",
      " |-- NAME_FAMILY_STATUS_Separated: string (nullable = true)\n",
      " |-- NAME_HOUSING_TYPE_House / apartment: string (nullable = true)\n",
      " |-- client_credit_AMT_BALANCE_min_sum: string (nullable = true)\n",
      " |-- client_cash_NAME_CONTRACT_STATUS_Signed_count_norm_mean: string (nullable = true)\n",
      " |-- previous_loans_NAME_CONTRACT_STATUS_Refused_count: string (nullable = true)\n",
      " |-- previous_loans_PRODUCT_COMBINATION_Card Street_count_norm: string (nullable = true)\n",
      " |-- client_installments_NUM_INSTALMENT_NUMBER_max_min: string (nullable = true)\n",
      " |-- client_credit_AMT_PAYMENT_CURRENT_min_sum: string (nullable = true)\n",
      " |-- previous_loans_PRODUCT_COMBINATION_POS industry without interest_count_norm: string (nullable = true)\n",
      " |-- previous_loans_CHANNEL_TYPE_Regional / Local_count: string (nullable = true)\n",
      " |-- ORGANIZATION_TYPE_Transport: type 3: string (nullable = true)\n",
      " |-- client_cash_NAME_CONTRACT_STATUS_Returned to the store_count_norm_max: string (nullable = true)\n",
      " |-- ORGANIZATION_TYPE_School: string (nullable = true)\n",
      " |-- previous_loans_NAME_TYPE_SUITE_Other_B_count_norm: string (nullable = true)\n",
      " |-- bureau_CNT_CREDIT_PROLONG_mean: string (nullable = true)\n",
      " |-- client_credit_AMT_DRAWINGS_CURRENT_max_max: string (nullable = true)\n",
      " |-- client_bureau_balance_MONTHS_BALANCE_max_sum: string (nullable = true)\n",
      " |-- client_cash_NAME_CONTRACT_STATUS_Active_count_min: string (nullable = true)\n",
      " |-- WEEKDAY_APPR_PROCESS_START_WEDNESDAY: string (nullable = true)\n",
      " |-- OCCUPATION_TYPE_High skill tech staff: string (nullable = true)\n",
      " |-- previous_loans_NAME_PAYMENT_TYPE_XNA_count: string (nullable = true)\n",
      " |-- FLAG_PHONE: string (nullable = true)\n",
      " |-- TARGET: string (nullable = true)\n",
      " |-- SK_ID_CURR: string (nullable = true)\n",
      "\n"
     ]
    }
   ],
   "source": [
    "//take a look at features in dataset (...361 of them) [Sean]\n",
    "creditRiskdf.printSchema()"
   ]
  },
  {
   "cell_type": "code",
   "execution_count": 3,
   "metadata": {
    "collapsed": true
   },
   "outputs": [
    {
     "name": "stdout",
     "output_type": "stream",
     "text": [
      "2019-05-25 06:40:45,701 WARN  [Thread-4] util.Utils (Logging.scala:logWarning(66)) - Truncated the string representation of a plan since it was too large. This behavior can be adjusted by setting 'spark.debug.maxToStringFields' in SparkEnv.conf.\n"
     ]
    },
    {
     "data": {
      "text/plain": [
       "res0: Long = 307511\n"
      ]
     },
     "execution_count": 3,
     "metadata": {},
     "output_type": "execute_result"
    }
   ],
   "source": [
    "//count how many rows we are working with\n",
    "creditRiskdf.count()"
   ]
  },
  {
   "cell_type": "code",
   "execution_count": 16,
   "metadata": {
    "collapsed": true
   },
   "outputs": [
    {
     "data": {
      "text/plain": [
       "creditRiskFeatures: Array[String] = Array(EXT_SOURCE_1, EXT_SOURCE_2, EXT_SOURCE_3, client_installments_AMT_PAYMENT_min_sum, DAYS_BIRTH, AMT_CREDIT, AMT_ANNUITY, DAYS_EMPLOYED, bureau_DAYS_CREDIT_ENDDATE_max, bureau_DAYS_CREDIT_max, DAYS_ID_PUBLISH, bureau_AMT_CREDIT_MAX_OVERDUE_mean, bureau_DAYS_ENDDATE_FACT_max, bureau_AMT_CREDIT_SUM_DEBT_mean, OWN_CAR_AGE, previous_loans_CNT_PAYMENT_mean, client_cash_CNT_INSTALMENT_FUTURE_min_max, previous_loans_SELLERPLACE_AREA_max, DAYS_LAST_PHONE_CHANGE, bureau_AMT_CREDIT_SUM_max, bureau_AMT_CREDIT_SUM_mean, DAYS_REGISTRATION, client_installments_DAYS_INSTALMENT_max_max, previous_loans_AMT_DOWN_PAYMENT_max, CODE_GENDER_F, REGION_POPULATION_RELATIVE, client_cash_CNT_INSTALMENT_max_mean, bureau_DAYS_CREDIT_UPDATE_max, bureau_AMT_CREDIT_SUM_sum, clie..."
      ]
     },
     "execution_count": 16,
     "metadata": {},
     "output_type": "execute_result"
    }
   ],
   "source": [
    "//string array of features to pass through EDA functions [Sean]\n",
    "val creditRiskFeatures = creditRiskdf.columns"
   ]
  },
  {
   "cell_type": "markdown",
   "metadata": {},
   "source": [
    "Insert code for flagging missing values below:"
   ]
  },
  {
   "cell_type": "code",
   "execution_count": 6,
   "metadata": {},
   "outputs": [
    {
     "data": {
      "text/plain": [
       "import org.apache.spark.sql.functions.{sum, col}\n"
      ]
     },
     "execution_count": 6,
     "metadata": {},
     "output_type": "execute_result"
    }
   ],
   "source": [
    "import org.apache.spark.sql.functions.{sum, col}"
   ]
  },
  {
   "cell_type": "code",
   "execution_count": 7,
   "metadata": {
    "collapsed": true
   },
   "outputs": [
    {
     "name": "stdout",
     "output_type": "stream",
     "text": [
      "+------------+------------+------------+---------------------------------------+----------+----------+-----------+-------------+------------------------------+----------------------+---------------+----------------------------------+----------------------------+-------------------------------+-----------+-------------------------------+-----------------------------------------+-----------------------------------+----------------------+-------------------------+--------------------------+-----------------+-------------------------------------------+-----------------------------------+-------------+--------------------------+-----------------------------------+-----------------------------+-------------------------+-------------------------------------------+---------------------------+---------------------------------------------------+-----------------------+----------------------------------------+-------------------------------------------+------------------------------------------------------+------------------------------------------+------------------------------------------+------------------------------------------+------------------------------------+---------------------------------------------------+----------------------+-----------------------------------------------+------------------------------------+----------------+----------------------------------------------+---------------------------------+------------------------------+--------------------------------+------------+-------------------------------------------+--------------------------------+----------------------+--------------------------------------------+--------------------------------------------------------------+-------------------------------------------+--------------+------------------------------+-------------------------+------------------------------------+--------------------------+------------------------------+-------------------------------------------+----------------+--------------------------------+-----------------------------------+------------------------------------+-----------------------------------+-------------------------------+--------------------+----------------------------------+----------------------------+------------------------------+-------------------------------+---------------------------------------+------------------------------------------+---------------------------------------+--------------------------------------+------------------------------+------------------------------+------------------------------------+-----------------------------------------------------+---------------------------------------------------------------+------------------------------+---------------------------------+-----------------------------------------------------+-----------------------+-------------------------------------------+----------------------------------+-----------------+----------------------------------+--------------------------------------+-----------------------------+------------------------+---------------+-----------------------------+-------------------------------+--------------------------+-----------------------------------+---------------------------------------+---------------------------------------------------+--------------------------------------------+------------------------------------------+-------------------------------------------------------+-------------------------------------------------------+--------------------------------------------------+----------------------------------+----------------------------------------------+---------------------------------------------+----------------------------------------+----------------------+-------------------------------------------------------+-----------------------------------+-----------------------------------+------------------------------------------+------------------------------+----------------------------------------+---------------------------------+-------------+--------------------------------------------------------------+---------------------------------------------+-----------------------+--------------------------------------------+---------------+---------------------------------------------+------------------------------------------+-----------------------------------------------+---------------------------------------------------+------------------------------+-----------------------------------+------------------------------+---------------------------------+--------------------------------+------------------------------------------------------------------------+--------------+-----------------------------------------------+----------------------------------+----------------------------------------------+-----------------------------+----------------------------------------------------+---------------------------------------------+---------------------------------------------------------------+-------------------------------------+------------------------------+-----------------------------+------------------------------------------+----------------------------------+--------------------------------------------------+------------------------------------+--------------------------------------------+--------------------------------------------------+------------------------------------------------+------------------------------------+-----------------------------------------------+-----------------------------------------+-----------------------------------------------+-----------------------------------------------+----------------------+-----------------------------------------+----------------------------------+----------------------------------------------+-------------+---------------------------------------------+------------------------+------------------------------------------+---------------------------------------------------+----------------+-----------------------------------------+-----------------------------------------+--------------------------------------------------------------+-----------------------------------------------------+--------------------------------------+--------------------------------------------+----------------------------------------------+--------------------------------------------------+------------------------------------------------------------+----------------------------------------+-------------------------------------------------------+---------------------------------------------------------+-------------------------+------------------------+------------------------------------------------------+-----------------------------------------------+-----------------------------------+---------------------------------------+-----------------------------------+-----------------------------------------------------------------+----------------------------------------------+-----------------------------------------------------------+----------------------------------------------+--------------------------------------------+-----------------------------------------+-------------------------------------------------+----------------------------------------+--------------------------------------------+--------------------------+----------------------------------------------+-------------------------------------------------+----------------------------------------------------------+-----------------------------------------+---------------------------------+----------------------+----------------------------------------+---------------------------------+-------------------------------+---------------------------------------------+---------------------------------+--------------------------------------------------------------+---------------------------------------------+---------------------------------------------------+----------------------------------------------------+------------------------------------------------+-------------------------------------------------------+----------------------------------------------+----------------------------------------------------------------------------+-----------------------------------------------+---------------------------------------------+------------------------------------+---------------------------------------------+-------------------------------+--------------------------------------------------+-------------+-----------------------+-----------------------------------------------------------+-------------------------------------------------------------+----------------------------------------------+-----------------------+------------------------------------------------------+---------------------------------------------------+----------------------------------------------+---------------------------------------------+---------------------------------------------------------+---------------------------+----------------------------------------------------------------------+------------------------+--------------------------------------------------+-----------------------------------------+-------------------------------------------------+------------------------------------------+-----------------------------------------+--------------------------------------------+---------------------------------------------------+-----------------------------------------------------------+------------------------------------+---------------------------------------------+-------------------------------------------------------+---------------------------------------------+-----------------------+---------------------------------------------+------------------------------------------+---------------------------------------------+------------------------------------------------------+------------------------+----------------------------------+-------------------------------------------------------------+------------------------------+-------------------------------------------------+------------------------------+-------------------------------------------------------+--------------------------------------+----------------------------------------------+-----------------------------------------------------------------+------------------------------------------------------+---------------------------------------------+--------------------------------------------------+---------------------------------------------------+-------------------------------------------------+--------------------------+----------------------------------+------------------------------+---------------------------------------------+-----------------------------------+-----------------------------------------------+---------------+----------------------------------------------------------------------+-----------------------------------------------------------+--------------------------------------------------------+--------------------------+-------------------------------------------------------------------------+--------------------------------------------------+------------------------------+-------------+----------------------------------------+---------------------------------------------------------+------------------------------------------------+----------------+---------------------------------------------+---------------------------------------------------------+-----------------------------------------+----------------------------------------------------------------+----------------------+----------------------------------------+----------------------------------+-------------------------+--------------------------------------------------+------------------------------------------+------------------------------------+----------------------------------------------------+----------------------------------------------+------------------------------------------+----------------------------------+-----------------------------------------------------------+--------------------------------------------------+--------------------------------------------------------+------------------------------------------+------------------------------------------------------+--------------------------------------------------------------------+---------------------------------------------+-----------------------------------------------------------------+---------------------------------------------------------------------+----------------------------------+--------------------------------------------------+--------------------------------------------------+---------------------------------------------+--------------------------------------------------+----------------------------------------+------------------------------------------------------------------+---------------------------------------------+---------------------------------------------+-------------------------------------------------------+------------------------------------------------------+----------------------------------------------+--------------------------------------------+----------------+---------------------------------------------------+----------------------------------------+-------------------------------------------+------------------------------------------------------------+----------------------------------------+--------------------------------------------+------------------------------------------------------------+------------------------------------------+-----------------------------------------------------+-------------------------------+-------------------------------------------------------------------+------------------------------+------------------------------------------+----------------------------+-----------------------------------+---------------------------------+-------------------------------------------------------+-------------------------------------------------+---------------------------------------------------------+-------------------------------------------------+-----------------------------------------+---------------------------------------------------------------------------+--------------------------------------------------+-----------------------------------+---------------------------------------------------------------------+------------------------+-------------------------------------------------+------------------------------+------------------------------------------+--------------------------------------------+-------------------------------------------------+------------------------------------+-------------------------------------+------------------------------------------+----------+------+----------+\n",
      "|EXT_SOURCE_1|EXT_SOURCE_2|EXT_SOURCE_3|client_installments_AMT_PAYMENT_min_sum|DAYS_BIRTH|AMT_CREDIT|AMT_ANNUITY|DAYS_EMPLOYED|bureau_DAYS_CREDIT_ENDDATE_max|bureau_DAYS_CREDIT_max|DAYS_ID_PUBLISH|bureau_AMT_CREDIT_MAX_OVERDUE_mean|bureau_DAYS_ENDDATE_FACT_max|bureau_AMT_CREDIT_SUM_DEBT_mean|OWN_CAR_AGE|previous_loans_CNT_PAYMENT_mean|client_cash_CNT_INSTALMENT_FUTURE_min_max|previous_loans_SELLERPLACE_AREA_max|DAYS_LAST_PHONE_CHANGE|bureau_AMT_CREDIT_SUM_max|bureau_AMT_CREDIT_SUM_mean|DAYS_REGISTRATION|client_installments_DAYS_INSTALMENT_max_max|previous_loans_AMT_DOWN_PAYMENT_max|CODE_GENDER_F|REGION_POPULATION_RELATIVE|client_cash_CNT_INSTALMENT_max_mean|bureau_DAYS_CREDIT_UPDATE_max|bureau_AMT_CREDIT_SUM_sum|client_credit_AMT_DRAWINGS_CURRENT_mean_max|YEARS_BEGINEXPLUATATION_AVG|client_installments_NUM_INSTALMENT_VERSION_mean_max|bureau_DAYS_CREDIT_mean|client_installments_AMT_PAYMENT_sum_mean|client_installments_DAYS_INSTALMENT_min_max|previous_loans_NAME_CONTRACT_STATUS_Refused_count_norm|client_credit_CNT_DRAWINGS_CURRENT_max_max|client_installments_AMT_INSTALMENT_max_max|client_cash_CNT_INSTALMENT_FUTURE_min_mean|client_credit_AMT_RECIVABLE_mean_min|client_installments_NUM_INSTALMENT_VERSION_max_mean|bureau_DAYS_CREDIT_min|previous_loans_NAME_YIELD_GROUP_high_count_norm|previous_loans_RATE_DOWN_PAYMENT_sum|BASEMENTAREA_AVG|client_installments_DAYS_ENTRY_PAYMENT_sum_max|previous_loans_DAYS_FIRST_DUE_min|client_cash_SK_DPD_DEF_sum_max|previous_loans_DAYS_DECISION_max|LANDAREA_AVG|client_installments_AMT_INSTALMENT_min_mean|bureau_AMT_CREDIT_SUM_LIMIT_mean|bureau_DAYS_CREDIT_sum|previous_loans_DAYS_LAST_DUE_1ST_VERSION_max|previous_loans_PRODUCT_COMBINATION_Cash X-Sell: low_count_norm|previous_loans_HOUR_APPR_PROCESS_START_mean|APARTMENTS_AVG|bureau_AMT_CREDIT_SUM_DEBT_max|bureau_AMT_CREDIT_SUM_min|previous_loans_AMT_DOWN_PAYMENT_mean|NAME_FAMILY_STATUS_Married|previous_loans_CNT_PAYMENT_max|client_installments_AMT_INSTALMENT_mean_min|AMT_INCOME_TOTAL|previous_loans_DAYS_LAST_DUE_sum|client_cash_MONTHS_BALANCE_max_mean|NAME_EDUCATION_TYPE_Higher education|client_cash_MONTHS_BALANCE_sum_mean|bureau_DAYS_CREDIT_ENDDATE_mean|REGION_RATING_CLIENT|previous_loans_AMT_GOODS_PRICE_min|bureau_DAYS_ENDDATE_FACT_min|bureau_DAYS_CREDIT_ENDDATE_min|previous_loans_AMT_ANNUITY_mean|client_installments_AMT_PAYMENT_max_min|client_installments_AMT_INSTALMENT_min_max|client_installments_AMT_PAYMENT_sum_min|bureau_CREDIT_TYPE_Mortgage_count_norm|previous_loans_AMT_ANNUITY_max|previous_loans_AMT_ANNUITY_min|previous_loans_RATE_DOWN_PAYMENT_max|previous_loans_NAME_YIELD_GROUP_low_normal_count_norm|previous_loans_PRODUCT_COMBINATION_Cash X-Sell: high_count_norm|bureau_DAYS_CREDIT_ENDDATE_sum|bureau_CREDIT_ACTIVE_Active_count|previous_loans_NAME_YIELD_GROUP_low_action_count_norm|client_cash_counts_mean|client_installments_AMT_INSTALMENT_mean_max|client_cash_MONTHS_BALANCE_sum_max|NONLIVINGAREA_AVG|client_cash_CNT_INSTALMENT_sum_min|bureau_CREDIT_ACTIVE_Active_count_norm|bureau_DAYS_CREDIT_UPDATE_min|DEF_60_CNT_SOCIAL_CIRCLE|FLAG_DOCUMENT_3|bureau_DAYS_ENDDATE_FACT_mean|bureau_AMT_CREDIT_SUM_LIMIT_max|client_cash_SK_DPD_max_sum|previous_loans_AMT_GOODS_PRICE_mean|client_installments_AMT_PAYMENT_max_sum|client_installments_NUM_INSTALMENT_VERSION_sum_mean|client_bureau_balance_MONTHS_BALANCE_sum_min|client_installments_AMT_INSTALMENT_min_min|previous_loans_NAME_TYPE_SUITE_Unaccompanied_count_norm|client_cash_NAME_CONTRACT_STATUS_Active_count_norm_mean|client_installments_NUM_INSTALMENT_NUMBER_max_mean|client_cash_CNT_INSTALMENT_max_max|client_installments_DAYS_ENTRY_PAYMENT_max_min|client_bureau_balance_STATUS_C_count_norm_max|client_installments_AMT_PAYMENT_max_mean|client_cash_counts_sum|previous_loans_NAME_CONTRACT_STATUS_Approved_count_norm|client_cash_CNT_INSTALMENT_min_mean|client_cash_CNT_INSTALMENT_mean_min|client_installments_AMT_INSTALMENT_sum_max|previous_loans_AMT_ANNUITY_sum|client_installments_AMT_PAYMENT_mean_sum|previous_loans_DAYS_DECISION_mean|FLOORSMAX_AVG|previous_loans_PRODUCT_COMBINATION_Cash Street: low_count_norm|previous_loans_DAYS_LAST_DUE_1ST_VERSION_mean|HOUR_APPR_PROCESS_START|previous_loans_DAYS_LAST_DUE_1ST_VERSION_min|YEARS_BUILD_AVG|bureau_CREDIT_TYPE_Consumer credit_count_norm|previous_loans_HOUR_APPR_PROCESS_START_max|previous_loans_CODE_REJECT_REASON_HC_count_norm|previous_loans_NAME_PRODUCT_TYPE_walk-in_count_norm|previous_loans_CNT_PAYMENT_sum|previous_loans_SELLERPLACE_AREA_min|bureau_DAYS_CREDIT_UPDATE_mean|previous_loans_DAYS_FIRST_DUE_sum|previous_loans_DAYS_DECISION_sum|previous_loans_PRODUCT_COMBINATION_POS industry with interest_count_norm|COMMONAREA_AVG|client_credit_AMT_CREDIT_LIMIT_ACTUAL_mean_mean|client_cash_MONTHS_BALANCE_max_sum|client_bureau_balance_STATUS_X_count_norm_mean|previous_loans_AMT_CREDIT_min|previous_loans_NAME_CLIENT_TYPE_Refreshed_count_norm|client_bureau_balance_MONTHS_BALANCE_mean_sum|previous_loans_PRODUCT_COMBINATION_Cash Street: high_count_norm|previous_loans_RATE_DOWN_PAYMENT_mean|bureau_AMT_CREDIT_SUM_DEBT_min|NAME_CONTRACT_TYPE_Cash loans|client_installments_AMT_INSTALMENT_min_sum|previous_loans_AMT_APPLICATION_max|client_installments_NUM_INSTALMENT_VERSION_sum_max|previous_loans_RATE_DOWN_PAYMENT_min|client_installments_AMT_INSTALMENT_mean_mean|client_installments_NUM_INSTALMENT_VERSION_sum_sum|previous_loans_NAME_TYPE_SUITE_Family_count_norm|previous_loans_DAYS_TERMINATION_mean|client_credit_AMT_DRAWINGS_POS_CURRENT_mean_sum|client_cash_CNT_INSTALMENT_FUTURE_max_sum|previous_loans_NAME_PAYMENT_TYPE_XNA_count_norm|client_credit_CNT_DRAWINGS_ATM_CURRENT_sum_mean|bureau_AMT_ANNUITY_max|bureau_CREDIT_TYPE_Credit card_count_norm|previous_loans_DAYS_FIRST_DUE_mean|client_installments_DAYS_ENTRY_PAYMENT_min_sum|ENTRANCES_AVG|client_bureau_balance_STATUS_0_count_norm_min|OBS_30_CNT_SOCIAL_CIRCLE|client_installments_AMT_INSTALMENT_sum_sum|client_installments_NUM_INSTALMENT_VERSION_mean_sum|FLAG_DOCUMENT_18|client_cash_CNT_INSTALMENT_FUTURE_min_sum|client_credit_AMT_PAYMENT_CURRENT_max_sum|previous_loans_CHANNEL_TYPE_Credit and cash offices_count_norm|previous_loans_CHANNEL_TYPE_Contact center_count_norm|bureau_CREDIT_TYPE_Car loan_count_norm|previous_loans_NAME_PORTFOLIO_POS_count_norm|client_credit_AMT_DRAWINGS_POS_CURRENT_sum_sum|client_installments_NUM_INSTALMENT_NUMBER_min_mean|previous_loans_WEEKDAY_APPR_PROCESS_START_TUESDAY_count_norm|client_bureau_balance_STATUS_0_count_max|previous_loans_NAME_GOODS_CATEGORY_Furniture_count_norm|client_cash_NAME_CONTRACT_STATUS_Completed_count_norm_max|AMT_REQ_CREDIT_BUREAU_QRT|NAME_INCOME_TYPE_Working|client_cash_NAME_CONTRACT_STATUS_Active_count_norm_min|client_credit_AMT_DRAWINGS_ATM_CURRENT_mean_sum|previous_loans_AMT_DOWN_PAYMENT_min|bureau_CREDIT_TYPE_Microloan_count_norm|previous_loans_DAYS_TERMINATION_min|previous_loans_CHANNEL_TYPE_Channel of corporate sales_count_norm|client_bureau_balance_STATUS_C_count_norm_mean|previous_loans_WEEKDAY_APPR_PROCESS_START_SUNDAY_count_norm|client_bureau_balance_STATUS_0_count_norm_mean|previous_loans_CHANNEL_TYPE_Stone_count_norm|client_bureau_balance_STATUS_0_count_mean|NAME_EDUCATION_TYPE_Secondary / secondary special|client_bureau_balance_STATUS_0_count_sum|client_bureau_balance_MONTHS_BALANCE_sum_max|OCCUPATION_TYPE_Core staff|client_bureau_balance_STATUS_1_count_norm_mean|previous_loans_NAME_YIELD_GROUP_middle_count_norm|client_cash_NAME_CONTRACT_STATUS_Completed_count_norm_mean|client_bureau_balance_STATUS_X_count_mean|bureau_AMT_CREDIT_SUM_OVERDUE_max|REG_CITY_NOT_LIVE_CITY|ORGANIZATION_TYPE_Business Entity Type 3|bureau_CREDIT_ACTIVE_Closed_count|ORGANIZATION_TYPE_Self-employed|previous_loans_NAME_PORTFOLIO_Cash_count_norm|client_credit_AMT_BALANCE_min_max|previous_loans_WEEKDAY_APPR_PROCESS_START_WEDNESDAY_count_norm|client_credit_AMT_CREDIT_LIMIT_ACTUAL_max_sum|client_installments_NUM_INSTALMENT_VERSION_mean_min|client_cash_NAME_CONTRACT_STATUS_Completed_count_sum|previous_loans_CODE_REJECT_REASON_SCO_count_norm|previous_loans_NAME_GOODS_CATEGORY_Computers_count_norm|previous_loans_NAME_YIELD_GROUP_XNA_count_norm|previous_loans_PRODUCT_COMBINATION_POS household without interest_count_norm|previous_loans_NAME_PRODUCT_TYPE_XNA_count_norm|client_bureau_balance_MONTHS_BALANCE_max_mean|client_credit_MONTHS_BALANCE_max_sum|client_bureau_balance_MONTHS_BALANCE_mean_min|bureau_AMT_CREDIT_SUM_LIMIT_min|previous_loans_NAME_PRODUCT_TYPE_x-sell_count_norm|ELEVATORS_AVG|NONLIVINGAPARTMENTS_AVG|previous_loans_WEEKDAY_APPR_PROCESS_START_MONDAY_count_norm|previous_loans_WEEKDAY_APPR_PROCESS_START_SATURDAY_count_norm|previous_loans_NAME_CLIENT_TYPE_New_count_norm|bureau_AMT_ANNUITY_mean|previous_loans_CHANNEL_TYPE_AP+ (Cash loan)_count_norm|client_credit_NAME_CONTRACT_STATUS_Active_count_min|client_credit_AMT_DRAWINGS_POS_CURRENT_max_sum|previous_loans_NFLAG_INSURED_ON_APPROVAL_mean|previous_loans_NAME_GOODS_CATEGORY_Audio/Video_count_norm|client_cash_SK_DPD_mean_min|previous_loans_NAME_GOODS_CATEGORY_Clothing and Accessories_count_norm|DEF_30_CNT_SOCIAL_CIRCLE|client_installments_NUM_INSTALMENT_NUMBER_mean_min|client_bureau_balance_STATUS_C_count_mean|client_installments_NUM_INSTALMENT_NUMBER_sum_min|client_credit_CNT_DRAWINGS_CURRENT_max_sum|client_credit_AMT_PAYMENT_CURRENT_sum_sum|previous_loans_NAME_PORTFOLIO_XNA_count_norm|previous_loans_NAME_CLIENT_TYPE_Repeater_count_norm|previous_loans_NAME_SELLER_INDUSTRY_Connectivity_count_norm|bureau_CREDIT_TYPE_Credit card_count|client_credit_AMT_CREDIT_LIMIT_ACTUAL_sum_sum|previous_loans_NAME_CONTRACT_STATUS_Canceled_count_norm|client_bureau_balance_STATUS_0_count_norm_max|OCCUPATION_TYPE_Drivers|client_credit_AMT_CREDIT_LIMIT_ACTUAL_min_sum|previous_loans_HOUR_APPR_PROCESS_START_min|client_credit_AMT_INST_MIN_REGULARITY_max_min|client_cash_NAME_CONTRACT_STATUS_Signed_count_norm_max|OCCUPATION_TYPE_Laborers|client_cash_CNT_INSTALMENT_min_max|previous_loans_WEEKDAY_APPR_PROCESS_START_THURSDAY_count_norm|ORGANIZATION_TYPE_Construction|client_cash_NAME_CONTRACT_STATUS_Active_count_max|client_cash_SK_DPD_DEF_sum_min|previous_loans_NAME_CONTRACT_TYPE_Cash loans_count_norm|previous_loans_DAYS_FIRST_DRAWING_mean|client_credit_CNT_DRAWINGS_ATM_CURRENT_max_sum|previous_loans_PRODUCT_COMBINATION_Cash X-Sell: middle_count_norm|previous_loans_NAME_CASH_LOAN_PURPOSE_Other_count_norm|client_bureau_balance_STATUS_0_count_norm_sum|client_installments_NUM_INSTALMENT_VERSION_sum_min|previous_loans_CHANNEL_TYPE_Country-wide_count_norm|client_cash_NAME_CONTRACT_STATUS_Signed_count_sum|AMT_REQ_CREDIT_BUREAU_YEAR|bureau_CREDIT_TYPE_Microloan_count|NAME_INCOME_TYPE_State servant|client_credit_AMT_CREDIT_LIMIT_ACTUAL_sum_max|previous_loans_DAYS_TERMINATION_max|client_credit_AMT_PAYMENT_TOTAL_CURRENT_max_max|FLAG_WORK_PHONE|previous_loans_NAME_GOODS_CATEGORY_Photo / Cinema Equipment_count_norm|previous_loans_WEEKDAY_APPR_PROCESS_START_FRIDAY_count_norm|previous_loans_WEEKDAY_APPR_PROCESS_START_THURSDAY_count|ORGANIZATION_TYPE_Military|previous_loans_PRODUCT_COMBINATION_POS household with interest_count_norm|client_installments_NUM_INSTALMENT_VERSION_min_sum|client_credit_SK_DPD_mean_mean|FLOORSMIN_AVG|client_bureau_balance_STATUS_C_count_max|client_cash_NAME_CONTRACT_STATUS_Completed_count_norm_sum|client_credit_CNT_INSTALMENT_MATURE_CUM_max_mean|FLAG_DOCUMENT_16|client_bureau_balance_STATUS_1_count_norm_max|previous_loans_NAME_TYPE_SUITE_Spouse, partner_count_norm|client_bureau_balance_STATUS_1_count_mean|client_cash_NAME_CONTRACT_STATUS_Returned to the store_count_sum|bureau_AMT_ANNUITY_min|client_bureau_balance_STATUS_1_count_max|ORGANIZATION_TYPE_Industry: type 9|AMT_REQ_CREDIT_BUREAU_MON|previous_loans_NAME_CONTRACT_STATUS_Approved_count|client_credit_AMT_TOTAL_RECEIVABLE_sum_min|bureau_CREDIT_ACTIVE_Sold_count_norm|previous_loans_NAME_GOODS_CATEGORY_Mobile_count_norm|client_credit_CNT_DRAWINGS_ATM_CURRENT_sum_sum|client_credit_AMT_DRAWINGS_CURRENT_max_sum|bureau_AMT_CREDIT_SUM_OVERDUE_mean|previous_loans_NAME_SELLER_INDUSTRY_Construction_count_norm|previous_loans_CODE_REJECT_REASON_SCOFR_count_norm|previous_loans_NAME_SELLER_INDUSTRY_Furniture_count_norm|client_credit_CNT_DRAWINGS_CURRENT_sum_sum|client_cash_NAME_CONTRACT_STATUS_Active_count_norm_max|previous_loans_NAME_GOODS_CATEGORY_Construction Materials_count_norm|client_bureau_balance_STATUS_1_count_norm_sum|previous_loans_PRODUCT_COMBINATION_Cash Street: middle_count_norm|previous_loans_PRODUCT_COMBINATION_POS other with interest_count_norm|client_cash_CNT_INSTALMENT_min_min|previous_loans_CODE_REJECT_REASON_VERIF_count_norm|previous_loans_CODE_REJECT_REASON_LIMIT_count_norm|client_bureau_balance_STATUS_X_count_norm_sum|previous_loans_PRODUCT_COMBINATION_Cash_count_norm|client_bureau_balance_STATUS_X_count_min|previous_loans_NAME_GOODS_CATEGORY_Consumer Electronics_count_norm|client_credit_AMT_CREDIT_LIMIT_ACTUAL_min_min|client_bureau_balance_STATUS_X_count_norm_max|previous_loans_CHANNEL_TYPE_Regional / Local_count_norm|previous_loans_WEEKDAY_APPR_PROCESS_START_SUNDAY_count|client_credit_AMT_RECEIVABLE_PRINCIPAL_sum_sum|client_bureau_balance_MONTHS_BALANCE_max_min|FLAG_DOCUMENT_13|previous_loans_CODE_REJECT_REASON_CLIENT_count_norm|client_bureau_balance_STATUS_X_count_sum|client_credit_AMT_DRAWINGS_CURRENT_mean_sum|client_credit_NAME_CONTRACT_STATUS_Completed_count_norm_mean|client_bureau_balance_STATUS_0_count_min|previous_loans_NAME_YIELD_GROUP_middle_count|previous_loans_NAME_CONTRACT_TYPE_Revolving loans_count_norm|previous_loans_NAME_PRODUCT_TYPE_XNA_count|previous_loans_NAME_GOODS_CATEGORY_Jewelry_count_norm|WALLSMATERIAL_MODE_Stone, brick|previous_loans_NAME_SELLER_INDUSTRY_Consumer electronics_count_norm|previous_loans_CNT_PAYMENT_min|previous_loans_NAME_YIELD_GROUP_high_count|NAME_FAMILY_STATUS_Separated|NAME_HOUSING_TYPE_House / apartment|client_credit_AMT_BALANCE_min_sum|client_cash_NAME_CONTRACT_STATUS_Signed_count_norm_mean|previous_loans_NAME_CONTRACT_STATUS_Refused_count|previous_loans_PRODUCT_COMBINATION_Card Street_count_norm|client_installments_NUM_INSTALMENT_NUMBER_max_min|client_credit_AMT_PAYMENT_CURRENT_min_sum|previous_loans_PRODUCT_COMBINATION_POS industry without interest_count_norm|previous_loans_CHANNEL_TYPE_Regional / Local_count|ORGANIZATION_TYPE_Transport: type 3|client_cash_NAME_CONTRACT_STATUS_Returned to the store_count_norm_max|ORGANIZATION_TYPE_School|previous_loans_NAME_TYPE_SUITE_Other_B_count_norm|bureau_CNT_CREDIT_PROLONG_mean|client_credit_AMT_DRAWINGS_CURRENT_max_max|client_bureau_balance_MONTHS_BALANCE_max_sum|client_cash_NAME_CONTRACT_STATUS_Active_count_min|WEEKDAY_APPR_PROCESS_START_WEDNESDAY|OCCUPATION_TYPE_High skill tech staff|previous_loans_NAME_PAYMENT_TYPE_XNA_count|FLAG_PHONE|TARGET|SK_ID_CURR|\n",
      "+------------+------------+------------+---------------------------------------+----------+----------+-----------+-------------+------------------------------+----------------------+---------------+----------------------------------+----------------------------+-------------------------------+-----------+-------------------------------+-----------------------------------------+-----------------------------------+----------------------+-------------------------+--------------------------+-----------------+-------------------------------------------+-----------------------------------+-------------+--------------------------+-----------------------------------+-----------------------------+-------------------------+-------------------------------------------+---------------------------+---------------------------------------------------+-----------------------+----------------------------------------+-------------------------------------------+------------------------------------------------------+------------------------------------------+------------------------------------------+------------------------------------------+------------------------------------+---------------------------------------------------+----------------------+-----------------------------------------------+------------------------------------+----------------+----------------------------------------------+---------------------------------+------------------------------+--------------------------------+------------+-------------------------------------------+--------------------------------+----------------------+--------------------------------------------+--------------------------------------------------------------+-------------------------------------------+--------------+------------------------------+-------------------------+------------------------------------+--------------------------+------------------------------+-------------------------------------------+----------------+--------------------------------+-----------------------------------+------------------------------------+-----------------------------------+-------------------------------+--------------------+----------------------------------+----------------------------+------------------------------+-------------------------------+---------------------------------------+------------------------------------------+---------------------------------------+--------------------------------------+------------------------------+------------------------------+------------------------------------+-----------------------------------------------------+---------------------------------------------------------------+------------------------------+---------------------------------+-----------------------------------------------------+-----------------------+-------------------------------------------+----------------------------------+-----------------+----------------------------------+--------------------------------------+-----------------------------+------------------------+---------------+-----------------------------+-------------------------------+--------------------------+-----------------------------------+---------------------------------------+---------------------------------------------------+--------------------------------------------+------------------------------------------+-------------------------------------------------------+-------------------------------------------------------+--------------------------------------------------+----------------------------------+----------------------------------------------+---------------------------------------------+----------------------------------------+----------------------+-------------------------------------------------------+-----------------------------------+-----------------------------------+------------------------------------------+------------------------------+----------------------------------------+---------------------------------+-------------+--------------------------------------------------------------+---------------------------------------------+-----------------------+--------------------------------------------+---------------+---------------------------------------------+------------------------------------------+-----------------------------------------------+---------------------------------------------------+------------------------------+-----------------------------------+------------------------------+---------------------------------+--------------------------------+------------------------------------------------------------------------+--------------+-----------------------------------------------+----------------------------------+----------------------------------------------+-----------------------------+----------------------------------------------------+---------------------------------------------+---------------------------------------------------------------+-------------------------------------+------------------------------+-----------------------------+------------------------------------------+----------------------------------+--------------------------------------------------+------------------------------------+--------------------------------------------+--------------------------------------------------+------------------------------------------------+------------------------------------+-----------------------------------------------+-----------------------------------------+-----------------------------------------------+-----------------------------------------------+----------------------+-----------------------------------------+----------------------------------+----------------------------------------------+-------------+---------------------------------------------+------------------------+------------------------------------------+---------------------------------------------------+----------------+-----------------------------------------+-----------------------------------------+--------------------------------------------------------------+-----------------------------------------------------+--------------------------------------+--------------------------------------------+----------------------------------------------+--------------------------------------------------+------------------------------------------------------------+----------------------------------------+-------------------------------------------------------+---------------------------------------------------------+-------------------------+------------------------+------------------------------------------------------+-----------------------------------------------+-----------------------------------+---------------------------------------+-----------------------------------+-----------------------------------------------------------------+----------------------------------------------+-----------------------------------------------------------+----------------------------------------------+--------------------------------------------+-----------------------------------------+-------------------------------------------------+----------------------------------------+--------------------------------------------+--------------------------+----------------------------------------------+-------------------------------------------------+----------------------------------------------------------+-----------------------------------------+---------------------------------+----------------------+----------------------------------------+---------------------------------+-------------------------------+---------------------------------------------+---------------------------------+--------------------------------------------------------------+---------------------------------------------+---------------------------------------------------+----------------------------------------------------+------------------------------------------------+-------------------------------------------------------+----------------------------------------------+----------------------------------------------------------------------------+-----------------------------------------------+---------------------------------------------+------------------------------------+---------------------------------------------+-------------------------------+--------------------------------------------------+-------------+-----------------------+-----------------------------------------------------------+-------------------------------------------------------------+----------------------------------------------+-----------------------+------------------------------------------------------+---------------------------------------------------+----------------------------------------------+---------------------------------------------+---------------------------------------------------------+---------------------------+----------------------------------------------------------------------+------------------------+--------------------------------------------------+-----------------------------------------+-------------------------------------------------+------------------------------------------+-----------------------------------------+--------------------------------------------+---------------------------------------------------+-----------------------------------------------------------+------------------------------------+---------------------------------------------+-------------------------------------------------------+---------------------------------------------+-----------------------+---------------------------------------------+------------------------------------------+---------------------------------------------+------------------------------------------------------+------------------------+----------------------------------+-------------------------------------------------------------+------------------------------+-------------------------------------------------+------------------------------+-------------------------------------------------------+--------------------------------------+----------------------------------------------+-----------------------------------------------------------------+------------------------------------------------------+---------------------------------------------+--------------------------------------------------+---------------------------------------------------+-------------------------------------------------+--------------------------+----------------------------------+------------------------------+---------------------------------------------+-----------------------------------+-----------------------------------------------+---------------+----------------------------------------------------------------------+-----------------------------------------------------------+--------------------------------------------------------+--------------------------+-------------------------------------------------------------------------+--------------------------------------------------+------------------------------+-------------+----------------------------------------+---------------------------------------------------------+------------------------------------------------+----------------+---------------------------------------------+---------------------------------------------------------+-----------------------------------------+----------------------------------------------------------------+----------------------+----------------------------------------+----------------------------------+-------------------------+--------------------------------------------------+------------------------------------------+------------------------------------+----------------------------------------------------+----------------------------------------------+------------------------------------------+----------------------------------+-----------------------------------------------------------+--------------------------------------------------+--------------------------------------------------------+------------------------------------------+------------------------------------------------------+--------------------------------------------------------------------+---------------------------------------------+-----------------------------------------------------------------+---------------------------------------------------------------------+----------------------------------+--------------------------------------------------+--------------------------------------------------+---------------------------------------------+--------------------------------------------------+----------------------------------------+------------------------------------------------------------------+---------------------------------------------+---------------------------------------------+-------------------------------------------------------+------------------------------------------------------+----------------------------------------------+--------------------------------------------+----------------+---------------------------------------------------+----------------------------------------+-------------------------------------------+------------------------------------------------------------+----------------------------------------+--------------------------------------------+------------------------------------------------------------+------------------------------------------+-----------------------------------------------------+-------------------------------+-------------------------------------------------------------------+------------------------------+------------------------------------------+----------------------------+-----------------------------------+---------------------------------+-------------------------------------------------------+-------------------------------------------------+---------------------------------------------------------+-------------------------------------------------+-----------------------------------------+---------------------------------------------------------------------------+--------------------------------------------------+-----------------------------------+---------------------------------------------------------------------+------------------------+-------------------------------------------------+------------------------------+------------------------------------------+--------------------------------------------+-------------------------------------------------+------------------------------------+-------------------------------------+------------------------------------------+----------+------+----------+\n",
      "|      173378|         660|       60965|                                  15868|         0|         0|         12|            0|                         46269|                 44020|              0|                            123625|                       77156|                          51380|     202929|                          16869|                                    18091|                              16454|                     1|                    44021|                     44021|                0|                                      15868|                              33906|            0|                         0|                              18091|                        44020|                    44020|                                     220606|                     150007|                                              15868|                  44020|                                   15868|                                      15868|                                                 16454|                                    220606|                                     15868|                                     18091|                              220606|                                              15868|                 44020|                                          16454|                               16454|          179943|                                         15868|                            17751|                         18067|                           16454|      182590|                                      15868|                           65069|                 44020|                                       17751|                                                         16454|                                      16454|        156061|                         51380|                    44021|                               33906|                         0|                         16869|                                      15868|               0|                           16454|                              18067|                                   0|                              18067|                          46269|                   0|                             17429|                       77156|                         46269|                          16871|                                  15876|                                     15868|                                  15868|                                 44020|                         16871|                         16871|                               33906|                                                16454|                                                          16454|                         44020|                            44020|                                                16454|                  18067|                                      15868|                             18067|           169682|                             18067|                                 44020|                        44020|                    1021|              0|                        77156|                          65069|                     18067|                              17429|                                  15868|                                              15868|                                      215280|                                     15868|                                                  16454|                                                  18067|                                             15868|                             18091|                                         15876|                                       215280|                                   15876|                 18067|                                                  16454|                              18091|                              18091|                                     15868|                         16454|                                   15868|                            16454|       153020|                                                         16454|                                        17751|                      0|                                       17751|         204488|                                        44020|                                     16454|                                          16454|                                              16454|                         16454|                              16454|                         44020|                            16454|                           16454|                                                                   16454|        214865|                                         220606|                             18067|                                        215280|                        16454|                                               16454|                                        44020|                                                          16454|                                33906|                         51380|                            0|                                     15868|                             16454|                                             15868|                               33906|                                       15868|                                             15868|                                           16454|                               17751|                                         220606|                                    18067|                                          16454|                                         220606|                227502|                                    44020|                             17751|                                         15868|       154828|                                       215280|                    1021|                                     15868|                                              15868|               0|                                    18067|                                   220606|                                                         16454|                                                16454|                                 44020|                                       16454|                                        220606|                                             15868|                                                       16454|                                  215280|                                                  16454|                                                    18067|                    41519|                       0|                                                 18067|                                         220606|                              33906|                                  44020|                              17751|                                                            16454|                                        215280|                                                      16454|                                        215280|                                       16454|                                   215280|                                                0|                                   44020|                                      215280|                         0|                                        215280|                                            16454|                                                     18067|                                   215280|                            44020|                     0|                                       0|                            44020|                              0|                                        16454|                           220606|                                                         16454|                                       220606|                                              15868|                                               18067|                                           16454|                                                  16454|                                         16454|                                                                       16454|                                          16454|                                       215280|                              220606|                                       215280|                          65069|                                             16454|       163891|                 213514|                                                      16454|                                                        16454|                                         16454|                 227502|                                                 16454|                                             220606|                                        220606|                                        17751|                                                    16454|                      18067|                                                                 16454|                    1021|                                             15868|                                   215280|                                            15868|                                    220606|                                   220606|                                       16454|                                              16454|                                                      16454|                               44020|                                       220606|                                                  16454|                                       215280|                      0|                                       220606|                                     16454|                                       220606|                                                 18067|                       0|                             18091|                                                        16454|                             0|                                            18067|                         18067|                                                  16454|                                 17751|                                        220606|                                                            16454|                                                 16454|                                        44020|                                             15868|                                              16454|                                            18067|                     41519|                             44020|                             0|                                       220606|                              17751|                                         220606|              0|                                                                 16454|                                                      16454|                                                   16454|                         0|                                                                    16454|                                             15868|                        220606|       208642|                                  215280|                                                    18067|                                          220606|               0|                                       215280|                                                    16454|                                   215280|                                                           18067|                227502|                                  215280|                                 0|                    41519|                                             16454|                                    220606|                               44020|                                               16454|                                        220606|                                    220606|                             44020|                                                      16454|                                             16454|                                                   16454|                                    220606|                                                 18067|                                                               16454|                                        44020|                                                            16454|                                                                16454|                             18091|                                             16454|                                             16454|                                        44020|                                             16454|                                  215280|                                                             16454|                                       220606|                                       215280|                                                  16454|                                                 16454|                                        220606|                                      215280|               0|                                              16454|                                   44020|                                     220606|                                                      220606|                                  215280|                                       16454|                                                       16454|                                     16454|                                                16454|                              0|                                                              16454|                         16869|                                     16454|                           0|                                  0|                           220606|                                                  18067|                                            16454|                                                    16454|                                            15868|                                   220606|                                                                      16454|                                             16454|                                  0|                                                                18067|                       0|                                            16454|                         44020|                                    220606|                                       44020|                                            18067|                                   0|                                    0|                                     16454|         0|     0|         0|\n",
      "+------------+------------+------------+---------------------------------------+----------+----------+-----------+-------------+------------------------------+----------------------+---------------+----------------------------------+----------------------------+-------------------------------+-----------+-------------------------------+-----------------------------------------+-----------------------------------+----------------------+-------------------------+--------------------------+-----------------+-------------------------------------------+-----------------------------------+-------------+--------------------------+-----------------------------------+-----------------------------+-------------------------+-------------------------------------------+---------------------------+---------------------------------------------------+-----------------------+----------------------------------------+-------------------------------------------+------------------------------------------------------+------------------------------------------+------------------------------------------+------------------------------------------+------------------------------------+---------------------------------------------------+----------------------+-----------------------------------------------+------------------------------------+----------------+----------------------------------------------+---------------------------------+------------------------------+--------------------------------+------------+-------------------------------------------+--------------------------------+----------------------+--------------------------------------------+--------------------------------------------------------------+-------------------------------------------+--------------+------------------------------+-------------------------+------------------------------------+--------------------------+------------------------------+-------------------------------------------+----------------+--------------------------------+-----------------------------------+------------------------------------+-----------------------------------+-------------------------------+--------------------+----------------------------------+----------------------------+------------------------------+-------------------------------+---------------------------------------+------------------------------------------+---------------------------------------+--------------------------------------+------------------------------+------------------------------+------------------------------------+-----------------------------------------------------+---------------------------------------------------------------+------------------------------+---------------------------------+-----------------------------------------------------+-----------------------+-------------------------------------------+----------------------------------+-----------------+----------------------------------+--------------------------------------+-----------------------------+------------------------+---------------+-----------------------------+-------------------------------+--------------------------+-----------------------------------+---------------------------------------+---------------------------------------------------+--------------------------------------------+------------------------------------------+-------------------------------------------------------+-------------------------------------------------------+--------------------------------------------------+----------------------------------+----------------------------------------------+---------------------------------------------+----------------------------------------+----------------------+-------------------------------------------------------+-----------------------------------+-----------------------------------+------------------------------------------+------------------------------+----------------------------------------+---------------------------------+-------------+--------------------------------------------------------------+---------------------------------------------+-----------------------+--------------------------------------------+---------------+---------------------------------------------+------------------------------------------+-----------------------------------------------+---------------------------------------------------+------------------------------+-----------------------------------+------------------------------+---------------------------------+--------------------------------+------------------------------------------------------------------------+--------------+-----------------------------------------------+----------------------------------+----------------------------------------------+-----------------------------+----------------------------------------------------+---------------------------------------------+---------------------------------------------------------------+-------------------------------------+------------------------------+-----------------------------+------------------------------------------+----------------------------------+--------------------------------------------------+------------------------------------+--------------------------------------------+--------------------------------------------------+------------------------------------------------+------------------------------------+-----------------------------------------------+-----------------------------------------+-----------------------------------------------+-----------------------------------------------+----------------------+-----------------------------------------+----------------------------------+----------------------------------------------+-------------+---------------------------------------------+------------------------+------------------------------------------+---------------------------------------------------+----------------+-----------------------------------------+-----------------------------------------+--------------------------------------------------------------+-----------------------------------------------------+--------------------------------------+--------------------------------------------+----------------------------------------------+--------------------------------------------------+------------------------------------------------------------+----------------------------------------+-------------------------------------------------------+---------------------------------------------------------+-------------------------+------------------------+------------------------------------------------------+-----------------------------------------------+-----------------------------------+---------------------------------------+-----------------------------------+-----------------------------------------------------------------+----------------------------------------------+-----------------------------------------------------------+----------------------------------------------+--------------------------------------------+-----------------------------------------+-------------------------------------------------+----------------------------------------+--------------------------------------------+--------------------------+----------------------------------------------+-------------------------------------------------+----------------------------------------------------------+-----------------------------------------+---------------------------------+----------------------+----------------------------------------+---------------------------------+-------------------------------+---------------------------------------------+---------------------------------+--------------------------------------------------------------+---------------------------------------------+---------------------------------------------------+----------------------------------------------------+------------------------------------------------+-------------------------------------------------------+----------------------------------------------+----------------------------------------------------------------------------+-----------------------------------------------+---------------------------------------------+------------------------------------+---------------------------------------------+-------------------------------+--------------------------------------------------+-------------+-----------------------+-----------------------------------------------------------+-------------------------------------------------------------+----------------------------------------------+-----------------------+------------------------------------------------------+---------------------------------------------------+----------------------------------------------+---------------------------------------------+---------------------------------------------------------+---------------------------+----------------------------------------------------------------------+------------------------+--------------------------------------------------+-----------------------------------------+-------------------------------------------------+------------------------------------------+-----------------------------------------+--------------------------------------------+---------------------------------------------------+-----------------------------------------------------------+------------------------------------+---------------------------------------------+-------------------------------------------------------+---------------------------------------------+-----------------------+---------------------------------------------+------------------------------------------+---------------------------------------------+------------------------------------------------------+------------------------+----------------------------------+-------------------------------------------------------------+------------------------------+-------------------------------------------------+------------------------------+-------------------------------------------------------+--------------------------------------+----------------------------------------------+-----------------------------------------------------------------+------------------------------------------------------+---------------------------------------------+--------------------------------------------------+---------------------------------------------------+-------------------------------------------------+--------------------------+----------------------------------+------------------------------+---------------------------------------------+-----------------------------------+-----------------------------------------------+---------------+----------------------------------------------------------------------+-----------------------------------------------------------+--------------------------------------------------------+--------------------------+-------------------------------------------------------------------------+--------------------------------------------------+------------------------------+-------------+----------------------------------------+---------------------------------------------------------+------------------------------------------------+----------------+---------------------------------------------+---------------------------------------------------------+-----------------------------------------+----------------------------------------------------------------+----------------------+----------------------------------------+----------------------------------+-------------------------+--------------------------------------------------+------------------------------------------+------------------------------------+----------------------------------------------------+----------------------------------------------+------------------------------------------+----------------------------------+-----------------------------------------------------------+--------------------------------------------------+--------------------------------------------------------+------------------------------------------+------------------------------------------------------+--------------------------------------------------------------------+---------------------------------------------+-----------------------------------------------------------------+---------------------------------------------------------------------+----------------------------------+--------------------------------------------------+--------------------------------------------------+---------------------------------------------+--------------------------------------------------+----------------------------------------+------------------------------------------------------------------+---------------------------------------------+---------------------------------------------+-------------------------------------------------------+------------------------------------------------------+----------------------------------------------+--------------------------------------------+----------------+---------------------------------------------------+----------------------------------------+-------------------------------------------+------------------------------------------------------------+----------------------------------------+--------------------------------------------+------------------------------------------------------------+------------------------------------------+-----------------------------------------------------+-------------------------------+-------------------------------------------------------------------+------------------------------+------------------------------------------+----------------------------+-----------------------------------+---------------------------------+-------------------------------------------------------+-------------------------------------------------+---------------------------------------------------------+-------------------------------------------------+-----------------------------------------+---------------------------------------------------------------------------+--------------------------------------------------+-----------------------------------+---------------------------------------------------------------------+------------------------+-------------------------------------------------+------------------------------+------------------------------------------+--------------------------------------------+-------------------------------------------------+------------------------------------+-------------------------------------+------------------------------------------+----------+------+----------+\n",
      "\n"
     ]
    }
   ],
   "source": [
    "creditRiskdf.select(creditRiskdf.columns.map(c => sum(col(c).isNull.cast(\"int\")).alias(c)): _*).show"
   ]
  },
  {
   "cell_type": "code",
   "execution_count": 8,
   "metadata": {
    "collapsed": true
   },
   "outputs": [
    {
     "data": {
      "text/plain": [
       "df1: org.apache.spark.sql.DataFrame = [EXT_SOURCE_1: string, EXT_SOURCE_2: string ... 359 more fields]\n",
       "res4: Long = 865\n"
      ]
     },
     "execution_count": 8,
     "metadata": {},
     "output_type": "execute_result"
    }
   ],
   "source": [
    "val df1=creditRiskdf.na.drop()//Whether we should drop the na is still under discussion\n",
    "df1.count()"
   ]
  },
  {
   "cell_type": "markdown",
   "metadata": {},
   "source": [
    "Insert code for flagging duplicate values below:"
   ]
  },
  {
   "cell_type": "code",
   "execution_count": 9,
   "metadata": {
    "collapsed": true
   },
   "outputs": [
    {
     "data": {
      "text/plain": [
       "df2: org.apache.spark.sql.Dataset[org.apache.spark.sql.Row] = [EXT_SOURCE_1: string, EXT_SOURCE_2: string ... 359 more fields]\n",
       "res5: Long = 865\n"
      ]
     },
     "execution_count": 9,
     "metadata": {},
     "output_type": "execute_result"
    }
   ],
   "source": [
    "val df2=df1.dropDuplicates() //We can see from the count() output that here are no duplicates in this dataframe.\n",
    "df2.count()"
   ]
  },
  {
   "cell_type": "markdown",
   "metadata": {},
   "source": [
    "Insert code for visualising or displaying outliers below:"
   ]
  },
  {
   "cell_type": "code",
   "execution_count": null,
   "metadata": {},
   "outputs": [],
   "source": []
  },
  {
   "cell_type": "markdown",
   "metadata": {},
   "source": [
    "Insert code for reviewing data values for inconsistencies below:"
   ]
  },
  {
   "cell_type": "code",
   "execution_count": null,
   "metadata": {},
   "outputs": [],
   "source": []
  },
  {
   "cell_type": "markdown",
   "metadata": {},
   "source": [
    "Insert code for reviewing data format below:"
   ]
  },
  {
   "cell_type": "code",
   "execution_count": null,
   "metadata": {},
   "outputs": [],
   "source": [
    "// pick out column headers containing 'date' [JC]\n",
    "val matcher = \".+date.+\"\n",
    "val dates = creditRiskFeatures.filter(x => x.toLowerCase matches matcher)"
   ]
  },
  {
   "cell_type": "code",
   "execution_count": null,
   "metadata": {},
   "outputs": [],
   "source": [
    "// review data format of columnbs with headers containing 'date' [JC]\n",
    "\n",
    "for (dateformat <- dates){\n",
    "creditRiskdf.select(dateformat).show(10)\n",
    "}"
   ]
  },
  {
   "cell_type": "markdown",
   "metadata": {},
   "source": [
    "No data containing date format. [JC]"
   ]
  },
  {
   "cell_type": "markdown",
   "metadata": {},
   "source": [
    "Insert code for encoding categorical variables below:"
   ]
  },
  {
   "cell_type": "code",
   "execution_count": null,
   "metadata": {},
   "outputs": [],
   "source": []
  }
 ],
 "metadata": {
  "kernelspec": {
   "display_name": "spylon-kernel",
   "language": "scala",
   "name": "spylon-kernel"
  },
  "language_info": {
   "codemirror_mode": "text/x-scala",
   "file_extension": ".scala",
   "help_links": [
    {
     "text": "MetaKernel Magics",
     "url": "https://metakernel.readthedocs.io/en/latest/source/README.html"
    }
   ],
   "mimetype": "text/x-scala",
   "name": "scala",
   "pygments_lexer": "scala",
   "version": "0.4.1"
  }
 },
 "nbformat": 4,
 "nbformat_minor": 2
}
