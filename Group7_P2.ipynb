{
 "cells": [
  {
   "cell_type": "markdown",
   "metadata": {},
   "source": [
    "## Group 7\n",
    "## Big Data Group Project\n",
    "\n",
    "### Contributors:\n",
    "- 22606127: Sean Whitehead [Sean]\n",
    "\n",
    "### Phase 2: Cleansing and Reshaping"
   ]
  },
  {
   "cell_type": "markdown",
   "metadata": {},
   "source": [
    "This notebook is used for co-developing of codes required to wrangle the home credit risk dataset.\n",
    "\n",
    "Please use this notebook as the live version and download local copies as you require.\n",
    "\n",
    "If you have picked up a specific section, please comment your name to the code cell so that we can work on other sections.\n",
    "\n",
    "Helpful link for Dataframes in Scala:\n",
    "- https://docs.databricks.com/spark/latest/dataframes-datasets/introduction-to-dataframes-scala.html#work-with-dataframes\n",
    "- https://spark.apache.org/docs/1.5.0/api/java/overview-summary.html\n",
    "- https://spark.apache.org/docs/2.2.0/sql-programming-guide.html\n",
    "- https://www.tutorialspoint.com/scala/"
   ]
  },
  {
   "cell_type": "markdown",
   "metadata": {},
   "source": [
    "Insert libraries into the cell below:"
   ]
  },
  {
   "cell_type": "code",
   "execution_count": 10,
   "metadata": {},
   "outputs": [
    {
     "data": {
      "text/plain": [
       "import org.apache.spark.sql.functions._\n",
       "import org.apache.spark.sql.types._\n",
       "import org.apache.spark.sql._\n",
       "import org.apache.hadoop.io.LongWritable\n",
       "import org.apache.hadoop.io.Text\n",
       "import org.apache.hadoop.conf.Configuration\n",
       "import org.apache.hadoop.mapreduce.lib.input.TextInputFormat\n"
      ]
     },
     "execution_count": 10,
     "metadata": {},
     "output_type": "execute_result"
    }
   ],
   "source": [
    "import org.apache.spark.sql.functions._\n",
    "import org.apache.spark.sql.types._\n",
    "import org.apache.spark.sql._\n",
    "import org.apache.hadoop.io.LongWritable\n",
    "import org.apache.hadoop.io.Text\n",
    "import org.apache.hadoop.conf.Configuration\n",
    "import org.apache.hadoop.mapreduce.lib.input.TextInputFormat\n",
    "import org.apache.spark.sql.functions.{sum, col}"
   ]
  },
  {
   "cell_type": "code",
   "execution_count": null,
   "metadata": {},
   "outputs": [],
   "source": []
  },
  {
   "cell_type": "markdown",
   "metadata": {},
   "source": [
    "Insert code for data loading below:"
   ]
  },
  {
   "cell_type": "markdown",
   "metadata": {},
   "source": [
    "Download zip from GDrive and extract to location where you are running notebook for below to run"
   ]
  },
  {
   "cell_type": "code",
   "execution_count": 2,
   "metadata": {},
   "outputs": [
    {
     "data": {
      "text/plain": [
       "creditRiskdf: org.apache.spark.sql.DataFrame = [EXT_SOURCE_1: string, EXT_SOURCE_2: string ... 359 more fields]\n"
      ]
     },
     "execution_count": 2,
     "metadata": {},
     "output_type": "execute_result"
    }
   ],
   "source": [
    "//read in csv [Sean]\n",
    "val creditRiskdf = spark.read.option(\"header\",\"true\").csv(\"Home credit default risk after feature selection/m_train_small.csv\")"
   ]
  },
  {
   "cell_type": "code",
   "execution_count": 15,
   "metadata": {},
   "outputs": [
    {
     "name": "stdout",
     "output_type": "stream",
     "text": [
      "root\n",
      " |-- EXT_SOURCE_1: string (nullable = true)\n",
      " |-- EXT_SOURCE_2: string (nullable = true)\n",
      " |-- EXT_SOURCE_3: string (nullable = true)\n",
      " |-- client_installments_AMT_PAYMENT_min_sum: string (nullable = true)\n",
      " |-- DAYS_BIRTH: string (nullable = true)\n",
      " |-- AMT_CREDIT: string (nullable = true)\n",
      " |-- AMT_ANNUITY: string (nullable = true)\n",
      " |-- DAYS_EMPLOYED: string (nullable = true)\n",
      " |-- bureau_DAYS_CREDIT_ENDDATE_max: string (nullable = true)\n",
      " |-- bureau_DAYS_CREDIT_max: string (nullable = true)\n",
      " |-- DAYS_ID_PUBLISH: string (nullable = true)\n",
      " |-- bureau_AMT_CREDIT_MAX_OVERDUE_mean: string (nullable = true)\n",
      " |-- bureau_DAYS_ENDDATE_FACT_max: string (nullable = true)\n",
      " |-- bureau_AMT_CREDIT_SUM_DEBT_mean: string (nullable = true)\n",
      " |-- OWN_CAR_AGE: string (nullable = true)\n",
      " |-- previous_loans_CNT_PAYMENT_mean: string (nullable = true)\n",
      " |-- client_cash_CNT_INSTALMENT_FUTURE_min_max: string (nullable = true)\n",
      " |-- previous_loans_SELLERPLACE_AREA_max: string (nullable = true)\n",
      " |-- DAYS_LAST_PHONE_CHANGE: string (nullable = true)\n",
      " |-- bureau_AMT_CREDIT_SUM_max: string (nullable = true)\n",
      " |-- bureau_AMT_CREDIT_SUM_mean: string (nullable = true)\n",
      " |-- DAYS_REGISTRATION: string (nullable = true)\n",
      " |-- client_installments_DAYS_INSTALMENT_max_max: string (nullable = true)\n",
      " |-- previous_loans_AMT_DOWN_PAYMENT_max: string (nullable = true)\n",
      " |-- CODE_GENDER_F: string (nullable = true)\n",
      " |-- REGION_POPULATION_RELATIVE: string (nullable = true)\n",
      " |-- client_cash_CNT_INSTALMENT_max_mean: string (nullable = true)\n",
      " |-- bureau_DAYS_CREDIT_UPDATE_max: string (nullable = true)\n",
      " |-- bureau_AMT_CREDIT_SUM_sum: string (nullable = true)\n",
      " |-- client_credit_AMT_DRAWINGS_CURRENT_mean_max: string (nullable = true)\n",
      " |-- YEARS_BEGINEXPLUATATION_AVG: string (nullable = true)\n",
      " |-- client_installments_NUM_INSTALMENT_VERSION_mean_max: string (nullable = true)\n",
      " |-- bureau_DAYS_CREDIT_mean: string (nullable = true)\n",
      " |-- client_installments_AMT_PAYMENT_sum_mean: string (nullable = true)\n",
      " |-- client_installments_DAYS_INSTALMENT_min_max: string (nullable = true)\n",
      " |-- previous_loans_NAME_CONTRACT_STATUS_Refused_count_norm: string (nullable = true)\n",
      " |-- client_credit_CNT_DRAWINGS_CURRENT_max_max: string (nullable = true)\n",
      " |-- client_installments_AMT_INSTALMENT_max_max: string (nullable = true)\n",
      " |-- client_cash_CNT_INSTALMENT_FUTURE_min_mean: string (nullable = true)\n",
      " |-- client_credit_AMT_RECIVABLE_mean_min: string (nullable = true)\n",
      " |-- client_installments_NUM_INSTALMENT_VERSION_max_mean: string (nullable = true)\n",
      " |-- bureau_DAYS_CREDIT_min: string (nullable = true)\n",
      " |-- previous_loans_NAME_YIELD_GROUP_high_count_norm: string (nullable = true)\n",
      " |-- previous_loans_RATE_DOWN_PAYMENT_sum: string (nullable = true)\n",
      " |-- BASEMENTAREA_AVG: string (nullable = true)\n",
      " |-- client_installments_DAYS_ENTRY_PAYMENT_sum_max: string (nullable = true)\n",
      " |-- previous_loans_DAYS_FIRST_DUE_min: string (nullable = true)\n",
      " |-- client_cash_SK_DPD_DEF_sum_max: string (nullable = true)\n",
      " |-- previous_loans_DAYS_DECISION_max: string (nullable = true)\n",
      " |-- LANDAREA_AVG: string (nullable = true)\n",
      " |-- client_installments_AMT_INSTALMENT_min_mean: string (nullable = true)\n",
      " |-- bureau_AMT_CREDIT_SUM_LIMIT_mean: string (nullable = true)\n",
      " |-- bureau_DAYS_CREDIT_sum: string (nullable = true)\n",
      " |-- previous_loans_DAYS_LAST_DUE_1ST_VERSION_max: string (nullable = true)\n",
      " |-- previous_loans_PRODUCT_COMBINATION_Cash X-Sell: low_count_norm: string (nullable = true)\n",
      " |-- previous_loans_HOUR_APPR_PROCESS_START_mean: string (nullable = true)\n",
      " |-- APARTMENTS_AVG: string (nullable = true)\n",
      " |-- bureau_AMT_CREDIT_SUM_DEBT_max: string (nullable = true)\n",
      " |-- bureau_AMT_CREDIT_SUM_min: string (nullable = true)\n",
      " |-- previous_loans_AMT_DOWN_PAYMENT_mean: string (nullable = true)\n",
      " |-- NAME_FAMILY_STATUS_Married: string (nullable = true)\n",
      " |-- previous_loans_CNT_PAYMENT_max: string (nullable = true)\n",
      " |-- client_installments_AMT_INSTALMENT_mean_min: string (nullable = true)\n",
      " |-- AMT_INCOME_TOTAL: string (nullable = true)\n",
      " |-- previous_loans_DAYS_LAST_DUE_sum: string (nullable = true)\n",
      " |-- client_cash_MONTHS_BALANCE_max_mean: string (nullable = true)\n",
      " |-- NAME_EDUCATION_TYPE_Higher education: string (nullable = true)\n",
      " |-- client_cash_MONTHS_BALANCE_sum_mean: string (nullable = true)\n",
      " |-- bureau_DAYS_CREDIT_ENDDATE_mean: string (nullable = true)\n",
      " |-- REGION_RATING_CLIENT: string (nullable = true)\n",
      " |-- previous_loans_AMT_GOODS_PRICE_min: string (nullable = true)\n",
      " |-- bureau_DAYS_ENDDATE_FACT_min: string (nullable = true)\n",
      " |-- bureau_DAYS_CREDIT_ENDDATE_min: string (nullable = true)\n",
      " |-- previous_loans_AMT_ANNUITY_mean: string (nullable = true)\n",
      " |-- client_installments_AMT_PAYMENT_max_min: string (nullable = true)\n",
      " |-- client_installments_AMT_INSTALMENT_min_max: string (nullable = true)\n",
      " |-- client_installments_AMT_PAYMENT_sum_min: string (nullable = true)\n",
      " |-- bureau_CREDIT_TYPE_Mortgage_count_norm: string (nullable = true)\n",
      " |-- previous_loans_AMT_ANNUITY_max: string (nullable = true)\n",
      " |-- previous_loans_AMT_ANNUITY_min: string (nullable = true)\n",
      " |-- previous_loans_RATE_DOWN_PAYMENT_max: string (nullable = true)\n",
      " |-- previous_loans_NAME_YIELD_GROUP_low_normal_count_norm: string (nullable = true)\n",
      " |-- previous_loans_PRODUCT_COMBINATION_Cash X-Sell: high_count_norm: string (nullable = true)\n",
      " |-- bureau_DAYS_CREDIT_ENDDATE_sum: string (nullable = true)\n",
      " |-- bureau_CREDIT_ACTIVE_Active_count: string (nullable = true)\n",
      " |-- previous_loans_NAME_YIELD_GROUP_low_action_count_norm: string (nullable = true)\n",
      " |-- client_cash_counts_mean: string (nullable = true)\n",
      " |-- client_installments_AMT_INSTALMENT_mean_max: string (nullable = true)\n",
      " |-- client_cash_MONTHS_BALANCE_sum_max: string (nullable = true)\n",
      " |-- NONLIVINGAREA_AVG: string (nullable = true)\n",
      " |-- client_cash_CNT_INSTALMENT_sum_min: string (nullable = true)\n",
      " |-- bureau_CREDIT_ACTIVE_Active_count_norm: string (nullable = true)\n",
      " |-- bureau_DAYS_CREDIT_UPDATE_min: string (nullable = true)\n",
      " |-- DEF_60_CNT_SOCIAL_CIRCLE: string (nullable = true)\n",
      " |-- FLAG_DOCUMENT_3: string (nullable = true)\n",
      " |-- bureau_DAYS_ENDDATE_FACT_mean: string (nullable = true)\n",
      " |-- bureau_AMT_CREDIT_SUM_LIMIT_max: string (nullable = true)\n",
      " |-- client_cash_SK_DPD_max_sum: string (nullable = true)\n",
      " |-- previous_loans_AMT_GOODS_PRICE_mean: string (nullable = true)\n",
      " |-- client_installments_AMT_PAYMENT_max_sum: string (nullable = true)\n",
      " |-- client_installments_NUM_INSTALMENT_VERSION_sum_mean: string (nullable = true)\n",
      " |-- client_bureau_balance_MONTHS_BALANCE_sum_min: string (nullable = true)\n",
      " |-- client_installments_AMT_INSTALMENT_min_min: string (nullable = true)\n",
      " |-- previous_loans_NAME_TYPE_SUITE_Unaccompanied_count_norm: string (nullable = true)\n",
      " |-- client_cash_NAME_CONTRACT_STATUS_Active_count_norm_mean: string (nullable = true)\n",
      " |-- client_installments_NUM_INSTALMENT_NUMBER_max_mean: string (nullable = true)\n",
      " |-- client_cash_CNT_INSTALMENT_max_max: string (nullable = true)\n",
      " |-- client_installments_DAYS_ENTRY_PAYMENT_max_min: string (nullable = true)\n",
      " |-- client_bureau_balance_STATUS_C_count_norm_max: string (nullable = true)\n",
      " |-- client_installments_AMT_PAYMENT_max_mean: string (nullable = true)\n",
      " |-- client_cash_counts_sum: string (nullable = true)\n",
      " |-- previous_loans_NAME_CONTRACT_STATUS_Approved_count_norm: string (nullable = true)\n",
      " |-- client_cash_CNT_INSTALMENT_min_mean: string (nullable = true)\n",
      " |-- client_cash_CNT_INSTALMENT_mean_min: string (nullable = true)\n",
      " |-- client_installments_AMT_INSTALMENT_sum_max: string (nullable = true)\n",
      " |-- previous_loans_AMT_ANNUITY_sum: string (nullable = true)\n",
      " |-- client_installments_AMT_PAYMENT_mean_sum: string (nullable = true)\n",
      " |-- previous_loans_DAYS_DECISION_mean: string (nullable = true)\n",
      " |-- FLOORSMAX_AVG: string (nullable = true)\n",
      " |-- previous_loans_PRODUCT_COMBINATION_Cash Street: low_count_norm: string (nullable = true)\n",
      " |-- previous_loans_DAYS_LAST_DUE_1ST_VERSION_mean: string (nullable = true)\n",
      " |-- HOUR_APPR_PROCESS_START: string (nullable = true)\n",
      " |-- previous_loans_DAYS_LAST_DUE_1ST_VERSION_min: string (nullable = true)\n",
      " |-- YEARS_BUILD_AVG: string (nullable = true)\n",
      " |-- bureau_CREDIT_TYPE_Consumer credit_count_norm: string (nullable = true)\n",
      " |-- previous_loans_HOUR_APPR_PROCESS_START_max: string (nullable = true)\n",
      " |-- previous_loans_CODE_REJECT_REASON_HC_count_norm: string (nullable = true)\n",
      " |-- previous_loans_NAME_PRODUCT_TYPE_walk-in_count_norm: string (nullable = true)\n",
      " |-- previous_loans_CNT_PAYMENT_sum: string (nullable = true)\n",
      " |-- previous_loans_SELLERPLACE_AREA_min: string (nullable = true)\n",
      " |-- bureau_DAYS_CREDIT_UPDATE_mean: string (nullable = true)\n",
      " |-- previous_loans_DAYS_FIRST_DUE_sum: string (nullable = true)\n",
      " |-- previous_loans_DAYS_DECISION_sum: string (nullable = true)\n",
      " |-- previous_loans_PRODUCT_COMBINATION_POS industry with interest_count_norm: string (nullable = true)\n",
      " |-- COMMONAREA_AVG: string (nullable = true)\n",
      " |-- client_credit_AMT_CREDIT_LIMIT_ACTUAL_mean_mean: string (nullable = true)\n",
      " |-- client_cash_MONTHS_BALANCE_max_sum: string (nullable = true)\n",
      " |-- client_bureau_balance_STATUS_X_count_norm_mean: string (nullable = true)\n",
      " |-- previous_loans_AMT_CREDIT_min: string (nullable = true)\n",
      " |-- previous_loans_NAME_CLIENT_TYPE_Refreshed_count_norm: string (nullable = true)\n",
      " |-- client_bureau_balance_MONTHS_BALANCE_mean_sum: string (nullable = true)\n",
      " |-- previous_loans_PRODUCT_COMBINATION_Cash Street: high_count_norm: string (nullable = true)\n",
      " |-- previous_loans_RATE_DOWN_PAYMENT_mean: string (nullable = true)\n",
      " |-- bureau_AMT_CREDIT_SUM_DEBT_min: string (nullable = true)\n",
      " |-- NAME_CONTRACT_TYPE_Cash loans: string (nullable = true)\n",
      " |-- client_installments_AMT_INSTALMENT_min_sum: string (nullable = true)\n",
      " |-- previous_loans_AMT_APPLICATION_max: string (nullable = true)\n",
      " |-- client_installments_NUM_INSTALMENT_VERSION_sum_max: string (nullable = true)\n",
      " |-- previous_loans_RATE_DOWN_PAYMENT_min: string (nullable = true)\n",
      " |-- client_installments_AMT_INSTALMENT_mean_mean: string (nullable = true)\n",
      " |-- client_installments_NUM_INSTALMENT_VERSION_sum_sum: string (nullable = true)\n",
      " |-- previous_loans_NAME_TYPE_SUITE_Family_count_norm: string (nullable = true)\n",
      " |-- previous_loans_DAYS_TERMINATION_mean: string (nullable = true)\n",
      " |-- client_credit_AMT_DRAWINGS_POS_CURRENT_mean_sum: string (nullable = true)\n",
      " |-- client_cash_CNT_INSTALMENT_FUTURE_max_sum: string (nullable = true)\n",
      " |-- previous_loans_NAME_PAYMENT_TYPE_XNA_count_norm: string (nullable = true)\n",
      " |-- client_credit_CNT_DRAWINGS_ATM_CURRENT_sum_mean: string (nullable = true)\n",
      " |-- bureau_AMT_ANNUITY_max: string (nullable = true)\n",
      " |-- bureau_CREDIT_TYPE_Credit card_count_norm: string (nullable = true)\n",
      " |-- previous_loans_DAYS_FIRST_DUE_mean: string (nullable = true)\n",
      " |-- client_installments_DAYS_ENTRY_PAYMENT_min_sum: string (nullable = true)\n",
      " |-- ENTRANCES_AVG: string (nullable = true)\n",
      " |-- client_bureau_balance_STATUS_0_count_norm_min: string (nullable = true)\n",
      " |-- OBS_30_CNT_SOCIAL_CIRCLE: string (nullable = true)\n",
      " |-- client_installments_AMT_INSTALMENT_sum_sum: string (nullable = true)\n",
      " |-- client_installments_NUM_INSTALMENT_VERSION_mean_sum: string (nullable = true)\n",
      " |-- FLAG_DOCUMENT_18: string (nullable = true)\n",
      " |-- client_cash_CNT_INSTALMENT_FUTURE_min_sum: string (nullable = true)\n",
      " |-- client_credit_AMT_PAYMENT_CURRENT_max_sum: string (nullable = true)\n",
      " |-- previous_loans_CHANNEL_TYPE_Credit and cash offices_count_norm: string (nullable = true)\n",
      " |-- previous_loans_CHANNEL_TYPE_Contact center_count_norm: string (nullable = true)\n",
      " |-- bureau_CREDIT_TYPE_Car loan_count_norm: string (nullable = true)\n",
      " |-- previous_loans_NAME_PORTFOLIO_POS_count_norm: string (nullable = true)\n",
      " |-- client_credit_AMT_DRAWINGS_POS_CURRENT_sum_sum: string (nullable = true)\n",
      " |-- client_installments_NUM_INSTALMENT_NUMBER_min_mean: string (nullable = true)\n",
      " |-- previous_loans_WEEKDAY_APPR_PROCESS_START_TUESDAY_count_norm: string (nullable = true)\n",
      " |-- client_bureau_balance_STATUS_0_count_max: string (nullable = true)\n",
      " |-- previous_loans_NAME_GOODS_CATEGORY_Furniture_count_norm: string (nullable = true)\n",
      " |-- client_cash_NAME_CONTRACT_STATUS_Completed_count_norm_max: string (nullable = true)\n",
      " |-- AMT_REQ_CREDIT_BUREAU_QRT: string (nullable = true)\n",
      " |-- NAME_INCOME_TYPE_Working: string (nullable = true)\n",
      " |-- client_cash_NAME_CONTRACT_STATUS_Active_count_norm_min: string (nullable = true)\n",
      " |-- client_credit_AMT_DRAWINGS_ATM_CURRENT_mean_sum: string (nullable = true)\n",
      " |-- previous_loans_AMT_DOWN_PAYMENT_min: string (nullable = true)\n",
      " |-- bureau_CREDIT_TYPE_Microloan_count_norm: string (nullable = true)\n",
      " |-- previous_loans_DAYS_TERMINATION_min: string (nullable = true)\n",
      " |-- previous_loans_CHANNEL_TYPE_Channel of corporate sales_count_norm: string (nullable = true)\n",
      " |-- client_bureau_balance_STATUS_C_count_norm_mean: string (nullable = true)\n",
      " |-- previous_loans_WEEKDAY_APPR_PROCESS_START_SUNDAY_count_norm: string (nullable = true)\n",
      " |-- client_bureau_balance_STATUS_0_count_norm_mean: string (nullable = true)\n",
      " |-- previous_loans_CHANNEL_TYPE_Stone_count_norm: string (nullable = true)\n",
      " |-- client_bureau_balance_STATUS_0_count_mean: string (nullable = true)\n",
      " |-- NAME_EDUCATION_TYPE_Secondary / secondary special: string (nullable = true)\n",
      " |-- client_bureau_balance_STATUS_0_count_sum: string (nullable = true)\n",
      " |-- client_bureau_balance_MONTHS_BALANCE_sum_max: string (nullable = true)\n",
      " |-- OCCUPATION_TYPE_Core staff: string (nullable = true)\n",
      " |-- client_bureau_balance_STATUS_1_count_norm_mean: string (nullable = true)\n",
      " |-- previous_loans_NAME_YIELD_GROUP_middle_count_norm: string (nullable = true)\n",
      " |-- client_cash_NAME_CONTRACT_STATUS_Completed_count_norm_mean: string (nullable = true)\n",
      " |-- client_bureau_balance_STATUS_X_count_mean: string (nullable = true)\n",
      " |-- bureau_AMT_CREDIT_SUM_OVERDUE_max: string (nullable = true)\n",
      " |-- REG_CITY_NOT_LIVE_CITY: string (nullable = true)\n",
      " |-- ORGANIZATION_TYPE_Business Entity Type 3: string (nullable = true)\n",
      " |-- bureau_CREDIT_ACTIVE_Closed_count: string (nullable = true)\n",
      " |-- ORGANIZATION_TYPE_Self-employed: string (nullable = true)\n",
      " |-- previous_loans_NAME_PORTFOLIO_Cash_count_norm: string (nullable = true)\n",
      " |-- client_credit_AMT_BALANCE_min_max: string (nullable = true)\n",
      " |-- previous_loans_WEEKDAY_APPR_PROCESS_START_WEDNESDAY_count_norm: string (nullable = true)\n",
      " |-- client_credit_AMT_CREDIT_LIMIT_ACTUAL_max_sum: string (nullable = true)\n",
      " |-- client_installments_NUM_INSTALMENT_VERSION_mean_min: string (nullable = true)\n",
      " |-- client_cash_NAME_CONTRACT_STATUS_Completed_count_sum: string (nullable = true)\n",
      " |-- previous_loans_CODE_REJECT_REASON_SCO_count_norm: string (nullable = true)\n",
      " |-- previous_loans_NAME_GOODS_CATEGORY_Computers_count_norm: string (nullable = true)\n",
      " |-- previous_loans_NAME_YIELD_GROUP_XNA_count_norm: string (nullable = true)\n",
      " |-- previous_loans_PRODUCT_COMBINATION_POS household without interest_count_norm: string (nullable = true)\n",
      " |-- previous_loans_NAME_PRODUCT_TYPE_XNA_count_norm: string (nullable = true)\n",
      " |-- client_bureau_balance_MONTHS_BALANCE_max_mean: string (nullable = true)\n",
      " |-- client_credit_MONTHS_BALANCE_max_sum: string (nullable = true)\n",
      " |-- client_bureau_balance_MONTHS_BALANCE_mean_min: string (nullable = true)\n",
      " |-- bureau_AMT_CREDIT_SUM_LIMIT_min: string (nullable = true)\n",
      " |-- previous_loans_NAME_PRODUCT_TYPE_x-sell_count_norm: string (nullable = true)\n",
      " |-- ELEVATORS_AVG: string (nullable = true)\n",
      " |-- NONLIVINGAPARTMENTS_AVG: string (nullable = true)\n",
      " |-- previous_loans_WEEKDAY_APPR_PROCESS_START_MONDAY_count_norm: string (nullable = true)\n",
      " |-- previous_loans_WEEKDAY_APPR_PROCESS_START_SATURDAY_count_norm: string (nullable = true)\n",
      " |-- previous_loans_NAME_CLIENT_TYPE_New_count_norm: string (nullable = true)\n",
      " |-- bureau_AMT_ANNUITY_mean: string (nullable = true)\n",
      " |-- previous_loans_CHANNEL_TYPE_AP+ (Cash loan)_count_norm: string (nullable = true)\n",
      " |-- client_credit_NAME_CONTRACT_STATUS_Active_count_min: string (nullable = true)\n",
      " |-- client_credit_AMT_DRAWINGS_POS_CURRENT_max_sum: string (nullable = true)\n",
      " |-- previous_loans_NFLAG_INSURED_ON_APPROVAL_mean: string (nullable = true)\n",
      " |-- previous_loans_NAME_GOODS_CATEGORY_Audio/Video_count_norm: string (nullable = true)\n",
      " |-- client_cash_SK_DPD_mean_min: string (nullable = true)\n",
      " |-- previous_loans_NAME_GOODS_CATEGORY_Clothing and Accessories_count_norm: string (nullable = true)\n",
      " |-- DEF_30_CNT_SOCIAL_CIRCLE: string (nullable = true)\n"
     ]
    },
    {
     "name": "stdout",
     "output_type": "stream",
     "text": [
      " |-- client_installments_NUM_INSTALMENT_NUMBER_mean_min: string (nullable = true)\n",
      " |-- client_bureau_balance_STATUS_C_count_mean: string (nullable = true)\n",
      " |-- client_installments_NUM_INSTALMENT_NUMBER_sum_min: string (nullable = true)\n",
      " |-- client_credit_CNT_DRAWINGS_CURRENT_max_sum: string (nullable = true)\n",
      " |-- client_credit_AMT_PAYMENT_CURRENT_sum_sum: string (nullable = true)\n",
      " |-- previous_loans_NAME_PORTFOLIO_XNA_count_norm: string (nullable = true)\n",
      " |-- previous_loans_NAME_CLIENT_TYPE_Repeater_count_norm: string (nullable = true)\n",
      " |-- previous_loans_NAME_SELLER_INDUSTRY_Connectivity_count_norm: string (nullable = true)\n",
      " |-- bureau_CREDIT_TYPE_Credit card_count: string (nullable = true)\n",
      " |-- client_credit_AMT_CREDIT_LIMIT_ACTUAL_sum_sum: string (nullable = true)\n",
      " |-- previous_loans_NAME_CONTRACT_STATUS_Canceled_count_norm: string (nullable = true)\n",
      " |-- client_bureau_balance_STATUS_0_count_norm_max: string (nullable = true)\n",
      " |-- OCCUPATION_TYPE_Drivers: string (nullable = true)\n",
      " |-- client_credit_AMT_CREDIT_LIMIT_ACTUAL_min_sum: string (nullable = true)\n",
      " |-- previous_loans_HOUR_APPR_PROCESS_START_min: string (nullable = true)\n",
      " |-- client_credit_AMT_INST_MIN_REGULARITY_max_min: string (nullable = true)\n",
      " |-- client_cash_NAME_CONTRACT_STATUS_Signed_count_norm_max: string (nullable = true)\n",
      " |-- OCCUPATION_TYPE_Laborers: string (nullable = true)\n",
      " |-- client_cash_CNT_INSTALMENT_min_max: string (nullable = true)\n",
      " |-- previous_loans_WEEKDAY_APPR_PROCESS_START_THURSDAY_count_norm: string (nullable = true)\n",
      " |-- ORGANIZATION_TYPE_Construction: string (nullable = true)\n",
      " |-- client_cash_NAME_CONTRACT_STATUS_Active_count_max: string (nullable = true)\n",
      " |-- client_cash_SK_DPD_DEF_sum_min: string (nullable = true)\n",
      " |-- previous_loans_NAME_CONTRACT_TYPE_Cash loans_count_norm: string (nullable = true)\n",
      " |-- previous_loans_DAYS_FIRST_DRAWING_mean: string (nullable = true)\n",
      " |-- client_credit_CNT_DRAWINGS_ATM_CURRENT_max_sum: string (nullable = true)\n",
      " |-- previous_loans_PRODUCT_COMBINATION_Cash X-Sell: middle_count_norm: string (nullable = true)\n",
      " |-- previous_loans_NAME_CASH_LOAN_PURPOSE_Other_count_norm: string (nullable = true)\n",
      " |-- client_bureau_balance_STATUS_0_count_norm_sum: string (nullable = true)\n",
      " |-- client_installments_NUM_INSTALMENT_VERSION_sum_min: string (nullable = true)\n",
      " |-- previous_loans_CHANNEL_TYPE_Country-wide_count_norm: string (nullable = true)\n",
      " |-- client_cash_NAME_CONTRACT_STATUS_Signed_count_sum: string (nullable = true)\n",
      " |-- AMT_REQ_CREDIT_BUREAU_YEAR: string (nullable = true)\n",
      " |-- bureau_CREDIT_TYPE_Microloan_count: string (nullable = true)\n",
      " |-- NAME_INCOME_TYPE_State servant: string (nullable = true)\n",
      " |-- client_credit_AMT_CREDIT_LIMIT_ACTUAL_sum_max: string (nullable = true)\n",
      " |-- previous_loans_DAYS_TERMINATION_max: string (nullable = true)\n",
      " |-- client_credit_AMT_PAYMENT_TOTAL_CURRENT_max_max: string (nullable = true)\n",
      " |-- FLAG_WORK_PHONE: string (nullable = true)\n",
      " |-- previous_loans_NAME_GOODS_CATEGORY_Photo / Cinema Equipment_count_norm: string (nullable = true)\n",
      " |-- previous_loans_WEEKDAY_APPR_PROCESS_START_FRIDAY_count_norm: string (nullable = true)\n",
      " |-- previous_loans_WEEKDAY_APPR_PROCESS_START_THURSDAY_count: string (nullable = true)\n",
      " |-- ORGANIZATION_TYPE_Military: string (nullable = true)\n",
      " |-- previous_loans_PRODUCT_COMBINATION_POS household with interest_count_norm: string (nullable = true)\n",
      " |-- client_installments_NUM_INSTALMENT_VERSION_min_sum: string (nullable = true)\n",
      " |-- client_credit_SK_DPD_mean_mean: string (nullable = true)\n",
      " |-- FLOORSMIN_AVG: string (nullable = true)\n",
      " |-- client_bureau_balance_STATUS_C_count_max: string (nullable = true)\n",
      " |-- client_cash_NAME_CONTRACT_STATUS_Completed_count_norm_sum: string (nullable = true)\n",
      " |-- client_credit_CNT_INSTALMENT_MATURE_CUM_max_mean: string (nullable = true)\n",
      " |-- FLAG_DOCUMENT_16: string (nullable = true)\n",
      " |-- client_bureau_balance_STATUS_1_count_norm_max: string (nullable = true)\n",
      " |-- previous_loans_NAME_TYPE_SUITE_Spouse, partner_count_norm: string (nullable = true)\n",
      " |-- client_bureau_balance_STATUS_1_count_mean: string (nullable = true)\n",
      " |-- client_cash_NAME_CONTRACT_STATUS_Returned to the store_count_sum: string (nullable = true)\n",
      " |-- bureau_AMT_ANNUITY_min: string (nullable = true)\n",
      " |-- client_bureau_balance_STATUS_1_count_max: string (nullable = true)\n",
      " |-- ORGANIZATION_TYPE_Industry: type 9: string (nullable = true)\n",
      " |-- AMT_REQ_CREDIT_BUREAU_MON: string (nullable = true)\n",
      " |-- previous_loans_NAME_CONTRACT_STATUS_Approved_count: string (nullable = true)\n",
      " |-- client_credit_AMT_TOTAL_RECEIVABLE_sum_min: string (nullable = true)\n",
      " |-- bureau_CREDIT_ACTIVE_Sold_count_norm: string (nullable = true)\n",
      " |-- previous_loans_NAME_GOODS_CATEGORY_Mobile_count_norm: string (nullable = true)\n",
      " |-- client_credit_CNT_DRAWINGS_ATM_CURRENT_sum_sum: string (nullable = true)\n",
      " |-- client_credit_AMT_DRAWINGS_CURRENT_max_sum: string (nullable = true)\n",
      " |-- bureau_AMT_CREDIT_SUM_OVERDUE_mean: string (nullable = true)\n",
      " |-- previous_loans_NAME_SELLER_INDUSTRY_Construction_count_norm: string (nullable = true)\n",
      " |-- previous_loans_CODE_REJECT_REASON_SCOFR_count_norm: string (nullable = true)\n",
      " |-- previous_loans_NAME_SELLER_INDUSTRY_Furniture_count_norm: string (nullable = true)\n",
      " |-- client_credit_CNT_DRAWINGS_CURRENT_sum_sum: string (nullable = true)\n",
      " |-- client_cash_NAME_CONTRACT_STATUS_Active_count_norm_max: string (nullable = true)\n",
      " |-- previous_loans_NAME_GOODS_CATEGORY_Construction Materials_count_norm: string (nullable = true)\n",
      " |-- client_bureau_balance_STATUS_1_count_norm_sum: string (nullable = true)\n",
      " |-- previous_loans_PRODUCT_COMBINATION_Cash Street: middle_count_norm: string (nullable = true)\n",
      " |-- previous_loans_PRODUCT_COMBINATION_POS other with interest_count_norm: string (nullable = true)\n",
      " |-- client_cash_CNT_INSTALMENT_min_min: string (nullable = true)\n",
      " |-- previous_loans_CODE_REJECT_REASON_VERIF_count_norm: string (nullable = true)\n",
      " |-- previous_loans_CODE_REJECT_REASON_LIMIT_count_norm: string (nullable = true)\n",
      " |-- client_bureau_balance_STATUS_X_count_norm_sum: string (nullable = true)\n",
      " |-- previous_loans_PRODUCT_COMBINATION_Cash_count_norm: string (nullable = true)\n",
      " |-- client_bureau_balance_STATUS_X_count_min: string (nullable = true)\n",
      " |-- previous_loans_NAME_GOODS_CATEGORY_Consumer Electronics_count_norm: string (nullable = true)\n",
      " |-- client_credit_AMT_CREDIT_LIMIT_ACTUAL_min_min: string (nullable = true)\n",
      " |-- client_bureau_balance_STATUS_X_count_norm_max: string (nullable = true)\n",
      " |-- previous_loans_CHANNEL_TYPE_Regional / Local_count_norm: string (nullable = true)\n",
      " |-- previous_loans_WEEKDAY_APPR_PROCESS_START_SUNDAY_count: string (nullable = true)\n",
      " |-- client_credit_AMT_RECEIVABLE_PRINCIPAL_sum_sum: string (nullable = true)\n",
      " |-- client_bureau_balance_MONTHS_BALANCE_max_min: string (nullable = true)\n",
      " |-- FLAG_DOCUMENT_13: string (nullable = true)\n",
      " |-- previous_loans_CODE_REJECT_REASON_CLIENT_count_norm: string (nullable = true)\n",
      " |-- client_bureau_balance_STATUS_X_count_sum: string (nullable = true)\n",
      " |-- client_credit_AMT_DRAWINGS_CURRENT_mean_sum: string (nullable = true)\n",
      " |-- client_credit_NAME_CONTRACT_STATUS_Completed_count_norm_mean: string (nullable = true)\n",
      " |-- client_bureau_balance_STATUS_0_count_min: string (nullable = true)\n",
      " |-- previous_loans_NAME_YIELD_GROUP_middle_count: string (nullable = true)\n",
      " |-- previous_loans_NAME_CONTRACT_TYPE_Revolving loans_count_norm: string (nullable = true)\n",
      " |-- previous_loans_NAME_PRODUCT_TYPE_XNA_count: string (nullable = true)\n",
      " |-- previous_loans_NAME_GOODS_CATEGORY_Jewelry_count_norm: string (nullable = true)\n",
      " |-- WALLSMATERIAL_MODE_Stone, brick: string (nullable = true)\n",
      " |-- previous_loans_NAME_SELLER_INDUSTRY_Consumer electronics_count_norm: string (nullable = true)\n",
      " |-- previous_loans_CNT_PAYMENT_min: string (nullable = true)\n",
      " |-- previous_loans_NAME_YIELD_GROUP_high_count: string (nullable = true)\n",
      " |-- NAME_FAMILY_STATUS_Separated: string (nullable = true)\n",
      " |-- NAME_HOUSING_TYPE_House / apartment: string (nullable = true)\n",
      " |-- client_credit_AMT_BALANCE_min_sum: string (nullable = true)\n",
      " |-- client_cash_NAME_CONTRACT_STATUS_Signed_count_norm_mean: string (nullable = true)\n",
      " |-- previous_loans_NAME_CONTRACT_STATUS_Refused_count: string (nullable = true)\n"
     ]
    },
    {
     "name": "stdout",
     "output_type": "stream",
     "text": [
      " |-- previous_loans_PRODUCT_COMBINATION_Card Street_count_norm: string (nullable = true)\n",
      " |-- client_installments_NUM_INSTALMENT_NUMBER_max_min: string (nullable = true)\n",
      " |-- client_credit_AMT_PAYMENT_CURRENT_min_sum: string (nullable = true)\n",
      " |-- previous_loans_PRODUCT_COMBINATION_POS industry without interest_count_norm: string (nullable = true)\n",
      " |-- previous_loans_CHANNEL_TYPE_Regional / Local_count: string (nullable = true)\n",
      " |-- ORGANIZATION_TYPE_Transport: type 3: string (nullable = true)\n",
      " |-- client_cash_NAME_CONTRACT_STATUS_Returned to the store_count_norm_max: string (nullable = true)\n",
      " |-- ORGANIZATION_TYPE_School: string (nullable = true)\n",
      " |-- previous_loans_NAME_TYPE_SUITE_Other_B_count_norm: string (nullable = true)\n",
      " |-- bureau_CNT_CREDIT_PROLONG_mean: string (nullable = true)\n",
      " |-- client_credit_AMT_DRAWINGS_CURRENT_max_max: string (nullable = true)\n",
      " |-- client_bureau_balance_MONTHS_BALANCE_max_sum: string (nullable = true)\n",
      " |-- client_cash_NAME_CONTRACT_STATUS_Active_count_min: string (nullable = true)\n",
      " |-- WEEKDAY_APPR_PROCESS_START_WEDNESDAY: string (nullable = true)\n",
      " |-- OCCUPATION_TYPE_High skill tech staff: string (nullable = true)\n",
      " |-- previous_loans_NAME_PAYMENT_TYPE_XNA_count: string (nullable = true)\n",
      " |-- FLAG_PHONE: string (nullable = true)\n",
      " |-- TARGET: string (nullable = true)\n",
      " |-- SK_ID_CURR: string (nullable = true)\n",
      "\n"
     ]
    }
   ],
   "source": [
    "//take a look at features in dataset (...361 of them) [Sean]\n",
    "creditRiskdf.printSchema()"
   ]
  },
  {
   "cell_type": "code",
   "execution_count": 7,
   "metadata": {},
   "outputs": [
    {
     "name": "stdout",
     "output_type": "stream",
     "text": [
      "2019-05-25 05:31:44,414 WARN  [Thread-4] util.Utils (Logging.scala:logWarning(66)) - Truncated the string representation of a plan since it was too large. This behavior can be adjusted by setting 'spark.debug.maxToStringFields' in SparkEnv.conf.\n"
     ]
    },
    {
     "data": {
      "text/plain": [
       "res5: Long = 307511\n"
      ]
     },
     "execution_count": 7,
     "metadata": {},
     "output_type": "execute_result"
    }
   ],
   "source": [
    "//ID col summary (min to max) & number of rows\n",
    "creditRiskdf.describe(creditRiskFeatures(360)).show()"
   ]
  },
  {
   "cell_type": "code",
   "execution_count": 9,
   "metadata": {},
   "outputs": [
    {
     "data": {
      "text/plain": [
       "creditRiskFeatures: Array[String] = Array(EXT_SOURCE_1, EXT_SOURCE_2, EXT_SOURCE_3, client_installments_AMT_PAYMENT_min_sum, DAYS_BIRTH, AMT_CREDIT, AMT_ANNUITY, DAYS_EMPLOYED, bureau_DAYS_CREDIT_ENDDATE_max, bureau_DAYS_CREDIT_max, DAYS_ID_PUBLISH, bureau_AMT_CREDIT_MAX_OVERDUE_mean, bureau_DAYS_ENDDATE_FACT_max, bureau_AMT_CREDIT_SUM_DEBT_mean, OWN_CAR_AGE, previous_loans_CNT_PAYMENT_mean, client_cash_CNT_INSTALMENT_FUTURE_min_max, previous_loans_SELLERPLACE_AREA_max, DAYS_LAST_PHONE_CHANGE, bureau_AMT_CREDIT_SUM_max, bureau_AMT_CREDIT_SUM_mean, DAYS_REGISTRATION, client_installments_DAYS_INSTALMENT_max_max, previous_loans_AMT_DOWN_PAYMENT_max, CODE_GENDER_F, REGION_POPULATION_RELATIVE, client_cash_CNT_INSTALMENT_max_mean, bureau_DAYS_CREDIT_UPDATE_max, bureau_AMT_CREDIT_SUM_sum, clie..."
      ]
     },
     "execution_count": 9,
     "metadata": {},
     "output_type": "execute_result"
    }
   ],
   "source": [
    "//string array of features to pass through EDA functions [Sean]\n",
    "val creditRiskFeatures = creditRiskdf.columns"
   ]
  },
  {
   "cell_type": "markdown",
   "metadata": {},
   "source": [
    "## Split and allocate features for data cleaning task execution (MapReduce style?)"
   ]
  },
  {
   "cell_type": "code",
   "execution_count": 23,
   "metadata": {},
   "outputs": [
    {
     "data": {
      "text/plain": [
       "creditRiskFeatures1: Array[String] = Array(EXT_SOURCE_1, EXT_SOURCE_2, EXT_SOURCE_3, client_installments_AMT_PAYMENT_min_sum, DAYS_BIRTH, AMT_CREDIT, AMT_ANNUITY, DAYS_EMPLOYED, bureau_DAYS_CREDIT_ENDDATE_max, bureau_DAYS_CREDIT_max, DAYS_ID_PUBLISH, bureau_AMT_CREDIT_MAX_OVERDUE_mean, bureau_DAYS_ENDDATE_FACT_max, bureau_AMT_CREDIT_SUM_DEBT_mean, OWN_CAR_AGE, previous_loans_CNT_PAYMENT_mean, client_cash_CNT_INSTALMENT_FUTURE_min_max, previous_loans_SELLERPLACE_AREA_max, DAYS_LAST_PHONE_CHANGE, bureau_AMT_CREDIT_SUM_max, bureau_AMT_CREDIT_SUM_mean, DAYS_REGISTRATION, client_installments_DAYS_INSTALMENT_max_max, previous_loans_AMT_DOWN_PAYMENT_max, CODE_GENDER_F, REGION_POPULATION_RELATIVE, client_cash_CNT_INSTALMENT_max_mean, bureau_DAYS_CREDIT_UPDATE_max, bureau_AMT_CREDIT_SUM_sum, cli..."
      ]
     },
     "execution_count": 23,
     "metadata": {},
     "output_type": "execute_result"
    }
   ],
   "source": [
    "//split and allocate features for down stream cleaning [Sean]\n",
    "val creditRiskFeatures1 = creditRiskFeatures.slice(0,120)\n",
    "val creditRiskFeatures2 = creditRiskFeatures.slice(121,240)\n",
    "val creditRiskFeatures3 = creditRiskFeatures.slice(241,360)"
   ]
  },
  {
   "cell_type": "code",
   "execution_count": null,
   "metadata": {},
   "outputs": [],
   "source": [
    "//create partitioned DFs for downstream cleaning [Sean]\n",
    "//pass sliced array of features as SQL eg from creditRiskdf select slice1 ...."
   ]
  },
  {
   "cell_type": "markdown",
   "metadata": {},
   "source": [
    "Insert code for flagging missing values below:"
   ]
  },
  {
   "cell_type": "code",
   "execution_count": null,
   "metadata": {},
   "outputs": [],
   "source": [
    "//**NEW APPROACH**\n",
    "//create DF of features & count of nulls\n",
    "//set threshold e.g if 20% of values = null, drop column\n",
    "//**EXTENTION** Impute values to replace null, will have to review feature properties ***IF WE HAVE TIME***\n",
    "\n",
    "//sum count of int for null values [Lin]\n",
    "creditRiskdf.select(creditRiskdf.columns.map(c => sum(col(c).isNull.cast(\"int\")).alias(c)): _*).show"
   ]
  },
  {
   "cell_type": "markdown",
   "metadata": {},
   "source": [
    "Insert code for flagging duplicate values below:"
   ]
  },
  {
   "cell_type": "code",
   "execution_count": null,
   "metadata": {},
   "outputs": [],
   "source": [
    "//because the data has already been transformed & normalised use the IDCol (ARRindex:360) to check dupes"
   ]
  },
  {
   "cell_type": "markdown",
   "metadata": {},
   "source": [
    "Insert code for visualising or displaying outliers below:"
   ]
  },
  {
   "cell_type": "code",
   "execution_count": null,
   "metadata": {},
   "outputs": [],
   "source": [
    "//write function to check if there are any outliers in a given domain and show boxplot [Sean]\n",
    "//set approach for defining outliers ie 3s.d away from mean/median\n",
    "//decide whether to remove or not\n",
    "//Q1 - 1.5*IQR and Q3 + 1.5*IQR\n",
    "def testOutliers(feature: String, sDevThresh: int): Array = {\n",
    "    var testVal = mean + sDevThresh * //std Deviation of feature_label;\n",
    "    var testDf = //DF(select feature, idCol from df where feature > testVal);\n",
    "    \n",
    "    //if (length of testDF > 0 ){\n",
    "        //return testDf}\n",
    "}"
   ]
  },
  {
   "cell_type": "code",
   "execution_count": null,
   "metadata": {},
   "outputs": [],
   "source": [
    "//test for outliers [Sean]\n",
    "var sDevThresh = 3\n",
    "for (feature <- creditRiskFeatures){\n",
    "    testOutliers(feature, sDevThresh);\n",
    "}"
   ]
  },
  {
   "cell_type": "code",
   "execution_count": null,
   "metadata": {},
   "outputs": [],
   "source": [
    "//handle outliers **Do we drop them or keep them?\n",
    "//"
   ]
  },
  {
   "cell_type": "markdown",
   "metadata": {},
   "source": [
    "Insert code for reviewing data values for inconsistencies below:"
   ]
  },
  {
   "cell_type": "code",
   "execution_count": 18,
   "metadata": {},
   "outputs": [],
   "source": [
    "//this is going to be hard with so many features..."
   ]
  },
  {
   "cell_type": "markdown",
   "metadata": {},
   "source": [
    "Insert code for reviewing data format below:"
   ]
  },
  {
   "cell_type": "code",
   "execution_count": null,
   "metadata": {},
   "outputs": [],
   "source": [
    "//iterate through features and apply the describe method and append to new dataframe\n",
    "//secondary to this iterate through the values in the features and get datatypes, sql query this output for unique values"
   ]
  },
  {
   "cell_type": "code",
   "execution_count": null,
   "metadata": {},
   "outputs": [],
   "source": [
    "// find out if there are data in date formats [Joel]\n",
    "// filter column headers containing 'date' for further investigation\n",
    "val matcher = \".+date.+\"\n",
    "val dates = creditRiskFeatures.filter(x => x.toLowerCase matches matcher)"
   ]
  },
  {
   "cell_type": "code",
   "execution_count": null,
   "metadata": {},
   "outputs": [],
   "source": [
    "// review data format of columnbs with headers containing 'date' [Joel]\n",
    "for (dateformat <- dates){\n",
    "creditRiskdf.select(dateformat).show(10)\n",
    "}"
   ]
  },
  {
   "cell_type": "markdown",
   "metadata": {},
   "source": [
    "Insert code for encoding categorical variables below:"
   ]
  },
  {
   "cell_type": "code",
   "execution_count": null,
   "metadata": {},
   "outputs": [],
   "source": [
    "//this has already been done for this dataset...\n",
    "//we can map the approach perhaps? ie Target (default/notdefault = 1/0)"
   ]
  }
 ],
 "metadata": {
  "kernelspec": {
   "display_name": "spylon-kernel",
   "language": "scala",
   "name": "spylon-kernel"
  },
  "language_info": {
   "codemirror_mode": "text/x-scala",
   "file_extension": ".scala",
   "help_links": [
    {
     "text": "MetaKernel Magics",
     "url": "https://metakernel.readthedocs.io/en/latest/source/README.html"
    }
   ],
   "mimetype": "text/x-scala",
   "name": "scala",
   "pygments_lexer": "scala",
   "version": "0.4.1"
  }
 },
 "nbformat": 4,
 "nbformat_minor": 2
}
