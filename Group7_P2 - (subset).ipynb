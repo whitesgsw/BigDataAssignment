{
 "cells": [
  {
   "cell_type": "markdown",
   "metadata": {},
   "source": [
    "## Group 7\n",
    "## Big Data Group Project\n",
    "\n",
    "### Contributors:\n",
    "- 29233798: Joel Shien Yee Chin [Joel]\n",
    "- 18435688: Tim O'Doherty [Tim]\n",
    "- 22606127: Sean Whitehead [Sean]\n",
    "- 29650437: Lin Bai [Lin]\n",
    "\n",
    "\n",
    "### Phase 2: Cleansing and Reshaping"
   ]
  },
  {
   "cell_type": "markdown",
   "metadata": {},
   "source": [
    "This notebook is used for co-developing of codes required to wrangle the home credit risk dataset.\n",
    "\n",
    "Please use this notebook as the live version and download local copies as you require.\n",
    "\n",
    "If you have picked up a specific section, please comment your name to the code cell so that we can work on other sections.\n",
    "\n",
    "Helpful link for Dataframes in Scala:\n",
    "- https://docs.databricks.com/spark/latest/dataframes-datasets/introduction-to-dataframes-scala.html#work-with-dataframes\n",
    "- https://spark.apache.org/docs/1.5.0/api/java/overview-summary.html\n",
    "- https://spark.apache.org/docs/2.2.0/sql-programming-guide.html\n",
    "- https://www.tutorialspoint.com/scala/\n",
    "- http://allaboutscala.com/big-data/spark/#dataframe-select-columns"
   ]
  },
  {
   "cell_type": "markdown",
   "metadata": {},
   "source": [
    "Insert libraries into the cell below:"
   ]
  },
  {
   "cell_type": "code",
   "execution_count": 4,
   "metadata": {},
   "outputs": [
    {
     "data": {
      "text/plain": [
       "import org.apache.spark.sql.functions._\n",
       "import org.apache.spark.sql.types._\n",
       "import org.apache.spark.sql._\n",
       "import org.apache.hadoop.io.LongWritable\n",
       "import org.apache.hadoop.io.Text\n",
       "import org.apache.hadoop.conf.Configuration\n",
       "import org.apache.hadoop.mapreduce.lib.input.TextInputFormat\n",
       "import org.apache.spark.sql.functions.{sum, col}\n",
       "import org.apache.spark.sql.functions.{col, count, when}\n",
       "import org.apache.spark.sql.functions._\n",
       "import org.apache.spark.sql.types.IntegerType\n"
      ]
     },
     "execution_count": 4,
     "metadata": {},
     "output_type": "execute_result"
    }
   ],
   "source": [
    "import org.apache.spark.sql.functions._\n",
    "import org.apache.spark.sql.types._\n",
    "import org.apache.spark.sql._\n",
    "import org.apache.hadoop.io.LongWritable\n",
    "import org.apache.hadoop.io.Text\n",
    "import org.apache.hadoop.conf.Configuration\n",
    "import org.apache.hadoop.mapreduce.lib.input.TextInputFormat\n",
    "import org.apache.spark.sql.functions.{sum, col}\n",
    "import org.apache.spark.sql.functions.{col, count, when}\n",
    "import org.apache.spark.sql.functions._\n",
    "import org.apache.spark.sql.types.IntegerType"
   ]
  },
  {
   "cell_type": "markdown",
   "metadata": {},
   "source": [
    "Insert code for data loading below:"
   ]
  },
  {
   "cell_type": "markdown",
   "metadata": {},
   "source": [
    "Download zip from GDrive and extract to location where you are running notebook for below to run"
   ]
  },
  {
   "cell_type": "code",
   "execution_count": 3,
   "metadata": {},
   "outputs": [
    {
     "data": {
      "text/plain": [
       "creditRiskdf1: org.apache.spark.sql.DataFrame = [EXT_SOURCE_1: string, EXT_SOURCE_2: string ... 359 more fields]\n"
      ]
     },
     "execution_count": 3,
     "metadata": {},
     "output_type": "execute_result"
    }
   ],
   "source": [
    "//read in csv [Sean]\n",
    "val creditRiskdf1 = spark.read.option(\"header\",\"true\").csv(\"Home credit default risk after feature selection/m_train_small.csv\")"
   ]
  },
  {
   "cell_type": "code",
   "execution_count": 4,
   "metadata": {},
   "outputs": [
    {
     "name": "stdout",
     "output_type": "stream",
     "text": [
      "root\n",
      " |-- EXT_SOURCE_1: string (nullable = true)\n",
      " |-- EXT_SOURCE_2: string (nullable = true)\n",
      " |-- EXT_SOURCE_3: string (nullable = true)\n",
      " |-- client_installments_AMT_PAYMENT_min_sum: string (nullable = true)\n",
      " |-- DAYS_BIRTH: string (nullable = true)\n",
      " |-- AMT_CREDIT: string (nullable = true)\n",
      " |-- AMT_ANNUITY: string (nullable = true)\n",
      " |-- DAYS_EMPLOYED: string (nullable = true)\n",
      " |-- bureau_DAYS_CREDIT_ENDDATE_max: string (nullable = true)\n",
      " |-- bureau_DAYS_CREDIT_max: string (nullable = true)\n",
      " |-- DAYS_ID_PUBLISH: string (nullable = true)\n",
      " |-- bureau_AMT_CREDIT_MAX_OVERDUE_mean: string (nullable = true)\n",
      " |-- bureau_DAYS_ENDDATE_FACT_max: string (nullable = true)\n",
      " |-- bureau_AMT_CREDIT_SUM_DEBT_mean: string (nullable = true)\n",
      " |-- OWN_CAR_AGE: string (nullable = true)\n",
      " |-- previous_loans_CNT_PAYMENT_mean: string (nullable = true)\n",
      " |-- client_cash_CNT_INSTALMENT_FUTURE_min_max: string (nullable = true)\n",
      " |-- previous_loans_SELLERPLACE_AREA_max: string (nullable = true)\n",
      " |-- DAYS_LAST_PHONE_CHANGE: string (nullable = true)\n",
      " |-- bureau_AMT_CREDIT_SUM_max: string (nullable = true)\n",
      " |-- bureau_AMT_CREDIT_SUM_mean: string (nullable = true)\n",
      " |-- DAYS_REGISTRATION: string (nullable = true)\n",
      " |-- client_installments_DAYS_INSTALMENT_max_max: string (nullable = true)\n",
      " |-- previous_loans_AMT_DOWN_PAYMENT_max: string (nullable = true)\n",
      " |-- CODE_GENDER_F: string (nullable = true)\n",
      " |-- REGION_POPULATION_RELATIVE: string (nullable = true)\n",
      " |-- client_cash_CNT_INSTALMENT_max_mean: string (nullable = true)\n",
      " |-- bureau_DAYS_CREDIT_UPDATE_max: string (nullable = true)\n",
      " |-- bureau_AMT_CREDIT_SUM_sum: string (nullable = true)\n",
      " |-- client_credit_AMT_DRAWINGS_CURRENT_mean_max: string (nullable = true)\n",
      " |-- YEARS_BEGINEXPLUATATION_AVG: string (nullable = true)\n",
      " |-- client_installments_NUM_INSTALMENT_VERSION_mean_max: string (nullable = true)\n",
      " |-- bureau_DAYS_CREDIT_mean: string (nullable = true)\n",
      " |-- client_installments_AMT_PAYMENT_sum_mean: string (nullable = true)\n",
      " |-- client_installments_DAYS_INSTALMENT_min_max: string (nullable = true)\n",
      " |-- previous_loans_NAME_CONTRACT_STATUS_Refused_count_norm: string (nullable = true)\n",
      " |-- client_credit_CNT_DRAWINGS_CURRENT_max_max: string (nullable = true)\n",
      " |-- client_installments_AMT_INSTALMENT_max_max: string (nullable = true)\n",
      " |-- client_cash_CNT_INSTALMENT_FUTURE_min_mean: string (nullable = true)\n",
      " |-- client_credit_AMT_RECIVABLE_mean_min: string (nullable = true)\n",
      " |-- client_installments_NUM_INSTALMENT_VERSION_max_mean: string (nullable = true)\n",
      " |-- bureau_DAYS_CREDIT_min: string (nullable = true)\n",
      " |-- previous_loans_NAME_YIELD_GROUP_high_count_norm: string (nullable = true)\n",
      " |-- previous_loans_RATE_DOWN_PAYMENT_sum: string (nullable = true)\n",
      " |-- BASEMENTAREA_AVG: string (nullable = true)\n",
      " |-- client_installments_DAYS_ENTRY_PAYMENT_sum_max: string (nullable = true)\n",
      " |-- previous_loans_DAYS_FIRST_DUE_min: string (nullable = true)\n",
      " |-- client_cash_SK_DPD_DEF_sum_max: string (nullable = true)\n",
      " |-- previous_loans_DAYS_DECISION_max: string (nullable = true)\n",
      " |-- LANDAREA_AVG: string (nullable = true)\n",
      " |-- client_installments_AMT_INSTALMENT_min_mean: string (nullable = true)\n",
      " |-- bureau_AMT_CREDIT_SUM_LIMIT_mean: string (nullable = true)\n",
      " |-- bureau_DAYS_CREDIT_sum: string (nullable = true)\n",
      " |-- previous_loans_DAYS_LAST_DUE_1ST_VERSION_max: string (nullable = true)\n",
      " |-- previous_loans_PRODUCT_COMBINATION_Cash X-Sell: low_count_norm: string (nullable = true)\n",
      " |-- previous_loans_HOUR_APPR_PROCESS_START_mean: string (nullable = true)\n",
      " |-- APARTMENTS_AVG: string (nullable = true)\n",
      " |-- bureau_AMT_CREDIT_SUM_DEBT_max: string (nullable = true)\n",
      " |-- bureau_AMT_CREDIT_SUM_min: string (nullable = true)\n",
      " |-- previous_loans_AMT_DOWN_PAYMENT_mean: string (nullable = true)\n",
      " |-- NAME_FAMILY_STATUS_Married: string (nullable = true)\n",
      " |-- previous_loans_CNT_PAYMENT_max: string (nullable = true)\n",
      " |-- client_installments_AMT_INSTALMENT_mean_min: string (nullable = true)\n",
      " |-- AMT_INCOME_TOTAL: string (nullable = true)\n",
      " |-- previous_loans_DAYS_LAST_DUE_sum: string (nullable = true)\n",
      " |-- client_cash_MONTHS_BALANCE_max_mean: string (nullable = true)\n",
      " |-- NAME_EDUCATION_TYPE_Higher education: string (nullable = true)\n",
      " |-- client_cash_MONTHS_BALANCE_sum_mean: string (nullable = true)\n",
      " |-- bureau_DAYS_CREDIT_ENDDATE_mean: string (nullable = true)\n",
      " |-- REGION_RATING_CLIENT: string (nullable = true)\n",
      " |-- previous_loans_AMT_GOODS_PRICE_min: string (nullable = true)\n",
      " |-- bureau_DAYS_ENDDATE_FACT_min: string (nullable = true)\n",
      " |-- bureau_DAYS_CREDIT_ENDDATE_min: string (nullable = true)\n",
      " |-- previous_loans_AMT_ANNUITY_mean: string (nullable = true)\n",
      " |-- client_installments_AMT_PAYMENT_max_min: string (nullable = true)\n",
      " |-- client_installments_AMT_INSTALMENT_min_max: string (nullable = true)\n",
      " |-- client_installments_AMT_PAYMENT_sum_min: string (nullable = true)\n",
      " |-- bureau_CREDIT_TYPE_Mortgage_count_norm: string (nullable = true)\n",
      " |-- previous_loans_AMT_ANNUITY_max: string (nullable = true)\n",
      " |-- previous_loans_AMT_ANNUITY_min: string (nullable = true)\n",
      " |-- previous_loans_RATE_DOWN_PAYMENT_max: string (nullable = true)\n",
      " |-- previous_loans_NAME_YIELD_GROUP_low_normal_count_norm: string (nullable = true)\n",
      " |-- previous_loans_PRODUCT_COMBINATION_Cash X-Sell: high_count_norm: string (nullable = true)\n",
      " |-- bureau_DAYS_CREDIT_ENDDATE_sum: string (nullable = true)\n",
      " |-- bureau_CREDIT_ACTIVE_Active_count: string (nullable = true)\n",
      " |-- previous_loans_NAME_YIELD_GROUP_low_action_count_norm: string (nullable = true)\n",
      " |-- client_cash_counts_mean: string (nullable = true)\n",
      " |-- client_installments_AMT_INSTALMENT_mean_max: string (nullable = true)\n",
      " |-- client_cash_MONTHS_BALANCE_sum_max: string (nullable = true)\n",
      " |-- NONLIVINGAREA_AVG: string (nullable = true)\n",
      " |-- client_cash_CNT_INSTALMENT_sum_min: string (nullable = true)\n",
      " |-- bureau_CREDIT_ACTIVE_Active_count_norm: string (nullable = true)\n",
      " |-- bureau_DAYS_CREDIT_UPDATE_min: string (nullable = true)\n",
      " |-- DEF_60_CNT_SOCIAL_CIRCLE: string (nullable = true)\n",
      " |-- FLAG_DOCUMENT_3: string (nullable = true)\n",
      " |-- bureau_DAYS_ENDDATE_FACT_mean: string (nullable = true)\n",
      " |-- bureau_AMT_CREDIT_SUM_LIMIT_max: string (nullable = true)\n",
      " |-- client_cash_SK_DPD_max_sum: string (nullable = true)\n",
      " |-- previous_loans_AMT_GOODS_PRICE_mean: string (nullable = true)\n",
      " |-- client_installments_AMT_PAYMENT_max_sum: string (nullable = true)\n",
      " |-- client_installments_NUM_INSTALMENT_VERSION_sum_mean: string (nullable = true)\n",
      " |-- client_bureau_balance_MONTHS_BALANCE_sum_min: string (nullable = true)\n",
      " |-- client_installments_AMT_INSTALMENT_min_min: string (nullable = true)\n",
      " |-- previous_loans_NAME_TYPE_SUITE_Unaccompanied_count_norm: string (nullable = true)\n",
      " |-- client_cash_NAME_CONTRACT_STATUS_Active_count_norm_mean: string (nullable = true)\n",
      " |-- client_installments_NUM_INSTALMENT_NUMBER_max_mean: string (nullable = true)\n",
      " |-- client_cash_CNT_INSTALMENT_max_max: string (nullable = true)\n",
      " |-- client_installments_DAYS_ENTRY_PAYMENT_max_min: string (nullable = true)\n",
      " |-- client_bureau_balance_STATUS_C_count_norm_max: string (nullable = true)\n",
      " |-- client_installments_AMT_PAYMENT_max_mean: string (nullable = true)\n",
      " |-- client_cash_counts_sum: string (nullable = true)\n",
      " |-- previous_loans_NAME_CONTRACT_STATUS_Approved_count_norm: string (nullable = true)\n",
      " |-- client_cash_CNT_INSTALMENT_min_mean: string (nullable = true)\n",
      " |-- client_cash_CNT_INSTALMENT_mean_min: string (nullable = true)\n",
      " |-- client_installments_AMT_INSTALMENT_sum_max: string (nullable = true)\n",
      " |-- previous_loans_AMT_ANNUITY_sum: string (nullable = true)\n",
      " |-- client_installments_AMT_PAYMENT_mean_sum: string (nullable = true)\n",
      " |-- previous_loans_DAYS_DECISION_mean: string (nullable = true)\n",
      " |-- FLOORSMAX_AVG: string (nullable = true)\n",
      " |-- previous_loans_PRODUCT_COMBINATION_Cash Street: low_count_norm: string (nullable = true)\n",
      " |-- previous_loans_DAYS_LAST_DUE_1ST_VERSION_mean: string (nullable = true)\n",
      " |-- HOUR_APPR_PROCESS_START: string (nullable = true)\n",
      " |-- previous_loans_DAYS_LAST_DUE_1ST_VERSION_min: string (nullable = true)\n",
      " |-- YEARS_BUILD_AVG: string (nullable = true)\n",
      " |-- bureau_CREDIT_TYPE_Consumer credit_count_norm: string (nullable = true)\n",
      " |-- previous_loans_HOUR_APPR_PROCESS_START_max: string (nullable = true)\n",
      " |-- previous_loans_CODE_REJECT_REASON_HC_count_norm: string (nullable = true)\n",
      " |-- previous_loans_NAME_PRODUCT_TYPE_walk-in_count_norm: string (nullable = true)\n",
      " |-- previous_loans_CNT_PAYMENT_sum: string (nullable = true)\n",
      " |-- previous_loans_SELLERPLACE_AREA_min: string (nullable = true)\n",
      " |-- bureau_DAYS_CREDIT_UPDATE_mean: string (nullable = true)\n",
      " |-- previous_loans_DAYS_FIRST_DUE_sum: string (nullable = true)\n",
      " |-- previous_loans_DAYS_DECISION_sum: string (nullable = true)\n",
      " |-- previous_loans_PRODUCT_COMBINATION_POS industry with interest_count_norm: string (nullable = true)\n",
      " |-- COMMONAREA_AVG: string (nullable = true)\n",
      " |-- client_credit_AMT_CREDIT_LIMIT_ACTUAL_mean_mean: string (nullable = true)\n",
      " |-- client_cash_MONTHS_BALANCE_max_sum: string (nullable = true)\n",
      " |-- client_bureau_balance_STATUS_X_count_norm_mean: string (nullable = true)\n",
      " |-- previous_loans_AMT_CREDIT_min: string (nullable = true)\n",
      " |-- previous_loans_NAME_CLIENT_TYPE_Refreshed_count_norm: string (nullable = true)\n",
      " |-- client_bureau_balance_MONTHS_BALANCE_mean_sum: string (nullable = true)\n",
      " |-- previous_loans_PRODUCT_COMBINATION_Cash Street: high_count_norm: string (nullable = true)\n",
      " |-- previous_loans_RATE_DOWN_PAYMENT_mean: string (nullable = true)\n",
      " |-- bureau_AMT_CREDIT_SUM_DEBT_min: string (nullable = true)\n",
      " |-- NAME_CONTRACT_TYPE_Cash loans: string (nullable = true)\n",
      " |-- client_installments_AMT_INSTALMENT_min_sum: string (nullable = true)\n",
      " |-- previous_loans_AMT_APPLICATION_max: string (nullable = true)\n",
      " |-- client_installments_NUM_INSTALMENT_VERSION_sum_max: string (nullable = true)\n",
      " |-- previous_loans_RATE_DOWN_PAYMENT_min: string (nullable = true)\n",
      " |-- client_installments_AMT_INSTALMENT_mean_mean: string (nullable = true)\n",
      " |-- client_installments_NUM_INSTALMENT_VERSION_sum_sum: string (nullable = true)\n",
      " |-- previous_loans_NAME_TYPE_SUITE_Family_count_norm: string (nullable = true)\n",
      " |-- previous_loans_DAYS_TERMINATION_mean: string (nullable = true)\n",
      " |-- client_credit_AMT_DRAWINGS_POS_CURRENT_mean_sum: string (nullable = true)\n",
      " |-- client_cash_CNT_INSTALMENT_FUTURE_max_sum: string (nullable = true)\n",
      " |-- previous_loans_NAME_PAYMENT_TYPE_XNA_count_norm: string (nullable = true)\n",
      " |-- client_credit_CNT_DRAWINGS_ATM_CURRENT_sum_mean: string (nullable = true)\n",
      " |-- bureau_AMT_ANNUITY_max: string (nullable = true)\n",
      " |-- bureau_CREDIT_TYPE_Credit card_count_norm: string (nullable = true)\n",
      " |-- previous_loans_DAYS_FIRST_DUE_mean: string (nullable = true)\n",
      " |-- client_installments_DAYS_ENTRY_PAYMENT_min_sum: string (nullable = true)\n",
      " |-- ENTRANCES_AVG: string (nullable = true)\n",
      " |-- client_bureau_balance_STATUS_0_count_norm_min: string (nullable = true)\n",
      " |-- OBS_30_CNT_SOCIAL_CIRCLE: string (nullable = true)\n",
      " |-- client_installments_AMT_INSTALMENT_sum_sum: string (nullable = true)\n",
      " |-- client_installments_NUM_INSTALMENT_VERSION_mean_sum: string (nullable = true)\n",
      " |-- FLAG_DOCUMENT_18: string (nullable = true)\n",
      " |-- client_cash_CNT_INSTALMENT_FUTURE_min_sum: string (nullable = true)\n",
      " |-- client_credit_AMT_PAYMENT_CURRENT_max_sum: string (nullable = true)\n",
      " |-- previous_loans_CHANNEL_TYPE_Credit and cash offices_count_norm: string (nullable = true)\n",
      " |-- previous_loans_CHANNEL_TYPE_Contact center_count_norm: string (nullable = true)\n",
      " |-- bureau_CREDIT_TYPE_Car loan_count_norm: string (nullable = true)\n",
      " |-- previous_loans_NAME_PORTFOLIO_POS_count_norm: string (nullable = true)\n",
      " |-- client_credit_AMT_DRAWINGS_POS_CURRENT_sum_sum: string (nullable = true)\n",
      " |-- client_installments_NUM_INSTALMENT_NUMBER_min_mean: string (nullable = true)\n",
      " |-- previous_loans_WEEKDAY_APPR_PROCESS_START_TUESDAY_count_norm: string (nullable = true)\n",
      " |-- client_bureau_balance_STATUS_0_count_max: string (nullable = true)\n",
      " |-- previous_loans_NAME_GOODS_CATEGORY_Furniture_count_norm: string (nullable = true)\n",
      " |-- client_cash_NAME_CONTRACT_STATUS_Completed_count_norm_max: string (nullable = true)\n",
      " |-- AMT_REQ_CREDIT_BUREAU_QRT: string (nullable = true)\n",
      " |-- NAME_INCOME_TYPE_Working: string (nullable = true)\n",
      " |-- client_cash_NAME_CONTRACT_STATUS_Active_count_norm_min: string (nullable = true)\n",
      " |-- client_credit_AMT_DRAWINGS_ATM_CURRENT_mean_sum: string (nullable = true)\n",
      " |-- previous_loans_AMT_DOWN_PAYMENT_min: string (nullable = true)\n",
      " |-- bureau_CREDIT_TYPE_Microloan_count_norm: string (nullable = true)\n",
      " |-- previous_loans_DAYS_TERMINATION_min: string (nullable = true)\n",
      " |-- previous_loans_CHANNEL_TYPE_Channel of corporate sales_count_norm: string (nullable = true)\n",
      " |-- client_bureau_balance_STATUS_C_count_norm_mean: string (nullable = true)\n",
      " |-- previous_loans_WEEKDAY_APPR_PROCESS_START_SUNDAY_count_norm: string (nullable = true)\n",
      " |-- client_bureau_balance_STATUS_0_count_norm_mean: string (nullable = true)\n",
      " |-- previous_loans_CHANNEL_TYPE_Stone_count_norm: string (nullable = true)\n",
      " |-- client_bureau_balance_STATUS_0_count_mean: string (nullable = true)\n",
      " |-- NAME_EDUCATION_TYPE_Secondary / secondary special: string (nullable = true)\n",
      " |-- client_bureau_balance_STATUS_0_count_sum: string (nullable = true)\n",
      " |-- client_bureau_balance_MONTHS_BALANCE_sum_max: string (nullable = true)\n",
      " |-- OCCUPATION_TYPE_Core staff: string (nullable = true)\n",
      " |-- client_bureau_balance_STATUS_1_count_norm_mean: string (nullable = true)\n",
      " |-- previous_loans_NAME_YIELD_GROUP_middle_count_norm: string (nullable = true)\n",
      " |-- client_cash_NAME_CONTRACT_STATUS_Completed_count_norm_mean: string (nullable = true)\n",
      " |-- client_bureau_balance_STATUS_X_count_mean: string (nullable = true)\n",
      " |-- bureau_AMT_CREDIT_SUM_OVERDUE_max: string (nullable = true)\n",
      " |-- REG_CITY_NOT_LIVE_CITY: string (nullable = true)\n",
      " |-- ORGANIZATION_TYPE_Business Entity Type 3: string (nullable = true)\n",
      " |-- bureau_CREDIT_ACTIVE_Closed_count: string (nullable = true)\n",
      " |-- ORGANIZATION_TYPE_Self-employed: string (nullable = true)\n",
      " |-- previous_loans_NAME_PORTFOLIO_Cash_count_norm: string (nullable = true)\n",
      " |-- client_credit_AMT_BALANCE_min_max: string (nullable = true)\n",
      " |-- previous_loans_WEEKDAY_APPR_PROCESS_START_WEDNESDAY_count_norm: string (nullable = true)\n",
      " |-- client_credit_AMT_CREDIT_LIMIT_ACTUAL_max_sum: string (nullable = true)\n",
      " |-- client_installments_NUM_INSTALMENT_VERSION_mean_min: string (nullable = true)\n",
      " |-- client_cash_NAME_CONTRACT_STATUS_Completed_count_sum: string (nullable = true)\n",
      " |-- previous_loans_CODE_REJECT_REASON_SCO_count_norm: string (nullable = true)\n",
      " |-- previous_loans_NAME_GOODS_CATEGORY_Computers_count_norm: string (nullable = true)\n",
      " |-- previous_loans_NAME_YIELD_GROUP_XNA_count_norm: string (nullable = true)\n",
      " |-- previous_loans_PRODUCT_COMBINATION_POS household without interest_count_norm: string (nullable = true)\n",
      " |-- previous_loans_NAME_PRODUCT_TYPE_XNA_count_norm: string (nullable = true)\n",
      " |-- client_bureau_balance_MONTHS_BALANCE_max_mean: string (nullable = true)\n",
      " |-- client_credit_MONTHS_BALANCE_max_sum: string (nullable = true)\n",
      " |-- client_bureau_balance_MONTHS_BALANCE_mean_min: string (nullable = true)\n",
      " |-- bureau_AMT_CREDIT_SUM_LIMIT_min: string (nullable = true)\n",
      " |-- previous_loans_NAME_PRODUCT_TYPE_x-sell_count_norm: string (nullable = true)\n",
      " |-- ELEVATORS_AVG: string (nullable = true)\n",
      " |-- NONLIVINGAPARTMENTS_AVG: string (nullable = true)\n",
      " |-- previous_loans_WEEKDAY_APPR_PROCESS_START_MONDAY_count_norm: string (nullable = true)\n",
      " |-- previous_loans_WEEKDAY_APPR_PROCESS_START_SATURDAY_count_norm: string (nullable = true)\n",
      " |-- previous_loans_NAME_CLIENT_TYPE_New_count_norm: string (nullable = true)\n",
      " |-- bureau_AMT_ANNUITY_mean: string (nullable = true)\n",
      " |-- previous_loans_CHANNEL_TYPE_AP+ (Cash loan)_count_norm: string (nullable = true)\n",
      " |-- client_credit_NAME_CONTRACT_STATUS_Active_count_min: string (nullable = true)\n",
      " |-- client_credit_AMT_DRAWINGS_POS_CURRENT_max_sum: string (nullable = true)\n",
      " |-- previous_loans_NFLAG_INSURED_ON_APPROVAL_mean: string (nullable = true)\n",
      " |-- previous_loans_NAME_GOODS_CATEGORY_Audio/Video_count_norm: string (nullable = true)\n",
      " |-- client_cash_SK_DPD_mean_min: string (nullable = true)\n",
      " |-- previous_loans_NAME_GOODS_CATEGORY_Clothing and Accessories_count_norm: string (nullable = true)\n",
      " |-- DEF_30_CNT_SOCIAL_CIRCLE: string (nullable = true)\n"
     ]
    },
    {
     "name": "stdout",
     "output_type": "stream",
     "text": [
      " |-- client_installments_NUM_INSTALMENT_NUMBER_mean_min: string (nullable = true)\n",
      " |-- client_bureau_balance_STATUS_C_count_mean: string (nullable = true)\n",
      " |-- client_installments_NUM_INSTALMENT_NUMBER_sum_min: string (nullable = true)\n",
      " |-- client_credit_CNT_DRAWINGS_CURRENT_max_sum: string (nullable = true)\n",
      " |-- client_credit_AMT_PAYMENT_CURRENT_sum_sum: string (nullable = true)\n",
      " |-- previous_loans_NAME_PORTFOLIO_XNA_count_norm: string (nullable = true)\n",
      " |-- previous_loans_NAME_CLIENT_TYPE_Repeater_count_norm: string (nullable = true)\n",
      " |-- previous_loans_NAME_SELLER_INDUSTRY_Connectivity_count_norm: string (nullable = true)\n",
      " |-- bureau_CREDIT_TYPE_Credit card_count: string (nullable = true)\n",
      " |-- client_credit_AMT_CREDIT_LIMIT_ACTUAL_sum_sum: string (nullable = true)\n",
      " |-- previous_loans_NAME_CONTRACT_STATUS_Canceled_count_norm: string (nullable = true)\n",
      " |-- client_bureau_balance_STATUS_0_count_norm_max: string (nullable = true)\n",
      " |-- OCCUPATION_TYPE_Drivers: string (nullable = true)\n",
      " |-- client_credit_AMT_CREDIT_LIMIT_ACTUAL_min_sum: string (nullable = true)\n",
      " |-- previous_loans_HOUR_APPR_PROCESS_START_min: string (nullable = true)\n",
      " |-- client_credit_AMT_INST_MIN_REGULARITY_max_min: string (nullable = true)\n",
      " |-- client_cash_NAME_CONTRACT_STATUS_Signed_count_norm_max: string (nullable = true)\n",
      " |-- OCCUPATION_TYPE_Laborers: string (nullable = true)\n",
      " |-- client_cash_CNT_INSTALMENT_min_max: string (nullable = true)\n",
      " |-- previous_loans_WEEKDAY_APPR_PROCESS_START_THURSDAY_count_norm: string (nullable = true)\n",
      " |-- ORGANIZATION_TYPE_Construction: string (nullable = true)\n",
      " |-- client_cash_NAME_CONTRACT_STATUS_Active_count_max: string (nullable = true)\n",
      " |-- client_cash_SK_DPD_DEF_sum_min: string (nullable = true)\n",
      " |-- previous_loans_NAME_CONTRACT_TYPE_Cash loans_count_norm: string (nullable = true)\n",
      " |-- previous_loans_DAYS_FIRST_DRAWING_mean: string (nullable = true)\n",
      " |-- client_credit_CNT_DRAWINGS_ATM_CURRENT_max_sum: string (nullable = true)\n",
      " |-- previous_loans_PRODUCT_COMBINATION_Cash X-Sell: middle_count_norm: string (nullable = true)\n",
      " |-- previous_loans_NAME_CASH_LOAN_PURPOSE_Other_count_norm: string (nullable = true)\n",
      " |-- client_bureau_balance_STATUS_0_count_norm_sum: string (nullable = true)\n",
      " |-- client_installments_NUM_INSTALMENT_VERSION_sum_min: string (nullable = true)\n",
      " |-- previous_loans_CHANNEL_TYPE_Country-wide_count_norm: string (nullable = true)\n",
      " |-- client_cash_NAME_CONTRACT_STATUS_Signed_count_sum: string (nullable = true)\n",
      " |-- AMT_REQ_CREDIT_BUREAU_YEAR: string (nullable = true)\n",
      " |-- bureau_CREDIT_TYPE_Microloan_count: string (nullable = true)\n",
      " |-- NAME_INCOME_TYPE_State servant: string (nullable = true)\n",
      " |-- client_credit_AMT_CREDIT_LIMIT_ACTUAL_sum_max: string (nullable = true)\n",
      " |-- previous_loans_DAYS_TERMINATION_max: string (nullable = true)\n",
      " |-- client_credit_AMT_PAYMENT_TOTAL_CURRENT_max_max: string (nullable = true)\n",
      " |-- FLAG_WORK_PHONE: string (nullable = true)\n",
      " |-- previous_loans_NAME_GOODS_CATEGORY_Photo / Cinema Equipment_count_norm: string (nullable = true)\n",
      " |-- previous_loans_WEEKDAY_APPR_PROCESS_START_FRIDAY_count_norm: string (nullable = true)\n",
      " |-- previous_loans_WEEKDAY_APPR_PROCESS_START_THURSDAY_count: string (nullable = true)\n",
      " |-- ORGANIZATION_TYPE_Military: string (nullable = true)\n",
      " |-- previous_loans_PRODUCT_COMBINATION_POS household with interest_count_norm: string (nullable = true)\n",
      " |-- client_installments_NUM_INSTALMENT_VERSION_min_sum: string (nullable = true)\n",
      " |-- client_credit_SK_DPD_mean_mean: string (nullable = true)\n",
      " |-- FLOORSMIN_AVG: string (nullable = true)\n",
      " |-- client_bureau_balance_STATUS_C_count_max: string (nullable = true)\n",
      " |-- client_cash_NAME_CONTRACT_STATUS_Completed_count_norm_sum: string (nullable = true)\n",
      " |-- client_credit_CNT_INSTALMENT_MATURE_CUM_max_mean: string (nullable = true)\n",
      " |-- FLAG_DOCUMENT_16: string (nullable = true)\n",
      " |-- client_bureau_balance_STATUS_1_count_norm_max: string (nullable = true)\n",
      " |-- previous_loans_NAME_TYPE_SUITE_Spouse, partner_count_norm: string (nullable = true)\n",
      " |-- client_bureau_balance_STATUS_1_count_mean: string (nullable = true)\n",
      " |-- client_cash_NAME_CONTRACT_STATUS_Returned to the store_count_sum: string (nullable = true)\n",
      " |-- bureau_AMT_ANNUITY_min: string (nullable = true)\n",
      " |-- client_bureau_balance_STATUS_1_count_max: string (nullable = true)\n",
      " |-- ORGANIZATION_TYPE_Industry: type 9: string (nullable = true)\n",
      " |-- AMT_REQ_CREDIT_BUREAU_MON: string (nullable = true)\n",
      " |-- previous_loans_NAME_CONTRACT_STATUS_Approved_count: string (nullable = true)\n",
      " |-- client_credit_AMT_TOTAL_RECEIVABLE_sum_min: string (nullable = true)\n",
      " |-- bureau_CREDIT_ACTIVE_Sold_count_norm: string (nullable = true)\n",
      " |-- previous_loans_NAME_GOODS_CATEGORY_Mobile_count_norm: string (nullable = true)\n",
      " |-- client_credit_CNT_DRAWINGS_ATM_CURRENT_sum_sum: string (nullable = true)\n",
      " |-- client_credit_AMT_DRAWINGS_CURRENT_max_sum: string (nullable = true)\n",
      " |-- bureau_AMT_CREDIT_SUM_OVERDUE_mean: string (nullable = true)\n",
      " |-- previous_loans_NAME_SELLER_INDUSTRY_Construction_count_norm: string (nullable = true)\n",
      " |-- previous_loans_CODE_REJECT_REASON_SCOFR_count_norm: string (nullable = true)\n",
      " |-- previous_loans_NAME_SELLER_INDUSTRY_Furniture_count_norm: string (nullable = true)\n",
      " |-- client_credit_CNT_DRAWINGS_CURRENT_sum_sum: string (nullable = true)\n",
      " |-- client_cash_NAME_CONTRACT_STATUS_Active_count_norm_max: string (nullable = true)\n",
      " |-- previous_loans_NAME_GOODS_CATEGORY_Construction Materials_count_norm: string (nullable = true)\n",
      " |-- client_bureau_balance_STATUS_1_count_norm_sum: string (nullable = true)\n",
      " |-- previous_loans_PRODUCT_COMBINATION_Cash Street: middle_count_norm: string (nullable = true)\n",
      " |-- previous_loans_PRODUCT_COMBINATION_POS other with interest_count_norm: string (nullable = true)\n",
      " |-- client_cash_CNT_INSTALMENT_min_min: string (nullable = true)\n",
      " |-- previous_loans_CODE_REJECT_REASON_VERIF_count_norm: string (nullable = true)\n",
      " |-- previous_loans_CODE_REJECT_REASON_LIMIT_count_norm: string (nullable = true)\n",
      " |-- client_bureau_balance_STATUS_X_count_norm_sum: string (nullable = true)\n",
      " |-- previous_loans_PRODUCT_COMBINATION_Cash_count_norm: string (nullable = true)\n",
      " |-- client_bureau_balance_STATUS_X_count_min: string (nullable = true)\n",
      " |-- previous_loans_NAME_GOODS_CATEGORY_Consumer Electronics_count_norm: string (nullable = true)\n",
      " |-- client_credit_AMT_CREDIT_LIMIT_ACTUAL_min_min: string (nullable = true)\n",
      " |-- client_bureau_balance_STATUS_X_count_norm_max: string (nullable = true)\n",
      " |-- previous_loans_CHANNEL_TYPE_Regional / Local_count_norm: string (nullable = true)\n",
      " |-- previous_loans_WEEKDAY_APPR_PROCESS_START_SUNDAY_count: string (nullable = true)\n",
      " |-- client_credit_AMT_RECEIVABLE_PRINCIPAL_sum_sum: string (nullable = true)\n",
      " |-- client_bureau_balance_MONTHS_BALANCE_max_min: string (nullable = true)\n",
      " |-- FLAG_DOCUMENT_13: string (nullable = true)\n",
      " |-- previous_loans_CODE_REJECT_REASON_CLIENT_count_norm: string (nullable = true)\n",
      " |-- client_bureau_balance_STATUS_X_count_sum: string (nullable = true)\n",
      " |-- client_credit_AMT_DRAWINGS_CURRENT_mean_sum: string (nullable = true)\n",
      " |-- client_credit_NAME_CONTRACT_STATUS_Completed_count_norm_mean: string (nullable = true)\n",
      " |-- client_bureau_balance_STATUS_0_count_min: string (nullable = true)\n",
      " |-- previous_loans_NAME_YIELD_GROUP_middle_count: string (nullable = true)\n",
      " |-- previous_loans_NAME_CONTRACT_TYPE_Revolving loans_count_norm: string (nullable = true)\n",
      " |-- previous_loans_NAME_PRODUCT_TYPE_XNA_count: string (nullable = true)\n",
      " |-- previous_loans_NAME_GOODS_CATEGORY_Jewelry_count_norm: string (nullable = true)\n",
      " |-- WALLSMATERIAL_MODE_Stone, brick: string (nullable = true)\n",
      " |-- previous_loans_NAME_SELLER_INDUSTRY_Consumer electronics_count_norm: string (nullable = true)\n",
      " |-- previous_loans_CNT_PAYMENT_min: string (nullable = true)\n",
      " |-- previous_loans_NAME_YIELD_GROUP_high_count: string (nullable = true)\n",
      " |-- NAME_FAMILY_STATUS_Separated: string (nullable = true)\n",
      " |-- NAME_HOUSING_TYPE_House / apartment: string (nullable = true)\n",
      " |-- client_credit_AMT_BALANCE_min_sum: string (nullable = true)\n",
      " |-- client_cash_NAME_CONTRACT_STATUS_Signed_count_norm_mean: string (nullable = true)\n",
      " |-- previous_loans_NAME_CONTRACT_STATUS_Refused_count: string (nullable = true)\n"
     ]
    },
    {
     "name": "stdout",
     "output_type": "stream",
     "text": [
      " |-- previous_loans_PRODUCT_COMBINATION_Card Street_count_norm: string (nullable = true)\n",
      " |-- client_installments_NUM_INSTALMENT_NUMBER_max_min: string (nullable = true)\n",
      " |-- client_credit_AMT_PAYMENT_CURRENT_min_sum: string (nullable = true)\n",
      " |-- previous_loans_PRODUCT_COMBINATION_POS industry without interest_count_norm: string (nullable = true)\n",
      " |-- previous_loans_CHANNEL_TYPE_Regional / Local_count: string (nullable = true)\n",
      " |-- ORGANIZATION_TYPE_Transport: type 3: string (nullable = true)\n",
      " |-- client_cash_NAME_CONTRACT_STATUS_Returned to the store_count_norm_max: string (nullable = true)\n",
      " |-- ORGANIZATION_TYPE_School: string (nullable = true)\n",
      " |-- previous_loans_NAME_TYPE_SUITE_Other_B_count_norm: string (nullable = true)\n",
      " |-- bureau_CNT_CREDIT_PROLONG_mean: string (nullable = true)\n",
      " |-- client_credit_AMT_DRAWINGS_CURRENT_max_max: string (nullable = true)\n",
      " |-- client_bureau_balance_MONTHS_BALANCE_max_sum: string (nullable = true)\n",
      " |-- client_cash_NAME_CONTRACT_STATUS_Active_count_min: string (nullable = true)\n",
      " |-- WEEKDAY_APPR_PROCESS_START_WEDNESDAY: string (nullable = true)\n",
      " |-- OCCUPATION_TYPE_High skill tech staff: string (nullable = true)\n",
      " |-- previous_loans_NAME_PAYMENT_TYPE_XNA_count: string (nullable = true)\n",
      " |-- FLAG_PHONE: string (nullable = true)\n",
      " |-- TARGET: string (nullable = true)\n",
      " |-- SK_ID_CURR: string (nullable = true)\n",
      "\n"
     ]
    }
   ],
   "source": [
    "//take a look at features in dataset (...361 of them) [Sean]\n",
    "creditRiskdf1.printSchema()"
   ]
  },
  {
   "cell_type": "code",
   "execution_count": 7,
   "metadata": {},
   "outputs": [
    {
     "data": {
      "text/plain": [
       "creditRiskFeatures: Array[String] = Array(EXT_SOURCE_1, EXT_SOURCE_2, EXT_SOURCE_3, client_installments_AMT_PAYMENT_min_sum, DAYS_BIRTH, AMT_CREDIT, AMT_ANNUITY, DAYS_EMPLOYED, bureau_DAYS_CREDIT_ENDDATE_max, bureau_DAYS_CREDIT_max, DAYS_ID_PUBLISH, bureau_AMT_CREDIT_MAX_OVERDUE_mean, bureau_DAYS_ENDDATE_FACT_max, bureau_AMT_CREDIT_SUM_DEBT_mean, OWN_CAR_AGE, previous_loans_CNT_PAYMENT_mean, client_cash_CNT_INSTALMENT_FUTURE_min_max, previous_loans_SELLERPLACE_AREA_max, DAYS_LAST_PHONE_CHANGE, bureau_AMT_CREDIT_SUM_max, bureau_AMT_CREDIT_SUM_mean, DAYS_REGISTRATION, client_installments_DAYS_INSTALMENT_max_max, previous_loans_AMT_DOWN_PAYMENT_max, CODE_GENDER_F, REGION_POPULATION_RELATIVE, client_cash_CNT_INSTALMENT_max_mean, bureau_DAYS_CREDIT_UPDATE_max, bureau_AMT_CREDIT_SUM_sum, clie..."
      ]
     },
     "execution_count": 7,
     "metadata": {},
     "output_type": "execute_result"
    }
   ],
   "source": [
    "//string array of features to pass through EDA functions [Sean]\n",
    "val creditRiskFeatures = creditRiskdf1.columns"
   ]
  },
  {
   "cell_type": "code",
   "execution_count": 6,
   "metadata": {},
   "outputs": [
    {
     "name": "stdout",
     "output_type": "stream",
     "text": [
      "+-------+------------------+\n",
      "|summary|        SK_ID_CURR|\n",
      "+-------+------------------+\n",
      "|  count|            307511|\n",
      "|   mean|278180.51857657125|\n",
      "| stddev| 102790.1753484249|\n",
      "|    min|            100002|\n",
      "|    max|            456255|\n",
      "+-------+------------------+\n",
      "\n"
     ]
    }
   ],
   "source": [
    "//ID col summary (min to max) & number of rows [Sean]\n",
    "creditRiskdf1.describe(creditRiskFeatures(360)).show()"
   ]
  },
  {
   "cell_type": "markdown",
   "metadata": {},
   "source": [
    "## Split and allocate features for data cleaning task execution"
   ]
  },
  {
   "cell_type": "code",
   "execution_count": 8,
   "metadata": {},
   "outputs": [
    {
     "data": {
      "text/plain": [
       "creditRiskFeatures1: Array[String] = Array(EXT_SOURCE_1, EXT_SOURCE_2, EXT_SOURCE_3, client_installments_AMT_PAYMENT_min_sum, DAYS_BIRTH, AMT_CREDIT, AMT_ANNUITY, DAYS_EMPLOYED, bureau_DAYS_CREDIT_ENDDATE_max, bureau_DAYS_CREDIT_max, DAYS_ID_PUBLISH, bureau_AMT_CREDIT_MAX_OVERDUE_mean, bureau_DAYS_ENDDATE_FACT_max, bureau_AMT_CREDIT_SUM_DEBT_mean, OWN_CAR_AGE, previous_loans_CNT_PAYMENT_mean, client_cash_CNT_INSTALMENT_FUTURE_min_max, previous_loans_SELLERPLACE_AREA_max, DAYS_LAST_PHONE_CHANGE, bureau_AMT_CREDIT_SUM_max, bureau_AMT_CREDIT_SUM_mean, DAYS_REGISTRATION, client_installments_DAYS_INSTALMENT_max_max, previous_loans_AMT_DOWN_PAYMENT_max, CODE_GENDER_F, REGION_POPULATION_RELATIVE, client_cash_CNT_INSTALMENT_max_mean, bureau_DAYS_CREDIT_UPDATE_max, bureau_AMT_CREDIT_SUM_sum, cli..."
      ]
     },
     "execution_count": 8,
     "metadata": {},
     "output_type": "execute_result"
    }
   ],
   "source": [
    "//split and allocate features for down stream cleaning [Sean]\n",
    "var creditRiskFeatures1 = creditRiskFeatures.slice(0,120)\n",
    "var creditRiskFeatures2 = creditRiskFeatures.slice(121,240)\n",
    "var creditRiskFeatures3 = creditRiskFeatures.slice(241,360)\n",
    "//create partitioned DFs for downstream cleaning [Sean]\n",
    "//unpack array of column headers as strings\n",
    "var creditRiskPartition1 = creditRiskdf1.select(creditRiskFeatures1.head, creditRiskFeatures1.tail: _*)\n",
    "var creditRiskPartition2 = creditRiskdf1.select(creditRiskFeatures2.head, creditRiskFeatures2.tail: _*)\n",
    "var creditRiskPartition3 = creditRiskdf1.select(creditRiskFeatures3.head, creditRiskFeatures3.tail: _*)"
   ]
  },
  {
   "cell_type": "markdown",
   "metadata": {},
   "source": [
    "### As the full dataset is huge, the codes require significant processing time and therefore are not conducive for review by the teaching team.  From here on, the codes will be run using a subset of the main dataset for the purpose of demonstrating functionality. Note that the data cleansing was performed on the full dataset and yielded 3 cleansed dataset (see report). To reperform the full data cleansing, remove the cell block below."
   ]
  },
  {
   "cell_type": "code",
   "execution_count": 8,
   "metadata": {},
   "outputs": [
    {
     "data": {
      "text/plain": [
       "creditRiskdf: org.apache.spark.sql.Dataset[org.apache.spark.sql.Row] = [EXT_SOURCE_1: string, EXT_SOURCE_2: string ... 359 more fields]\n",
       "creditRiskFeatures: Array[String] = Array(EXT_SOURCE_1, EXT_SOURCE_2, EXT_SOURCE_3, client_installments_AMT_PAYMENT_min_sum, DAYS_BIRTH, AMT_CREDIT, AMT_ANNUITY, DAYS_EMPLOYED, bureau_DAYS_CREDIT_ENDDATE_max, bureau_DAYS_CREDIT_max, DAYS_ID_PUBLISH, bureau_AMT_CREDIT_MAX_OVERDUE_mean, bureau_DAYS_ENDDATE_FACT_max, bureau_AMT_CREDIT_SUM_DEBT_mean, OWN_CAR_AGE, previous_loans_CNT_PAYMENT_mean, client_cash_CNT_INSTALMENT_FUTURE_min_max, previous_loans_SELLERPLACE_AREA_max, DAYS_LAST_PHONE_CHANGE, bureau_AMT_CREDIT_SUM_max, bureau_AMT_CREDIT_SUM_mean, DAYS_REGISTRATION, client_installments_DAYS_INSTALMENT_max_max, previous_loans_AMT_DOWN_PAYMENT_max, CODE_G..."
      ]
     },
     "execution_count": 8,
     "metadata": {},
     "output_type": "execute_result"
    }
   ],
   "source": [
    "//subset of main dataset with 10% of rows [Sean]\n",
    "//SUBSET OF MAIN DATA USED TO SHOW HOW CODE WORKS & COMPUTE IN A MORE TIMELY MANNER\n",
    "//FOR ACTUAL DATA PREPARATION REMOVE THIS LINE AND RE-RUN NOTEBOOK\n",
    "val creditRiskdf = creditRiskdf1.sample(false, 0.1)\n",
    "val creditRiskFeatures = creditRiskdf.columns"
   ]
  },
  {
   "cell_type": "markdown",
   "metadata": {},
   "source": [
    "## flagging missing values:"
   ]
  },
  {
   "cell_type": "code",
   "execution_count": null,
   "metadata": {},
   "outputs": [],
   "source": [
    "//create DF of features & count of nulls\n",
    "//set threshold e.g if 20% of values = null, drop column\n",
    "//**EXTENTION** Impute values to replace null, will have to review feature properties ***IF WE HAVE TIME***\n",
    "\n",
    "//sum count of int for null values [Lin]"
   ]
  },
  {
   "cell_type": "code",
   "execution_count": 10,
   "metadata": {},
   "outputs": [
    {
     "data": {
      "text/plain": [
       "df: org.apache.spark.sql.Dataset[org.apache.spark.sql.Row] = [EXT_SOURCE_1: string, EXT_SOURCE_2: string ... 359 more fields]\n"
      ]
     },
     "execution_count": 10,
     "metadata": {},
     "output_type": "execute_result"
    }
   ],
   "source": [
    "val df = creditRiskdf"
   ]
  },
  {
   "cell_type": "code",
   "execution_count": 11,
   "metadata": {},
   "outputs": [
    {
     "name": "stdout",
     "output_type": "stream",
     "text": [
      "2019-05-26 15:48:41,108 WARN  [Thread-4] util.Utils (Logging.scala:logWarning(66)) - Truncated the string representation of a plan since it was too large. This behavior can be adjusted by setting 'spark.debug.maxToStringFields' in SparkEnv.conf.\n"
     ]
    },
    {
     "data": {
      "text/plain": [
       "res2: Long = 30283\n"
      ]
     },
     "execution_count": 11,
     "metadata": {},
     "output_type": "execute_result"
    }
   ],
   "source": [
    "df.count()"
   ]
  },
  {
   "cell_type": "markdown",
   "metadata": {},
   "source": [
    "Check the percentage of NotNull value of each column:"
   ]
  },
  {
   "cell_type": "code",
   "execution_count": 12,
   "metadata": {},
   "outputs": [
    {
     "data": {
      "text/plain": [
       "df4: org.apache.spark.sql.DataFrame = [EXT_SOURCE_1: double, EXT_SOURCE_2: double ... 359 more fields]\n"
      ]
     },
     "execution_count": 12,
     "metadata": {},
     "output_type": "execute_result"
    }
   ],
   "source": [
    "val df4=df.select(df.columns.map(c => (count(c) / count(\"*\")).alias(c)): _*)"
   ]
  },
  {
   "cell_type": "code",
   "execution_count": 13,
   "metadata": {},
   "outputs": [
    {
     "name": "stdout",
     "output_type": "stream",
     "text": [
      "+-------------------+-----------------+------------------+---------------------------------------+----------+----------+------------------+-------------+------------------------------+----------------------+---------------+----------------------------------+----------------------------+-------------------------------+-------------------+-------------------------------+-----------------------------------------+-----------------------------------+----------------------+-------------------------+--------------------------+-----------------+-------------------------------------------+-----------------------------------+-------------+--------------------------+-----------------------------------+-----------------------------+-------------------------+-------------------------------------------+---------------------------+---------------------------------------------------+-----------------------+----------------------------------------+-------------------------------------------+------------------------------------------------------+------------------------------------------+------------------------------------------+------------------------------------------+------------------------------------+---------------------------------------------------+----------------------+-----------------------------------------------+------------------------------------+------------------+----------------------------------------------+---------------------------------+------------------------------+--------------------------------+------------------+-------------------------------------------+--------------------------------+----------------------+--------------------------------------------+--------------------------------------------------------------+-------------------------------------------+-------------------+------------------------------+-------------------------+------------------------------------+--------------------------+------------------------------+-------------------------------------------+----------------+--------------------------------+-----------------------------------+------------------------------------+-----------------------------------+-------------------------------+--------------------+----------------------------------+----------------------------+------------------------------+-------------------------------+---------------------------------------+------------------------------------------+---------------------------------------+--------------------------------------+------------------------------+------------------------------+------------------------------------+-----------------------------------------------------+---------------------------------------------------------------+------------------------------+---------------------------------+-----------------------------------------------------+-----------------------+-------------------------------------------+----------------------------------+------------------+----------------------------------+--------------------------------------+-----------------------------+------------------------+---------------+-----------------------------+-------------------------------+--------------------------+-----------------------------------+---------------------------------------+---------------------------------------------------+--------------------------------------------+------------------------------------------+-------------------------------------------------------+-------------------------------------------------------+--------------------------------------------------+----------------------------------+----------------------------------------------+---------------------------------------------+----------------------------------------+----------------------+-------------------------------------------------------+-----------------------------------+-----------------------------------+------------------------------------------+------------------------------+----------------------------------------+---------------------------------+------------------+--------------------------------------------------------------+---------------------------------------------+-----------------------+--------------------------------------------+------------------+---------------------------------------------+------------------------------------------+-----------------------------------------------+---------------------------------------------------+------------------------------+-----------------------------------+------------------------------+---------------------------------+--------------------------------+------------------------------------------------------------------------+------------------+-----------------------------------------------+----------------------------------+----------------------------------------------+-----------------------------+----------------------------------------------------+---------------------------------------------+---------------------------------------------------------------+-------------------------------------+------------------------------+-----------------------------+------------------------------------------+----------------------------------+--------------------------------------------------+------------------------------------+--------------------------------------------+--------------------------------------------------+------------------------------------------------+------------------------------------+-----------------------------------------------+-----------------------------------------+-----------------------------------------------+-----------------------------------------------+----------------------+-----------------------------------------+----------------------------------+----------------------------------------------+-------------------+---------------------------------------------+------------------------+------------------------------------------+---------------------------------------------------+----------------+-----------------------------------------+-----------------------------------------+--------------------------------------------------------------+-----------------------------------------------------+--------------------------------------+--------------------------------------------+----------------------------------------------+--------------------------------------------------+------------------------------------------------------------+----------------------------------------+-------------------------------------------------------+---------------------------------------------------------+-------------------------+------------------------+------------------------------------------------------+-----------------------------------------------+-----------------------------------+---------------------------------------+-----------------------------------+-----------------------------------------------------------------+----------------------------------------------+-----------------------------------------------------------+----------------------------------------------+--------------------------------------------+-----------------------------------------+-------------------------------------------------+----------------------------------------+--------------------------------------------+--------------------------+----------------------------------------------+-------------------------------------------------+----------------------------------------------------------+-----------------------------------------+---------------------------------+----------------------+----------------------------------------+---------------------------------+-------------------------------+---------------------------------------------+---------------------------------+--------------------------------------------------------------+---------------------------------------------+---------------------------------------------------+----------------------------------------------------+------------------------------------------------+-------------------------------------------------------+----------------------------------------------+----------------------------------------------------------------------------+-----------------------------------------------+---------------------------------------------+------------------------------------+---------------------------------------------+-------------------------------+--------------------------------------------------+------------------+-----------------------+-----------------------------------------------------------+-------------------------------------------------------------+----------------------------------------------+-----------------------+------------------------------------------------------+---------------------------------------------------+----------------------------------------------+---------------------------------------------+---------------------------------------------------------+---------------------------+----------------------------------------------------------------------+------------------------+--------------------------------------------------+-----------------------------------------+-------------------------------------------------+------------------------------------------+-----------------------------------------+--------------------------------------------+---------------------------------------------------+-----------------------------------------------------------+------------------------------------+---------------------------------------------+-------------------------------------------------------+---------------------------------------------+-----------------------+---------------------------------------------+------------------------------------------+---------------------------------------------+------------------------------------------------------+------------------------+----------------------------------+-------------------------------------------------------------+------------------------------+-------------------------------------------------+------------------------------+-------------------------------------------------------+--------------------------------------+----------------------------------------------+-----------------------------------------------------------------+------------------------------------------------------+---------------------------------------------+--------------------------------------------------+---------------------------------------------------+-------------------------------------------------+--------------------------+----------------------------------+------------------------------+---------------------------------------------+-----------------------------------+-----------------------------------------------+---------------+----------------------------------------------------------------------+-----------------------------------------------------------+--------------------------------------------------------+--------------------------+-------------------------------------------------------------------------+--------------------------------------------------+------------------------------+------------------+----------------------------------------+---------------------------------------------------------+------------------------------------------------+----------------+---------------------------------------------+---------------------------------------------------------+-----------------------------------------+----------------------------------------------------------------+----------------------+----------------------------------------+----------------------------------+-------------------------+--------------------------------------------------+------------------------------------------+------------------------------------+----------------------------------------------------+----------------------------------------------+------------------------------------------+----------------------------------+-----------------------------------------------------------+--------------------------------------------------+--------------------------------------------------------+------------------------------------------+------------------------------------------------------+--------------------------------------------------------------------+---------------------------------------------+-----------------------------------------------------------------+---------------------------------------------------------------------+----------------------------------+--------------------------------------------------+--------------------------------------------------+---------------------------------------------+--------------------------------------------------+----------------------------------------+------------------------------------------------------------------+---------------------------------------------+---------------------------------------------+-------------------------------------------------------+------------------------------------------------------+----------------------------------------------+--------------------------------------------+----------------+---------------------------------------------------+----------------------------------------+-------------------------------------------+------------------------------------------------------------+----------------------------------------+--------------------------------------------+------------------------------------------------------------+------------------------------------------+-----------------------------------------------------+-------------------------------+-------------------------------------------------------------------+------------------------------+------------------------------------------+----------------------------+-----------------------------------+---------------------------------+-------------------------------------------------------+-------------------------------------------------+---------------------------------------------------------+-------------------------------------------------+-----------------------------------------+---------------------------------------------------------------------------+--------------------------------------------------+-----------------------------------+---------------------------------------------------------------------+------------------------+-------------------------------------------------+------------------------------+------------------------------------------+--------------------------------------------+-------------------------------------------------+------------------------------------+-------------------------------------+------------------------------------------+----------+------+----------+\n"
     ]
    },
    {
     "name": "stdout",
     "output_type": "stream",
     "text": [
      "|       EXT_SOURCE_1|     EXT_SOURCE_2|      EXT_SOURCE_3|client_installments_AMT_PAYMENT_min_sum|DAYS_BIRTH|AMT_CREDIT|       AMT_ANNUITY|DAYS_EMPLOYED|bureau_DAYS_CREDIT_ENDDATE_max|bureau_DAYS_CREDIT_max|DAYS_ID_PUBLISH|bureau_AMT_CREDIT_MAX_OVERDUE_mean|bureau_DAYS_ENDDATE_FACT_max|bureau_AMT_CREDIT_SUM_DEBT_mean|        OWN_CAR_AGE|previous_loans_CNT_PAYMENT_mean|client_cash_CNT_INSTALMENT_FUTURE_min_max|previous_loans_SELLERPLACE_AREA_max|DAYS_LAST_PHONE_CHANGE|bureau_AMT_CREDIT_SUM_max|bureau_AMT_CREDIT_SUM_mean|DAYS_REGISTRATION|client_installments_DAYS_INSTALMENT_max_max|previous_loans_AMT_DOWN_PAYMENT_max|CODE_GENDER_F|REGION_POPULATION_RELATIVE|client_cash_CNT_INSTALMENT_max_mean|bureau_DAYS_CREDIT_UPDATE_max|bureau_AMT_CREDIT_SUM_sum|client_credit_AMT_DRAWINGS_CURRENT_mean_max|YEARS_BEGINEXPLUATATION_AVG|client_installments_NUM_INSTALMENT_VERSION_mean_max|bureau_DAYS_CREDIT_mean|client_installments_AMT_PAYMENT_sum_mean|client_installments_DAYS_INSTALMENT_min_max|previous_loans_NAME_CONTRACT_STATUS_Refused_count_norm|client_credit_CNT_DRAWINGS_CURRENT_max_max|client_installments_AMT_INSTALMENT_max_max|client_cash_CNT_INSTALMENT_FUTURE_min_mean|client_credit_AMT_RECIVABLE_mean_min|client_installments_NUM_INSTALMENT_VERSION_max_mean|bureau_DAYS_CREDIT_min|previous_loans_NAME_YIELD_GROUP_high_count_norm|previous_loans_RATE_DOWN_PAYMENT_sum|  BASEMENTAREA_AVG|client_installments_DAYS_ENTRY_PAYMENT_sum_max|previous_loans_DAYS_FIRST_DUE_min|client_cash_SK_DPD_DEF_sum_max|previous_loans_DAYS_DECISION_max|      LANDAREA_AVG|client_installments_AMT_INSTALMENT_min_mean|bureau_AMT_CREDIT_SUM_LIMIT_mean|bureau_DAYS_CREDIT_sum|previous_loans_DAYS_LAST_DUE_1ST_VERSION_max|previous_loans_PRODUCT_COMBINATION_Cash X-Sell: low_count_norm|previous_loans_HOUR_APPR_PROCESS_START_mean|     APARTMENTS_AVG|bureau_AMT_CREDIT_SUM_DEBT_max|bureau_AMT_CREDIT_SUM_min|previous_loans_AMT_DOWN_PAYMENT_mean|NAME_FAMILY_STATUS_Married|previous_loans_CNT_PAYMENT_max|client_installments_AMT_INSTALMENT_mean_min|AMT_INCOME_TOTAL|previous_loans_DAYS_LAST_DUE_sum|client_cash_MONTHS_BALANCE_max_mean|NAME_EDUCATION_TYPE_Higher education|client_cash_MONTHS_BALANCE_sum_mean|bureau_DAYS_CREDIT_ENDDATE_mean|REGION_RATING_CLIENT|previous_loans_AMT_GOODS_PRICE_min|bureau_DAYS_ENDDATE_FACT_min|bureau_DAYS_CREDIT_ENDDATE_min|previous_loans_AMT_ANNUITY_mean|client_installments_AMT_PAYMENT_max_min|client_installments_AMT_INSTALMENT_min_max|client_installments_AMT_PAYMENT_sum_min|bureau_CREDIT_TYPE_Mortgage_count_norm|previous_loans_AMT_ANNUITY_max|previous_loans_AMT_ANNUITY_min|previous_loans_RATE_DOWN_PAYMENT_max|previous_loans_NAME_YIELD_GROUP_low_normal_count_norm|previous_loans_PRODUCT_COMBINATION_Cash X-Sell: high_count_norm|bureau_DAYS_CREDIT_ENDDATE_sum|bureau_CREDIT_ACTIVE_Active_count|previous_loans_NAME_YIELD_GROUP_low_action_count_norm|client_cash_counts_mean|client_installments_AMT_INSTALMENT_mean_max|client_cash_MONTHS_BALANCE_sum_max| NONLIVINGAREA_AVG|client_cash_CNT_INSTALMENT_sum_min|bureau_CREDIT_ACTIVE_Active_count_norm|bureau_DAYS_CREDIT_UPDATE_min|DEF_60_CNT_SOCIAL_CIRCLE|FLAG_DOCUMENT_3|bureau_DAYS_ENDDATE_FACT_mean|bureau_AMT_CREDIT_SUM_LIMIT_max|client_cash_SK_DPD_max_sum|previous_loans_AMT_GOODS_PRICE_mean|client_installments_AMT_PAYMENT_max_sum|client_installments_NUM_INSTALMENT_VERSION_sum_mean|client_bureau_balance_MONTHS_BALANCE_sum_min|client_installments_AMT_INSTALMENT_min_min|previous_loans_NAME_TYPE_SUITE_Unaccompanied_count_norm|client_cash_NAME_CONTRACT_STATUS_Active_count_norm_mean|client_installments_NUM_INSTALMENT_NUMBER_max_mean|client_cash_CNT_INSTALMENT_max_max|client_installments_DAYS_ENTRY_PAYMENT_max_min|client_bureau_balance_STATUS_C_count_norm_max|client_installments_AMT_PAYMENT_max_mean|client_cash_counts_sum|previous_loans_NAME_CONTRACT_STATUS_Approved_count_norm|client_cash_CNT_INSTALMENT_min_mean|client_cash_CNT_INSTALMENT_mean_min|client_installments_AMT_INSTALMENT_sum_max|previous_loans_AMT_ANNUITY_sum|client_installments_AMT_PAYMENT_mean_sum|previous_loans_DAYS_DECISION_mean|     FLOORSMAX_AVG|previous_loans_PRODUCT_COMBINATION_Cash Street: low_count_norm|previous_loans_DAYS_LAST_DUE_1ST_VERSION_mean|HOUR_APPR_PROCESS_START|previous_loans_DAYS_LAST_DUE_1ST_VERSION_min|   YEARS_BUILD_AVG|bureau_CREDIT_TYPE_Consumer credit_count_norm|previous_loans_HOUR_APPR_PROCESS_START_max|previous_loans_CODE_REJECT_REASON_HC_count_norm|previous_loans_NAME_PRODUCT_TYPE_walk-in_count_norm|previous_loans_CNT_PAYMENT_sum|previous_loans_SELLERPLACE_AREA_min|bureau_DAYS_CREDIT_UPDATE_mean|previous_loans_DAYS_FIRST_DUE_sum|previous_loans_DAYS_DECISION_sum|previous_loans_PRODUCT_COMBINATION_POS industry with interest_count_norm|    COMMONAREA_AVG|client_credit_AMT_CREDIT_LIMIT_ACTUAL_mean_mean|client_cash_MONTHS_BALANCE_max_sum|client_bureau_balance_STATUS_X_count_norm_mean|previous_loans_AMT_CREDIT_min|previous_loans_NAME_CLIENT_TYPE_Refreshed_count_norm|client_bureau_balance_MONTHS_BALANCE_mean_sum|previous_loans_PRODUCT_COMBINATION_Cash Street: high_count_norm|previous_loans_RATE_DOWN_PAYMENT_mean|bureau_AMT_CREDIT_SUM_DEBT_min|NAME_CONTRACT_TYPE_Cash loans|client_installments_AMT_INSTALMENT_min_sum|previous_loans_AMT_APPLICATION_max|client_installments_NUM_INSTALMENT_VERSION_sum_max|previous_loans_RATE_DOWN_PAYMENT_min|client_installments_AMT_INSTALMENT_mean_mean|client_installments_NUM_INSTALMENT_VERSION_sum_sum|previous_loans_NAME_TYPE_SUITE_Family_count_norm|previous_loans_DAYS_TERMINATION_mean|client_credit_AMT_DRAWINGS_POS_CURRENT_mean_sum|client_cash_CNT_INSTALMENT_FUTURE_max_sum|previous_loans_NAME_PAYMENT_TYPE_XNA_count_norm|client_credit_CNT_DRAWINGS_ATM_CURRENT_sum_mean|bureau_AMT_ANNUITY_max|bureau_CREDIT_TYPE_Credit card_count_norm|previous_loans_DAYS_FIRST_DUE_mean|client_installments_DAYS_ENTRY_PAYMENT_min_sum|      ENTRANCES_AVG|client_bureau_balance_STATUS_0_count_norm_min|OBS_30_CNT_SOCIAL_CIRCLE|client_installments_AMT_INSTALMENT_sum_sum|client_installments_NUM_INSTALMENT_VERSION_mean_sum|FLAG_DOCUMENT_18|client_cash_CNT_INSTALMENT_FUTURE_min_sum|client_credit_AMT_PAYMENT_CURRENT_max_sum|previous_loans_CHANNEL_TYPE_Credit and cash offices_count_norm|previous_loans_CHANNEL_TYPE_Contact center_count_norm|bureau_CREDIT_TYPE_Car loan_count_norm|previous_loans_NAME_PORTFOLIO_POS_count_norm|client_credit_AMT_DRAWINGS_POS_CURRENT_sum_sum|client_installments_NUM_INSTALMENT_NUMBER_min_mean|previous_loans_WEEKDAY_APPR_PROCESS_START_TUESDAY_count_norm|client_bureau_balance_STATUS_0_count_max|previous_loans_NAME_GOODS_CATEGORY_Furniture_count_norm|client_cash_NAME_CONTRACT_STATUS_Completed_count_norm_max|AMT_REQ_CREDIT_BUREAU_QRT|NAME_INCOME_TYPE_Working|client_cash_NAME_CONTRACT_STATUS_Active_count_norm_min|client_credit_AMT_DRAWINGS_ATM_CURRENT_mean_sum|previous_loans_AMT_DOWN_PAYMENT_min|bureau_CREDIT_TYPE_Microloan_count_norm|previous_loans_DAYS_TERMINATION_min|previous_loans_CHANNEL_TYPE_Channel of corporate sales_count_norm|client_bureau_balance_STATUS_C_count_norm_mean|previous_loans_WEEKDAY_APPR_PROCESS_START_SUNDAY_count_norm|client_bureau_balance_STATUS_0_count_norm_mean|previous_loans_CHANNEL_TYPE_Stone_count_norm|client_bureau_balance_STATUS_0_count_mean|NAME_EDUCATION_TYPE_Secondary / secondary special|client_bureau_balance_STATUS_0_count_sum|client_bureau_balance_MONTHS_BALANCE_sum_max|OCCUPATION_TYPE_Core staff|client_bureau_balance_STATUS_1_count_norm_mean|previous_loans_NAME_YIELD_GROUP_middle_count_norm|client_cash_NAME_CONTRACT_STATUS_Completed_count_norm_mean|client_bureau_balance_STATUS_X_count_mean|bureau_AMT_CREDIT_SUM_OVERDUE_max|REG_CITY_NOT_LIVE_CITY|ORGANIZATION_TYPE_Business Entity Type 3|bureau_CREDIT_ACTIVE_Closed_count|ORGANIZATION_TYPE_Self-employed|previous_loans_NAME_PORTFOLIO_Cash_count_norm|client_credit_AMT_BALANCE_min_max|previous_loans_WEEKDAY_APPR_PROCESS_START_WEDNESDAY_count_norm|client_credit_AMT_CREDIT_LIMIT_ACTUAL_max_sum|client_installments_NUM_INSTALMENT_VERSION_mean_min|client_cash_NAME_CONTRACT_STATUS_Completed_count_sum|previous_loans_CODE_REJECT_REASON_SCO_count_norm|previous_loans_NAME_GOODS_CATEGORY_Computers_count_norm|previous_loans_NAME_YIELD_GROUP_XNA_count_norm|previous_loans_PRODUCT_COMBINATION_POS household without interest_count_norm|previous_loans_NAME_PRODUCT_TYPE_XNA_count_norm|client_bureau_balance_MONTHS_BALANCE_max_mean|client_credit_MONTHS_BALANCE_max_sum|client_bureau_balance_MONTHS_BALANCE_mean_min|bureau_AMT_CREDIT_SUM_LIMIT_min|previous_loans_NAME_PRODUCT_TYPE_x-sell_count_norm|     ELEVATORS_AVG|NONLIVINGAPARTMENTS_AVG|previous_loans_WEEKDAY_APPR_PROCESS_START_MONDAY_count_norm|previous_loans_WEEKDAY_APPR_PROCESS_START_SATURDAY_count_norm|previous_loans_NAME_CLIENT_TYPE_New_count_norm|bureau_AMT_ANNUITY_mean|previous_loans_CHANNEL_TYPE_AP+ (Cash loan)_count_norm|client_credit_NAME_CONTRACT_STATUS_Active_count_min|client_credit_AMT_DRAWINGS_POS_CURRENT_max_sum|previous_loans_NFLAG_INSURED_ON_APPROVAL_mean|previous_loans_NAME_GOODS_CATEGORY_Audio/Video_count_norm|client_cash_SK_DPD_mean_min|previous_loans_NAME_GOODS_CATEGORY_Clothing and Accessories_count_norm|DEF_30_CNT_SOCIAL_CIRCLE|client_installments_NUM_INSTALMENT_NUMBER_mean_min|client_bureau_balance_STATUS_C_count_mean|client_installments_NUM_INSTALMENT_NUMBER_sum_min|client_credit_CNT_DRAWINGS_CURRENT_max_sum|client_credit_AMT_PAYMENT_CURRENT_sum_sum|previous_loans_NAME_PORTFOLIO_XNA_count_norm|previous_loans_NAME_CLIENT_TYPE_Repeater_count_norm|previous_loans_NAME_SELLER_INDUSTRY_Connectivity_count_norm|bureau_CREDIT_TYPE_Credit card_count|client_credit_AMT_CREDIT_LIMIT_ACTUAL_sum_sum|previous_loans_NAME_CONTRACT_STATUS_Canceled_count_norm|client_bureau_balance_STATUS_0_count_norm_max|OCCUPATION_TYPE_Drivers|client_credit_AMT_CREDIT_LIMIT_ACTUAL_mi"
     ]
    },
    {
     "name": "stdout",
     "output_type": "stream",
     "text": [
      "n_sum|previous_loans_HOUR_APPR_PROCESS_START_min|client_credit_AMT_INST_MIN_REGULARITY_max_min|client_cash_NAME_CONTRACT_STATUS_Signed_count_norm_max|OCCUPATION_TYPE_Laborers|client_cash_CNT_INSTALMENT_min_max|previous_loans_WEEKDAY_APPR_PROCESS_START_THURSDAY_count_norm|ORGANIZATION_TYPE_Construction|client_cash_NAME_CONTRACT_STATUS_Active_count_max|client_cash_SK_DPD_DEF_sum_min|previous_loans_NAME_CONTRACT_TYPE_Cash loans_count_norm|previous_loans_DAYS_FIRST_DRAWING_mean|client_credit_CNT_DRAWINGS_ATM_CURRENT_max_sum|previous_loans_PRODUCT_COMBINATION_Cash X-Sell: middle_count_norm|previous_loans_NAME_CASH_LOAN_PURPOSE_Other_count_norm|client_bureau_balance_STATUS_0_count_norm_sum|client_installments_NUM_INSTALMENT_VERSION_sum_min|previous_loans_CHANNEL_TYPE_Country-wide_count_norm|client_cash_NAME_CONTRACT_STATUS_Signed_count_sum|AMT_REQ_CREDIT_BUREAU_YEAR|bureau_CREDIT_TYPE_Microloan_count|NAME_INCOME_TYPE_State servant|client_credit_AMT_CREDIT_LIMIT_ACTUAL_sum_max|previous_loans_DAYS_TERMINATION_max|client_credit_AMT_PAYMENT_TOTAL_CURRENT_max_max|FLAG_WORK_PHONE|previous_loans_NAME_GOODS_CATEGORY_Photo / Cinema Equipment_count_norm|previous_loans_WEEKDAY_APPR_PROCESS_START_FRIDAY_count_norm|previous_loans_WEEKDAY_APPR_PROCESS_START_THURSDAY_count|ORGANIZATION_TYPE_Military|previous_loans_PRODUCT_COMBINATION_POS household with interest_count_norm|client_installments_NUM_INSTALMENT_VERSION_min_sum|client_credit_SK_DPD_mean_mean|     FLOORSMIN_AVG|client_bureau_balance_STATUS_C_count_max|client_cash_NAME_CONTRACT_STATUS_Completed_count_norm_sum|client_credit_CNT_INSTALMENT_MATURE_CUM_max_mean|FLAG_DOCUMENT_16|client_bureau_balance_STATUS_1_count_norm_max|previous_loans_NAME_TYPE_SUITE_Spouse, partner_count_norm|client_bureau_balance_STATUS_1_count_mean|client_cash_NAME_CONTRACT_STATUS_Returned to the store_count_sum|bureau_AMT_ANNUITY_min|client_bureau_balance_STATUS_1_count_max|ORGANIZATION_TYPE_Industry: type 9|AMT_REQ_CREDIT_BUREAU_MON|previous_loans_NAME_CONTRACT_STATUS_Approved_count|client_credit_AMT_TOTAL_RECEIVABLE_sum_min|bureau_CREDIT_ACTIVE_Sold_count_norm|previous_loans_NAME_GOODS_CATEGORY_Mobile_count_norm|client_credit_CNT_DRAWINGS_ATM_CURRENT_sum_sum|client_credit_AMT_DRAWINGS_CURRENT_max_sum|bureau_AMT_CREDIT_SUM_OVERDUE_mean|previous_loans_NAME_SELLER_INDUSTRY_Construction_count_norm|previous_loans_CODE_REJECT_REASON_SCOFR_count_norm|previous_loans_NAME_SELLER_INDUSTRY_Furniture_count_norm|client_credit_CNT_DRAWINGS_CURRENT_sum_sum|client_cash_NAME_CONTRACT_STATUS_Active_count_norm_max|previous_loans_NAME_GOODS_CATEGORY_Construction Materials_count_norm|client_bureau_balance_STATUS_1_count_norm_sum|previous_loans_PRODUCT_COMBINATION_Cash Street: middle_count_norm|previous_loans_PRODUCT_COMBINATION_POS other with interest_count_norm|client_cash_CNT_INSTALMENT_min_min|previous_loans_CODE_REJECT_REASON_VERIF_count_norm|previous_loans_CODE_REJECT_REASON_LIMIT_count_norm|client_bureau_balance_STATUS_X_count_norm_sum|previous_loans_PRODUCT_COMBINATION_Cash_count_norm|client_bureau_balance_STATUS_X_count_min|previous_loans_NAME_GOODS_CATEGORY_Consumer Electronics_count_norm|client_credit_AMT_CREDIT_LIMIT_ACTUAL_min_min|client_bureau_balance_STATUS_X_count_norm_max|previous_loans_CHANNEL_TYPE_Regional / Local_count_norm|previous_loans_WEEKDAY_APPR_PROCESS_START_SUNDAY_count|client_credit_AMT_RECEIVABLE_PRINCIPAL_sum_sum|client_bureau_balance_MONTHS_BALANCE_max_min|FLAG_DOCUMENT_13|previous_loans_CODE_REJECT_REASON_CLIENT_count_norm|client_bureau_balance_STATUS_X_count_sum|client_credit_AMT_DRAWINGS_CURRENT_mean_sum|client_credit_NAME_CONTRACT_STATUS_Completed_count_norm_mean|client_bureau_balance_STATUS_0_count_min|previous_loans_NAME_YIELD_GROUP_middle_count|previous_loans_NAME_CONTRACT_TYPE_Revolving loans_count_norm|previous_loans_NAME_PRODUCT_TYPE_XNA_count|previous_loans_NAME_GOODS_CATEGORY_Jewelry_count_norm|WALLSMATERIAL_MODE_Stone, brick|previous_loans_NAME_SELLER_INDUSTRY_Consumer electronics_count_norm|previous_loans_CNT_PAYMENT_min|previous_loans_NAME_YIELD_GROUP_high_count|NAME_FAMILY_STATUS_Separated|NAME_HOUSING_TYPE_House / apartment|client_credit_AMT_BALANCE_min_sum|client_cash_NAME_CONTRACT_STATUS_Signed_count_norm_mean|previous_loans_NAME_CONTRACT_STATUS_Refused_count|previous_loans_PRODUCT_COMBINATION_Card Street_count_norm|client_installments_NUM_INSTALMENT_NUMBER_max_min|client_credit_AMT_PAYMENT_CURRENT_min_sum|previous_loans_PRODUCT_COMBINATION_POS industry without interest_count_norm|previous_loans_CHANNEL_TYPE_Regional / Local_count|ORGANIZATION_TYPE_Transport: type 3|client_cash_NAME_CONTRACT_STATUS_Returned to the store_count_norm_max|ORGANIZATION_TYPE_School|previous_loans_NAME_TYPE_SUITE_Other_B_count_norm|bureau_CNT_CREDIT_PROLONG_mean|client_credit_AMT_DRAWINGS_CURRENT_max_max|client_bureau_balance_MONTHS_BALANCE_max_sum|client_cash_NAME_CONTRACT_STATUS_Active_count_min|WEEKDAY_APPR_PROCESS_START_WEDNESDAY|OCCUPATION_TYPE_High skill tech staff|previous_loans_NAME_PAYMENT_TYPE_XNA_count|FLAG_PHONE|TARGET|SK_ID_CURR|\n",
      "+-------------------+-----------------+------------------+---------------------------------------+----------+----------+------------------+-------------+------------------------------+----------------------+---------------+----------------------------------+----------------------------+-------------------------------+-------------------+-------------------------------+-----------------------------------------+-----------------------------------+----------------------+-------------------------+--------------------------+-----------------+-------------------------------------------+-----------------------------------+-------------+--------------------------+-----------------------------------+-----------------------------+-------------------------+-------------------------------------------+---------------------------+---------------------------------------------------+-----------------------+----------------------------------------+-------------------------------------------+------------------------------------------------------+------------------------------------------+------------------------------------------+------------------------------------------+------------------------------------+---------------------------------------------------+----------------------+-----------------------------------------------+------------------------------------+------------------+----------------------------------------------+---------------------------------+------------------------------+--------------------------------+------------------+-------------------------------------------+--------------------------------+----------------------+--------------------------------------------+--------------------------------------------------------------+-------------------------------------------+-------------------+------------------------------+-------------------------+------------------------------------+--------------------------+------------------------------+-------------------------------------------+----------------+--------------------------------+-----------------------------------+------------------------------------+-----------------------------------+-------------------------------+--------------------+----------------------------------+----------------------------+------------------------------+-------------------------------+---------------------------------------+------------------------------------------+---------------------------------------+--------------------------------------+------------------------------+------------------------------+------------------------------------+-----------------------------------------------------+---------------------------------------------------------------+------------------------------+---------------------------------+-----------------------------------------------------+-----------------------+-------------------------------------------+----------------------------------+------------------+----------------------------------+--------------------------------------+-----------------------------+------------------------+---------------+-----------------------------+-------------------------------+--------------------------+-----------------------------------+---------------------------------------+---------------------------------------------------+--------------------------------------------+------------------------------------------+-------------------------------------------------------+-------------------------------------------------------+--------------------------------------------------+----------------------------------+----------------------------------------------+---------------------------------------------+----------------------------------------+----------------------+-------------------------------------------------------+-----------------------------------+-----------------------------------+------------------------------------------+------------------------------+----------------------------------------+---------------------------------+------------------+--------------------------------------------------------------+---------------------------------------------+-----------------------+--------------------------------------------+------------------+---------------------------------------------+------------------------------------------+-----------------------------------------------+---------------------------------------------------+------------------------------+-----------------------------------+------------------------------+---------------------------------+--------------------------------+------------------------------------------------------------------------+------------------+-----------------------------------------------+----------------------------------+----------------------------------------------+-----------------------------+----------------------------------------------------+---------------------------------------------+---------------------------------------------------------------+-------------------------------------+------------------------------+-----------------------------+------------------------------------------+----------------------------------+--------------------------------------------------+------------------------------------+--------------------------------------------+--------------------------------------------------+------------------------------------------------+------------------------------------+-----------------------------------------------+-----------------------------------------+-----------------------------------------------+-----------------------------------------------+----------------------+-----------------------------------------+----------------------------------+----------------------------------------------+-------------------+---------------------------------------------+------------------------+------------------------------------------+---------------------------------------------------+----------------+-----------------------------------------+-----------------------------------------+--------------------------------------------------------------+-----------------------------------------------------+--------------------------------------+--------------------------------------------+----------------------------------------------+--------------------------------------------------+------------------------------------------------------------+----------------------------------------+-------------------------------------------------------+---------------------------------------------------------+-------------------------+------------------------+------------------------------------------------------+-----------------------------------------------+-----------------------------------+---------------------------------------+-----------------------------------+-----------------------------------------------------------------+----------------------------------------------+-----------------------------------------------------------+----------------------------------------------+--------------------------------------------+-----------------------------------------+-------------------------------------------------+----------------------------------------+--------------------------------------------+--------------------------+----------------------------------------------+-------------------------------------------------+----------------------------------------------------------+-----------------------------------------+---------------------------------+----------------------+----------------------------------------+---------------------------------+-------------------------------+---------------------------------------------+---------------------------------+--------------------------------------------------------------+---------------------------------------------+---------------------------------------------------+----------------------------------------------------+------------------------------------------------+-------------------------------------------------------+----------------------------------------------+----------------------------------------------------------------------------+-----------------------------------------------+---------------------------------------------+------------------------------------+---------------------------------------------+-------------------------------+--------------------------------------------------+------------------+-----------------------+-----------------------------------------------------------+-------------------------------------------------------------+----------------------------------------------+-----------------------+------------------------------------------------------+---------------------------------------------------+----------------------------------------------+---------------------------------------------+---------------------------------------------------------+---------------------------+----------------------------------------------------------------------+------------------------+--------------------------------------------------+-----------------------------------------+-------------------------------------------------+------------------------------------------+-----------------------------------------+--------------------------------------------+---------------------------------------------------+-----------------------------------------------------------+------------------------------------+---------------------------------------------+-------------------------------------------------------+---------------------------------------------+-----------------------+---------------------------------------------+------------------------------------------+---------------------------------------------+------------------------------------------------------+------------------------+----------------------------------+-------------------------------------------------------------+------------------------------+-------------------------------------------------+------------------------------+-------------------------------------------------------+--------------------------------------+----------------------------------------------+-----------------------------------------------------------------+------------------------------------------------------+---------------------------------------------+--------------------------------------------------+---------------------------------------------------+-------------------------------------------------+--------------------------+----------------------------------+------------------------------+---------------------------------------------+-----------------------------------+-----------------------------------------------+---------------+----------------------------------------------------------------------+-----------------------------------------------------------+--------------------------------------------------------+--------------------------+-------------------------------------------------------------------------+--------------------------------------------------+------------------------------+------------------+----------------------------------------+---------------------------------------------------------+------------------------------------------------+----------------+---------------------------------------------+---------------------------------------------------------+-----------------------------------------+----------------------------------------------------------------+----------------------+----------------------------------------+----------------------------------+-------------------------+--------------------------------------------------+------------------------------------------+------------------------------------+----------------------------------------------------+----------------------------------------------+------------------------------------------+----------------------------------+-----------------------------------------------------------+--------------------------------------------------+--------------------------------------------------------+------------------------------------------+------------------------------------------------------+--------------------------------------------------------------------+---------------------------------------------+-----------------------------------------------------------------+---------------------------------------------------------------------+----------------------------------+--------------------------------------------------+--------------------------------------------------+---------------------------------------------+--------------------------------------------------+----------------------------------------+------------------------------------------------------------------+---------------------------------------------+---------------------------------------------+-------------------------------------------------------+------------------------------------------------------+----------------------------------------------+--------------------------------------------+----------------+---------------------------------------------------+----------------------------------------+-------------------------------------------+------------------------------------------------------------+----------------------------------------+--------------------------------------------+------------------------------------------------------------+------------------------------------------+-----------------------------------------------------+-------------------------------+-------------------------------------------------------------------+------------------------------+------------------------------------------+----------------------------+-----------------------------------+---------------------------------+-------------------------------------------------------+-------------------------------------------------+---------------------------------------------------------+-------------------------------------------------+-----------------------------------------+---------------------------------------------------------------------------+--------------------------------------------------+-----------------------------------+---------------------------------------------------------------------+------------------------+-------------------------------------------------+------------------------------+------------------------------------------+--------------------------------------------+-------------------------------------------------+------------------------------------+-------------------------------------+------------------------------------------+----------+------+----------+\n"
     ]
    },
    {
     "name": "stdout",
     "output_type": "stream",
     "text": [
      "|0.43747316976521483|0.997688472080045|0.8019350790872767|                     0.9487171020044249|       1.0|       1.0|0.9999009345177162|          1.0|            0.8492883796189281|    0.8564871379982169|            1.0|                0.6009642373608955|          0.7470858237294852|             0.8332397714889542|0.33966251692368654|             0.9464385959118977|                       0.9422118020011228|                  0.947726447181587|                   1.0|       0.8564871379982169|        0.8564871379982169|              1.0|                         0.9487171020044249|                 0.8914902750718224|          1.0|                       1.0|                 0.9422118020011228|           0.8564871379982169|       0.8564871379982169|                         0.2836244757784896|         0.5082719677706964|                                 0.9487171020044249|     0.8564871379982169|                      0.9487171020044249|                         0.9487171020044249|                                     0.947726447181587|                        0.2836244757784896|                        0.9487171020044249|                        0.9422118020011228|                  0.2836244757784896|                                 0.9487171020044249|    0.8564871379982169|                              0.947726447181587|                   0.947726447181587|0.4119142753359971|                            0.9487171020044249|                0.943499653270812|            0.9422778456559786|               0.947726447181587|0.4049466697487039|                         0.9487171020044249|              0.7917313344120464|    0.8564871379982169|                           0.943499653270812|                                             0.947726447181587|                          0.947726447181587|0.48885513324307367|            0.8332397714889542|       0.8564871379982169|                  0.8914902750718224|                       1.0|            0.9464385959118977|                         0.9487171020044249|             1.0|               0.947726447181587|                 0.9422778456559786|                                 1.0|                 0.9422778456559786|             0.8492883796189281|                 1.0|                0.9443251989565102|          0.7470858237294852|            0.8492883796189281|             0.9464385959118977|                      0.948684080176997|                        0.9487171020044249|                     0.9487171020044249|                    0.8564871379982169|            0.9464385959118977|            0.9464385959118977|                  0.8914902750718224|                                    0.947726447181587|                                              0.947726447181587|            0.8564871379982169|               0.8564871379982169|                                    0.947726447181587|     0.9422778456559786|                         0.9487171020044249|                0.9422778456559786|0.4423273783971205|                0.9422778456559786|                    0.8564871379982169|           0.8564871379982169|      0.9965327081200673|            1.0|           0.7470858237294852|             0.7917313344120464|        0.9422778456559786|                 0.9443251989565102|                     0.9487171020044249|                                 0.9487171020044249|                         0.29399332959085955|                        0.9487171020044249|                                      0.947726447181587|                                     0.9422778456559786|                                0.9487171020044249|                0.9422118020011228|                             0.948684080176997|                          0.29399332959085955|                       0.948684080176997|    0.9422778456559786|                                      0.947726447181587|                 0.9422118020011228|                 0.9422118020011228|                        0.9487171020044249|             0.947726447181587|                      0.9487171020044249|                0.947726447181587|0.4978370703034706|                                             0.947726447181587|                            0.943499653270812|                    1.0|                           0.943499653270812|0.3327609549912492|                           0.8564871379982169|                         0.947726447181587|                              0.947726447181587|                                  0.947726447181587|             0.947726447181587|                  0.947726447181587|            0.8564871379982169|                0.947726447181587|               0.947726447181587|                                                       0.947726447181587|0.3004656077667338|                             0.2836244757784896|                0.9422778456559786|                           0.29399332959085955|            0.947726447181587|                                   0.947726447181587|                           0.8564871379982169|                                              0.947726447181587|                   0.8914902750718224|            0.8332397714889542|                          1.0|                        0.9487171020044249|                 0.947726447181587|                                0.9487171020044249|                  0.8914902750718224|                          0.9487171020044249|                                0.9487171020044249|                               0.947726447181587|                   0.943499653270812|                             0.2836244757784896|                       0.9422778456559786|                              0.947726447181587|                             0.2836244757784896|   0.25558894429217716|                       0.8564871379982169|                 0.943499653270812|                            0.9487171020044249|0.49159594491959185|                          0.29399332959085955|      0.9965327081200673|                        0.9487171020044249|                                 0.9487171020044249|             1.0|                       0.9422778456559786|                       0.2836244757784896|                                             0.947726447181587|                                    0.947726447181587|                    0.8564871379982169|                           0.947726447181587|                            0.2836244757784896|                                0.9487171020044249|                                           0.947726447181587|                     0.29399332959085955|                                      0.947726447181587|                                       0.9422778456559786|       0.8646105075454875|                     1.0|                                    0.9422778456559786|                             0.2836244757784896|                 0.8914902750718224|                     0.8564871379982169|                  0.943499653270812|                                                0.947726447181587|                           0.29399332959085955|                                          0.947726447181587|                           0.29399332959085955|                           0.947726447181587|                      0.29399332959085955|                                              1.0|                      0.8564871379982169|                         0.29399332959085955|                       1.0|                           0.29399332959085955|                                0.947726447181587|                                        0.9422778456559786|                      0.29399332959085955|               0.8564871379982169|                   1.0|                                     1.0|               0.8564871379982169|                            1.0|                            0.947726447181587|               0.2836244757784896|                                             0.947726447181587|                           0.2836244757784896|                                 0.9487171020044249|                                  0.9422778456559786|                               0.947726447181587|                                      0.947726447181587|                             0.947726447181587|                                                           0.947726447181587|                              0.947726447181587|                          0.29399332959085955|                  0.2836244757784896|                          0.29399332959085955|             0.7917313344120464|                                 0.947726447181587|0.4623716276458739|     0.3026780702044051|                                          0.947726447181587|                                            0.947726447181587|                             0.947726447181587|    0.25558894429217716|                                     0.947726447181587|                                 0.2836244757784896|                            0.2836244757784896|                            0.943499653270812|                                        0.947726447181587|         0.9422778456559786|                                                     0.947726447181587|      0.9965327081200673|                                0.9487171020044249|                      0.29399332959085955|                               0.9487171020044249|                        0.2836244757784896|                       0.2836244757784896|                           0.947726447181587|                                  0.947726447181587|                                          0.947726447181587|                  0.8564871379982169|                           0.2836244757784896|                                      0.947726447181587|                          0.29399332959085955|                    1.0|                           0.2836244757784896|                         0.947726447181587|                           0.2836244757784896|                                    0.9422778456559786|                     1.0|                0.9422118020011228|                                            0.947726447181587|                           1.0|                               0.9422778456559786|            0.9422778456559786|                                      0.947726447181587|                     0.943499653270812|                            0.2836244757784896|                                                0.947726447181587|                                     0.947726447181587|                           0.8564871379982169|                                0.9487171020044249|                                  0.947726447181587|                               0.9422778456559786|        0.8646105075454875|                0.8564871379982169|                           1.0|                           0.2836244757784896|                  0.943499653270812|                             0.2836244757784896|            1.0|                                                     0.947726447181587|                                          0.947726447181587|                                       0.947726447181587|                       1.0|                                                        0.947726447181587|                                0.9487171020044249|            0.2836244757784896|0.3200145296040683|                     0.29399332959085955|                                       0.9422778456559786|                              0.2836244757784896|             1.0|                          0.29399332959085955|                                        0.947726447181587|                      0.29399332959085955|                                              0.9422778456559786|   0.25558894429217716|                     0.29399332959085955|                               1.0|       0.8646105075454875|                                 0.947726447181587|                        0.2836244757784896|                  0.8564871379982169|                                   0.947726447181587|                            0.2836244757784896|                        0.2836244757784896|                0.8564871379982169|                                          0.947726447181587|                                 0.947726447181587|                                       0.947726447181587|                        0.2836244757784896|                                    0.9422778456559786|                                                   0.947726447181587|                           0.8564871379982169|                                                0.947726447181587|                                                    0.947726447181587|                0.9422118020011228|                                 0.947726447181587|                                 0.947726447181587|                           0.8564871379982169|                                 0.947726447181587|                     0.29399332959085955|                                                 0.947726447181"
     ]
    },
    {
     "name": "stdout",
     "output_type": "stream",
     "text": [
      "587|                           0.2836244757784896|                          0.29399332959085955|                                      0.947726447181587|                                     0.947726447181587|                            0.2836244757784896|                         0.29399332959085955|             1.0|                                  0.947726447181587|                      0.8564871379982169|                         0.2836244757784896|                                          0.2836244757784896|                     0.29399332959085955|                           0.947726447181587|                                           0.947726447181587|                         0.947726447181587|                                    0.947726447181587|                            1.0|                                                  0.947726447181587|            0.9464385959118977|                         0.947726447181587|                         1.0|                                1.0|               0.2836244757784896|                                     0.9422778456559786|                                0.947726447181587|                                        0.947726447181587|                               0.9487171020044249|                       0.2836244757784896|                                                          0.947726447181587|                                 0.947726447181587|                                1.0|                                                   0.9422778456559786|                     1.0|                                0.947726447181587|            0.8564871379982169|                        0.2836244757784896|                          0.8564871379982169|                               0.9422778456559786|                                 1.0|                                  1.0|                         0.947726447181587|       1.0|   1.0|       1.0|\n",
      "+-------------------+-----------------+------------------+---------------------------------------+----------+----------+------------------+-------------+------------------------------+----------------------+---------------+----------------------------------+----------------------------+-------------------------------+-------------------+-------------------------------+-----------------------------------------+-----------------------------------+----------------------+-------------------------+--------------------------+-----------------+-------------------------------------------+-----------------------------------+-------------+--------------------------+-----------------------------------+-----------------------------+-------------------------+-------------------------------------------+---------------------------+---------------------------------------------------+-----------------------+----------------------------------------+-------------------------------------------+------------------------------------------------------+------------------------------------------+------------------------------------------+------------------------------------------+------------------------------------+---------------------------------------------------+----------------------+-----------------------------------------------+------------------------------------+------------------+----------------------------------------------+---------------------------------+------------------------------+--------------------------------+------------------+-------------------------------------------+--------------------------------+----------------------+--------------------------------------------+--------------------------------------------------------------+-------------------------------------------+-------------------+------------------------------+-------------------------+------------------------------------+--------------------------+------------------------------+-------------------------------------------+----------------+--------------------------------+-----------------------------------+------------------------------------+-----------------------------------+-------------------------------+--------------------+----------------------------------+----------------------------+------------------------------+-------------------------------+---------------------------------------+------------------------------------------+---------------------------------------+--------------------------------------+------------------------------+------------------------------+------------------------------------+-----------------------------------------------------+---------------------------------------------------------------+------------------------------+---------------------------------+-----------------------------------------------------+-----------------------+-------------------------------------------+----------------------------------+------------------+----------------------------------+--------------------------------------+-----------------------------+------------------------+---------------+-----------------------------+-------------------------------+--------------------------+-----------------------------------+---------------------------------------+---------------------------------------------------+--------------------------------------------+------------------------------------------+-------------------------------------------------------+-------------------------------------------------------+--------------------------------------------------+----------------------------------+----------------------------------------------+---------------------------------------------+----------------------------------------+----------------------+-------------------------------------------------------+-----------------------------------+-----------------------------------+------------------------------------------+------------------------------+----------------------------------------+---------------------------------+------------------+--------------------------------------------------------------+---------------------------------------------+-----------------------+--------------------------------------------+------------------+---------------------------------------------+------------------------------------------+-----------------------------------------------+---------------------------------------------------+------------------------------+-----------------------------------+------------------------------+---------------------------------+--------------------------------+------------------------------------------------------------------------+------------------+-----------------------------------------------+----------------------------------+----------------------------------------------+-----------------------------+----------------------------------------------------+---------------------------------------------+---------------------------------------------------------------+-------------------------------------+------------------------------+-----------------------------+------------------------------------------+----------------------------------+--------------------------------------------------+------------------------------------+--------------------------------------------+--------------------------------------------------+------------------------------------------------+------------------------------------+-----------------------------------------------+-----------------------------------------+-----------------------------------------------+-----------------------------------------------+----------------------+-----------------------------------------+----------------------------------+----------------------------------------------+-------------------+---------------------------------------------+------------------------+------------------------------------------+---------------------------------------------------+----------------+-----------------------------------------+-----------------------------------------+--------------------------------------------------------------+-----------------------------------------------------+--------------------------------------+--------------------------------------------+----------------------------------------------+--------------------------------------------------+------------------------------------------------------------+----------------------------------------+-------------------------------------------------------+---------------------------------------------------------+-------------------------+------------------------+------------------------------------------------------+-----------------------------------------------+-----------------------------------+---------------------------------------+-----------------------------------+-----------------------------------------------------------------+----------------------------------------------+-----------------------------------------------------------+----------------------------------------------+--------------------------------------------+-----------------------------------------+-------------------------------------------------+----------------------------------------+--------------------------------------------+--------------------------+----------------------------------------------+-------------------------------------------------+----------------------------------------------------------+-----------------------------------------+---------------------------------+----------------------+----------------------------------------+---------------------------------+-------------------------------+---------------------------------------------+---------------------------------+--------------------------------------------------------------+---------------------------------------------+---------------------------------------------------+----------------------------------------------------+------------------------------------------------+-------------------------------------------------------+----------------------------------------------+----------------------------------------------------------------------------+-----------------------------------------------+---------------------------------------------+------------------------------------+---------------------------------------------+-------------------------------+--------------------------------------------------+------------------+-----------------------+-----------------------------------------------------------+-------------------------------------------------------------+----------------------------------------------+-----------------------+------------------------------------------------------+---------------------------------------------------+----------------------------------------------+---------------------------------------------+---------------------------------------------------------+---------------------------+----------------------------------------------------------------------+------------------------+--------------------------------------------------+-----------------------------------------+-------------------------------------------------+------------------------------------------+-----------------------------------------+--------------------------------------------+---------------------------------------------------+-----------------------------------------------------------+------------------------------------+---------------------------------------------+-------------------------------------------------------+---------------------------------------------+-----------------------+---------------------------------------------+------------------------------------------+---------------------------------------------+------------------------------------------------------+------------------------+----------------------------------+-------------------------------------------------------------+------------------------------+-------------------------------------------------+------------------------------+-------------------------------------------------------+--------------------------------------+----------------------------------------------+-----------------------------------------------------------------+------------------------------------------------------+---------------------------------------------+--------------------------------------------------+---------------------------------------------------+-------------------------------------------------+--------------------------+----------------------------------+------------------------------+---------------------------------------------+-----------------------------------+-----------------------------------------------+---------------+----------------------------------------------------------------------+-----------------------------------------------------------+--------------------------------------------------------+--------------------------+-------------------------------------------------------------------------+--------------------------------------------------+------------------------------+------------------+----------------------------------------+---------------------------------------------------------+------------------------------------------------+----------------+---------------------------------------------+---------------------------------------------------------+-----------------------------------------+----------------------------------------------------------------+----------------------+----------------------------------------+----------------------------------+-------------------------+--------------------------------------------------+------------------------------------------+------------------------------------+----------------------------------------------------+----------------------------------------------+------------------------------------------+----------------------------------+-----------------------------------------------------------+--------------------------------------------------+--------------------------------------------------------+------------------------------------------+------------------------------------------------------+--------------------------------------------------------------------+---------------------------------------------+-----------------------------------------------------------------+---------------------------------------------------------------------+----------------------------------+--------------------------------------------------+--------------------------------------------------+---------------------------------------------+--------------------------------------------------+----------------------------------------+------------------------------------------------------------------+---------------------------------------------+---------------------------------------------+-------------------------------------------------------+------------------------------------------------------+----------------------------------------------+--------------------------------------------+----------------+---------------------------------------------------+----------------------------------------+-------------------------------------------+------------------------------------------------------------+----------------------------------------+--------------------------------------------+------------------------------------------------------------+------------------------------------------+-----------------------------------------------------+-------------------------------+-------------------------------------------------------------------+------------------------------+------------------------------------------+----------------------------+-----------------------------------+---------------------------------+-------------------------------------------------------+-------------------------------------------------+---------------------------------------------------------+-------------------------------------------------+-----------------------------------------+---------------------------------------------------------------------------+--------------------------------------------------+-----------------------------------+---------------------------------------------------------------------+------------------------+-------------------------------------------------+------------------------------+------------------------------------------+--------------------------------------------+-------------------------------------------------+------------------------------------+-------------------------------------+------------------------------------------+----------+------+----------+\n",
      "\n"
     ]
    }
   ],
   "source": [
    "df4.show()"
   ]
  },
  {
   "cell_type": "markdown",
   "metadata": {},
   "source": [
    "Check the count of null value in each column:"
   ]
  },
  {
   "cell_type": "code",
   "execution_count": 14,
   "metadata": {},
   "outputs": [
    {
     "data": {
      "text/plain": [
       "df3: org.apache.spark.sql.DataFrame = [EXT_SOURCE_1: bigint, EXT_SOURCE_2: bigint ... 359 more fields]\n"
      ]
     },
     "execution_count": 14,
     "metadata": {},
     "output_type": "execute_result"
    }
   ],
   "source": [
    "//df.select(df.columns.map(c => sum(col(c).isNull.cast(\"int\")).alias(c)): _*).show\n",
    "val df3=df.select(df.columns.map(c => sum(col(c).isNull.cast(\"int\")).alias(c)): _*)"
   ]
  },
  {
   "cell_type": "code",
   "execution_count": 15,
   "metadata": {},
   "outputs": [
    {
     "name": "stdout",
     "output_type": "stream",
     "text": [
      "+------------+------------+------------+---------------------------------------+----------+----------+-----------+-------------+------------------------------+----------------------+---------------+----------------------------------+----------------------------+-------------------------------+-----------+-------------------------------+-----------------------------------------+-----------------------------------+----------------------+-------------------------+--------------------------+-----------------+-------------------------------------------+-----------------------------------+-------------+--------------------------+-----------------------------------+-----------------------------+-------------------------+-------------------------------------------+---------------------------+---------------------------------------------------+-----------------------+----------------------------------------+-------------------------------------------+------------------------------------------------------+------------------------------------------+------------------------------------------+------------------------------------------+------------------------------------+---------------------------------------------------+----------------------+-----------------------------------------------+------------------------------------+----------------+----------------------------------------------+---------------------------------+------------------------------+--------------------------------+------------+-------------------------------------------+--------------------------------+----------------------+--------------------------------------------+--------------------------------------------------------------+-------------------------------------------+--------------+------------------------------+-------------------------+------------------------------------+--------------------------+------------------------------+-------------------------------------------+----------------+--------------------------------+-----------------------------------+------------------------------------+-----------------------------------+-------------------------------+--------------------+----------------------------------+----------------------------+------------------------------+-------------------------------+---------------------------------------+------------------------------------------+---------------------------------------+--------------------------------------+------------------------------+------------------------------+------------------------------------+-----------------------------------------------------+---------------------------------------------------------------+------------------------------+---------------------------------+-----------------------------------------------------+-----------------------+-------------------------------------------+----------------------------------+-----------------+----------------------------------+--------------------------------------+-----------------------------+------------------------+---------------+-----------------------------+-------------------------------+--------------------------+-----------------------------------+---------------------------------------+---------------------------------------------------+--------------------------------------------+------------------------------------------+-------------------------------------------------------+-------------------------------------------------------+--------------------------------------------------+----------------------------------+----------------------------------------------+---------------------------------------------+----------------------------------------+----------------------+-------------------------------------------------------+-----------------------------------+-----------------------------------+------------------------------------------+------------------------------+----------------------------------------+---------------------------------+-------------+--------------------------------------------------------------+---------------------------------------------+-----------------------+--------------------------------------------+---------------+---------------------------------------------+------------------------------------------+-----------------------------------------------+---------------------------------------------------+------------------------------+-----------------------------------+------------------------------+---------------------------------+--------------------------------+------------------------------------------------------------------------+--------------+-----------------------------------------------+----------------------------------+----------------------------------------------+-----------------------------+----------------------------------------------------+---------------------------------------------+---------------------------------------------------------------+-------------------------------------+------------------------------+-----------------------------+------------------------------------------+----------------------------------+--------------------------------------------------+------------------------------------+--------------------------------------------+--------------------------------------------------+------------------------------------------------+------------------------------------+-----------------------------------------------+-----------------------------------------+-----------------------------------------------+-----------------------------------------------+----------------------+-----------------------------------------+----------------------------------+----------------------------------------------+-------------+---------------------------------------------+------------------------+------------------------------------------+---------------------------------------------------+----------------+-----------------------------------------+-----------------------------------------+--------------------------------------------------------------+-----------------------------------------------------+--------------------------------------+--------------------------------------------+----------------------------------------------+--------------------------------------------------+------------------------------------------------------------+----------------------------------------+-------------------------------------------------------+---------------------------------------------------------+-------------------------+------------------------+------------------------------------------------------+-----------------------------------------------+-----------------------------------+---------------------------------------+-----------------------------------+-----------------------------------------------------------------+----------------------------------------------+-----------------------------------------------------------+----------------------------------------------+--------------------------------------------+-----------------------------------------+-------------------------------------------------+----------------------------------------+--------------------------------------------+--------------------------+----------------------------------------------+-------------------------------------------------+----------------------------------------------------------+-----------------------------------------+---------------------------------+----------------------+----------------------------------------+---------------------------------+-------------------------------+---------------------------------------------+---------------------------------+--------------------------------------------------------------+---------------------------------------------+---------------------------------------------------+----------------------------------------------------+------------------------------------------------+-------------------------------------------------------+----------------------------------------------+----------------------------------------------------------------------------+-----------------------------------------------+---------------------------------------------+------------------------------------+---------------------------------------------+-------------------------------+--------------------------------------------------+-------------+-----------------------+-----------------------------------------------------------+-------------------------------------------------------------+----------------------------------------------+-----------------------+------------------------------------------------------+---------------------------------------------------+----------------------------------------------+---------------------------------------------+---------------------------------------------------------+---------------------------+----------------------------------------------------------------------+------------------------+--------------------------------------------------+-----------------------------------------+-------------------------------------------------+------------------------------------------+-----------------------------------------+--------------------------------------------+---------------------------------------------------+-----------------------------------------------------------+------------------------------------+---------------------------------------------+-------------------------------------------------------+---------------------------------------------+-----------------------+---------------------------------------------+------------------------------------------+---------------------------------------------+------------------------------------------------------+------------------------+----------------------------------+-------------------------------------------------------------+------------------------------+-------------------------------------------------+------------------------------+-------------------------------------------------------+--------------------------------------+----------------------------------------------+-----------------------------------------------------------------+------------------------------------------------------+---------------------------------------------+--------------------------------------------------+---------------------------------------------------+-------------------------------------------------+--------------------------+----------------------------------+------------------------------+---------------------------------------------+-----------------------------------+-----------------------------------------------+---------------+----------------------------------------------------------------------+-----------------------------------------------------------+--------------------------------------------------------+--------------------------+-------------------------------------------------------------------------+--------------------------------------------------+------------------------------+-------------+----------------------------------------+---------------------------------------------------------+------------------------------------------------+----------------+---------------------------------------------+---------------------------------------------------------+-----------------------------------------+----------------------------------------------------------------+----------------------+----------------------------------------+----------------------------------+-------------------------+--------------------------------------------------+------------------------------------------+------------------------------------+----------------------------------------------------+----------------------------------------------+------------------------------------------+----------------------------------+-----------------------------------------------------------+--------------------------------------------------+--------------------------------------------------------+------------------------------------------+------------------------------------------------------+--------------------------------------------------------------------+---------------------------------------------+-----------------------------------------------------------------+---------------------------------------------------------------------+----------------------------------+--------------------------------------------------+--------------------------------------------------+---------------------------------------------+--------------------------------------------------+----------------------------------------+------------------------------------------------------------------+---------------------------------------------+---------------------------------------------+-------------------------------------------------------+------------------------------------------------------+----------------------------------------------+--------------------------------------------+----------------+---------------------------------------------------+----------------------------------------+-------------------------------------------+------------------------------------------------------------+----------------------------------------+--------------------------------------------+------------------------------------------------------------+------------------------------------------+-----------------------------------------------------+-------------------------------+-------------------------------------------------------------------+------------------------------+------------------------------------------+----------------------------+-----------------------------------+---------------------------------+-------------------------------------------------------+-------------------------------------------------+---------------------------------------------------------+-------------------------------------------------+-----------------------------------------+---------------------------------------------------------------------------+--------------------------------------------------+-----------------------------------+---------------------------------------------------------------------+------------------------+-------------------------------------------------+------------------------------+------------------------------------------+--------------------------------------------+-------------------------------------------------+------------------------------------+-------------------------------------+------------------------------------------+----------+------+----------+\n"
     ]
    },
    {
     "name": "stdout",
     "output_type": "stream",
     "text": [
      "|EXT_SOURCE_1|EXT_SOURCE_2|EXT_SOURCE_3|client_installments_AMT_PAYMENT_min_sum|DAYS_BIRTH|AMT_CREDIT|AMT_ANNUITY|DAYS_EMPLOYED|bureau_DAYS_CREDIT_ENDDATE_max|bureau_DAYS_CREDIT_max|DAYS_ID_PUBLISH|bureau_AMT_CREDIT_MAX_OVERDUE_mean|bureau_DAYS_ENDDATE_FACT_max|bureau_AMT_CREDIT_SUM_DEBT_mean|OWN_CAR_AGE|previous_loans_CNT_PAYMENT_mean|client_cash_CNT_INSTALMENT_FUTURE_min_max|previous_loans_SELLERPLACE_AREA_max|DAYS_LAST_PHONE_CHANGE|bureau_AMT_CREDIT_SUM_max|bureau_AMT_CREDIT_SUM_mean|DAYS_REGISTRATION|client_installments_DAYS_INSTALMENT_max_max|previous_loans_AMT_DOWN_PAYMENT_max|CODE_GENDER_F|REGION_POPULATION_RELATIVE|client_cash_CNT_INSTALMENT_max_mean|bureau_DAYS_CREDIT_UPDATE_max|bureau_AMT_CREDIT_SUM_sum|client_credit_AMT_DRAWINGS_CURRENT_mean_max|YEARS_BEGINEXPLUATATION_AVG|client_installments_NUM_INSTALMENT_VERSION_mean_max|bureau_DAYS_CREDIT_mean|client_installments_AMT_PAYMENT_sum_mean|client_installments_DAYS_INSTALMENT_min_max|previous_loans_NAME_CONTRACT_STATUS_Refused_count_norm|client_credit_CNT_DRAWINGS_CURRENT_max_max|client_installments_AMT_INSTALMENT_max_max|client_cash_CNT_INSTALMENT_FUTURE_min_mean|client_credit_AMT_RECIVABLE_mean_min|client_installments_NUM_INSTALMENT_VERSION_max_mean|bureau_DAYS_CREDIT_min|previous_loans_NAME_YIELD_GROUP_high_count_norm|previous_loans_RATE_DOWN_PAYMENT_sum|BASEMENTAREA_AVG|client_installments_DAYS_ENTRY_PAYMENT_sum_max|previous_loans_DAYS_FIRST_DUE_min|client_cash_SK_DPD_DEF_sum_max|previous_loans_DAYS_DECISION_max|LANDAREA_AVG|client_installments_AMT_INSTALMENT_min_mean|bureau_AMT_CREDIT_SUM_LIMIT_mean|bureau_DAYS_CREDIT_sum|previous_loans_DAYS_LAST_DUE_1ST_VERSION_max|previous_loans_PRODUCT_COMBINATION_Cash X-Sell: low_count_norm|previous_loans_HOUR_APPR_PROCESS_START_mean|APARTMENTS_AVG|bureau_AMT_CREDIT_SUM_DEBT_max|bureau_AMT_CREDIT_SUM_min|previous_loans_AMT_DOWN_PAYMENT_mean|NAME_FAMILY_STATUS_Married|previous_loans_CNT_PAYMENT_max|client_installments_AMT_INSTALMENT_mean_min|AMT_INCOME_TOTAL|previous_loans_DAYS_LAST_DUE_sum|client_cash_MONTHS_BALANCE_max_mean|NAME_EDUCATION_TYPE_Higher education|client_cash_MONTHS_BALANCE_sum_mean|bureau_DAYS_CREDIT_ENDDATE_mean|REGION_RATING_CLIENT|previous_loans_AMT_GOODS_PRICE_min|bureau_DAYS_ENDDATE_FACT_min|bureau_DAYS_CREDIT_ENDDATE_min|previous_loans_AMT_ANNUITY_mean|client_installments_AMT_PAYMENT_max_min|client_installments_AMT_INSTALMENT_min_max|client_installments_AMT_PAYMENT_sum_min|bureau_CREDIT_TYPE_Mortgage_count_norm|previous_loans_AMT_ANNUITY_max|previous_loans_AMT_ANNUITY_min|previous_loans_RATE_DOWN_PAYMENT_max|previous_loans_NAME_YIELD_GROUP_low_normal_count_norm|previous_loans_PRODUCT_COMBINATION_Cash X-Sell: high_count_norm|bureau_DAYS_CREDIT_ENDDATE_sum|bureau_CREDIT_ACTIVE_Active_count|previous_loans_NAME_YIELD_GROUP_low_action_count_norm|client_cash_counts_mean|client_installments_AMT_INSTALMENT_mean_max|client_cash_MONTHS_BALANCE_sum_max|NONLIVINGAREA_AVG|client_cash_CNT_INSTALMENT_sum_min|bureau_CREDIT_ACTIVE_Active_count_norm|bureau_DAYS_CREDIT_UPDATE_min|DEF_60_CNT_SOCIAL_CIRCLE|FLAG_DOCUMENT_3|bureau_DAYS_ENDDATE_FACT_mean|bureau_AMT_CREDIT_SUM_LIMIT_max|client_cash_SK_DPD_max_sum|previous_loans_AMT_GOODS_PRICE_mean|client_installments_AMT_PAYMENT_max_sum|client_installments_NUM_INSTALMENT_VERSION_sum_mean|client_bureau_balance_MONTHS_BALANCE_sum_min|client_installments_AMT_INSTALMENT_min_min|previous_loans_NAME_TYPE_SUITE_Unaccompanied_count_norm|client_cash_NAME_CONTRACT_STATUS_Active_count_norm_mean|client_installments_NUM_INSTALMENT_NUMBER_max_mean|client_cash_CNT_INSTALMENT_max_max|client_installments_DAYS_ENTRY_PAYMENT_max_min|client_bureau_balance_STATUS_C_count_norm_max|client_installments_AMT_PAYMENT_max_mean|client_cash_counts_sum|previous_loans_NAME_CONTRACT_STATUS_Approved_count_norm|client_cash_CNT_INSTALMENT_min_mean|client_cash_CNT_INSTALMENT_mean_min|client_installments_AMT_INSTALMENT_sum_max|previous_loans_AMT_ANNUITY_sum|client_installments_AMT_PAYMENT_mean_sum|previous_loans_DAYS_DECISION_mean|FLOORSMAX_AVG|previous_loans_PRODUCT_COMBINATION_Cash Street: low_count_norm|previous_loans_DAYS_LAST_DUE_1ST_VERSION_mean|HOUR_APPR_PROCESS_START|previous_loans_DAYS_LAST_DUE_1ST_VERSION_min|YEARS_BUILD_AVG|bureau_CREDIT_TYPE_Consumer credit_count_norm|previous_loans_HOUR_APPR_PROCESS_START_max|previous_loans_CODE_REJECT_REASON_HC_count_norm|previous_loans_NAME_PRODUCT_TYPE_walk-in_count_norm|previous_loans_CNT_PAYMENT_sum|previous_loans_SELLERPLACE_AREA_min|bureau_DAYS_CREDIT_UPDATE_mean|previous_loans_DAYS_FIRST_DUE_sum|previous_loans_DAYS_DECISION_sum|previous_loans_PRODUCT_COMBINATION_POS industry with interest_count_norm|COMMONAREA_AVG|client_credit_AMT_CREDIT_LIMIT_ACTUAL_mean_mean|client_cash_MONTHS_BALANCE_max_sum|client_bureau_balance_STATUS_X_count_norm_mean|previous_loans_AMT_CREDIT_min|previous_loans_NAME_CLIENT_TYPE_Refreshed_count_norm|client_bureau_balance_MONTHS_BALANCE_mean_sum|previous_loans_PRODUCT_COMBINATION_Cash Street: high_count_norm|previous_loans_RATE_DOWN_PAYMENT_mean|bureau_AMT_CREDIT_SUM_DEBT_min|NAME_CONTRACT_TYPE_Cash loans|client_installments_AMT_INSTALMENT_min_sum|previous_loans_AMT_APPLICATION_max|client_installments_NUM_INSTALMENT_VERSION_sum_max|previous_loans_RATE_DOWN_PAYMENT_min|client_installments_AMT_INSTALMENT_mean_mean|client_installments_NUM_INSTALMENT_VERSION_sum_sum|previous_loans_NAME_TYPE_SUITE_Family_count_norm|previous_loans_DAYS_TERMINATION_mean|client_credit_AMT_DRAWINGS_POS_CURRENT_mean_sum|client_cash_CNT_INSTALMENT_FUTURE_max_sum|previous_loans_NAME_PAYMENT_TYPE_XNA_count_norm|client_credit_CNT_DRAWINGS_ATM_CURRENT_sum_mean|bureau_AMT_ANNUITY_max|bureau_CREDIT_TYPE_Credit card_count_norm|previous_loans_DAYS_FIRST_DUE_mean|client_installments_DAYS_ENTRY_PAYMENT_min_sum|ENTRANCES_AVG|client_bureau_balance_STATUS_0_count_norm_min|OBS_30_CNT_SOCIAL_CIRCLE|client_installments_AMT_INSTALMENT_sum_sum|client_installments_NUM_INSTALMENT_VERSION_mean_sum|FLAG_DOCUMENT_18|client_cash_CNT_INSTALMENT_FUTURE_min_sum|client_credit_AMT_PAYMENT_CURRENT_max_sum|previous_loans_CHANNEL_TYPE_Credit and cash offices_count_norm|previous_loans_CHANNEL_TYPE_Contact center_count_norm|bureau_CREDIT_TYPE_Car loan_count_norm|previous_loans_NAME_PORTFOLIO_POS_count_norm|client_credit_AMT_DRAWINGS_POS_CURRENT_sum_sum|client_installments_NUM_INSTALMENT_NUMBER_min_mean|previous_loans_WEEKDAY_APPR_PROCESS_START_TUESDAY_count_norm|client_bureau_balance_STATUS_0_count_max|previous_loans_NAME_GOODS_CATEGORY_Furniture_count_norm|client_cash_NAME_CONTRACT_STATUS_Completed_count_norm_max|AMT_REQ_CREDIT_BUREAU_QRT|NAME_INCOME_TYPE_Working|client_cash_NAME_CONTRACT_STATUS_Active_count_norm_min|client_credit_AMT_DRAWINGS_ATM_CURRENT_mean_sum|previous_loans_AMT_DOWN_PAYMENT_min|bureau_CREDIT_TYPE_Microloan_count_norm|previous_loans_DAYS_TERMINATION_min|previous_loans_CHANNEL_TYPE_Channel of corporate sales_count_norm|client_bureau_balance_STATUS_C_count_norm_mean|previous_loans_WEEKDAY_APPR_PROCESS_START_SUNDAY_count_norm|client_bureau_balance_STATUS_0_count_norm_mean|previous_loans_CHANNEL_TYPE_Stone_count_norm|client_bureau_balance_STATUS_0_count_mean|NAME_EDUCATION_TYPE_Secondary / secondary special|client_bureau_balance_STATUS_0_count_sum|client_bureau_balance_MONTHS_BALANCE_sum_max|OCCUPATION_TYPE_Core staff|client_bureau_balance_STATUS_1_count_norm_mean|previous_loans_NAME_YIELD_GROUP_middle_count_norm|client_cash_NAME_CONTRACT_STATUS_Completed_count_norm_mean|client_bureau_balance_STATUS_X_count_mean|bureau_AMT_CREDIT_SUM_OVERDUE_max|REG_CITY_NOT_LIVE_CITY|ORGANIZATION_TYPE_Business Entity Type 3|bureau_CREDIT_ACTIVE_Closed_count|ORGANIZATION_TYPE_Self-employed|previous_loans_NAME_PORTFOLIO_Cash_count_norm|client_credit_AMT_BALANCE_min_max|previous_loans_WEEKDAY_APPR_PROCESS_START_WEDNESDAY_count_norm|client_credit_AMT_CREDIT_LIMIT_ACTUAL_max_sum|client_installments_NUM_INSTALMENT_VERSION_mean_min|client_cash_NAME_CONTRACT_STATUS_Completed_count_sum|previous_loans_CODE_REJECT_REASON_SCO_count_norm|previous_loans_NAME_GOODS_CATEGORY_Computers_count_norm|previous_loans_NAME_YIELD_GROUP_XNA_count_norm|previous_loans_PRODUCT_COMBINATION_POS household without interest_count_norm|previous_loans_NAME_PRODUCT_TYPE_XNA_count_norm|client_bureau_balance_MONTHS_BALANCE_max_mean|client_credit_MONTHS_BALANCE_max_sum|client_bureau_balance_MONTHS_BALANCE_mean_min|bureau_AMT_CREDIT_SUM_LIMIT_min|previous_loans_NAME_PRODUCT_TYPE_x-sell_count_norm|ELEVATORS_AVG|NONLIVINGAPARTMENTS_AVG|previous_loans_WEEKDAY_APPR_PROCESS_START_MONDAY_count_norm|previous_loans_WEEKDAY_APPR_PROCESS_START_SATURDAY_count_norm|previous_loans_NAME_CLIENT_TYPE_New_count_norm|bureau_AMT_ANNUITY_mean|previous_loans_CHANNEL_TYPE_AP+ (Cash loan)_count_norm|client_credit_NAME_CONTRACT_STATUS_Active_count_min|client_credit_AMT_DRAWINGS_POS_CURRENT_max_sum|previous_loans_NFLAG_INSURED_ON_APPROVAL_mean|previous_loans_NAME_GOODS_CATEGORY_Audio/Video_count_norm|client_cash_SK_DPD_mean_min|previous_loans_NAME_GOODS_CATEGORY_Clothing and Accessories_count_norm|DEF_30_CNT_SOCIAL_CIRCLE|client_installments_NUM_INSTALMENT_NUMBER_mean_min|client_bureau_balance_STATUS_C_count_mean|client_installments_NUM_INSTALMENT_NUMBER_sum_min|client_credit_CNT_DRAWINGS_CURRENT_max_sum|client_credit_AMT_PAYMENT_CURRENT_sum_sum|previous_loans_NAME_PORTFOLIO_XNA_count_norm|previous_loans_NAME_CLIENT_TYPE_Repeater_count_norm|previous_loans_NAME_SELLER_INDUSTRY_Connectivity_count_norm|bureau_CREDIT_TYPE_Credit card_count|client_credit_AMT_CREDIT_LIMIT_ACTUAL_sum_sum|previous_loans_NAME_CONTRACT_STATUS_Canceled_count_norm|client_bureau_balance_STATUS_0_count_norm_max|OCCUPATION_TYPE_Drivers|client_credit_AMT_CREDIT_LIMIT_ACTUAL_min_sum|previous_loans_HOUR_APPR_PROCESS_START_min|client_credit_AMT_INST_MIN_REGULARITY_max_min|client_cash_NAME_CONTRACT_STATUS_Signed_count_norm"
     ]
    },
    {
     "name": "stdout",
     "output_type": "stream",
     "text": [
      "_max|OCCUPATION_TYPE_Laborers|client_cash_CNT_INSTALMENT_min_max|previous_loans_WEEKDAY_APPR_PROCESS_START_THURSDAY_count_norm|ORGANIZATION_TYPE_Construction|client_cash_NAME_CONTRACT_STATUS_Active_count_max|client_cash_SK_DPD_DEF_sum_min|previous_loans_NAME_CONTRACT_TYPE_Cash loans_count_norm|previous_loans_DAYS_FIRST_DRAWING_mean|client_credit_CNT_DRAWINGS_ATM_CURRENT_max_sum|previous_loans_PRODUCT_COMBINATION_Cash X-Sell: middle_count_norm|previous_loans_NAME_CASH_LOAN_PURPOSE_Other_count_norm|client_bureau_balance_STATUS_0_count_norm_sum|client_installments_NUM_INSTALMENT_VERSION_sum_min|previous_loans_CHANNEL_TYPE_Country-wide_count_norm|client_cash_NAME_CONTRACT_STATUS_Signed_count_sum|AMT_REQ_CREDIT_BUREAU_YEAR|bureau_CREDIT_TYPE_Microloan_count|NAME_INCOME_TYPE_State servant|client_credit_AMT_CREDIT_LIMIT_ACTUAL_sum_max|previous_loans_DAYS_TERMINATION_max|client_credit_AMT_PAYMENT_TOTAL_CURRENT_max_max|FLAG_WORK_PHONE|previous_loans_NAME_GOODS_CATEGORY_Photo / Cinema Equipment_count_norm|previous_loans_WEEKDAY_APPR_PROCESS_START_FRIDAY_count_norm|previous_loans_WEEKDAY_APPR_PROCESS_START_THURSDAY_count|ORGANIZATION_TYPE_Military|previous_loans_PRODUCT_COMBINATION_POS household with interest_count_norm|client_installments_NUM_INSTALMENT_VERSION_min_sum|client_credit_SK_DPD_mean_mean|FLOORSMIN_AVG|client_bureau_balance_STATUS_C_count_max|client_cash_NAME_CONTRACT_STATUS_Completed_count_norm_sum|client_credit_CNT_INSTALMENT_MATURE_CUM_max_mean|FLAG_DOCUMENT_16|client_bureau_balance_STATUS_1_count_norm_max|previous_loans_NAME_TYPE_SUITE_Spouse, partner_count_norm|client_bureau_balance_STATUS_1_count_mean|client_cash_NAME_CONTRACT_STATUS_Returned to the store_count_sum|bureau_AMT_ANNUITY_min|client_bureau_balance_STATUS_1_count_max|ORGANIZATION_TYPE_Industry: type 9|AMT_REQ_CREDIT_BUREAU_MON|previous_loans_NAME_CONTRACT_STATUS_Approved_count|client_credit_AMT_TOTAL_RECEIVABLE_sum_min|bureau_CREDIT_ACTIVE_Sold_count_norm|previous_loans_NAME_GOODS_CATEGORY_Mobile_count_norm|client_credit_CNT_DRAWINGS_ATM_CURRENT_sum_sum|client_credit_AMT_DRAWINGS_CURRENT_max_sum|bureau_AMT_CREDIT_SUM_OVERDUE_mean|previous_loans_NAME_SELLER_INDUSTRY_Construction_count_norm|previous_loans_CODE_REJECT_REASON_SCOFR_count_norm|previous_loans_NAME_SELLER_INDUSTRY_Furniture_count_norm|client_credit_CNT_DRAWINGS_CURRENT_sum_sum|client_cash_NAME_CONTRACT_STATUS_Active_count_norm_max|previous_loans_NAME_GOODS_CATEGORY_Construction Materials_count_norm|client_bureau_balance_STATUS_1_count_norm_sum|previous_loans_PRODUCT_COMBINATION_Cash Street: middle_count_norm|previous_loans_PRODUCT_COMBINATION_POS other with interest_count_norm|client_cash_CNT_INSTALMENT_min_min|previous_loans_CODE_REJECT_REASON_VERIF_count_norm|previous_loans_CODE_REJECT_REASON_LIMIT_count_norm|client_bureau_balance_STATUS_X_count_norm_sum|previous_loans_PRODUCT_COMBINATION_Cash_count_norm|client_bureau_balance_STATUS_X_count_min|previous_loans_NAME_GOODS_CATEGORY_Consumer Electronics_count_norm|client_credit_AMT_CREDIT_LIMIT_ACTUAL_min_min|client_bureau_balance_STATUS_X_count_norm_max|previous_loans_CHANNEL_TYPE_Regional / Local_count_norm|previous_loans_WEEKDAY_APPR_PROCESS_START_SUNDAY_count|client_credit_AMT_RECEIVABLE_PRINCIPAL_sum_sum|client_bureau_balance_MONTHS_BALANCE_max_min|FLAG_DOCUMENT_13|previous_loans_CODE_REJECT_REASON_CLIENT_count_norm|client_bureau_balance_STATUS_X_count_sum|client_credit_AMT_DRAWINGS_CURRENT_mean_sum|client_credit_NAME_CONTRACT_STATUS_Completed_count_norm_mean|client_bureau_balance_STATUS_0_count_min|previous_loans_NAME_YIELD_GROUP_middle_count|previous_loans_NAME_CONTRACT_TYPE_Revolving loans_count_norm|previous_loans_NAME_PRODUCT_TYPE_XNA_count|previous_loans_NAME_GOODS_CATEGORY_Jewelry_count_norm|WALLSMATERIAL_MODE_Stone, brick|previous_loans_NAME_SELLER_INDUSTRY_Consumer electronics_count_norm|previous_loans_CNT_PAYMENT_min|previous_loans_NAME_YIELD_GROUP_high_count|NAME_FAMILY_STATUS_Separated|NAME_HOUSING_TYPE_House / apartment|client_credit_AMT_BALANCE_min_sum|client_cash_NAME_CONTRACT_STATUS_Signed_count_norm_mean|previous_loans_NAME_CONTRACT_STATUS_Refused_count|previous_loans_PRODUCT_COMBINATION_Card Street_count_norm|client_installments_NUM_INSTALMENT_NUMBER_max_min|client_credit_AMT_PAYMENT_CURRENT_min_sum|previous_loans_PRODUCT_COMBINATION_POS industry without interest_count_norm|previous_loans_CHANNEL_TYPE_Regional / Local_count|ORGANIZATION_TYPE_Transport: type 3|client_cash_NAME_CONTRACT_STATUS_Returned to the store_count_norm_max|ORGANIZATION_TYPE_School|previous_loans_NAME_TYPE_SUITE_Other_B_count_norm|bureau_CNT_CREDIT_PROLONG_mean|client_credit_AMT_DRAWINGS_CURRENT_max_max|client_bureau_balance_MONTHS_BALANCE_max_sum|client_cash_NAME_CONTRACT_STATUS_Active_count_min|WEEKDAY_APPR_PROCESS_START_WEDNESDAY|OCCUPATION_TYPE_High skill tech staff|previous_loans_NAME_PAYMENT_TYPE_XNA_count|FLAG_PHONE|TARGET|SK_ID_CURR|\n",
      "+------------+------------+------------+---------------------------------------+----------+----------+-----------+-------------+------------------------------+----------------------+---------------+----------------------------------+----------------------------+-------------------------------+-----------+-------------------------------+-----------------------------------------+-----------------------------------+----------------------+-------------------------+--------------------------+-----------------+-------------------------------------------+-----------------------------------+-------------+--------------------------+-----------------------------------+-----------------------------+-------------------------+-------------------------------------------+---------------------------+---------------------------------------------------+-----------------------+----------------------------------------+-------------------------------------------+------------------------------------------------------+------------------------------------------+------------------------------------------+------------------------------------------+------------------------------------+---------------------------------------------------+----------------------+-----------------------------------------------+------------------------------------+----------------+----------------------------------------------+---------------------------------+------------------------------+--------------------------------+------------+-------------------------------------------+--------------------------------+----------------------+--------------------------------------------+--------------------------------------------------------------+-------------------------------------------+--------------+------------------------------+-------------------------+------------------------------------+--------------------------+------------------------------+-------------------------------------------+----------------+--------------------------------+-----------------------------------+------------------------------------+-----------------------------------+-------------------------------+--------------------+----------------------------------+----------------------------+------------------------------+-------------------------------+---------------------------------------+------------------------------------------+---------------------------------------+--------------------------------------+------------------------------+------------------------------+------------------------------------+-----------------------------------------------------+---------------------------------------------------------------+------------------------------+---------------------------------+-----------------------------------------------------+-----------------------+-------------------------------------------+----------------------------------+-----------------+----------------------------------+--------------------------------------+-----------------------------+------------------------+---------------+-----------------------------+-------------------------------+--------------------------+-----------------------------------+---------------------------------------+---------------------------------------------------+--------------------------------------------+------------------------------------------+-------------------------------------------------------+-------------------------------------------------------+--------------------------------------------------+----------------------------------+----------------------------------------------+---------------------------------------------+----------------------------------------+----------------------+-------------------------------------------------------+-----------------------------------+-----------------------------------+------------------------------------------+------------------------------+----------------------------------------+---------------------------------+-------------+--------------------------------------------------------------+---------------------------------------------+-----------------------+--------------------------------------------+---------------+---------------------------------------------+------------------------------------------+-----------------------------------------------+---------------------------------------------------+------------------------------+-----------------------------------+------------------------------+---------------------------------+--------------------------------+------------------------------------------------------------------------+--------------+-----------------------------------------------+----------------------------------+----------------------------------------------+-----------------------------+----------------------------------------------------+---------------------------------------------+---------------------------------------------------------------+-------------------------------------+------------------------------+-----------------------------+------------------------------------------+----------------------------------+--------------------------------------------------+------------------------------------+--------------------------------------------+--------------------------------------------------+------------------------------------------------+------------------------------------+-----------------------------------------------+-----------------------------------------+-----------------------------------------------+-----------------------------------------------+----------------------+-----------------------------------------+----------------------------------+----------------------------------------------+-------------+---------------------------------------------+------------------------+------------------------------------------+---------------------------------------------------+----------------+-----------------------------------------+-----------------------------------------+--------------------------------------------------------------+-----------------------------------------------------+--------------------------------------+--------------------------------------------+----------------------------------------------+--------------------------------------------------+------------------------------------------------------------+----------------------------------------+-------------------------------------------------------+---------------------------------------------------------+-------------------------+------------------------+------------------------------------------------------+-----------------------------------------------+-----------------------------------+---------------------------------------+-----------------------------------+-----------------------------------------------------------------+----------------------------------------------+-----------------------------------------------------------+----------------------------------------------+--------------------------------------------+-----------------------------------------+-------------------------------------------------+----------------------------------------+--------------------------------------------+--------------------------+----------------------------------------------+-------------------------------------------------+----------------------------------------------------------+-----------------------------------------+---------------------------------+----------------------+----------------------------------------+---------------------------------+-------------------------------+---------------------------------------------+---------------------------------+--------------------------------------------------------------+---------------------------------------------+---------------------------------------------------+----------------------------------------------------+------------------------------------------------+-------------------------------------------------------+----------------------------------------------+----------------------------------------------------------------------------+-----------------------------------------------+---------------------------------------------+------------------------------------+---------------------------------------------+-------------------------------+--------------------------------------------------+-------------+-----------------------+-----------------------------------------------------------+-------------------------------------------------------------+----------------------------------------------+-----------------------+------------------------------------------------------+---------------------------------------------------+----------------------------------------------+---------------------------------------------+---------------------------------------------------------+---------------------------+----------------------------------------------------------------------+------------------------+--------------------------------------------------+-----------------------------------------+-------------------------------------------------+------------------------------------------+-----------------------------------------+--------------------------------------------+---------------------------------------------------+-----------------------------------------------------------+------------------------------------+---------------------------------------------+-------------------------------------------------------+---------------------------------------------+-----------------------+---------------------------------------------+------------------------------------------+---------------------------------------------+------------------------------------------------------+------------------------+----------------------------------+-------------------------------------------------------------+------------------------------+-------------------------------------------------+------------------------------+-------------------------------------------------------+--------------------------------------+----------------------------------------------+-----------------------------------------------------------------+------------------------------------------------------+---------------------------------------------+--------------------------------------------------+---------------------------------------------------+-------------------------------------------------+--------------------------+----------------------------------+------------------------------+---------------------------------------------+-----------------------------------+-----------------------------------------------+---------------+----------------------------------------------------------------------+-----------------------------------------------------------+--------------------------------------------------------+--------------------------+-------------------------------------------------------------------------+--------------------------------------------------+------------------------------+-------------+----------------------------------------+---------------------------------------------------------+------------------------------------------------+----------------+---------------------------------------------+---------------------------------------------------------+-----------------------------------------+----------------------------------------------------------------+----------------------+----------------------------------------+----------------------------------+-------------------------+--------------------------------------------------+------------------------------------------+------------------------------------+----------------------------------------------------+----------------------------------------------+------------------------------------------+----------------------------------+-----------------------------------------------------------+--------------------------------------------------+--------------------------------------------------------+------------------------------------------+------------------------------------------------------+--------------------------------------------------------------------+---------------------------------------------+-----------------------------------------------------------------+---------------------------------------------------------------------+----------------------------------+--------------------------------------------------+--------------------------------------------------+---------------------------------------------+--------------------------------------------------+----------------------------------------+------------------------------------------------------------------+---------------------------------------------+---------------------------------------------+-------------------------------------------------------+------------------------------------------------------+----------------------------------------------+--------------------------------------------+----------------+---------------------------------------------------+----------------------------------------+-------------------------------------------+------------------------------------------------------------+----------------------------------------+--------------------------------------------+------------------------------------------------------------+------------------------------------------+-----------------------------------------------------+-------------------------------+-------------------------------------------------------------------+------------------------------+------------------------------------------+----------------------------+-----------------------------------+---------------------------------+-------------------------------------------------------+-------------------------------------------------+---------------------------------------------------------+-------------------------------------------------+-----------------------------------------+---------------------------------------------------------------------------+--------------------------------------------------+-----------------------------------+---------------------------------------------------------------------+------------------------+-------------------------------------------------+------------------------------+------------------------------------------+--------------------------------------------+-------------------------------------------------+------------------------------------+-------------------------------------+------------------------------------------+----------+------+----------+\n"
     ]
    },
    {
     "name": "stdout",
     "output_type": "stream",
     "text": [
      "|       17035|          70|        5998|                                   1553|         0|         0|          3|            0|                          4564|                  4346|              0|                             12084|                        7659|                           5050|      19997|                           1622|                                     1750|                               1583|                     0|                     4346|                      4346|                0|                                       1553|                               3286|            0|                         0|                               1750|                         4346|                     4346|                                      21694|                      14891|                                               1553|                   4346|                                    1553|                                       1553|                                                  1583|                                     21694|                                      1553|                                      1750|                               21694|                                               1553|                  4346|                                           1583|                                1583|           17809|                                          1553|                             1711|                          1748|                            1583|       18020|                                       1553|                            6307|                  4346|                                        1711|                                                          1583|                                       1583|         15479|                          5050|                     4346|                                3286|                         0|                          1622|                                       1553|               0|                            1583|                               1748|                                   0|                               1748|                           4564|                   0|                              1686|                        7659|                          4564|                           1622|                                   1554|                                      1553|                                   1553|                                  4346|                          1622|                          1622|                                3286|                                                 1583|                                                           1583|                          4346|                             4346|                                                 1583|                   1748|                                       1553|                              1748|            16888|                              1748|                                  4346|                         4346|                     105|              0|                         7659|                           6307|                      1748|                               1686|                                   1553|                                               1553|                                       21380|                                      1553|                                                   1583|                                                   1748|                                              1553|                              1750|                                          1554|                                        21380|                                    1554|                  1748|                                                   1583|                               1750|                               1750|                                      1553|                          1583|                                    1553|                             1583|        15207|                                                          1583|                                         1711|                      0|                                        1711|          20206|                                         4346|                                      1583|                                           1583|                                               1583|                          1583|                               1583|                          4346|                             1583|                            1583|                                                                    1583|         21184|                                          21694|                              1748|                                         21380|                         1583|                                                1583|                                         4346|                                                           1583|                                 3286|                          5050|                            0|                                      1553|                              1583|                                              1553|                                3286|                                        1553|                                              1553|                                            1583|                                1711|                                          21694|                                     1748|                                           1583|                                          21694|                 22543|                                     4346|                              1711|                                          1553|        15396|                                        21380|                     105|                                      1553|                                               1553|               0|                                     1748|                                    21694|                                                          1583|                                                 1583|                                  4346|                                        1583|                                         21694|                                              1553|                                                        1583|                                   21380|                                                   1583|                                                     1748|                     4100|                       0|                                                  1748|                                          21694|                               3286|                                   4346|                               1711|                                                             1583|                                         21380|                                                       1583|                                         21380|                                        1583|                                    21380|                                                0|                                    4346|                                       21380|                         0|                                         21380|                                             1583|                                                      1748|                                    21380|                             4346|                     0|                                       0|                             4346|                              0|                                         1583|                            21694|                                                          1583|                                        21694|                                               1553|                                                1748|                                            1583|                                                   1583|                                          1583|                                                                        1583|                                           1583|                                        21380|                               21694|                                        21380|                           6307|                                              1583|        16281|                  21117|                                                       1583|                                                         1583|                                          1583|                  22543|                                                  1583|                                              21694|                                         21694|                                         1711|                                                     1583|                       1748|                                                                  1583|                     105|                                              1553|                                    21380|                                             1553|                                     21694|                                    21694|                                        1583|                                               1583|                                                       1583|                                4346|                                        21694|                                                   1583|                                        21380|                      0|                                        21694|                                      1583|                                        21694|                                                  1748|                       0|                              1750|                                                         1583|                             0|                                             1748|                          1748|                                                   1583|                                  1711|                                         21694|                                                             1583|                                                  1583|                                         4346|                                              1553|                                               1583|                                             1748|                      4100|                              4346|                             0|                                        21694|                               1711|                                          21694|              0|                                                                  1583|                                                       1583|                                                    1583|                         0|                                                                     1583|                                              1553|                         21694|        20592|                                   21380|                                                     1748|                                           21694|               0|                                        21380|                                                     1583|                                    21380|                                                            1748|                 22543|                                   21380|                                 0|                     4100|                                              1583|                                     21694|                                4346|                                                1583|                                         21694|                                     21694|                              4346|                                                       1583|                                              1583|                                                    1583|                                     21694|                                                  1748|                                                                1583|                                         4346|                                                             1583|                                                                 1583|                              1750|                                              1583|                                              1583|                                         4346|                                              1583|                                   21380|                                                              1583|                                        21694|                                        21380|                                                   1583|                                                  1583|                                         21694|                                       21380| "
     ]
    },
    {
     "name": "stdout",
     "output_type": "stream",
     "text": [
      "              0|                                               1583|                                    4346|                                      21694|                                                       21694|                                   21380|                                        1583|                                                        1583|                                      1583|                                                 1583|                              0|                                                               1583|                          1622|                                      1583|                           0|                                  0|                            21694|                                                   1748|                                             1583|                                                     1583|                                             1553|                                    21694|                                                                       1583|                                              1583|                                  0|                                                                 1748|                       0|                                             1583|                          4346|                                     21694|                                        4346|                                             1748|                                   0|                                    0|                                      1583|         0|     0|         0|\n",
      "+------------+------------+------------+---------------------------------------+----------+----------+-----------+-------------+------------------------------+----------------------+---------------+----------------------------------+----------------------------+-------------------------------+-----------+-------------------------------+-----------------------------------------+-----------------------------------+----------------------+-------------------------+--------------------------+-----------------+-------------------------------------------+-----------------------------------+-------------+--------------------------+-----------------------------------+-----------------------------+-------------------------+-------------------------------------------+---------------------------+---------------------------------------------------+-----------------------+----------------------------------------+-------------------------------------------+------------------------------------------------------+------------------------------------------+------------------------------------------+------------------------------------------+------------------------------------+---------------------------------------------------+----------------------+-----------------------------------------------+------------------------------------+----------------+----------------------------------------------+---------------------------------+------------------------------+--------------------------------+------------+-------------------------------------------+--------------------------------+----------------------+--------------------------------------------+--------------------------------------------------------------+-------------------------------------------+--------------+------------------------------+-------------------------+------------------------------------+--------------------------+------------------------------+-------------------------------------------+----------------+--------------------------------+-----------------------------------+------------------------------------+-----------------------------------+-------------------------------+--------------------+----------------------------------+----------------------------+------------------------------+-------------------------------+---------------------------------------+------------------------------------------+---------------------------------------+--------------------------------------+------------------------------+------------------------------+------------------------------------+-----------------------------------------------------+---------------------------------------------------------------+------------------------------+---------------------------------+-----------------------------------------------------+-----------------------+-------------------------------------------+----------------------------------+-----------------+----------------------------------+--------------------------------------+-----------------------------+------------------------+---------------+-----------------------------+-------------------------------+--------------------------+-----------------------------------+---------------------------------------+---------------------------------------------------+--------------------------------------------+------------------------------------------+-------------------------------------------------------+-------------------------------------------------------+--------------------------------------------------+----------------------------------+----------------------------------------------+---------------------------------------------+----------------------------------------+----------------------+-------------------------------------------------------+-----------------------------------+-----------------------------------+------------------------------------------+------------------------------+----------------------------------------+---------------------------------+-------------+--------------------------------------------------------------+---------------------------------------------+-----------------------+--------------------------------------------+---------------+---------------------------------------------+------------------------------------------+-----------------------------------------------+---------------------------------------------------+------------------------------+-----------------------------------+------------------------------+---------------------------------+--------------------------------+------------------------------------------------------------------------+--------------+-----------------------------------------------+----------------------------------+----------------------------------------------+-----------------------------+----------------------------------------------------+---------------------------------------------+---------------------------------------------------------------+-------------------------------------+------------------------------+-----------------------------+------------------------------------------+----------------------------------+--------------------------------------------------+------------------------------------+--------------------------------------------+--------------------------------------------------+------------------------------------------------+------------------------------------+-----------------------------------------------+-----------------------------------------+-----------------------------------------------+-----------------------------------------------+----------------------+-----------------------------------------+----------------------------------+----------------------------------------------+-------------+---------------------------------------------+------------------------+------------------------------------------+---------------------------------------------------+----------------+-----------------------------------------+-----------------------------------------+--------------------------------------------------------------+-----------------------------------------------------+--------------------------------------+--------------------------------------------+----------------------------------------------+--------------------------------------------------+------------------------------------------------------------+----------------------------------------+-------------------------------------------------------+---------------------------------------------------------+-------------------------+------------------------+------------------------------------------------------+-----------------------------------------------+-----------------------------------+---------------------------------------+-----------------------------------+-----------------------------------------------------------------+----------------------------------------------+-----------------------------------------------------------+----------------------------------------------+--------------------------------------------+-----------------------------------------+-------------------------------------------------+----------------------------------------+--------------------------------------------+--------------------------+----------------------------------------------+-------------------------------------------------+----------------------------------------------------------+-----------------------------------------+---------------------------------+----------------------+----------------------------------------+---------------------------------+-------------------------------+---------------------------------------------+---------------------------------+--------------------------------------------------------------+---------------------------------------------+---------------------------------------------------+----------------------------------------------------+------------------------------------------------+-------------------------------------------------------+----------------------------------------------+----------------------------------------------------------------------------+-----------------------------------------------+---------------------------------------------+------------------------------------+---------------------------------------------+-------------------------------+--------------------------------------------------+-------------+-----------------------+-----------------------------------------------------------+-------------------------------------------------------------+----------------------------------------------+-----------------------+------------------------------------------------------+---------------------------------------------------+----------------------------------------------+---------------------------------------------+---------------------------------------------------------+---------------------------+----------------------------------------------------------------------+------------------------+--------------------------------------------------+-----------------------------------------+-------------------------------------------------+------------------------------------------+-----------------------------------------+--------------------------------------------+---------------------------------------------------+-----------------------------------------------------------+------------------------------------+---------------------------------------------+-------------------------------------------------------+---------------------------------------------+-----------------------+---------------------------------------------+------------------------------------------+---------------------------------------------+------------------------------------------------------+------------------------+----------------------------------+-------------------------------------------------------------+------------------------------+-------------------------------------------------+------------------------------+-------------------------------------------------------+--------------------------------------+----------------------------------------------+-----------------------------------------------------------------+------------------------------------------------------+---------------------------------------------+--------------------------------------------------+---------------------------------------------------+-------------------------------------------------+--------------------------+----------------------------------+------------------------------+---------------------------------------------+-----------------------------------+-----------------------------------------------+---------------+----------------------------------------------------------------------+-----------------------------------------------------------+--------------------------------------------------------+--------------------------+-------------------------------------------------------------------------+--------------------------------------------------+------------------------------+-------------+----------------------------------------+---------------------------------------------------------+------------------------------------------------+----------------+---------------------------------------------+---------------------------------------------------------+-----------------------------------------+----------------------------------------------------------------+----------------------+----------------------------------------+----------------------------------+-------------------------+--------------------------------------------------+------------------------------------------+------------------------------------+----------------------------------------------------+----------------------------------------------+------------------------------------------+----------------------------------+-----------------------------------------------------------+--------------------------------------------------+--------------------------------------------------------+------------------------------------------+------------------------------------------------------+--------------------------------------------------------------------+---------------------------------------------+-----------------------------------------------------------------+---------------------------------------------------------------------+----------------------------------+--------------------------------------------------+--------------------------------------------------+---------------------------------------------+--------------------------------------------------+----------------------------------------+------------------------------------------------------------------+---------------------------------------------+---------------------------------------------+-------------------------------------------------------+------------------------------------------------------+----------------------------------------------+--------------------------------------------+----------------+---------------------------------------------------+----------------------------------------+-------------------------------------------+------------------------------------------------------------+----------------------------------------+--------------------------------------------+------------------------------------------------------------+------------------------------------------+-----------------------------------------------------+-------------------------------+-------------------------------------------------------------------+------------------------------+------------------------------------------+----------------------------+-----------------------------------+---------------------------------+-------------------------------------------------------+-------------------------------------------------+---------------------------------------------------------+-------------------------------------------------+-----------------------------------------+---------------------------------------------------------------------------+--------------------------------------------------+-----------------------------------+---------------------------------------------------------------------+------------------------+-------------------------------------------------+------------------------------+------------------------------------------+--------------------------------------------+-------------------------------------------------+------------------------------------+-------------------------------------+------------------------------------------+----------+------+----------+\n",
      "\n"
     ]
    }
   ],
   "source": [
    "df3.show()"
   ]
  },
  {
   "cell_type": "markdown",
   "metadata": {},
   "source": [
    "Or: Express the count of null value in each column in forms of array:"
   ]
  },
  {
   "cell_type": "code",
   "execution_count": 16,
   "metadata": {},
   "outputs": [
    {
     "name": "stdout",
     "output_type": "stream",
     "text": [
      "+--------------------+-------------+\n",
      "|             colName|missingValues|\n",
      "+--------------------+-------------+\n",
      "|        EXT_SOURCE_1|        17035|\n",
      "|        EXT_SOURCE_2|           70|\n",
      "|        EXT_SOURCE_3|         5998|\n",
      "|client_installmen...|         1553|\n",
      "|          DAYS_BIRTH|            0|\n",
      "|          AMT_CREDIT|            0|\n",
      "|         AMT_ANNUITY|            3|\n",
      "|       DAYS_EMPLOYED|            0|\n",
      "|bureau_DAYS_CREDI...|         4564|\n",
      "|bureau_DAYS_CREDI...|         4346|\n",
      "|     DAYS_ID_PUBLISH|            0|\n",
      "|bureau_AMT_CREDIT...|        12084|\n",
      "|bureau_DAYS_ENDDA...|         7659|\n",
      "|bureau_AMT_CREDIT...|         5050|\n",
      "|         OWN_CAR_AGE|        19997|\n",
      "|previous_loans_CN...|         1622|\n",
      "|client_cash_CNT_I...|         1750|\n",
      "|previous_loans_SE...|         1583|\n",
      "|DAYS_LAST_PHONE_C...|            0|\n",
      "|bureau_AMT_CREDIT...|         4346|\n",
      "+--------------------+-------------+\n",
      "only showing top 20 rows\n",
      "\n"
     ]
    },
    {
     "data": {
      "text/plain": [
       "col: Array[String] = Array(EXT_SOURCE_1, EXT_SOURCE_2, EXT_SOURCE_3, client_installments_AMT_PAYMENT_min_sum, DAYS_BIRTH, AMT_CREDIT, AMT_ANNUITY, DAYS_EMPLOYED, bureau_DAYS_CREDIT_ENDDATE_max, bureau_DAYS_CREDIT_max, DAYS_ID_PUBLISH, bureau_AMT_CREDIT_MAX_OVERDUE_mean, bureau_DAYS_ENDDATE_FACT_max, bureau_AMT_CREDIT_SUM_DEBT_mean, OWN_CAR_AGE, previous_loans_CNT_PAYMENT_mean, client_cash_CNT_INSTALMENT_FUTURE_min_max, previous_loans_SELLERPLACE_AREA_max, DAYS_LAST_PHONE_CHANGE, bureau_AMT_CREDIT_SUM_max, bureau_AMT_CREDIT_SUM_mean, DAYS_REGISTRATION, client_installments_DAYS_INSTALMENT_max_max, previous_loans_AMT_DOWN_PAYMENT_max, CODE_GENDER_F, REGION_POPULATION_RELATIVE, client_cash_CNT_INSTALMENT_max_mean, bureau_DAYS_CREDIT_UPDATE_max, bureau_AMT_CREDIT_SUM_sum, client_credit_AMT_D..."
      ]
     },
     "execution_count": 16,
     "metadata": {},
     "output_type": "execute_result"
    }
   ],
   "source": [
    "val col= df.columns\n",
    "var dfArray=col.map(colmn=>df.select(lit(colmn).as(\"colName\"),sum(when(df(colmn).isNull,1).otherwise(0)).as(\"missingValues\")))\n",
    "dfArray.tail.foldLeft(dfArray.head)((acc,itr)=>acc.union(itr)).show"
   ]
  },
  {
   "cell_type": "markdown",
   "metadata": {},
   "source": [
    "From the above outcome we can see that there are lots of columns with a big portion of null value.\n",
    "But if we remove all rows containing 'null', there would be only 800+ rows and 300+columns left, far from enought for\n",
    "the following steps.\n",
    "\n",
    "Hence we set a threshold as 92253, which is 30% of the number of total rows. And set a pipeline to select the columns \n",
    "in which the null counts is less than 92253, in other words, less than 30% of the column is emply."
   ]
  },
  {
   "cell_type": "code",
   "execution_count": 17,
   "metadata": {},
   "outputs": [
    {
     "data": {
      "text/plain": [
       "null_thresh: Int = 92253\n",
       "to_keep: Array[String] = Array(EXT_SOURCE_1, EXT_SOURCE_2, EXT_SOURCE_3, client_installments_AMT_PAYMENT_min_sum, DAYS_BIRTH, AMT_CREDIT, AMT_ANNUITY, DAYS_EMPLOYED, bureau_DAYS_CREDIT_ENDDATE_max, bureau_DAYS_CREDIT_max, DAYS_ID_PUBLISH, bureau_AMT_CREDIT_MAX_OVERDUE_mean, bureau_DAYS_ENDDATE_FACT_max, bureau_AMT_CREDIT_SUM_DEBT_mean, OWN_CAR_AGE, previous_loans_CNT_PAYMENT_mean, client_cash_CNT_INSTALMENT_FUTURE_min_max, previous_loans_SELLERPLACE_AREA_max, DAYS_LAST_PHONE_CHANGE, bureau_AMT_CREDIT_SUM_max, bureau_AMT_CREDIT_SUM_mean, DAYS_REGISTRATION, client_installments_DAYS_INSTALMENT_max_max, previous_loans_AMT_DOWN_PAYMENT_max, CODE_GENDER_F, REGION_POPULATION_RELATIVE, client_cash_CNT_INSTALMENT_max_mean, bureau_DAYS_CREDIT_UPDATE_max, bureau_AMT_CREDIT..."
      ]
     },
     "execution_count": 17,
     "metadata": {},
     "output_type": "execute_result"
    }
   ],
   "source": [
    "val null_thresh = 92253              \n",
    "\n",
    "val to_keep = df.columns.filter(\n",
    "    c => df.agg(\n",
    "        sum(when(df(c).isNull, 1).otherwise(0)).alias(c)\n",
    "    ).first().getLong(0) <= null_thresh\n",
    ")\n",
    "\n",
    "//df.select(to_keep.head, to_keep.tail: _*).show()"
   ]
  },
  {
   "cell_type": "code",
   "execution_count": 18,
   "metadata": {},
   "outputs": [
    {
     "data": {
      "text/plain": [
       "df5: org.apache.spark.sql.DataFrame = [EXT_SOURCE_1: string, EXT_SOURCE_2: string ... 359 more fields]\n"
      ]
     },
     "execution_count": 18,
     "metadata": {},
     "output_type": "execute_result"
    }
   ],
   "source": [
    "val df5=df.select(to_keep.head, to_keep.tail: _*)"
   ]
  },
  {
   "cell_type": "code",
   "execution_count": 19,
   "metadata": {},
   "outputs": [
    {
     "data": {
      "text/plain": [
       "res6: Long = 30283\n"
      ]
     },
     "execution_count": 19,
     "metadata": {},
     "output_type": "execute_result"
    }
   ],
   "source": [
    "df5.count()"
   ]
  },
  {
   "cell_type": "markdown",
   "metadata": {},
   "source": [
    "We can see that there are 283 columns left and 307511 rows left"
   ]
  },
  {
   "cell_type": "markdown",
   "metadata": {},
   "source": [
    "Now we can try to drop the null rows and see what we've got:"
   ]
  },
  {
   "cell_type": "code",
   "execution_count": 20,
   "metadata": {},
   "outputs": [
    {
     "data": {
      "text/plain": [
       "df6: org.apache.spark.sql.DataFrame = [EXT_SOURCE_1: string, EXT_SOURCE_2: string ... 359 more fields]\n",
       "res7: Long = 87\n"
      ]
     },
     "execution_count": 20,
     "metadata": {},
     "output_type": "execute_result"
    }
   ],
   "source": [
    "val df6=df5.na.drop()\n",
    "df6.count()"
   ]
  },
  {
   "cell_type": "code",
   "execution_count": 1,
   "metadata": {},
   "outputs": [
    {
     "data": {
      "text/plain": [
       "Intitializing Scala interpreter ..."
      ]
     },
     "metadata": {},
     "output_type": "display_data"
    },
    {
     "data": {
      "text/plain": [
       "Spark Web UI available at http://82a2456298de:4043\n",
       "SparkContext available as 'sc' (version = 2.4.3, master = local[*], app id = local-1558910889672)\n",
       "SparkSession available as 'spark'\n"
      ]
     },
     "metadata": {},
     "output_type": "display_data"
    },
    {
     "name": "stdout",
     "output_type": "stream",
     "text": [
      "2019-05-26 22:48:05,878 WARN  [main] util.NativeCodeLoader (NativeCodeLoader.java:<clinit>(62)) - Unable to load native-hadoop library for your platform... using builtin-java classes where applicable\n",
      "2019-05-26 22:48:09,194 WARN  [Thread-4] util.Utils (Logging.scala:logWarning(66)) - Service 'SparkUI' could not bind on port 4040. Attempting port 4041.\n",
      "2019-05-26 22:48:09,206 WARN  [Thread-4] util.Utils (Logging.scala:logWarning(66)) - Service 'SparkUI' could not bind on port 4041. Attempting port 4042.\n",
      "2019-05-26 22:48:09,208 WARN  [Thread-4] util.Utils (Logging.scala:logWarning(66)) - Service 'SparkUI' could not bind on port 4042. Attempting port 4043.\n"
     ]
    },
    {
     "ename": "<console>",
     "evalue": "24: error: not found: value df6",
     "output_type": "error",
     "traceback": [
      "<console>:24: error: not found: value df6",
      "       val creditRiskdf = df6",
      "                          ^",
      ""
     ]
    }
   ],
   "source": [
    "val creditRiskdf = df6"
   ]
  },
  {
   "cell_type": "markdown",
   "metadata": {},
   "source": [
    "## flagging duplicate values:"
   ]
  },
  {
   "cell_type": "code",
   "execution_count": null,
   "metadata": {},
   "outputs": [],
   "source": [
    "//because the data has already been transformed & normalised use the IDCol (ARRindex:360) to check dupes"
   ]
  },
  {
   "cell_type": "code",
   "execution_count": 21,
   "metadata": {},
   "outputs": [
    {
     "data": {
      "text/plain": [
       "res8: Long = 87\n"
      ]
     },
     "execution_count": 21,
     "metadata": {},
     "output_type": "execute_result"
    }
   ],
   "source": [
    "df6.dropDuplicates(\"SK_ID_CURR\").count()"
   ]
  },
  {
   "cell_type": "markdown",
   "metadata": {},
   "source": [
    "We can see that there are no duplicate rows in this dataframe. \n",
    "We end up with 183875 rows and 283 columns."
   ]
  },
  {
   "cell_type": "markdown",
   "metadata": {},
   "source": [
    "Now write our dataframe in a csv file:"
   ]
  },
  {
   "cell_type": "code",
   "execution_count": null,
   "metadata": {},
   "outputs": [],
   "source": [
    "df6.write.option(\"header\", \"true\").csv(\"m_train_small_5.csv\")"
   ]
  },
  {
   "cell_type": "markdown",
   "metadata": {},
   "source": [
    "## displaying outliers:"
   ]
  },
  {
   "cell_type": "code",
   "execution_count": 22,
   "metadata": {},
   "outputs": [
    {
     "ename": "<console>",
     "evalue": "80: error: type mismatch;",
     "output_type": "error",
     "traceback": [
      "<console>:80: error: type mismatch;",
      " found   : String",
      " required: Int",
      "           var outHigh = creditRiskdf.filter(col(feature) > lit(testValHigh)).count()",
      "                                                 ^",
      "<console>:81: error: type mismatch;",
      " found   : String",
      " required: Int",
      "           var outLow = creditRiskdf.filter(col(feature) < lit(testValLow)).count()",
      "                                                ^",
      "<console>:86: error: value || is not a member of Int",
      "           }else if (outHigh = 0 || outLow = 0){",
      "                                 ^",
      "<console>:86: error: type mismatch;",
      " found   : Unit",
      " required: Boolean",
      "           }else if (outHigh = 0 || outLow = 0){",
      "                             ^",
      ""
     ]
    }
   ],
   "source": [
    "//write function to check if there are any outliers in a given domain and show boxplot [Sean]\n",
    "//slice a small test list to ensure functionality\n",
    "//var test_lis = creditRiskFeatures.slice(0,2) //TEST var for codeblock\n",
    "for (feature <- creditRiskFeatures) {\n",
    "    //summarise column and query the DataFrame output\n",
    "    var firstQ = creditRiskdf.select(feature).summary().where($\"summary\" === \"25%\").select(feature).first().mkString.toFloat\n",
    "    var thirdQ = creditRiskdf.select(feature).summary().where($\"summary\" === \"75%\").select(feature).first().mkString.toFloat\n",
    "    //use formulas below to test threshold of outliers\n",
    "    var testValHigh = thirdQ + (1.5 * thirdQ - firstQ)\n",
    "    var testValLow = firstQ - (1.5 * thirdQ - firstQ)\n",
    "    //check to see if thresholds are exceeded in the column and count \n",
    "    var outHigh = creditRiskdf.filter(col(feature) > lit(testValHigh)).count()\n",
    "    var outLow = creditRiskdf.filter(col(feature) < lit(testValLow)).count()\n",
    "    \n",
    "    //notify us whether or not column contains outliers\n",
    "    if (outHigh > 0 || outLow > 0 ){\n",
    "        println(feature.concat(\": Contains outliers, #\").concat((outHigh + outLow).toString))\n",
    "    }else if (outHigh = 0 || outLow = 0){\n",
    "        println(feature.concat(\": Does not contain outliers\"))\n",
    "    }\n",
    "}"
   ]
  },
  {
   "cell_type": "code",
   "execution_count": 23,
   "metadata": {},
   "outputs": [
    {
     "data": {
      "text/plain": [
       "DoBoxes: (feature: String)Int\n"
      ]
     },
     "execution_count": 23,
     "metadata": {},
     "output_type": "execute_result"
    }
   ],
   "source": [
    "// show boxplot [Tim]\n",
    "def DoBoxes(feature: String): Int = {\n",
    "        var testVal:Int = 0\n",
    "val meandf = creditRiskdf.agg(feature -> \"mean\").first().mkString.toFloat                     //Tim \n",
    "//val stddevdf = creditRiskdf.agg(tfeature -> \"stddev\").first().mkString.toFloat                  // test Cell\n",
    "val mindf = creditRiskdf.agg(feature -> \"min\").first().mkString.toFloat\n",
    "val maxdf = creditRiskdf.agg(feature -> \"max\").first().mkString.toFloat\n",
    "val q1 = maxdf * .25 \n",
    "val q3 = maxdf * .75\n",
    "//case class BoxEntry(key: String, grouping: String, Value: Float)                        // focus for week 3/4 to convert to diagrams\n",
    "//val boxSeries = for(x <- 1 to 1) yield BoxEntry(tfeature,\"sum\",maxdf)\n",
    "//val boxSeriesRDD = sc.parallelize(boxSeries)\n",
    "println(feature+\" \"+mindf+\" \"+q1+\" \"+meandf+\" \"+q3+\" \"+maxdf)\n",
    "// println(boxSeriesRDD)    \n",
    "return testVal    \n",
    "}"
   ]
  },
  {
   "cell_type": "code",
   "execution_count": null,
   "metadata": {},
   "outputs": [],
   "source": [
    "//Initial call for the box plots.\n",
    "for (feature <- creditRiskFeatures){\n",
    "    DoBoxes(feature);                  // works but runs at about 14 secs per feature or column and will take 1.5 hours to complete\n",
    "}"
   ]
  },
  {
   "cell_type": "code",
   "execution_count": 27,
   "metadata": {},
   "outputs": [
    {
     "name": "stdout",
     "output_type": "stream",
     "text": [
      "client_installments_NUM_INSTALMENT_VERSION_max_mean 0.0 2.4783949851989746 1.4393115 7.435184955596924 9.91358\n"
     ]
    },
    {
     "data": {
      "text/plain": [
       "feature: String = client_installments_NUM_INSTALMENT_VERSION_max_mean\n",
       "res10: Int = 0\n"
      ]
     },
     "execution_count": 27,
     "metadata": {},
     "output_type": "execute_result"
    }
   ],
   "source": [
    "val feature = creditRiskFeatures(40)\n",
    "DoBoxes(feature)"
   ]
  },
  {
   "cell_type": "markdown",
   "metadata": {},
   "source": [
    "## reviewing data values for inconsistencies:"
   ]
  },
  {
   "cell_type": "code",
   "execution_count": 9,
   "metadata": {},
   "outputs": [
    {
     "data": {
      "text/plain": [
       "incon: (df: org.apache.spark.sql.DataFrame, feature: org.apache.spark.sql.Column)Unit\n"
      ]
     },
     "execution_count": 9,
     "metadata": {},
     "output_type": "execute_result"
    }
   ],
   "source": [
    "// define function to display summary statistics of specified feature\n",
    "\n",
    "def incon (df:org.apache.spark.sql.DataFrame ,feature:org.apache.spark.sql.Column) {\n",
    "    val f1 = df.select(feature)\n",
    "    \n",
    "    // data is in DataType String - convert to Float to faciltate \n",
    "    // computation of summary statistics\n",
    "    val f2 = f1.withColumn(f1.columns.mkString, f1.col(\n",
    "        f1.columns.mkString).cast(DataTypes.FloatType))\n",
    "    f2.summary().show()\n",
    "    val f3 = f2.na.drop()\n",
    "    f3.sort(desc(f3.columns.mkString)).show(10)\n",
    "    f3.sort(asc(f3.columns.mkString)).show(10)\n",
    "}"
   ]
  },
  {
   "cell_type": "code",
   "execution_count": 29,
   "metadata": {},
   "outputs": [
    {
     "name": "stdout",
     "output_type": "stream",
     "text": [
      "+-------+---------------------------+\n",
      "|summary|YEARS_BEGINEXPLUATATION_AVG|\n",
      "+-------+---------------------------+\n",
      "|  count|                      15392|\n",
      "|   mean|         0.9776829908671644|\n",
      "| stddev|        0.05945920180365278|\n",
      "|    min|                        0.0|\n",
      "|    25%|                     0.9767|\n",
      "|    50%|                     0.9821|\n",
      "|    75%|                     0.9866|\n",
      "|    max|                        1.0|\n",
      "+-------+---------------------------+\n",
      "\n",
      "+---------------------------+\n",
      "|YEARS_BEGINEXPLUATATION_AVG|\n",
      "+---------------------------+\n",
      "|                        1.0|\n",
      "|                        1.0|\n",
      "|                        1.0|\n",
      "|                        1.0|\n",
      "|                        1.0|\n",
      "|                        1.0|\n",
      "|                        1.0|\n",
      "|                        1.0|\n",
      "|                        1.0|\n",
      "|                        1.0|\n",
      "+---------------------------+\n",
      "only showing top 10 rows\n",
      "\n",
      "+---------------------------+\n",
      "|YEARS_BEGINEXPLUATATION_AVG|\n",
      "+---------------------------+\n",
      "|                        0.0|\n",
      "|                        0.0|\n",
      "|                        0.0|\n",
      "|                        0.0|\n",
      "|                        0.0|\n",
      "|                        0.0|\n",
      "|                        0.0|\n",
      "|                        0.0|\n",
      "|                        0.0|\n",
      "|                        0.0|\n",
      "+---------------------------+\n",
      "only showing top 10 rows\n",
      "\n",
      "+-------+-------------------------+\n",
      "|summary|AMT_REQ_CREDIT_BUREAU_MON|\n",
      "+-------+-------------------------+\n",
      "|  count|                    26183|\n",
      "|   mean|      0.27143566436237254|\n",
      "| stddev|       0.9625543293567553|\n",
      "|    min|                      0.0|\n",
      "|    25%|                      0.0|\n",
      "|    50%|                      0.0|\n",
      "|    75%|                      0.0|\n",
      "|    max|                     22.0|\n",
      "+-------+-------------------------+\n",
      "\n",
      "+-------------------------+\n",
      "|AMT_REQ_CREDIT_BUREAU_MON|\n",
      "+-------------------------+\n",
      "|                     22.0|\n",
      "|                     19.0|\n",
      "|                     18.0|\n",
      "|                     17.0|\n",
      "|                     17.0|\n",
      "|                     16.0|\n",
      "|                     16.0|\n",
      "|                     16.0|\n",
      "|                     15.0|\n",
      "|                     15.0|\n",
      "+-------------------------+\n",
      "only showing top 10 rows\n",
      "\n",
      "+-------------------------+\n",
      "|AMT_REQ_CREDIT_BUREAU_MON|\n",
      "+-------------------------+\n",
      "|                      0.0|\n",
      "|                      0.0|\n",
      "|                      0.0|\n",
      "|                      0.0|\n",
      "|                      0.0|\n",
      "|                      0.0|\n",
      "|                      0.0|\n",
      "|                      0.0|\n",
      "|                      0.0|\n",
      "|                      0.0|\n",
      "+-------------------------+\n",
      "only showing top 10 rows\n",
      "\n",
      "+-------+------------------------------+\n",
      "|summary|bureau_DAYS_CREDIT_ENDDATE_sum|\n",
      "+-------+------------------------------+\n",
      "|  count|                         25937|\n",
      "|   mean|            2678.8787446504994|\n",
      "| stddev|            12715.159947326909|\n",
      "|    min|                      -55250.0|\n",
      "|    25%|                       -2856.0|\n",
      "|    50%|                        -371.0|\n",
      "|    75%|                        1808.0|\n",
      "|    max|                      152574.0|\n",
      "+-------+------------------------------+\n",
      "\n",
      "+------------------------------+\n",
      "|bureau_DAYS_CREDIT_ENDDATE_sum|\n",
      "+------------------------------+\n",
      "|                      152574.0|\n",
      "|                      143479.0|\n",
      "|                      133207.0|\n",
      "|                      129103.0|\n",
      "|                      121009.0|\n",
      "|                      117630.0|\n",
      "|                      116896.0|\n",
      "|                      109998.0|\n",
      "|                      108912.0|\n",
      "|                       94055.0|\n",
      "+------------------------------+\n",
      "only showing top 10 rows\n",
      "\n",
      "+------------------------------+\n",
      "|bureau_DAYS_CREDIT_ENDDATE_sum|\n",
      "+------------------------------+\n",
      "|                      -55250.0|\n",
      "|                      -49075.0|\n",
      "|                      -46287.0|\n",
      "|                      -45596.0|\n",
      "|                      -44531.0|\n",
      "|                      -44515.0|\n",
      "|                      -44116.0|\n",
      "|                      -42981.0|\n",
      "|                      -42825.0|\n",
      "|                      -41965.0|\n",
      "+------------------------------+\n",
      "only showing top 10 rows\n",
      "\n",
      "+-------+---------------------------------------------------------------------+\n",
      "|summary|client_cash_NAME_CONTRACT_STATUS_Returned to the store_count_norm_max|\n",
      "+-------+---------------------------------------------------------------------+\n",
      "|  count|                                                                28535|\n",
      "|   mean|                                                 0.002948608950618...|\n",
      "| stddev|                                                   0.0357237418524392|\n",
      "|    min|                                                                  0.0|\n",
      "|    25%|                                                                  0.0|\n",
      "|    50%|                                                                  0.0|\n",
      "|    75%|                                                                  0.0|\n",
      "|    max|                                                                  1.0|\n",
      "+-------+---------------------------------------------------------------------+\n",
      "\n",
      "+---------------------------------------------------------------------+\n",
      "|client_cash_NAME_CONTRACT_STATUS_Returned to the store_count_norm_max|\n",
      "+---------------------------------------------------------------------+\n",
      "|                                                                  1.0|\n",
      "|                                                                  1.0|\n",
      "|                                                                  1.0|\n",
      "|                                                                  1.0|\n",
      "|                                                                  1.0|\n",
      "|                                                                  1.0|\n",
      "|                                                                  1.0|\n",
      "|                                                                  1.0|\n",
      "|                                                                  1.0|\n",
      "|                                                                  1.0|\n",
      "+---------------------------------------------------------------------+\n",
      "only showing top 10 rows\n",
      "\n",
      "+---------------------------------------------------------------------+\n",
      "|client_cash_NAME_CONTRACT_STATUS_Returned to the store_count_norm_max|\n",
      "+---------------------------------------------------------------------+\n",
      "|                                                                  0.0|\n",
      "|                                                                  0.0|\n",
      "|                                                                  0.0|\n",
      "|                                                                  0.0|\n",
      "|                                                                  0.0|\n",
      "|                                                                  0.0|\n",
      "|                                                                  0.0|\n",
      "|                                                                  0.0|\n",
      "|                                                                  0.0|\n",
      "|                                                                  0.0|\n",
      "+---------------------------------------------------------------------+\n",
      "only showing top 10 rows\n",
      "\n",
      "+-------+--------------------+\n",
      "|summary|    FLAG_DOCUMENT_18|\n",
      "+-------+--------------------+\n",
      "|  count|               30283|\n",
      "|   mean|0.008321500511838326|\n",
      "| stddev| 0.09084341282970282|\n",
      "|    min|                 0.0|\n",
      "|    25%|                 0.0|\n",
      "|    50%|                 0.0|\n",
      "|    75%|                 0.0|\n",
      "|    max|                 1.0|\n",
      "+-------+--------------------+\n",
      "\n",
      "+----------------+\n",
      "|FLAG_DOCUMENT_18|\n",
      "+----------------+\n",
      "|             1.0|\n",
      "|             1.0|\n",
      "|             1.0|\n",
      "|             1.0|\n",
      "|             1.0|\n",
      "|             1.0|\n",
      "|             1.0|\n",
      "|             1.0|\n",
      "|             1.0|\n",
      "|             1.0|\n",
      "+----------------+\n",
      "only showing top 10 rows\n",
      "\n",
      "+----------------+\n",
      "|FLAG_DOCUMENT_18|\n",
      "+----------------+\n",
      "|             0.0|\n",
      "|             0.0|\n",
      "|             0.0|\n",
      "|             0.0|\n",
      "|             0.0|\n",
      "|             0.0|\n",
      "|             0.0|\n",
      "|             0.0|\n",
      "|             0.0|\n",
      "|             0.0|\n",
      "+----------------+\n",
      "only showing top 10 rows\n",
      "\n",
      "+-------+-----------------------------------+\n",
      "|summary|previous_loans_AMT_GOODS_PRICE_mean|\n",
      "+-------+-----------------------------------+\n",
      "|  count|                              28597|\n",
      "|   mean|                 194362.20814584327|\n",
      "| stddev|                   194394.178324545|\n",
      "|    min|                                0.0|\n",
      "|    25%|                           72573.75|\n",
      "|    50%|                           128607.0|\n",
      "|    75%|                           247302.0|\n",
      "|    max|                          3150000.0|\n",
      "+-------+-----------------------------------+\n"
     ]
    },
    {
     "name": "stdout",
     "output_type": "stream",
     "text": [
      "\n",
      "+-----------------------------------+\n",
      "|previous_loans_AMT_GOODS_PRICE_mean|\n",
      "+-----------------------------------+\n",
      "|                          3150000.0|\n",
      "|                          3150000.0|\n",
      "|                          2925000.0|\n",
      "|                          2722971.5|\n",
      "|                          2357573.2|\n",
      "|                          2250000.0|\n",
      "|                          2137500.0|\n",
      "|                          2135250.0|\n",
      "|                          2107672.0|\n",
      "|                          2025000.0|\n",
      "+-----------------------------------+\n",
      "only showing top 10 rows\n",
      "\n",
      "+-----------------------------------+\n",
      "|previous_loans_AMT_GOODS_PRICE_mean|\n",
      "+-----------------------------------+\n",
      "|                                0.0|\n",
      "|                                0.0|\n",
      "|                                0.0|\n",
      "|                             6876.0|\n",
      "|                             8725.5|\n",
      "|                             9855.0|\n",
      "|                           10739.25|\n",
      "|                            11227.5|\n",
      "|                           11990.25|\n",
      "|                            12235.5|\n",
      "+-----------------------------------+\n",
      "only showing top 10 rows\n",
      "\n",
      "+-------+-------------------------+\n",
      "|summary|bureau_AMT_CREDIT_SUM_max|\n",
      "+-------+-------------------------+\n",
      "|  count|                    25937|\n",
      "|   mean|        982210.1854041765|\n",
      "| stddev|       2007712.6542481228|\n",
      "|    min|                      0.0|\n",
      "|    25%|                 180000.0|\n",
      "|    50%|                 450000.0|\n",
      "|    75%|                1042560.0|\n",
      "|    max|                  1.035E8|\n",
      "+-------+-------------------------+\n",
      "\n",
      "+-------------------------+\n",
      "|bureau_AMT_CREDIT_SUM_max|\n",
      "+-------------------------+\n",
      "|                  1.035E8|\n",
      "|                1.00998E8|\n",
      "|              7.5860096E7|\n",
      "|                   5.85E7|\n",
      "|                  4.725E7|\n",
      "|              4.0078352E7|\n",
      "|                  3.906E7|\n",
      "|                3.81672E7|\n",
      "|                3.70233E7|\n",
      "|                   3.15E7|\n",
      "+-------------------------+\n",
      "only showing top 10 rows\n",
      "\n",
      "+-------------------------+\n",
      "|bureau_AMT_CREDIT_SUM_max|\n",
      "+-------------------------+\n",
      "|                      0.0|\n",
      "|                      0.0|\n",
      "|                      0.0|\n",
      "|                      0.0|\n",
      "|                      0.0|\n",
      "|                      0.0|\n",
      "|                      0.0|\n",
      "|                      0.0|\n",
      "|                      0.0|\n",
      "|                      0.0|\n",
      "+-------------------------+\n",
      "only showing top 10 rows\n",
      "\n",
      "+-------+--------------------------------------------------+\n",
      "|summary|previous_loans_NAME_CONTRACT_STATUS_Approved_count|\n",
      "+-------+--------------------------------------------------+\n",
      "|  count|                                             28700|\n",
      "|   mean|                                 3.054425087108014|\n",
      "| stddev|                                2.1343347411809632|\n",
      "|    min|                                               0.0|\n",
      "|    25%|                                               1.0|\n",
      "|    50%|                                               3.0|\n",
      "|    75%|                                               4.0|\n",
      "|    max|                                              24.0|\n",
      "+-------+--------------------------------------------------+\n",
      "\n",
      "+--------------------------------------------------+\n",
      "|previous_loans_NAME_CONTRACT_STATUS_Approved_count|\n",
      "+--------------------------------------------------+\n",
      "|                                              24.0|\n",
      "|                                              19.0|\n",
      "|                                              19.0|\n",
      "|                                              19.0|\n",
      "|                                              18.0|\n",
      "|                                              18.0|\n",
      "|                                              18.0|\n",
      "|                                              18.0|\n",
      "|                                              17.0|\n",
      "|                                              17.0|\n",
      "+--------------------------------------------------+\n",
      "only showing top 10 rows\n",
      "\n",
      "+--------------------------------------------------+\n",
      "|previous_loans_NAME_CONTRACT_STATUS_Approved_count|\n",
      "+--------------------------------------------------+\n",
      "|                                               0.0|\n",
      "|                                               0.0|\n",
      "|                                               0.0|\n",
      "|                                               0.0|\n",
      "|                                               0.0|\n",
      "|                                               0.0|\n",
      "|                                               0.0|\n",
      "|                                               0.0|\n",
      "|                                               0.0|\n",
      "|                                               0.0|\n",
      "+--------------------------------------------------+\n",
      "only showing top 10 rows\n",
      "\n",
      "+-------+---------------------------------------------------+\n",
      "|summary|previous_loans_CHANNEL_TYPE_Country-wide_count_norm|\n",
      "+-------+---------------------------------------------------+\n",
      "|  count|                                              28700|\n",
      "|   mean|                                 0.3680682088037505|\n",
      "| stddev|                                 0.3589137581977347|\n",
      "|    min|                                                0.0|\n",
      "|    25%|                                                0.0|\n",
      "|    50%|                                          0.2857143|\n",
      "|    75%|                                                0.6|\n",
      "|    max|                                                1.0|\n",
      "+-------+---------------------------------------------------+\n",
      "\n",
      "+---------------------------------------------------+\n",
      "|previous_loans_CHANNEL_TYPE_Country-wide_count_norm|\n",
      "+---------------------------------------------------+\n",
      "|                                                1.0|\n",
      "|                                                1.0|\n",
      "|                                                1.0|\n",
      "|                                                1.0|\n",
      "|                                                1.0|\n",
      "|                                                1.0|\n",
      "|                                                1.0|\n",
      "|                                                1.0|\n",
      "|                                                1.0|\n",
      "|                                                1.0|\n",
      "+---------------------------------------------------+\n",
      "only showing top 10 rows\n",
      "\n",
      "+---------------------------------------------------+\n",
      "|previous_loans_CHANNEL_TYPE_Country-wide_count_norm|\n",
      "+---------------------------------------------------+\n",
      "|                                                0.0|\n",
      "|                                                0.0|\n",
      "|                                                0.0|\n",
      "|                                                0.0|\n",
      "|                                                0.0|\n",
      "|                                                0.0|\n",
      "|                                                0.0|\n",
      "|                                                0.0|\n",
      "|                                                0.0|\n",
      "|                                                0.0|\n",
      "+---------------------------------------------------+\n",
      "only showing top 10 rows\n",
      "\n",
      "+-------+-------------------------------------------------+\n",
      "|summary|client_cash_NAME_CONTRACT_STATUS_Signed_count_sum|\n",
      "+-------+-------------------------------------------------+\n",
      "|  count|                                            28535|\n",
      "|   mean|                               2.9527948133870687|\n",
      "| stddev|                               17.648201347889398|\n",
      "|    min|                                              0.0|\n",
      "|    25%|                                              0.0|\n",
      "|    50%|                                              0.0|\n",
      "|    75%|                                              0.0|\n",
      "|    max|                                           1932.0|\n",
      "+-------+-------------------------------------------------+\n",
      "\n",
      "+-------------------------------------------------+\n",
      "|client_cash_NAME_CONTRACT_STATUS_Signed_count_sum|\n",
      "+-------------------------------------------------+\n",
      "|                                           1932.0|\n",
      "|                                           1218.0|\n",
      "|                                           1015.0|\n",
      "|                                            535.0|\n",
      "|                                            518.0|\n",
      "|                                            374.0|\n",
      "|                                            266.0|\n",
      "|                                            250.0|\n",
      "|                                            234.0|\n",
      "|                                            225.0|\n",
      "+-------------------------------------------------+\n",
      "only showing top 10 rows\n"
     ]
    },
    {
     "name": "stdout",
     "output_type": "stream",
     "text": [
      "\n",
      "+-------------------------------------------------+\n",
      "|client_cash_NAME_CONTRACT_STATUS_Signed_count_sum|\n",
      "+-------------------------------------------------+\n",
      "|                                              0.0|\n",
      "|                                              0.0|\n",
      "|                                              0.0|\n",
      "|                                              0.0|\n",
      "|                                              0.0|\n",
      "|                                              0.0|\n",
      "|                                              0.0|\n",
      "|                                              0.0|\n",
      "|                                              0.0|\n",
      "|                                              0.0|\n",
      "+-------------------------------------------------+\n",
      "only showing top 10 rows\n",
      "\n",
      "+-------+-------------------+\n",
      "|summary|  NONLIVINGAREA_AVG|\n",
      "+-------+-------------------+\n",
      "|  count|              13395|\n",
      "|   mean|0.02825275852033729|\n",
      "| stddev|0.06957211282646082|\n",
      "|    min|                0.0|\n",
      "|    25%|                0.0|\n",
      "|    50%|             0.0036|\n",
      "|    75%|             0.0276|\n",
      "|    max|                1.0|\n",
      "+-------+-------------------+\n",
      "\n",
      "+-----------------+\n",
      "|NONLIVINGAREA_AVG|\n",
      "+-----------------+\n",
      "|              1.0|\n",
      "|              1.0|\n",
      "|              1.0|\n",
      "|              1.0|\n",
      "|              1.0|\n",
      "|              1.0|\n",
      "|              1.0|\n",
      "|              1.0|\n",
      "|              1.0|\n",
      "|              1.0|\n",
      "+-----------------+\n",
      "only showing top 10 rows\n",
      "\n",
      "+-----------------+\n",
      "|NONLIVINGAREA_AVG|\n",
      "+-----------------+\n",
      "|              0.0|\n",
      "|              0.0|\n",
      "|              0.0|\n",
      "|              0.0|\n",
      "|              0.0|\n",
      "|              0.0|\n",
      "|              0.0|\n",
      "|              0.0|\n",
      "|              0.0|\n",
      "|              0.0|\n",
      "+-----------------+\n",
      "only showing top 10 rows\n",
      "\n",
      "+-------+----------------------+\n",
      "|summary|bureau_DAYS_CREDIT_sum|\n",
      "+-------+----------------------+\n",
      "|  count|                 25937|\n",
      "|   mean|    -6369.900219763273|\n",
      "| stddev|     6007.748134563924|\n",
      "|    min|              -73997.0|\n",
      "|    25%|               -9015.0|\n",
      "|    50%|               -4651.0|\n",
      "|    75%|               -1934.0|\n",
      "|    max|                  -8.0|\n",
      "+-------+----------------------+\n",
      "\n",
      "+----------------------+\n",
      "|bureau_DAYS_CREDIT_sum|\n",
      "+----------------------+\n",
      "|                  -8.0|\n",
      "|                  -8.0|\n",
      "|                 -10.0|\n",
      "|                 -10.0|\n",
      "|                 -10.0|\n",
      "|                 -12.0|\n",
      "|                 -13.0|\n",
      "|                 -13.0|\n",
      "|                 -14.0|\n",
      "|                 -14.0|\n",
      "+----------------------+\n",
      "only showing top 10 rows\n",
      "\n",
      "+----------------------+\n",
      "|bureau_DAYS_CREDIT_sum|\n",
      "+----------------------+\n",
      "|              -73997.0|\n",
      "|              -62624.0|\n",
      "|              -58620.0|\n",
      "|              -55060.0|\n",
      "|              -54582.0|\n",
      "|              -54294.0|\n",
      "|              -50571.0|\n",
      "|              -49351.0|\n",
      "|              -48998.0|\n",
      "|              -47460.0|\n",
      "+----------------------+\n",
      "only showing top 10 rows\n",
      "\n",
      "+-------+--------------------------------------------------+\n",
      "|summary|previous_loans_NAME_PRODUCT_TYPE_x-sell_count_norm|\n",
      "+-------+--------------------------------------------------+\n",
      "|  count|                                             28700|\n",
      "|   mean|                               0.20508649609982968|\n",
      "| stddev|                               0.24479014535513974|\n",
      "|    min|                                               0.0|\n",
      "|    25%|                                               0.0|\n",
      "|    50%|                                             0.125|\n",
      "|    75%|                                        0.36363637|\n",
      "|    max|                                               1.0|\n",
      "+-------+--------------------------------------------------+\n",
      "\n",
      "+--------------------------------------------------+\n",
      "|previous_loans_NAME_PRODUCT_TYPE_x-sell_count_norm|\n",
      "+--------------------------------------------------+\n",
      "|                                               1.0|\n",
      "|                                               1.0|\n",
      "|                                               1.0|\n",
      "|                                               1.0|\n",
      "|                                               1.0|\n",
      "|                                               1.0|\n",
      "|                                               1.0|\n",
      "|                                               1.0|\n",
      "|                                               1.0|\n",
      "|                                               1.0|\n",
      "+--------------------------------------------------+\n",
      "only showing top 10 rows\n",
      "\n",
      "+--------------------------------------------------+\n",
      "|previous_loans_NAME_PRODUCT_TYPE_x-sell_count_norm|\n",
      "+--------------------------------------------------+\n",
      "|                                               0.0|\n",
      "|                                               0.0|\n",
      "|                                               0.0|\n",
      "|                                               0.0|\n",
      "|                                               0.0|\n",
      "|                                               0.0|\n",
      "|                                               0.0|\n",
      "|                                               0.0|\n",
      "|                                               0.0|\n",
      "|                                               0.0|\n",
      "+--------------------------------------------------+\n",
      "only showing top 10 rows\n",
      "\n",
      "+-------+----------------------------------+\n",
      "|summary|previous_loans_AMT_APPLICATION_max|\n",
      "+-------+----------------------------------+\n",
      "|  count|                             28700|\n",
      "|   mean|                375480.85833497794|\n",
      "| stddev|                 425741.2943337825|\n",
      "|    min|                               0.0|\n",
      "|    25%|                           97452.0|\n",
      "|    50%|                          202500.0|\n",
      "|    75%|                          454500.0|\n",
      "|    max|                         4050000.0|\n",
      "+-------+----------------------------------+\n",
      "\n",
      "+----------------------------------+\n",
      "|previous_loans_AMT_APPLICATION_max|\n",
      "+----------------------------------+\n",
      "|                         4050000.0|\n",
      "|                         3735000.0|\n",
      "|                         3600000.0|\n",
      "|                         3150000.0|\n",
      "|                         3150000.0|\n",
      "|                         3150000.0|\n",
      "|                         3150000.0|\n",
      "|                         3150000.0|\n",
      "|                         3150000.0|\n",
      "|                         3150000.0|\n",
      "+----------------------------------+\n",
      "only showing top 10 rows\n",
      "\n",
      "+----------------------------------+\n",
      "|previous_loans_AMT_APPLICATION_max|\n",
      "+----------------------------------+\n",
      "|                               0.0|\n",
      "|                               0.0|\n",
      "|                               0.0|\n",
      "|                               0.0|\n",
      "|                               0.0|\n",
      "|                               0.0|\n",
      "|                               0.0|\n",
      "|                               0.0|\n",
      "|                               0.0|\n",
      "|                               0.0|\n",
      "+----------------------------------+\n",
      "only showing top 10 rows\n",
      "\n",
      "+-------+---------------------------------------------------------+\n",
      "|summary|previous_loans_NAME_GOODS_CATEGORY_Audio/Video_count_norm|\n",
      "+-------+---------------------------------------------------------+\n",
      "|  count|                                                    28700|\n",
      "|   mean|                                      0.07870109877214874|\n",
      "| stddev|                                      0.19043251661562763|\n",
      "|    min|                                                      0.0|\n",
      "|    25%|                                                      0.0|\n",
      "|    50%|                                                      0.0|\n",
      "|    75%|                                                      0.0|\n",
      "|    max|                                                      1.0|\n",
      "+-------+---------------------------------------------------------+\n",
      "\n",
      "+---------------------------------------------------------+\n",
      "|previous_loans_NAME_GOODS_CATEGORY_Audio/Video_count_norm|\n",
      "+---------------------------------------------------------+\n",
      "|                                                      1.0|\n",
      "|                                                      1.0|\n",
      "|                                                      1.0|\n",
      "|                                                      1.0|\n",
      "|                                                      1.0|\n",
      "|                                                      1.0|\n",
      "|                                                      1.0|\n",
      "|                                                      1.0|\n",
      "|                                                      1.0|\n",
      "|                                                      1.0|\n",
      "+---------------------------------------------------------+\n",
      "only showing top 10 rows\n"
     ]
    },
    {
     "name": "stdout",
     "output_type": "stream",
     "text": [
      "\n",
      "+---------------------------------------------------------+\n",
      "|previous_loans_NAME_GOODS_CATEGORY_Audio/Video_count_norm|\n",
      "+---------------------------------------------------------+\n",
      "|                                                      0.0|\n",
      "|                                                      0.0|\n",
      "|                                                      0.0|\n",
      "|                                                      0.0|\n",
      "|                                                      0.0|\n",
      "|                                                      0.0|\n",
      "|                                                      0.0|\n",
      "|                                                      0.0|\n",
      "|                                                      0.0|\n",
      "|                                                      0.0|\n",
      "+---------------------------------------------------------+\n",
      "only showing top 10 rows\n",
      "\n",
      "+-------+-----------------------+\n",
      "|summary|NONLIVINGAPARTMENTS_AVG|\n",
      "+-------+-----------------------+\n",
      "|  count|                   9166|\n",
      "|   mean|   0.008201854672547897|\n",
      "| stddev|    0.04370095999504459|\n",
      "|    min|                    0.0|\n",
      "|    25%|                    0.0|\n",
      "|    50%|                    0.0|\n",
      "|    75%|                 0.0039|\n",
      "|    max|                    1.0|\n",
      "+-------+-----------------------+\n",
      "\n",
      "+-----------------------+\n",
      "|NONLIVINGAPARTMENTS_AVG|\n",
      "+-----------------------+\n",
      "|                    1.0|\n",
      "|                    1.0|\n",
      "|                    1.0|\n",
      "|                    1.0|\n",
      "|                    1.0|\n",
      "|                    1.0|\n",
      "|                    1.0|\n",
      "|                 0.9575|\n",
      "|                 0.9556|\n",
      "|                 0.9266|\n",
      "+-----------------------+\n",
      "only showing top 10 rows\n",
      "\n",
      "+-----------------------+\n",
      "|NONLIVINGAPARTMENTS_AVG|\n",
      "+-----------------------+\n",
      "|                    0.0|\n",
      "|                    0.0|\n",
      "|                    0.0|\n",
      "|                    0.0|\n",
      "|                    0.0|\n",
      "|                    0.0|\n",
      "|                    0.0|\n",
      "|                    0.0|\n",
      "|                    0.0|\n",
      "|                    0.0|\n",
      "+-----------------------+\n",
      "only showing top 10 rows\n",
      "\n",
      "+-------+-------------------------------------------------------------------------+\n",
      "|summary|previous_loans_PRODUCT_COMBINATION_POS household with interest_count_norm|\n",
      "+-------+-------------------------------------------------------------------------+\n",
      "|  count|                                                                    28700|\n",
      "|   mean|                                                      0.20869122101266574|\n",
      "| stddev|                                                       0.2949283526376268|\n",
      "|    min|                                                                      0.0|\n",
      "|    25%|                                                                      0.0|\n",
      "|    50%|                                                                      0.0|\n",
      "|    75%|                                                               0.33333334|\n",
      "|    max|                                                                      1.0|\n",
      "+-------+-------------------------------------------------------------------------+\n",
      "\n",
      "+-------------------------------------------------------------------------+\n",
      "|previous_loans_PRODUCT_COMBINATION_POS household with interest_count_norm|\n",
      "+-------------------------------------------------------------------------+\n",
      "|                                                                      1.0|\n",
      "|                                                                      1.0|\n",
      "|                                                                      1.0|\n",
      "|                                                                      1.0|\n",
      "|                                                                      1.0|\n",
      "|                                                                      1.0|\n",
      "|                                                                      1.0|\n",
      "|                                                                      1.0|\n",
      "|                                                                      1.0|\n",
      "|                                                                      1.0|\n",
      "+-------------------------------------------------------------------------+\n",
      "only showing top 10 rows\n",
      "\n",
      "+-------------------------------------------------------------------------+\n",
      "|previous_loans_PRODUCT_COMBINATION_POS household with interest_count_norm|\n",
      "+-------------------------------------------------------------------------+\n",
      "|                                                                      0.0|\n",
      "|                                                                      0.0|\n",
      "|                                                                      0.0|\n",
      "|                                                                      0.0|\n",
      "|                                                                      0.0|\n",
      "|                                                                      0.0|\n",
      "|                                                                      0.0|\n",
      "|                                                                      0.0|\n",
      "|                                                                      0.0|\n",
      "|                                                                      0.0|\n",
      "+-------------------------------------------------------------------------+\n",
      "only showing top 10 rows\n",
      "\n",
      "+-------+-------------------------------+\n",
      "|summary|bureau_AMT_CREDIT_SUM_DEBT_mean|\n",
      "+-------+-------------------------------+\n",
      "|  count|                          25233|\n",
      "|   mean|             160107.62196333954|\n",
      "| stddev|             485571.12256118725|\n",
      "|    min|                      -684441.2|\n",
      "|    25%|                            0.0|\n",
      "|    50%|                       45464.63|\n",
      "|    75%|                      142364.25|\n",
      "|    max|                      2.37839E7|\n",
      "+-------+-------------------------------+\n",
      "\n",
      "+-------------------------------+\n",
      "|bureau_AMT_CREDIT_SUM_DEBT_mean|\n",
      "+-------------------------------+\n",
      "|                      2.37839E7|\n",
      "|                    1.5461964E7|\n",
      "|                    1.4398726E7|\n",
      "|                    1.2142562E7|\n",
      "|                    1.1516481E7|\n",
      "|                      9923733.0|\n",
      "|                      8332380.0|\n",
      "|                      8122743.0|\n",
      "|                      7597107.0|\n",
      "|                      7400250.0|\n",
      "+-------------------------------+\n",
      "only showing top 10 rows\n",
      "\n",
      "+-------------------------------+\n",
      "|bureau_AMT_CREDIT_SUM_DEBT_mean|\n",
      "+-------------------------------+\n",
      "|                      -684441.2|\n",
      "|                     -76491.516|\n",
      "|                     -35210.047|\n",
      "|                     -31895.828|\n",
      "|                     -24971.025|\n",
      "|                     -20846.021|\n",
      "|                     -16066.544|\n",
      "|                     -11186.925|\n",
      "|                      -8507.212|\n",
      "|                      -6864.435|\n",
      "+-------------------------------+\n",
      "only showing top 10 rows\n",
      "\n",
      "+-------+-----------------------------------+\n",
      "|summary|previous_loans_AMT_DOWN_PAYMENT_max|\n",
      "+-------+-----------------------------------+\n",
      "|  count|                              26997|\n",
      "|   mean|                 11826.444418716486|\n",
      "| stddev|                  27590.81967183336|\n",
      "|    min|                                0.0|\n",
      "|    25%|                                0.0|\n",
      "|    50%|                             5832.0|\n",
      "|    75%|                            13500.0|\n",
      "|    max|                          1350000.0|\n",
      "+-------+-----------------------------------+\n",
      "\n",
      "+-----------------------------------+\n",
      "|previous_loans_AMT_DOWN_PAYMENT_max|\n",
      "+-----------------------------------+\n",
      "|                          1350000.0|\n",
      "|                           944775.0|\n",
      "|                           900000.0|\n",
      "|                           900000.0|\n",
      "|                           900000.0|\n",
      "|                           900000.0|\n",
      "|                           832500.0|\n",
      "|                           675000.0|\n",
      "|                           675000.0|\n",
      "|                           589662.0|\n",
      "+-----------------------------------+\n",
      "only showing top 10 rows\n",
      "\n",
      "+-----------------------------------+\n",
      "|previous_loans_AMT_DOWN_PAYMENT_max|\n",
      "+-----------------------------------+\n",
      "|                                0.0|\n",
      "|                                0.0|\n",
      "|                                0.0|\n",
      "|                                0.0|\n",
      "|                                0.0|\n",
      "|                                0.0|\n",
      "|                                0.0|\n",
      "|                                0.0|\n",
      "|                                0.0|\n",
      "|                                0.0|\n",
      "+-----------------------------------+\n",
      "only showing top 10 rows\n"
     ]
    },
    {
     "name": "stdout",
     "output_type": "stream",
     "text": [
      "\n",
      "+-------+--------------------------------------------------+\n",
      "|summary|previous_loans_NAME_PRODUCT_TYPE_x-sell_count_norm|\n",
      "+-------+--------------------------------------------------+\n",
      "|  count|                                             28700|\n",
      "|   mean|                               0.20508649609982968|\n",
      "| stddev|                               0.24479014535513974|\n",
      "|    min|                                               0.0|\n",
      "|    25%|                                               0.0|\n",
      "|    50%|                                             0.125|\n",
      "|    75%|                                        0.36363637|\n",
      "|    max|                                               1.0|\n",
      "+-------+--------------------------------------------------+\n",
      "\n",
      "+--------------------------------------------------+\n",
      "|previous_loans_NAME_PRODUCT_TYPE_x-sell_count_norm|\n",
      "+--------------------------------------------------+\n",
      "|                                               1.0|\n",
      "|                                               1.0|\n",
      "|                                               1.0|\n",
      "|                                               1.0|\n",
      "|                                               1.0|\n",
      "|                                               1.0|\n",
      "|                                               1.0|\n",
      "|                                               1.0|\n",
      "|                                               1.0|\n",
      "|                                               1.0|\n",
      "+--------------------------------------------------+\n",
      "only showing top 10 rows\n",
      "\n",
      "+--------------------------------------------------+\n",
      "|previous_loans_NAME_PRODUCT_TYPE_x-sell_count_norm|\n",
      "+--------------------------------------------------+\n",
      "|                                               0.0|\n",
      "|                                               0.0|\n",
      "|                                               0.0|\n",
      "|                                               0.0|\n",
      "|                                               0.0|\n",
      "|                                               0.0|\n",
      "|                                               0.0|\n",
      "|                                               0.0|\n",
      "|                                               0.0|\n",
      "|                                               0.0|\n",
      "+--------------------------------------------------+\n",
      "only showing top 10 rows\n",
      "\n"
     ]
    },
    {
     "data": {
      "text/plain": [
       "r: util.Random.type = scala.util.Random$@5e06f7a4\n",
       "i: Int = 20\n",
       "randomlist: Array[String] = Array(YEARS_BEGINEXPLUATATION_AVG, AMT_REQ_CREDIT_BUREAU_MON, bureau_DAYS_CREDIT_ENDDATE_sum, client_cash_NAME_CONTRACT_STATUS_Returned to the store_count_norm_max, FLAG_DOCUMENT_18, previous_loans_AMT_GOODS_PRICE_mean, bureau_AMT_CREDIT_SUM_max, previous_loans_NAME_CONTRACT_STATUS_Approved_count, previous_loans_CHANNEL_TYPE_Country-wide_count_norm, client_cash_NAME_CONTRACT_STATUS_Signed_count_sum, NONLIVINGAREA_AVG, bureau_DAYS_CREDIT_sum, previous_loans_NAME_PRODUCT_TYPE_x-sell_count_norm, previous_loans_AMT_APPLICATION_max, previous_loans_NAME_GOODS_CATEGORY_Audio/Video_count_norm, NONLIVINGAPARTMENTS_AVG, previous_loans_PRODUCT_COMBINATION_POS household with interest_count_norm, bureau_AMT_CRE..."
      ]
     },
     "execution_count": 29,
     "metadata": {},
     "output_type": "execute_result"
    }
   ],
   "source": [
    "// Randomly review 20 features for inconsistencies [Joel]\n",
    "\n",
    "val r = scala.util.Random\n",
    "var i:Int = 0\n",
    "var randomlist = new Array[String](0)\n",
    "while (i < 20){\n",
    "    randomlist = randomlist :+ creditRiskFeatures(r.nextInt(creditRiskFeatures.length))\n",
    "    i += 1}\n",
    "\n",
    "for (i <- randomlist){\n",
    "    incon(creditRiskdf,creditRiskdf(i))\n",
    "}"
   ]
  },
  {
   "cell_type": "code",
   "execution_count": null,
   "metadata": {},
   "outputs": [],
   "source": [
    "/* take a closer look at some features with potential inconsistencies\n",
    "- previous_loans_DAYS_FIRST_DUE_mean\n",
    "- previous_loans_SELLERPLACE_AREA_min\n",
    "- previous_loans_DAYS_FIRST_DUE_sum\n",
    "*/"
   ]
  },
  {
   "cell_type": "code",
   "execution_count": 13,
   "metadata": {},
   "outputs": [
    {
     "data": {
      "text/plain": [
       "f1: org.apache.spark.sql.DataFrame = [previous_loans_DAYS_FIRST_DUE_mean: string]\n",
       "f2: org.apache.spark.sql.DataFrame = [previous_loans_DAYS_FIRST_DUE_mean: float]\n",
       "f3: org.apache.spark.sql.DataFrame = [previous_loans_DAYS_FIRST_DUE_mean: float]\n",
       "res6: Long = 52\n"
      ]
     },
     "execution_count": 13,
     "metadata": {},
     "output_type": "execute_result"
    }
   ],
   "source": [
    "// Investigate feature \"previous_loans_DAYS_FIRST_DUE_mean\"\n",
    "\n",
    "val f1 = creditRiskdf.select(\"previous_loans_DAYS_FIRST_DUE_mean\")\n",
    "val f2 = f1.withColumn(f1.columns.mkString, f1.col(\n",
    "    f1.columns.mkString).cast(DataTypes.FloatType))\n",
    "// f2.summary().show()\n",
    "val f3 = f2.na.drop()\n",
    "// f3.sort(desc(f3.columns.mkString)).show(10)\n",
    "// f3.sort(asc(f3.columns.mkString)).show(10)\n",
    "f3.filter($\"previous_loans_DAYS_FIRST_DUE_mean\" === 365243).count()"
   ]
  },
  {
   "cell_type": "raw",
   "metadata": {},
   "source": [
    "Action: Values for this feature is inconsistent as \"DAYS_FIRST_DUE\" should be either +ve or -ve but not both.  Will drop this feature from the dataset."
   ]
  },
  {
   "cell_type": "code",
   "execution_count": 31,
   "metadata": {},
   "outputs": [
    {
     "data": {
      "text/plain": [
       "f1: org.apache.spark.sql.DataFrame = [previous_loans_SELLERPLACE_AREA_min: string]\n",
       "f2: org.apache.spark.sql.DataFrame = [previous_loans_SELLERPLACE_AREA_min: float]\n",
       "f3: org.apache.spark.sql.DataFrame = [previous_loans_SELLERPLACE_AREA_min: float]\n",
       "res13: Long = 16070\n"
      ]
     },
     "execution_count": 31,
     "metadata": {},
     "output_type": "execute_result"
    }
   ],
   "source": [
    "// Investigate feature \"previous_loans_SELLERPLACE_AREA_min\"\n",
    "\n",
    "val f1 = creditRiskdf.select(\"previous_loans_SELLERPLACE_AREA_min\")\n",
    "val f2 = f1.withColumn(f1.columns.mkString, f1.col(\n",
    "    f1.columns.mkString).cast(DataTypes.FloatType))\n",
    "// f2.summary().show()\n",
    "val f3 = f2.na.drop()\n",
    "// f3.sort(desc(f3.columns.mkString)).show(10)\n",
    "// f3.sort(asc(f3.columns.mkString)).show(10)\n",
    "f3.filter($\"previous_loans_SELLERPLACE_AREA_min\" < 0).count()"
   ]
  },
  {
   "cell_type": "markdown",
   "metadata": {},
   "source": [
    "Action: Values for this feature is inconsistent. \"SELLERPLACE_AREA\" should not be negative but this feature contains 163,911 lines of values < 0.  Will drop this feature from the dataset."
   ]
  },
  {
   "cell_type": "code",
   "execution_count": null,
   "metadata": {},
   "outputs": [],
   "source": [
    "// Investigate feature \"previous_loans_DAYS_FIRST_DUE_sum\"\n",
    "// Reviewed output from earlier steps"
   ]
  },
  {
   "cell_type": "markdown",
   "metadata": {},
   "source": [
    "Action: Similar to feature \"previous_loans_DAYS_FIRST_DUE_mean\". This has both +ve and -ve values when there should only be one convention. Will drop this feature from the dataset."
   ]
  },
  {
   "cell_type": "code",
   "execution_count": 32,
   "metadata": {},
   "outputs": [
    {
     "data": {
      "text/plain": [
       "incon_droplist: List[String] = List(previous_loans_DAYS_FIRST_DUE_mean, previous_loans_SELLERPLACE_AREA_min, previous_loans_DAYS_FIRST_DUE_sum)\n",
       "df_lessInconData: org.apache.spark.sql.DataFrame = [EXT_SOURCE_1: string, EXT_SOURCE_2: string ... 356 more fields]\n"
      ]
     },
     "execution_count": 32,
     "metadata": {},
     "output_type": "execute_result"
    }
   ],
   "source": [
    "// Drop features with inconsistent values from dataset.\n",
    "\n",
    "val incon_droplist = List(\"previous_loans_DAYS_FIRST_DUE_mean\",\n",
    "                      \"previous_loans_SELLERPLACE_AREA_min\",\n",
    "                      \"previous_loans_DAYS_FIRST_DUE_sum\")\n",
    "\n",
    "val df_lessInconData = creditRiskdf.drop(incon_droplist:_*)"
   ]
  },
  {
   "cell_type": "markdown",
   "metadata": {},
   "source": [
    "## data formatting:"
   ]
  },
  {
   "cell_type": "code",
   "execution_count": null,
   "metadata": {},
   "outputs": [],
   "source": [
    "//iterate through features and apply the describe method and append to new dataframe\n",
    "//secondary to this iterate through the values in the features and get datatypes, sql query this output for unique values"
   ]
  },
  {
   "cell_type": "code",
   "execution_count": 33,
   "metadata": {},
   "outputs": [
    {
     "data": {
      "text/plain": [
       "matcher: String = .+date.+\n",
       "dates: Array[String] = Array(bureau_DAYS_CREDIT_ENDDATE_max, bureau_DAYS_ENDDATE_FACT_max, bureau_DAYS_CREDIT_UPDATE_max, bureau_DAYS_CREDIT_ENDDATE_mean, bureau_DAYS_ENDDATE_FACT_min, bureau_DAYS_CREDIT_ENDDATE_min, bureau_DAYS_CREDIT_ENDDATE_sum, bureau_DAYS_CREDIT_UPDATE_min, bureau_DAYS_ENDDATE_FACT_mean, bureau_DAYS_CREDIT_UPDATE_mean)\n"
      ]
     },
     "execution_count": 33,
     "metadata": {},
     "output_type": "execute_result"
    }
   ],
   "source": [
    "// find out if there are data in date formats [Joel]\n",
    "// filter column headers containing 'date' for further investigation\n",
    "val matcher = \".+date.+\"\n",
    "val dates = creditRiskFeatures.filter(x => x.toLowerCase matches matcher)"
   ]
  },
  {
   "cell_type": "code",
   "execution_count": 34,
   "metadata": {},
   "outputs": [
    {
     "name": "stdout",
     "output_type": "stream",
     "text": [
      "+------------------------------+\n",
      "|bureau_DAYS_CREDIT_ENDDATE_max|\n",
      "+------------------------------+\n",
      "|                          null|\n",
      "|                         471.0|\n",
      "|                          null|\n",
      "|                          null|\n",
      "|                        1379.0|\n",
      "|                       31087.0|\n",
      "|                         638.0|\n",
      "|                        -444.0|\n",
      "|                         915.0|\n",
      "|                        1818.0|\n",
      "+------------------------------+\n",
      "only showing top 10 rows\n",
      "\n",
      "+----------------------------+\n",
      "|bureau_DAYS_ENDDATE_FACT_max|\n",
      "+----------------------------+\n",
      "|                        null|\n",
      "|                      -790.0|\n",
      "|                        null|\n",
      "|                        null|\n",
      "|                      -123.0|\n",
      "|                      -172.0|\n",
      "|                      -102.0|\n",
      "|                      -715.0|\n",
      "|                      -926.0|\n",
      "|                        null|\n",
      "+----------------------------+\n",
      "only showing top 10 rows\n",
      "\n",
      "+-----------------------------+\n",
      "|bureau_DAYS_CREDIT_UPDATE_max|\n",
      "+-----------------------------+\n",
      "|                         null|\n",
      "|                        -16.0|\n",
      "|                         null|\n",
      "|                         null|\n",
      "|                        -20.0|\n",
      "|                        -18.0|\n",
      "|                        -12.0|\n",
      "|                       -288.0|\n",
      "|                        -15.0|\n",
      "|                         -8.0|\n",
      "+-----------------------------+\n",
      "only showing top 10 rows\n",
      "\n",
      "+-------------------------------+\n",
      "|bureau_DAYS_CREDIT_ENDDATE_mean|\n",
      "+-------------------------------+\n",
      "|                           null|\n",
      "|            -391.33333333333326|\n",
      "|                           null|\n",
      "|                           null|\n",
      "|                        126.625|\n",
      "|                         7571.0|\n",
      "|                         -154.4|\n",
      "|                        -1034.0|\n",
      "|                         -420.5|\n",
      "|                         1818.0|\n",
      "+-------------------------------+\n",
      "only showing top 10 rows\n",
      "\n",
      "+----------------------------+\n",
      "|bureau_DAYS_ENDDATE_FACT_min|\n",
      "+----------------------------+\n",
      "|                        null|\n",
      "|                     -1028.0|\n",
      "|                        null|\n",
      "|                        null|\n",
      "|                     -1406.0|\n",
      "|                      -758.0|\n",
      "|                      -642.0|\n",
      "|                     -1337.0|\n",
      "|                     -1114.0|\n",
      "|                        null|\n",
      "+----------------------------+\n",
      "only showing top 10 rows\n",
      "\n",
      "+------------------------------+\n",
      "|bureau_DAYS_CREDIT_ENDDATE_min|\n",
      "+------------------------------+\n",
      "|                          null|\n",
      "|                        -853.0|\n",
      "|                          null|\n",
      "|                          null|\n",
      "|                       -1406.0|\n",
      "|                        -709.0|\n",
      "|                        -612.0|\n",
      "|                       -1337.0|\n",
      "|                       -1296.0|\n",
      "|                        1818.0|\n",
      "+------------------------------+\n",
      "only showing top 10 rows\n",
      "\n",
      "+------------------------------+\n",
      "|bureau_DAYS_CREDIT_ENDDATE_sum|\n",
      "+------------------------------+\n",
      "|                          null|\n",
      "|                       -1174.0|\n",
      "|                          null|\n",
      "|                          null|\n",
      "|                        1013.0|\n",
      "|                       30284.0|\n",
      "|                        -772.0|\n",
      "|                       -5170.0|\n",
      "|                       -1682.0|\n",
      "|                        1818.0|\n",
      "+------------------------------+\n",
      "only showing top 10 rows\n",
      "\n",
      "+-----------------------------+\n",
      "|bureau_DAYS_CREDIT_UPDATE_min|\n",
      "+-----------------------------+\n",
      "|                         null|\n",
      "|                      -1027.0|\n",
      "|                         null|\n",
      "|                         null|\n",
      "|                      -1406.0|\n",
      "|                       -562.0|\n",
      "|                       -642.0|\n",
      "|                      -1220.0|\n",
      "|                      -1114.0|\n",
      "|                         -8.0|\n",
      "+-----------------------------+\n",
      "only showing top 10 rows\n",
      "\n",
      "+-----------------------------+\n",
      "|bureau_DAYS_ENDDATE_FACT_mean|\n",
      "+-----------------------------+\n",
      "|                         null|\n",
      "|                       -909.0|\n",
      "|                         null|\n",
      "|                         null|\n",
      "|                       -636.4|\n",
      "|                       -465.0|\n",
      "|                       -382.0|\n",
      "|                      -1085.6|\n",
      "|                      -1020.0|\n",
      "|                         null|\n",
      "+-----------------------------+\n",
      "only showing top 10 rows\n",
      "\n",
      "+------------------------------+\n",
      "|bureau_DAYS_CREDIT_UPDATE_mean|\n",
      "+------------------------------+\n",
      "|                          null|\n",
      "|                        -611.0|\n",
      "|                          null|\n",
      "|                          null|\n",
      "|            -372.1111111111112|\n",
      "|                       -191.75|\n",
      "|                        -306.6|\n",
      "|                        -822.6|\n",
      "|                       -526.25|\n",
      "|                          -8.0|\n",
      "+------------------------------+\n",
      "only showing top 10 rows\n",
      "\n"
     ]
    }
   ],
   "source": [
    "// review data format of columnbs with headers containing 'date' [Joel]\n",
    "for (dateformat <- dates){\n",
    "creditRiskdf.select(dateformat).show(10)\n",
    "}"
   ]
  },
  {
   "cell_type": "markdown",
   "metadata": {},
   "source": [
    "## Encoding categorical variables:"
   ]
  },
  {
   "cell_type": "code",
   "execution_count": null,
   "metadata": {},
   "outputs": [],
   "source": [
    "//this has already been done for this dataset. No additional work required."
   ]
  }
 ],
 "metadata": {
  "kernelspec": {
   "display_name": "spylon-kernel",
   "language": "scala",
   "name": "spylon-kernel"
  },
  "language_info": {
   "codemirror_mode": "text/x-scala",
   "file_extension": ".scala",
   "help_links": [
    {
     "text": "MetaKernel Magics",
     "url": "https://metakernel.readthedocs.io/en/latest/source/README.html"
    }
   ],
   "mimetype": "text/x-scala",
   "name": "scala",
   "pygments_lexer": "scala",
   "version": "0.4.1"
  }
 },
 "nbformat": 4,
 "nbformat_minor": 2
}
